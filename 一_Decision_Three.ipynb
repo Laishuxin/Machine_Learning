{
 "cells": [
  {
   "cell_type": "markdown",
   "metadata": {},
   "source": [
    "# 概述\n",
    "## 决策树是如何工作的\n",
    "决策树（Decision Tree）是一种非参数的有监督学习方法，它能够从一系列有特征和标签的数据中总结出决策规\n",
    "则，并用树状图的结构来呈现这些规则，以解决分类和回归问题。决策树算法容易理解，适用各种数据，在解决各\n",
    "种问题时都有良好表现，尤其是以树模型为核心的各种集成算法，在各个行业和领域都有广泛的应用。"
   ]
  },
  {
   "cell_type": "markdown",
   "metadata": {},
   "source": [
    "## 构建决策数的两个阶段"
   ]
  },
  {
   "cell_type": "markdown",
   "metadata": {},
   "source": [
    ">1. 训练阶段  \n",
    "从给定的训练数据集DB，构造出一颗决策树  \n",
    "`class = DecisionTree(DB)`   \n",
    "2. 分类阶段  \n",
    "从根开始，按照决策树的分类属性逐层往下划分，知道叶节点，获得概念(决策、分类)  \n",
    "`y = DecisionTree(x)`\n",
    "\n",
    "\n"
   ]
  },
  {
   "cell_type": "markdown",
   "metadata": {},
   "source": [
    "## 相关概念"
   ]
  },
  {
   "cell_type": "markdown",
   "metadata": {},
   "source": [
    "![](images/concept.png)"
   ]
  },
  {
   "cell_type": "markdown",
   "metadata": {},
   "source": [
    "# 决策树算法"
   ]
  },
  {
   "cell_type": "markdown",
   "metadata": {},
   "source": [
    "## 构建决策树\n",
    "原则上讲，任意一个数据集上的所有特征都可以被拿来分\n",
    "枝，特征上的任意节点又可以自由组合，所以一个数据集上可以发展出非常非常多棵决策树，其数量可达指数级。在\n",
    "这些树中，总有那么一棵树比其他的树分类效力都好，那样的树叫做”全局最优树“。"
   ]
  },
  {
   "cell_type": "markdown",
   "metadata": {},
   "source": [
    "|**关键概念：全局最优、局部最优**|\n",
    "|  :------------------------ |  \n",
    "|全局最优：经过组合形成的，整体来说分类效果最好的模型|\n",
    "|局部最优：每一次分枝的时候都向着更好的分类效果分枝，但无法确认如此生成的树在全局上是否是最优的|"
   ]
  },
  {
   "cell_type": "markdown",
   "metadata": {},
   "source": [
    "要在这么多棵决策树中去一次性找到分类效果最佳的那一棵是不可能的，如果通过排列组合来进行筛选，计算量过于\n",
    "大而且低效，因此我们不会这样做。相对的，机器学习研究者们开发了一些有效的算法，能够在合理的时间内构造出\n",
    "具有一定准确率的**次最优**决策树。这些算法基本都执行”**贪心策略**“，即通过局部的最优来达到我们相信是最接近全局\n",
    "最优的结果。"
   ]
  },
  {
   "cell_type": "markdown",
   "metadata": {},
   "source": [
    "|关键概念：贪心算法|\n",
    "| :---------|\n",
    "|通过实现局部最优来达到接近全局最优结果的算法，所有的树模型都是这样的算法。|"
   ]
  },
  {
   "cell_type": "markdown",
   "metadata": {},
   "source": [
    "## 算法的核心解决问题"
   ]
  },
  {
   "cell_type": "markdown",
   "metadata": {},
   "source": [
    "1. 如何从数据表中找出最佳点和最佳分支\n",
    "2. 如何让决策树停止生长，防止过拟合\n"
   ]
  },
  {
   "cell_type": "markdown",
   "metadata": {},
   "source": [
    "## 选择根节点(信息增益最大的当成根节点)"
   ]
  },
  {
   "cell_type": "markdown",
   "metadata": {},
   "source": [
    "### 决策树-熵\n",
    ">熵：表示数据内部混乱程度。熵越大越混乱。\n"
   ]
  },
  {
   "cell_type": "markdown",
   "metadata": {},
   "source": [
    "相关符合表示：  \n",
    "$H(X), H(Y)：表示当前事情X,Y发生的不确定性。$  \n",
    "$P(X)，P(Y)：表示当前事情发生的概率。$  \n",
    "$P(X)越大 --> H(X)越小。(可以这么理解，一件事情发生的概率越大说明它的不确定性越小。)$  \n",
    "$P(X)越小 --> H(X)越大。(可以这么理解，一件事情发生的概率越小说明它的不确定性越大。)$  \n",
    "\n",
    " "
   ]
  },
  {
   "cell_type": "markdown",
   "metadata": {},
   "source": [
    "假设：$A = \\{1,2,3,4,1,2,1\\}$  数字表示A里面的类别  \n",
    "$B = \\{1,1,1,1,1,2\\}$\n"
   ]
  },
  {
   "cell_type": "markdown",
   "metadata": {},
   "source": [
    "由于A的类别很多，杂乱无章，我们可以说A的熵值很大，不纯度高。   \n",
    "由于B的类别很少(1或者2), B相对于A而言，我们可以说B的熵值很小，不纯度低。"
   ]
  },
  {
   "cell_type": "markdown",
   "metadata": {},
   "source": [
    "|重要概念：不纯度|  \n",
    "| :----- |\n",
    "|决策树的每个叶子节点中都会包含一组数据，在这组数据中，如果有某一类标签占有较大的比例，我们就说叶子\n",
    "节点“纯”，分枝分得好。某一类标签占的比例越大，叶子就越纯，不纯度就越低，分枝就越好。\n",
    "如果没有哪一类标签的比例很大，各类标签都相对平均，则说叶子节点”不纯“，分枝不好，不纯度高|"
   ]
  },
  {
   "cell_type": "markdown",
   "metadata": {},
   "source": [
    "### 公式"
   ]
  },
  {
   "cell_type": "markdown",
   "metadata": {},
   "source": [
    "$熵= - \\displaystyle\\sum_{i=1}^{n}P_iln(P_i)$"
   ]
  },
  {
   "cell_type": "markdown",
   "metadata": {},
   "source": [
    "![](images/shang.png)"
   ]
  },
  {
   "cell_type": "markdown",
   "metadata": {},
   "source": [
    "理解：当P比较小时，对应的lnP会比较大，所以能得到较大是熵，说明当前集合的混乱程度比较大。  \n",
    "当P比较大时，对应的lnP会比较小，所以得到的熵值比较小，说明当前集合的混乱程度比较小。  \n"
   ]
  },
  {
   "cell_type": "markdown",
   "metadata": {},
   "source": [
    "### Gini(基尼系数)"
   ]
  },
  {
   "cell_type": "markdown",
   "metadata": {},
   "source": [
    "$Gini系数 = Gini(p) = \\displaystyle \\sum_{k=1}^{K}p_k(1-p_k) = 1 - \\displaystyle \\sum_{k=1}^{K}p_k^2  \n",
    "\\text{(p为某一类别发生的概率)}$  "
   ]
  },
  {
   "cell_type": "markdown",
   "metadata": {},
   "source": [
    "## 构造决策树的基本想法"
   ]
  },
  {
   "cell_type": "markdown",
   "metadata": {},
   "source": [
    ">构造决策树的基本想法是随着树深度的增加，节点的熵**迅速下降**。熵下降的速度越快越好，这样我们就可以构造一颗**最矮**的决策树。(能用少量有用的信息解决事情越好)"
   ]
  },
  {
   "cell_type": "markdown",
   "metadata": {},
   "source": [
    "### 示例"
   ]
  },
  {
   "cell_type": "markdown",
   "metadata": {},
   "source": [
    "根据前面的特征(outlook, temperature, humidty, windy)，判断是否出去打篮球(play)"
   ]
  },
  {
   "cell_type": "markdown",
   "metadata": {},
   "source": [
    "![](images/example1.png)"
   ]
  },
  {
   "cell_type": "markdown",
   "metadata": {},
   "source": [
    "![](images/decision1.png)"
   ]
  },
  {
   "cell_type": "markdown",
   "metadata": {},
   "source": [
    "### 1.计算原始数据的熵值\n",
    "在没有给定任何天气信息时，根据历史数据，我们能知道一天打球的概率是9/14， 不打的概率是5/14。此时的熵为：  \n",
    "$-\\dfrac{9}{14}log_2\\dfrac{9}{14} - \\dfrac{5}{14}log_2\\dfrac{5}{14} = 0.940$"
   ]
  },
  {
   "cell_type": "markdown",
   "metadata": {},
   "source": [
    "### 2. 计算候选节点的熵值"
   ]
  },
  {
   "cell_type": "markdown",
   "metadata": {},
   "source": [
    "下面我们计算当已知变量outlook的值时，信息熵为多少？"
   ]
  },
  {
   "cell_type": "markdown",
   "metadata": {},
   "source": [
    "![](images/decision2.png)\n"
   ]
  },
  {
   "cell_type": "markdown",
   "metadata": {},
   "source": [
    "对其加权求和"
   ]
  },
  {
   "cell_type": "markdown",
   "metadata": {},
   "source": [
    "![](images/decision3.png)\n"
   ]
  },
  {
   "cell_type": "markdown",
   "metadata": {},
   "source": [
    "### 信息增益"
   ]
  },
  {
   "cell_type": "markdown",
   "metadata": {},
   "source": [
    ">信息增益表示：熵值发生的变化。  \n",
    "\n"
   ]
  },
  {
   "cell_type": "markdown",
   "metadata": {},
   "source": [
    "![](images/decision4.png)\n",
    "\n"
   ]
  },
  {
   "cell_type": "markdown",
   "metadata": {},
   "source": [
    "## ID3：：信息增益算法"
   ]
  },
  {
   "cell_type": "markdown",
   "metadata": {},
   "source": [
    "信息增益的缺点：一些特征里面存在的属性很多，但是每个属性对应的的样本很少，这样会造成很大的信息增益。  \n",
    "示例： 我们为每一个样本增加一个ID(ID与结论无关，只是数据的一个标志)\n"
   ]
  },
  {
   "cell_type": "markdown",
   "metadata": {},
   "source": [
    "![](images/decision5.png)\n"
   ]
  },
  {
   "cell_type": "markdown",
   "metadata": {},
   "source": [
    "现在我们先考虑把ID当成根节点：  \n",
    "那么ID对应的信息熵为：  \n",
    "$\\dfrac{1}{14}\\times(-1\\times log_2(1)) + \\cdots + \\dfrac{1}{14}\\times(-1\\times log_2(1)) = 0$  \n",
    "熵值为0，信息增益最大，我们知道ID只是对样本的一个编号，不会对结论造成影响。但是，通过计算得到的结果会让我们错误地把ID当成根节点。"
   ]
  },
  {
   "cell_type": "markdown",
   "metadata": {},
   "source": [
    "## C4.5(信息增益率)"
   ]
  },
  {
   "cell_type": "markdown",
   "metadata": {},
   "source": [
    "对应每个属性除以它自身的信息增益再求累加和"
   ]
  },
  {
   "cell_type": "markdown",
   "metadata": {},
   "source": [
    "## 评价函数"
   ]
  },
  {
   "cell_type": "markdown",
   "metadata": {},
   "source": [
    "$C(T) = \\displaystyle \\sum_{t∈leaf}N_tH(t)$  （类似于损失函数，越小越好）"
   ]
  },
  {
   "cell_type": "markdown",
   "metadata": {},
   "source": [
    "## 连续值的分界选择(如，年龄)\n",
    "![](images/decision6.png)\n"
   ]
  },
  {
   "cell_type": "markdown",
   "metadata": {},
   "source": [
    "# 剪枝操作"
   ]
  },
  {
   "cell_type": "markdown",
   "metadata": {},
   "source": [
    "为什么要剪枝？  \n",
    "如果不剪枝的话，很容易导致过拟合。   \n",
    "如果决策树过于庞大，它包含的信息可能在训练集上很不错，但在测试集上很容易导致过拟合了，把一些噪音也涵盖进去了。\n"
   ]
  },
  {
   "cell_type": "markdown",
   "metadata": {},
   "source": [
    "## 预剪枝"
   ]
  },
  {
   "cell_type": "markdown",
   "metadata": {},
   "source": [
    ">预剪枝：在构建决策树过程中，能提前停止。"
   ]
  },
  {
   "cell_type": "markdown",
   "metadata": {},
   "source": [
    "1. 设置最大深度\n",
    "2. 设置最小节点\n"
   ]
  },
  {
   "cell_type": "markdown",
   "metadata": {},
   "source": [
    "## 后剪枝\n",
    ">后剪枝：构建完决策树后，才开始剪枝操作"
   ]
  },
  {
   "cell_type": "markdown",
   "metadata": {},
   "source": [
    "1. 修改损失函数\n",
    "![](images/decision7.png)\n"
   ]
  },
  {
   "cell_type": "markdown",
   "metadata": {},
   "source": [
    "# 随机森林(相当于构造多颗决策树)\n",
    "## 相关概念\n",
    "### 采样方式\n",
    "1. Bootstraping：有放回采样  \n",
    "2. Bagging：有放回采样n个样本建立分类器"
   ]
  },
  {
   "cell_type": "markdown",
   "metadata": {},
   "source": [
    "## 随机\n",
    "### 双重随机性\n",
    "1. 数据选择的随机性\n",
    "2. 特征随机性"
   ]
  },
  {
   "cell_type": "markdown",
   "metadata": {},
   "source": [
    "![](images/decision8.png)"
   ]
  },
  {
   "cell_type": "markdown",
   "metadata": {},
   "source": [
    "# sklearn中的决策树\n"
   ]
  },
  {
   "cell_type": "markdown",
   "metadata": {
    "ExecuteTime": {
     "end_time": "2019-11-29T09:31:00.670913Z",
     "start_time": "2019-11-29T09:31:00.652378Z"
    }
   },
   "source": [
    "## 模块sklearn.tree\n",
    "|tree.DecisionTreeClassifier| 分类树|\n",
    "| -------------------------|------ |\n",
    "| tree.DecisionTreeRegressor| 回归树|  \n",
    "| tree.export_graphviz      |将生成的决策树导出为DOT格式，画图专用|\n",
    "| tree.ExtraTreeClassifier  |高随机版本的分类树|  \n",
    "| tree.ExtraTreeRegressor   | 高随机版本的回归树|\n"
   ]
  },
  {
   "cell_type": "markdown",
   "metadata": {},
   "source": [
    "## sklearn的基本建模流程\n",
    "1. 实例化，建立评估模型对象\n",
    "2. 通过模型接口训练模型\n",
    "3. 通过模型接口提取需要的信息  \n",
    "对应代码如下："
   ]
  },
  {
   "cell_type": "markdown",
   "metadata": {
    "ExecuteTime": {
     "end_time": "2019-11-29T09:34:26.628679Z",
     "start_time": "2019-11-29T09:34:26.431579Z"
    }
   },
   "source": [
    "```python\n",
    "from sklearn import tree  # 导入模块\n",
    "\n",
    "clf = tree.DecisionTreeClassifier()  # 实例化，可以调参\n",
    "clf = clf.fit(x_train, y_train)  # 训练模型\n",
    "result = clf.score(x_test, y_test)  # 评估模型\n",
    "```"
   ]
  },
  {
   "cell_type": "markdown",
   "metadata": {},
   "source": [
    "## 利用DecisionTreeClassifier创建红酒数据集"
   ]
  },
  {
   "cell_type": "markdown",
   "metadata": {},
   "source": [
    "```python\n",
    "DecisionTreeClassifier()\n",
    "\n",
    "Init signature:  \n",
    "tree.DecisionTreeClassifier(  \n",
    "    criterion='gini',  \n",
    "    splitter='best',  \n",
    "    max_depth=None,  \n",
    "    min_samples_split=2,  \n",
    "    min_samples_leaf=1,  \n",
    "    min_weight_fraction_leaf=0.0,  \n",
    "    max_features=None,  \n",
    "    random_state=None,  \n",
    "    max_leaf_nodes=None,  \n",
    "    min_impurity_decrease=0.0,  \n",
    "    min_impurity_split=None,  \n",
    "    class_weight=None,  \n",
    "    presort=False,  \n",
    ")\n",
    "```"
   ]
  },
  {
   "cell_type": "markdown",
   "metadata": {},
   "source": [
    "### 重要参数解读\n",
    "#### criterion(评估标准)\n",
    "为了要将表格转化为一棵树，决策树需要找出最佳节点和最佳的分枝方法，对分类树来说，衡量这个“最佳”的指标\n",
    "叫做“不纯度”。通常来说，**不纯度越低，决策树对训练集的拟合越好**。现在使用的决策树算法在分枝方法上的核心\n",
    "大多是围绕在对某个不纯度相关指标的最优化上。"
   ]
  },
  {
   "cell_type": "markdown",
   "metadata": {},
   "source": [
    "![](images/decision9.png)"
   ]
  },
  {
   "cell_type": "markdown",
   "metadata": {},
   "source": [
    ">Criterion：用于决定不纯度的计算方法。sklearn提供了两种选择：  \n",
    "1. entropy：信息熵\n",
    "2. gini：基尼系数  \n",
    "  \n",
    "$$Entropy(t) = - \\displaystyle \\sum_{i=0}^{c-1}p(i|t)log_2p(i|t)$$  \n",
    "$$Gini(t) = 1 - \\displaystyle \\sum_{i = 0}^{c - 1}p(i|t)^2$$\n",
    "\n",
    "\n"
   ]
  },
  {
   "cell_type": "markdown",
   "metadata": {},
   "source": [
    "其中t代表给定的节点，i代表标签的任意分类， $p(i|t)$代表标签分类i在节点t上所占的比例。注意，当使用信息熵\n",
    "时，sklearn实际计算的是基于信息熵的信息增益(Information Gain)，即父节点的信息熵和子节点的信息熵之差。\n",
    "比起基尼系数，**信息熵对不纯度更加敏感，对不纯度的惩罚最强**。但是**在实际使用中，信息熵和基尼系数的效果基\n",
    "本相同。**信息熵的计算比基尼系数缓慢一些，因为基尼系数的计算不涉及对数。另外，因为信息熵对不纯度更加敏\n",
    "感，所以信息熵作为指标时，决策树的生长会更加“精细”，因此对于高维数据或者噪音很多的数据，信息熵很容易\n",
    "过拟合，基尼系数在这种情况下效果往往比较好。当模型拟合程度不足的时候，即当模型在训练集和测试集上都表\n",
    "现不太好的时候，使用信息熵。当然，这些不是绝对的。"
   ]
  },
  {
   "cell_type": "markdown",
   "metadata": {},
   "source": [
    "|参数 |criterion|\n",
    "| ----|:--------|\n",
    "|如何影响模型? |确定不纯度的计算方法，帮忙找出最佳节点和最佳分枝，不纯度越低，决策树对训练集的拟合越好|\n",
    "|可能的输入有哪些？| 不填默认基尼系数，填写gini使用基尼系数，填写entropy使用信息增益|\n",
    "|怎样选取参数？|通常就使用基尼系数<br>数据维度很大，噪音很大时使用基尼系数<br>维度低，数据比较清晰的时候，信息熵和基尼系数没区别<br>当决策树的拟合程度不够的时候，使用信息熵<br>两个都试试，不好就换另外一个"
   ]
  },
  {
   "cell_type": "markdown",
   "metadata": {},
   "source": [
    "#### random_state & splitter"
   ]
  },
  {
   "cell_type": "markdown",
   "metadata": {},
   "source": [
    "random_state用来设置分枝中的随机模式的参数，默认None，在高维度时随机性会表现更明显，低维度的数据\n",
    "（比如鸢尾花数据集），随机性几乎不会显现。输入任意整数，会一直长出同一棵树，让模型稳定下来。\n",
    "splitter也是用来控制决策树中的随机选项的，有两种输入值，输入”best\"，决策树在分枝时虽然随机，但是还是会\n",
    "优先选择更重要的特征进行分枝（重要性可以通过属性feature_importances_查看），输入“random\"，决策树在\n",
    "分枝时会更加随机，树会因为含有更多的不必要信息而更深更大，并因这些不必要信息而降低对训练集的拟合。这\n",
    "也是防止过拟合的一种方式。当你预测到你的模型会过拟合，用这两个参数来帮助你降低树建成之后过拟合的可能\n",
    "性。当然，树一旦建成，我们依然是使用剪枝参数来防止过拟合\n"
   ]
  },
  {
   "cell_type": "markdown",
   "metadata": {},
   "source": [
    "#### 剪枝参数\n",
    "在不加限制的情况下，一棵决策树会生长到衡量不纯度的指标最优，或者没有更多的特征可用为止。这样的决策树\n",
    "往往会过拟合，这就是说，**它会在训练集上表现很好，在测试集上却表现糟糕**。我们收集的样本数据不可能和整体\n",
    "的状况完全一致，因此当一棵决策树对训练数据有了过于优秀的解释性，它找出的规则必然包含了训练样本中的噪\n",
    "声，并使它对未知数据的拟合程度不足。"
   ]
  },
  {
   "cell_type": "markdown",
   "metadata": {},
   "source": [
    "为了让决策树有更好的泛化性，我们要对决策树进行剪枝。剪枝策略对决策树的影响巨大，正确的剪枝策略是优化\n",
    "决策树算法的核心。sklearn为我们提供了不同的剪枝策略："
   ]
  },
  {
   "cell_type": "markdown",
   "metadata": {},
   "source": [
    "##### max_depth"
   ]
  },
  {
   "cell_type": "markdown",
   "metadata": {},
   "source": [
    ">限制树的最大深度，超过设定深度的树枝全部剪掉  \n",
    "\n",
    "这是用得最广泛的剪枝参数，在高维度低样本量时非常有效。决策树多生长一层，对样本量的需求会增加一倍，所\n",
    "以限制树深度能够有效地限制过拟合。在集成算法中也非常实用。实际使用时，建议从=3开始尝试，看看拟合的效\n",
    "果再决定是否增加设定深度"
   ]
  },
  {
   "cell_type": "markdown",
   "metadata": {},
   "source": [
    "##### min_samples_leaf\n",
    "min_samples_leaf限定，一个节点在分枝后的每个子节点都必须包含至少min_samples_leaf个训练样本，否则分\n",
    "枝就不会发生，或者，分枝会朝着满足每个子节点都包含min_samples_leaf个样本的方向去发生\n",
    "一般搭配max_depth使用，在回归树中有神奇的效果，可以让模型变得更加平滑。这个参数的数量设置得太小会引\n",
    "起过拟合，设置得太大就会阻止模型学习数据。一般来说，建议从=5开始使用。如果叶节点中含有的样本量变化很\n",
    "大，建议输入浮点数作为样本量的百分比来使用。同时，这个参数可以保证每个叶子的最小尺寸，可以在回归问题\n",
    "中避免低方差，过拟合的叶子节点出现。对于类别不多的分类问题，=1通常就是最佳选择"
   ]
  },
  {
   "cell_type": "markdown",
   "metadata": {},
   "source": [
    "##### min_samples_split"
   ]
  },
  {
   "cell_type": "markdown",
   "metadata": {},
   "source": [
    "min_samples_split限定，一个节点必须要包含至少min_samples_split个训练样本，这个节点才允许被分枝，否则\n",
    "分枝就不会发生"
   ]
  },
  {
   "cell_type": "markdown",
   "metadata": {},
   "source": [
    "##### max_features & min_impurity_decrease\n",
    "一般max_depth使用，用作树的”精修“\n",
    "max_features限制分枝时考虑的特征个数，超过限制个数的特征都会被舍弃。和max_depth异曲同工，\n",
    "max_features是用来限制高维度数据的过拟合的剪枝参数，但其方法比较暴力，是直接限制可以使用的特征数量\n",
    "而强行使决策树停下的参数，在不知道决策树中的各个特征的重要性的情况下，强行设定这个参数可能会导致模型\n",
    "学习不足。如果希望通过降维的方式防止过拟合，建议使用PCA，ICA或者特征选择模块中的降维算法。\n",
    "min_impurity_decrease限制信息增益的大小，信息增益小于设定数值的分枝不会发生。这是在0.19版本中更新的\n",
    "功能，在0.19版本之前时使用min_impurity_split"
   ]
  },
  {
   "cell_type": "markdown",
   "metadata": {},
   "source": [
    "![](images/decision10.png)"
   ]
  },
  {
   "cell_type": "markdown",
   "metadata": {},
   "source": [
    "### 实操\n"
   ]
  },
  {
   "cell_type": "markdown",
   "metadata": {},
   "source": [
    "#### 调包"
   ]
  },
  {
   "cell_type": "code",
   "execution_count": 1,
   "metadata": {
    "ExecuteTime": {
     "end_time": "2019-12-05T00:50:13.817736Z",
     "start_time": "2019-12-05T00:50:02.813890Z"
    }
   },
   "outputs": [],
   "source": [
    "from sklearn import tree\n",
    "from sklearn.datasets import load_wine\n",
    "from sklearn.model_selection import train_test_split  \n",
    "import pandas as pd"
   ]
  },
  {
   "cell_type": "markdown",
   "metadata": {},
   "source": [
    "#### 加载数据"
   ]
  },
  {
   "cell_type": "code",
   "execution_count": 2,
   "metadata": {
    "ExecuteTime": {
     "end_time": "2019-12-05T00:50:13.894260Z",
     "start_time": "2019-12-05T00:50:13.838066Z"
    }
   },
   "outputs": [
    {
     "data": {
      "text/plain": [
       "array([[1.423e+01, 1.710e+00, 2.430e+00, ..., 1.040e+00, 3.920e+00,\n",
       "        1.065e+03],\n",
       "       [1.320e+01, 1.780e+00, 2.140e+00, ..., 1.050e+00, 3.400e+00,\n",
       "        1.050e+03],\n",
       "       [1.316e+01, 2.360e+00, 2.670e+00, ..., 1.030e+00, 3.170e+00,\n",
       "        1.185e+03],\n",
       "       ...,\n",
       "       [1.327e+01, 4.280e+00, 2.260e+00, ..., 5.900e-01, 1.560e+00,\n",
       "        8.350e+02],\n",
       "       [1.317e+01, 2.590e+00, 2.370e+00, ..., 6.000e-01, 1.620e+00,\n",
       "        8.400e+02],\n",
       "       [1.413e+01, 4.100e+00, 2.740e+00, ..., 6.100e-01, 1.600e+00,\n",
       "        5.600e+02]])"
      ]
     },
     "execution_count": 2,
     "metadata": {},
     "output_type": "execute_result"
    }
   ],
   "source": [
    "# 加载数据\n",
    "wine = load_wine() \n",
    "# 显示数据\n",
    "wine.data"
   ]
  },
  {
   "cell_type": "markdown",
   "metadata": {},
   "source": [
    "#### 显示数据"
   ]
  },
  {
   "cell_type": "code",
   "execution_count": 3,
   "metadata": {
    "ExecuteTime": {
     "end_time": "2019-12-05T00:50:13.924868Z",
     "start_time": "2019-12-05T00:50:13.912962Z"
    }
   },
   "outputs": [
    {
     "data": {
      "text/plain": [
       "array([0, 0, 0, 0, 0, 0, 0, 0, 0, 0, 0, 0, 0, 0, 0, 0, 0, 0, 0, 0, 0, 0,\n",
       "       0, 0, 0, 0, 0, 0, 0, 0, 0, 0, 0, 0, 0, 0, 0, 0, 0, 0, 0, 0, 0, 0,\n",
       "       0, 0, 0, 0, 0, 0, 0, 0, 0, 0, 0, 0, 0, 0, 0, 1, 1, 1, 1, 1, 1, 1,\n",
       "       1, 1, 1, 1, 1, 1, 1, 1, 1, 1, 1, 1, 1, 1, 1, 1, 1, 1, 1, 1, 1, 1,\n",
       "       1, 1, 1, 1, 1, 1, 1, 1, 1, 1, 1, 1, 1, 1, 1, 1, 1, 1, 1, 1, 1, 1,\n",
       "       1, 1, 1, 1, 1, 1, 1, 1, 1, 1, 1, 1, 1, 1, 1, 1, 1, 1, 1, 1, 2, 2,\n",
       "       2, 2, 2, 2, 2, 2, 2, 2, 2, 2, 2, 2, 2, 2, 2, 2, 2, 2, 2, 2, 2, 2,\n",
       "       2, 2, 2, 2, 2, 2, 2, 2, 2, 2, 2, 2, 2, 2, 2, 2, 2, 2, 2, 2, 2, 2,\n",
       "       2, 2])"
      ]
     },
     "execution_count": 3,
     "metadata": {},
     "output_type": "execute_result"
    }
   ],
   "source": [
    "# 显示数据的结果/分类\n",
    "wine.target"
   ]
  },
  {
   "cell_type": "code",
   "execution_count": 4,
   "metadata": {
    "ExecuteTime": {
     "end_time": "2019-12-05T00:50:17.153281Z",
     "start_time": "2019-12-05T00:50:17.046578Z"
    }
   },
   "outputs": [
    {
     "data": {
      "text/html": [
       "<div>\n",
       "<style scoped>\n",
       "    .dataframe tbody tr th:only-of-type {\n",
       "        vertical-align: middle;\n",
       "    }\n",
       "\n",
       "    .dataframe tbody tr th {\n",
       "        vertical-align: top;\n",
       "    }\n",
       "\n",
       "    .dataframe thead th {\n",
       "        text-align: right;\n",
       "    }\n",
       "</style>\n",
       "<table border=\"1\" class=\"dataframe\">\n",
       "  <thead>\n",
       "    <tr style=\"text-align: right;\">\n",
       "      <th></th>\n",
       "      <th>alcohol</th>\n",
       "      <th>malic_acid</th>\n",
       "      <th>ash</th>\n",
       "      <th>alcalinity_of_ash</th>\n",
       "      <th>magnesium</th>\n",
       "      <th>total_phenols</th>\n",
       "      <th>flavanoids</th>\n",
       "      <th>nonflavanoid_phenols</th>\n",
       "      <th>proanthocyanins</th>\n",
       "      <th>color_intensity</th>\n",
       "      <th>hue</th>\n",
       "      <th>od280/od315_of_diluted_wines</th>\n",
       "      <th>proline</th>\n",
       "      <th>class</th>\n",
       "    </tr>\n",
       "  </thead>\n",
       "  <tbody>\n",
       "    <tr>\n",
       "      <th>0</th>\n",
       "      <td>14.23</td>\n",
       "      <td>1.71</td>\n",
       "      <td>2.43</td>\n",
       "      <td>15.6</td>\n",
       "      <td>127.0</td>\n",
       "      <td>2.80</td>\n",
       "      <td>3.06</td>\n",
       "      <td>0.28</td>\n",
       "      <td>2.29</td>\n",
       "      <td>5.64</td>\n",
       "      <td>1.04</td>\n",
       "      <td>3.92</td>\n",
       "      <td>1065.0</td>\n",
       "      <td>0</td>\n",
       "    </tr>\n",
       "    <tr>\n",
       "      <th>1</th>\n",
       "      <td>13.20</td>\n",
       "      <td>1.78</td>\n",
       "      <td>2.14</td>\n",
       "      <td>11.2</td>\n",
       "      <td>100.0</td>\n",
       "      <td>2.65</td>\n",
       "      <td>2.76</td>\n",
       "      <td>0.26</td>\n",
       "      <td>1.28</td>\n",
       "      <td>4.38</td>\n",
       "      <td>1.05</td>\n",
       "      <td>3.40</td>\n",
       "      <td>1050.0</td>\n",
       "      <td>0</td>\n",
       "    </tr>\n",
       "    <tr>\n",
       "      <th>2</th>\n",
       "      <td>13.16</td>\n",
       "      <td>2.36</td>\n",
       "      <td>2.67</td>\n",
       "      <td>18.6</td>\n",
       "      <td>101.0</td>\n",
       "      <td>2.80</td>\n",
       "      <td>3.24</td>\n",
       "      <td>0.30</td>\n",
       "      <td>2.81</td>\n",
       "      <td>5.68</td>\n",
       "      <td>1.03</td>\n",
       "      <td>3.17</td>\n",
       "      <td>1185.0</td>\n",
       "      <td>0</td>\n",
       "    </tr>\n",
       "    <tr>\n",
       "      <th>3</th>\n",
       "      <td>14.37</td>\n",
       "      <td>1.95</td>\n",
       "      <td>2.50</td>\n",
       "      <td>16.8</td>\n",
       "      <td>113.0</td>\n",
       "      <td>3.85</td>\n",
       "      <td>3.49</td>\n",
       "      <td>0.24</td>\n",
       "      <td>2.18</td>\n",
       "      <td>7.80</td>\n",
       "      <td>0.86</td>\n",
       "      <td>3.45</td>\n",
       "      <td>1480.0</td>\n",
       "      <td>0</td>\n",
       "    </tr>\n",
       "    <tr>\n",
       "      <th>4</th>\n",
       "      <td>13.24</td>\n",
       "      <td>2.59</td>\n",
       "      <td>2.87</td>\n",
       "      <td>21.0</td>\n",
       "      <td>118.0</td>\n",
       "      <td>2.80</td>\n",
       "      <td>2.69</td>\n",
       "      <td>0.39</td>\n",
       "      <td>1.82</td>\n",
       "      <td>4.32</td>\n",
       "      <td>1.04</td>\n",
       "      <td>2.93</td>\n",
       "      <td>735.0</td>\n",
       "      <td>0</td>\n",
       "    </tr>\n",
       "  </tbody>\n",
       "</table>\n",
       "</div>"
      ],
      "text/plain": [
       "   alcohol  malic_acid   ash  alcalinity_of_ash  magnesium  total_phenols  \\\n",
       "0    14.23        1.71  2.43               15.6      127.0           2.80   \n",
       "1    13.20        1.78  2.14               11.2      100.0           2.65   \n",
       "2    13.16        2.36  2.67               18.6      101.0           2.80   \n",
       "3    14.37        1.95  2.50               16.8      113.0           3.85   \n",
       "4    13.24        2.59  2.87               21.0      118.0           2.80   \n",
       "\n",
       "   flavanoids  nonflavanoid_phenols  proanthocyanins  color_intensity   hue  \\\n",
       "0        3.06                  0.28             2.29             5.64  1.04   \n",
       "1        2.76                  0.26             1.28             4.38  1.05   \n",
       "2        3.24                  0.30             2.81             5.68  1.03   \n",
       "3        3.49                  0.24             2.18             7.80  0.86   \n",
       "4        2.69                  0.39             1.82             4.32  1.04   \n",
       "\n",
       "   od280/od315_of_diluted_wines  proline  class  \n",
       "0                          3.92   1065.0      0  \n",
       "1                          3.40   1050.0      0  \n",
       "2                          3.17   1185.0      0  \n",
       "3                          3.45   1480.0      0  \n",
       "4                          2.93    735.0      0  "
      ]
     },
     "execution_count": 4,
     "metadata": {},
     "output_type": "execute_result"
    }
   ],
   "source": [
    "# 数据处理，合并数据\n",
    "wine_df = pd.concat([pd.DataFrame(wine.data, columns=wine.feature_names),\n",
    "                    pd.DataFrame(wine.target, columns=['class'])], \n",
    "                    axis=1)\n",
    "wine_df.head()"
   ]
  },
  {
   "cell_type": "code",
   "execution_count": 6,
   "metadata": {
    "ExecuteTime": {
     "end_time": "2019-12-05T00:50:40.600629Z",
     "start_time": "2019-12-05T00:50:40.584583Z"
    }
   },
   "outputs": [
    {
     "data": {
      "text/plain": [
       "['alcohol',\n",
       " 'malic_acid',\n",
       " 'ash',\n",
       " 'alcalinity_of_ash',\n",
       " 'magnesium',\n",
       " 'total_phenols',\n",
       " 'flavanoids',\n",
       " 'nonflavanoid_phenols',\n",
       " 'proanthocyanins',\n",
       " 'color_intensity',\n",
       " 'hue',\n",
       " 'od280/od315_of_diluted_wines',\n",
       " 'proline']"
      ]
     },
     "execution_count": 6,
     "metadata": {},
     "output_type": "execute_result"
    }
   ],
   "source": [
    "# 显示特征名\n",
    "wine.feature_names  "
   ]
  },
  {
   "cell_type": "code",
   "execution_count": 7,
   "metadata": {
    "ExecuteTime": {
     "end_time": "2019-12-05T00:50:41.108225Z",
     "start_time": "2019-12-05T00:50:41.098753Z"
    }
   },
   "outputs": [
    {
     "data": {
      "text/plain": [
       "array(['class_0', 'class_1', 'class_2'], dtype='<U7')"
      ]
     },
     "execution_count": 7,
     "metadata": {},
     "output_type": "execute_result"
    }
   ],
   "source": [
    "# 显示分类\n",
    "wine.target_names"
   ]
  },
  {
   "cell_type": "markdown",
   "metadata": {},
   "source": [
    "#### 分训练集和测试集\n"
   ]
  },
  {
   "cell_type": "code",
   "execution_count": 8,
   "metadata": {
    "ExecuteTime": {
     "end_time": "2019-12-05T00:50:57.076374Z",
     "start_time": "2019-12-05T00:50:57.054332Z"
    }
   },
   "outputs": [
    {
     "data": {
      "text/plain": [
       "(124, 13)"
      ]
     },
     "execution_count": 8,
     "metadata": {},
     "output_type": "execute_result"
    }
   ],
   "source": [
    "# 一定要严格按照格式写，不然可能导数训练和测试乱了\n",
    "# test_size:表示测试集占总的数据的比例\n",
    "x_train, x_test, y_train, y_test = train_test_split(wine.data, \n",
    "                                                    wine.target,\n",
    "                                                    test_size=0.3\n",
    "                                                    )\n",
    "x_train.shape"
   ]
  },
  {
   "cell_type": "markdown",
   "metadata": {},
   "source": [
    "#### 建立模型"
   ]
  },
  {
   "cell_type": "code",
   "execution_count": 9,
   "metadata": {
    "ExecuteTime": {
     "end_time": "2019-12-05T00:51:03.089826Z",
     "start_time": "2019-12-05T00:51:03.023363Z"
    }
   },
   "outputs": [
    {
     "data": {
      "text/plain": [
       "0.9629629629629629"
      ]
     },
     "execution_count": 9,
     "metadata": {},
     "output_type": "execute_result"
    }
   ],
   "source": [
    "clf = tree.DecisionTreeClassifier(criterion='entropy')  # 修改标准为信息增益\n",
    "clf = clf.fit(x_train, y_train)\n",
    "# 返回测试的准确度\n",
    "score = clf.score(x_test, y_test)\n",
    "\n",
    "score"
   ]
  },
  {
   "cell_type": "markdown",
   "metadata": {
    "ExecuteTime": {
     "end_time": "2019-11-29T10:10:56.938196Z",
     "start_time": "2019-11-29T10:10:56.914412Z"
    }
   },
   "source": [
    "#### 画出一棵树"
   ]
  },
  {
   "cell_type": "code",
   "execution_count": 10,
   "metadata": {
    "ExecuteTime": {
     "end_time": "2019-12-05T00:51:09.714046Z",
     "start_time": "2019-12-05T00:51:09.690277Z"
    }
   },
   "outputs": [],
   "source": [
    "import graphviz"
   ]
  },
  {
   "cell_type": "code",
   "execution_count": 11,
   "metadata": {
    "ExecuteTime": {
     "end_time": "2019-12-05T00:51:12.022468Z",
     "start_time": "2019-12-05T00:51:11.116584Z"
    }
   },
   "outputs": [
    {
     "data": {
      "image/svg+xml": [
       "<?xml version=\"1.0\" encoding=\"UTF-8\" standalone=\"no\"?>\r\n",
       "<!DOCTYPE svg PUBLIC \"-//W3C//DTD SVG 1.1//EN\"\r\n",
       " \"http://www.w3.org/Graphics/SVG/1.1/DTD/svg11.dtd\">\r\n",
       "<!-- Generated by graphviz version 2.38.0 (20140413.2041)\r\n",
       " -->\r\n",
       "<!-- Title: Tree Pages: 1 -->\r\n",
       "<svg width=\"678pt\" height=\"552pt\"\r\n",
       " viewBox=\"0.00 0.00 678.00 552.00\" xmlns=\"http://www.w3.org/2000/svg\" xmlns:xlink=\"http://www.w3.org/1999/xlink\">\r\n",
       "<g id=\"graph0\" class=\"graph\" transform=\"scale(1 1) rotate(0) translate(4 548)\">\r\n",
       "<title>Tree</title>\r\n",
       "<polygon fill=\"white\" stroke=\"none\" points=\"-4,4 -4,-548 674,-548 674,4 -4,4\"/>\r\n",
       "<!-- 0 -->\r\n",
       "<g id=\"node1\" class=\"node\"><title>0</title>\r\n",
       "<path fill=\"#d8fae6\" stroke=\"black\" d=\"M319,-544C319,-544 206,-544 206,-544 200,-544 194,-538 194,-532 194,-532 194,-473 194,-473 194,-467 200,-461 206,-461 206,-461 319,-461 319,-461 325,-461 331,-467 331,-473 331,-473 331,-532 331,-532 331,-538 325,-544 319,-544\"/>\r\n",
       "<text text-anchor=\"middle\" x=\"262.5\" y=\"-528.8\" font-family=\"Helvetica,sans-Serif\" font-size=\"14.00\">类黄酮 &lt;= 1.4</text>\r\n",
       "<text text-anchor=\"middle\" x=\"262.5\" y=\"-513.8\" font-family=\"Helvetica,sans-Serif\" font-size=\"14.00\">entropy = 1.551</text>\r\n",
       "<text text-anchor=\"middle\" x=\"262.5\" y=\"-498.8\" font-family=\"Helvetica,sans-Serif\" font-size=\"14.00\">samples = 124</text>\r\n",
       "<text text-anchor=\"middle\" x=\"262.5\" y=\"-483.8\" font-family=\"Helvetica,sans-Serif\" font-size=\"14.00\">value = [37, 54, 33]</text>\r\n",
       "<text text-anchor=\"middle\" x=\"262.5\" y=\"-468.8\" font-family=\"Helvetica,sans-Serif\" font-size=\"14.00\">class = 雪莉</text>\r\n",
       "</g>\r\n",
       "<!-- 1 -->\r\n",
       "<g id=\"node2\" class=\"node\"><title>1</title>\r\n",
       "<path fill=\"#9c63eb\" stroke=\"black\" d=\"M241.5,-425C241.5,-425 137.5,-425 137.5,-425 131.5,-425 125.5,-419 125.5,-413 125.5,-413 125.5,-354 125.5,-354 125.5,-348 131.5,-342 137.5,-342 137.5,-342 241.5,-342 241.5,-342 247.5,-342 253.5,-348 253.5,-354 253.5,-354 253.5,-413 253.5,-413 253.5,-419 247.5,-425 241.5,-425\"/>\r\n",
       "<text text-anchor=\"middle\" x=\"189.5\" y=\"-409.8\" font-family=\"Helvetica,sans-Serif\" font-size=\"14.00\">颜色强度 &lt;= 3.625</text>\r\n",
       "<text text-anchor=\"middle\" x=\"189.5\" y=\"-394.8\" font-family=\"Helvetica,sans-Serif\" font-size=\"14.00\">entropy = 0.669</text>\r\n",
       "<text text-anchor=\"middle\" x=\"189.5\" y=\"-379.8\" font-family=\"Helvetica,sans-Serif\" font-size=\"14.00\">samples = 40</text>\r\n",
       "<text text-anchor=\"middle\" x=\"189.5\" y=\"-364.8\" font-family=\"Helvetica,sans-Serif\" font-size=\"14.00\">value = [0, 7, 33]</text>\r\n",
       "<text text-anchor=\"middle\" x=\"189.5\" y=\"-349.8\" font-family=\"Helvetica,sans-Serif\" font-size=\"14.00\">class = 贝尔摩德</text>\r\n",
       "</g>\r\n",
       "<!-- 0&#45;&gt;1 -->\r\n",
       "<g id=\"edge1\" class=\"edge\"><title>0&#45;&gt;1</title>\r\n",
       "<path fill=\"none\" stroke=\"black\" d=\"M237.173,-460.907C231.681,-452.105 225.815,-442.703 220.143,-433.612\"/>\r\n",
       "<polygon fill=\"black\" stroke=\"black\" points=\"223.045,-431.652 214.782,-425.021 217.106,-435.358 223.045,-431.652\"/>\r\n",
       "<text text-anchor=\"middle\" x=\"209.142\" y=\"-445.676\" font-family=\"Helvetica,sans-Serif\" font-size=\"14.00\">True</text>\r\n",
       "</g>\r\n",
       "<!-- 4 -->\r\n",
       "<g id=\"node5\" class=\"node\"><title>4</title>\r\n",
       "<path fill=\"#d5f9e4\" stroke=\"black\" d=\"M389,-425C389,-425 284,-425 284,-425 278,-425 272,-419 272,-413 272,-413 272,-354 272,-354 272,-348 278,-342 284,-342 284,-342 389,-342 389,-342 395,-342 401,-348 401,-354 401,-354 401,-413 401,-413 401,-419 395,-425 389,-425\"/>\r\n",
       "<text text-anchor=\"middle\" x=\"336.5\" y=\"-409.8\" font-family=\"Helvetica,sans-Serif\" font-size=\"14.00\">脯氨酸 &lt;= 755.0</text>\r\n",
       "<text text-anchor=\"middle\" x=\"336.5\" y=\"-394.8\" font-family=\"Helvetica,sans-Serif\" font-size=\"14.00\">entropy = 0.99</text>\r\n",
       "<text text-anchor=\"middle\" x=\"336.5\" y=\"-379.8\" font-family=\"Helvetica,sans-Serif\" font-size=\"14.00\">samples = 84</text>\r\n",
       "<text text-anchor=\"middle\" x=\"336.5\" y=\"-364.8\" font-family=\"Helvetica,sans-Serif\" font-size=\"14.00\">value = [37, 47, 0]</text>\r\n",
       "<text text-anchor=\"middle\" x=\"336.5\" y=\"-349.8\" font-family=\"Helvetica,sans-Serif\" font-size=\"14.00\">class = 雪莉</text>\r\n",
       "</g>\r\n",
       "<!-- 0&#45;&gt;4 -->\r\n",
       "<g id=\"edge4\" class=\"edge\"><title>0&#45;&gt;4</title>\r\n",
       "<path fill=\"none\" stroke=\"black\" d=\"M288.174,-460.907C293.742,-452.105 299.688,-442.703 305.438,-433.612\"/>\r\n",
       "<polygon fill=\"black\" stroke=\"black\" points=\"308.484,-435.343 310.871,-425.021 302.568,-431.601 308.484,-435.343\"/>\r\n",
       "<text text-anchor=\"middle\" x=\"316.362\" y=\"-445.71\" font-family=\"Helvetica,sans-Serif\" font-size=\"14.00\">False</text>\r\n",
       "</g>\r\n",
       "<!-- 2 -->\r\n",
       "<g id=\"node3\" class=\"node\"><title>2</title>\r\n",
       "<path fill=\"#39e581\" stroke=\"black\" d=\"M101,-298.5C101,-298.5 12,-298.5 12,-298.5 6,-298.5 0,-292.5 0,-286.5 0,-286.5 0,-242.5 0,-242.5 0,-236.5 6,-230.5 12,-230.5 12,-230.5 101,-230.5 101,-230.5 107,-230.5 113,-236.5 113,-242.5 113,-242.5 113,-286.5 113,-286.5 113,-292.5 107,-298.5 101,-298.5\"/>\r\n",
       "<text text-anchor=\"middle\" x=\"56.5\" y=\"-283.3\" font-family=\"Helvetica,sans-Serif\" font-size=\"14.00\">entropy = 0.0</text>\r\n",
       "<text text-anchor=\"middle\" x=\"56.5\" y=\"-268.3\" font-family=\"Helvetica,sans-Serif\" font-size=\"14.00\">samples = 7</text>\r\n",
       "<text text-anchor=\"middle\" x=\"56.5\" y=\"-253.3\" font-family=\"Helvetica,sans-Serif\" font-size=\"14.00\">value = [0, 7, 0]</text>\r\n",
       "<text text-anchor=\"middle\" x=\"56.5\" y=\"-238.3\" font-family=\"Helvetica,sans-Serif\" font-size=\"14.00\">class = 雪莉</text>\r\n",
       "</g>\r\n",
       "<!-- 1&#45;&gt;2 -->\r\n",
       "<g id=\"edge2\" class=\"edge\"><title>1&#45;&gt;2</title>\r\n",
       "<path fill=\"none\" stroke=\"black\" d=\"M143.356,-341.907C129.935,-330.101 115.289,-317.217 101.913,-305.45\"/>\r\n",
       "<polygon fill=\"black\" stroke=\"black\" points=\"104.023,-302.644 94.2026,-298.667 99.3991,-307.9 104.023,-302.644\"/>\r\n",
       "</g>\r\n",
       "<!-- 3 -->\r\n",
       "<g id=\"node4\" class=\"node\"><title>3</title>\r\n",
       "<path fill=\"#8139e5\" stroke=\"black\" d=\"M240,-298.5C240,-298.5 143,-298.5 143,-298.5 137,-298.5 131,-292.5 131,-286.5 131,-286.5 131,-242.5 131,-242.5 131,-236.5 137,-230.5 143,-230.5 143,-230.5 240,-230.5 240,-230.5 246,-230.5 252,-236.5 252,-242.5 252,-242.5 252,-286.5 252,-286.5 252,-292.5 246,-298.5 240,-298.5\"/>\r\n",
       "<text text-anchor=\"middle\" x=\"191.5\" y=\"-283.3\" font-family=\"Helvetica,sans-Serif\" font-size=\"14.00\">entropy = 0.0</text>\r\n",
       "<text text-anchor=\"middle\" x=\"191.5\" y=\"-268.3\" font-family=\"Helvetica,sans-Serif\" font-size=\"14.00\">samples = 33</text>\r\n",
       "<text text-anchor=\"middle\" x=\"191.5\" y=\"-253.3\" font-family=\"Helvetica,sans-Serif\" font-size=\"14.00\">value = [0, 0, 33]</text>\r\n",
       "<text text-anchor=\"middle\" x=\"191.5\" y=\"-238.3\" font-family=\"Helvetica,sans-Serif\" font-size=\"14.00\">class = 贝尔摩德</text>\r\n",
       "</g>\r\n",
       "<!-- 1&#45;&gt;3 -->\r\n",
       "<g id=\"edge3\" class=\"edge\"><title>1&#45;&gt;3</title>\r\n",
       "<path fill=\"none\" stroke=\"black\" d=\"M190.194,-341.907C190.377,-331.204 190.575,-319.615 190.76,-308.776\"/>\r\n",
       "<polygon fill=\"black\" stroke=\"black\" points=\"194.262,-308.725 190.933,-298.667 187.263,-308.606 194.262,-308.725\"/>\r\n",
       "</g>\r\n",
       "<!-- 5 -->\r\n",
       "<g id=\"node6\" class=\"node\"><title>5</title>\r\n",
       "<path fill=\"#3de684\" stroke=\"black\" d=\"M383,-306C383,-306 286,-306 286,-306 280,-306 274,-300 274,-294 274,-294 274,-235 274,-235 274,-229 280,-223 286,-223 286,-223 383,-223 383,-223 389,-223 395,-229 395,-235 395,-235 395,-294 395,-294 395,-300 389,-306 383,-306\"/>\r\n",
       "<text text-anchor=\"middle\" x=\"334.5\" y=\"-290.8\" font-family=\"Helvetica,sans-Serif\" font-size=\"14.00\">酒精 &lt;= 13.175</text>\r\n",
       "<text text-anchor=\"middle\" x=\"334.5\" y=\"-275.8\" font-family=\"Helvetica,sans-Serif\" font-size=\"14.00\">entropy = 0.154</text>\r\n",
       "<text text-anchor=\"middle\" x=\"334.5\" y=\"-260.8\" font-family=\"Helvetica,sans-Serif\" font-size=\"14.00\">samples = 45</text>\r\n",
       "<text text-anchor=\"middle\" x=\"334.5\" y=\"-245.8\" font-family=\"Helvetica,sans-Serif\" font-size=\"14.00\">value = [1, 44, 0]</text>\r\n",
       "<text text-anchor=\"middle\" x=\"334.5\" y=\"-230.8\" font-family=\"Helvetica,sans-Serif\" font-size=\"14.00\">class = 雪莉</text>\r\n",
       "</g>\r\n",
       "<!-- 4&#45;&gt;5 -->\r\n",
       "<g id=\"edge5\" class=\"edge\"><title>4&#45;&gt;5</title>\r\n",
       "<path fill=\"none\" stroke=\"black\" d=\"M335.806,-341.907C335.663,-333.558 335.511,-324.671 335.364,-316.02\"/>\r\n",
       "<polygon fill=\"black\" stroke=\"black\" points=\"338.863,-315.959 335.193,-306.021 331.864,-316.079 338.863,-315.959\"/>\r\n",
       "</g>\r\n",
       "<!-- 10 -->\r\n",
       "<g id=\"node11\" class=\"node\"><title>10</title>\r\n",
       "<path fill=\"#e78c49\" stroke=\"black\" d=\"M529.5,-306C529.5,-306 425.5,-306 425.5,-306 419.5,-306 413.5,-300 413.5,-294 413.5,-294 413.5,-235 413.5,-235 413.5,-229 419.5,-223 425.5,-223 425.5,-223 529.5,-223 529.5,-223 535.5,-223 541.5,-229 541.5,-235 541.5,-235 541.5,-294 541.5,-294 541.5,-300 535.5,-306 529.5,-306\"/>\r\n",
       "<text text-anchor=\"middle\" x=\"477.5\" y=\"-290.8\" font-family=\"Helvetica,sans-Serif\" font-size=\"14.00\">颜色强度 &lt;= 3.435</text>\r\n",
       "<text text-anchor=\"middle\" x=\"477.5\" y=\"-275.8\" font-family=\"Helvetica,sans-Serif\" font-size=\"14.00\">entropy = 0.391</text>\r\n",
       "<text text-anchor=\"middle\" x=\"477.5\" y=\"-260.8\" font-family=\"Helvetica,sans-Serif\" font-size=\"14.00\">samples = 39</text>\r\n",
       "<text text-anchor=\"middle\" x=\"477.5\" y=\"-245.8\" font-family=\"Helvetica,sans-Serif\" font-size=\"14.00\">value = [36, 3, 0]</text>\r\n",
       "<text text-anchor=\"middle\" x=\"477.5\" y=\"-230.8\" font-family=\"Helvetica,sans-Serif\" font-size=\"14.00\">class = 琴酒</text>\r\n",
       "</g>\r\n",
       "<!-- 4&#45;&gt;10 -->\r\n",
       "<g id=\"edge10\" class=\"edge\"><title>4&#45;&gt;10</title>\r\n",
       "<path fill=\"none\" stroke=\"black\" d=\"M385.419,-341.907C396.793,-332.469 408.997,-322.343 420.679,-312.649\"/>\r\n",
       "<polygon fill=\"black\" stroke=\"black\" points=\"423.207,-315.1 428.667,-306.021 418.737,-309.713 423.207,-315.1\"/>\r\n",
       "</g>\r\n",
       "<!-- 6 -->\r\n",
       "<g id=\"node7\" class=\"node\"><title>6</title>\r\n",
       "<path fill=\"#39e581\" stroke=\"black\" d=\"M248,-179.5C248,-179.5 151,-179.5 151,-179.5 145,-179.5 139,-173.5 139,-167.5 139,-167.5 139,-123.5 139,-123.5 139,-117.5 145,-111.5 151,-111.5 151,-111.5 248,-111.5 248,-111.5 254,-111.5 260,-117.5 260,-123.5 260,-123.5 260,-167.5 260,-167.5 260,-173.5 254,-179.5 248,-179.5\"/>\r\n",
       "<text text-anchor=\"middle\" x=\"199.5\" y=\"-164.3\" font-family=\"Helvetica,sans-Serif\" font-size=\"14.00\">entropy = 0.0</text>\r\n",
       "<text text-anchor=\"middle\" x=\"199.5\" y=\"-149.3\" font-family=\"Helvetica,sans-Serif\" font-size=\"14.00\">samples = 42</text>\r\n",
       "<text text-anchor=\"middle\" x=\"199.5\" y=\"-134.3\" font-family=\"Helvetica,sans-Serif\" font-size=\"14.00\">value = [0, 42, 0]</text>\r\n",
       "<text text-anchor=\"middle\" x=\"199.5\" y=\"-119.3\" font-family=\"Helvetica,sans-Serif\" font-size=\"14.00\">class = 雪莉</text>\r\n",
       "</g>\r\n",
       "<!-- 5&#45;&gt;6 -->\r\n",
       "<g id=\"edge6\" class=\"edge\"><title>5&#45;&gt;6</title>\r\n",
       "<path fill=\"none\" stroke=\"black\" d=\"M287.662,-222.907C274.039,-211.101 259.173,-198.217 245.596,-186.45\"/>\r\n",
       "<polygon fill=\"black\" stroke=\"black\" points=\"247.619,-183.571 237.77,-179.667 243.034,-188.861 247.619,-183.571\"/>\r\n",
       "</g>\r\n",
       "<!-- 7 -->\r\n",
       "<g id=\"node8\" class=\"node\"><title>7</title>\r\n",
       "<path fill=\"#9cf2c0\" stroke=\"black\" d=\"M382.5,-187C382.5,-187 290.5,-187 290.5,-187 284.5,-187 278.5,-181 278.5,-175 278.5,-175 278.5,-116 278.5,-116 278.5,-110 284.5,-104 290.5,-104 290.5,-104 382.5,-104 382.5,-104 388.5,-104 394.5,-110 394.5,-116 394.5,-116 394.5,-175 394.5,-175 394.5,-181 388.5,-187 382.5,-187\"/>\r\n",
       "<text text-anchor=\"middle\" x=\"336.5\" y=\"-171.8\" font-family=\"Helvetica,sans-Serif\" font-size=\"14.00\">苹果酸 &lt;= 2.82</text>\r\n",
       "<text text-anchor=\"middle\" x=\"336.5\" y=\"-156.8\" font-family=\"Helvetica,sans-Serif\" font-size=\"14.00\">entropy = 0.918</text>\r\n",
       "<text text-anchor=\"middle\" x=\"336.5\" y=\"-141.8\" font-family=\"Helvetica,sans-Serif\" font-size=\"14.00\">samples = 3</text>\r\n",
       "<text text-anchor=\"middle\" x=\"336.5\" y=\"-126.8\" font-family=\"Helvetica,sans-Serif\" font-size=\"14.00\">value = [1, 2, 0]</text>\r\n",
       "<text text-anchor=\"middle\" x=\"336.5\" y=\"-111.8\" font-family=\"Helvetica,sans-Serif\" font-size=\"14.00\">class = 雪莉</text>\r\n",
       "</g>\r\n",
       "<!-- 5&#45;&gt;7 -->\r\n",
       "<g id=\"edge7\" class=\"edge\"><title>5&#45;&gt;7</title>\r\n",
       "<path fill=\"none\" stroke=\"black\" d=\"M335.194,-222.907C335.337,-214.558 335.489,-205.671 335.636,-197.02\"/>\r\n",
       "<polygon fill=\"black\" stroke=\"black\" points=\"339.136,-197.079 335.807,-187.021 332.137,-196.959 339.136,-197.079\"/>\r\n",
       "</g>\r\n",
       "<!-- 8 -->\r\n",
       "<g id=\"node9\" class=\"node\"><title>8</title>\r\n",
       "<path fill=\"#39e581\" stroke=\"black\" d=\"M315,-68C315,-68 226,-68 226,-68 220,-68 214,-62 214,-56 214,-56 214,-12 214,-12 214,-6 220,-0 226,-0 226,-0 315,-0 315,-0 321,-0 327,-6 327,-12 327,-12 327,-56 327,-56 327,-62 321,-68 315,-68\"/>\r\n",
       "<text text-anchor=\"middle\" x=\"270.5\" y=\"-52.8\" font-family=\"Helvetica,sans-Serif\" font-size=\"14.00\">entropy = 0.0</text>\r\n",
       "<text text-anchor=\"middle\" x=\"270.5\" y=\"-37.8\" font-family=\"Helvetica,sans-Serif\" font-size=\"14.00\">samples = 2</text>\r\n",
       "<text text-anchor=\"middle\" x=\"270.5\" y=\"-22.8\" font-family=\"Helvetica,sans-Serif\" font-size=\"14.00\">value = [0, 2, 0]</text>\r\n",
       "<text text-anchor=\"middle\" x=\"270.5\" y=\"-7.8\" font-family=\"Helvetica,sans-Serif\" font-size=\"14.00\">class = 雪莉</text>\r\n",
       "</g>\r\n",
       "<!-- 7&#45;&gt;8 -->\r\n",
       "<g id=\"edge8\" class=\"edge\"><title>7&#45;&gt;8</title>\r\n",
       "<path fill=\"none\" stroke=\"black\" d=\"M311.924,-103.726C306.646,-94.9703 301.061,-85.7032 295.758,-76.9051\"/>\r\n",
       "<polygon fill=\"black\" stroke=\"black\" points=\"298.731,-75.0574 290.571,-68.2996 292.736,-78.671 298.731,-75.0574\"/>\r\n",
       "</g>\r\n",
       "<!-- 9 -->\r\n",
       "<g id=\"node10\" class=\"node\"><title>9</title>\r\n",
       "<path fill=\"#e58139\" stroke=\"black\" d=\"M446,-68C446,-68 357,-68 357,-68 351,-68 345,-62 345,-56 345,-56 345,-12 345,-12 345,-6 351,-0 357,-0 357,-0 446,-0 446,-0 452,-0 458,-6 458,-12 458,-12 458,-56 458,-56 458,-62 452,-68 446,-68\"/>\r\n",
       "<text text-anchor=\"middle\" x=\"401.5\" y=\"-52.8\" font-family=\"Helvetica,sans-Serif\" font-size=\"14.00\">entropy = 0.0</text>\r\n",
       "<text text-anchor=\"middle\" x=\"401.5\" y=\"-37.8\" font-family=\"Helvetica,sans-Serif\" font-size=\"14.00\">samples = 1</text>\r\n",
       "<text text-anchor=\"middle\" x=\"401.5\" y=\"-22.8\" font-family=\"Helvetica,sans-Serif\" font-size=\"14.00\">value = [1, 0, 0]</text>\r\n",
       "<text text-anchor=\"middle\" x=\"401.5\" y=\"-7.8\" font-family=\"Helvetica,sans-Serif\" font-size=\"14.00\">class = 琴酒</text>\r\n",
       "</g>\r\n",
       "<!-- 7&#45;&gt;9 -->\r\n",
       "<g id=\"edge9\" class=\"edge\"><title>7&#45;&gt;9</title>\r\n",
       "<path fill=\"none\" stroke=\"black\" d=\"M360.704,-103.726C365.901,-94.9703 371.402,-85.7032 376.625,-76.9051\"/>\r\n",
       "<polygon fill=\"black\" stroke=\"black\" points=\"379.638,-78.6853 381.733,-68.2996 373.619,-75.1121 379.638,-78.6853\"/>\r\n",
       "</g>\r\n",
       "<!-- 11 -->\r\n",
       "<g id=\"node12\" class=\"node\"><title>11</title>\r\n",
       "<path fill=\"#39e581\" stroke=\"black\" d=\"M519,-179.5C519,-179.5 430,-179.5 430,-179.5 424,-179.5 418,-173.5 418,-167.5 418,-167.5 418,-123.5 418,-123.5 418,-117.5 424,-111.5 430,-111.5 430,-111.5 519,-111.5 519,-111.5 525,-111.5 531,-117.5 531,-123.5 531,-123.5 531,-167.5 531,-167.5 531,-173.5 525,-179.5 519,-179.5\"/>\r\n",
       "<text text-anchor=\"middle\" x=\"474.5\" y=\"-164.3\" font-family=\"Helvetica,sans-Serif\" font-size=\"14.00\">entropy = 0.0</text>\r\n",
       "<text text-anchor=\"middle\" x=\"474.5\" y=\"-149.3\" font-family=\"Helvetica,sans-Serif\" font-size=\"14.00\">samples = 3</text>\r\n",
       "<text text-anchor=\"middle\" x=\"474.5\" y=\"-134.3\" font-family=\"Helvetica,sans-Serif\" font-size=\"14.00\">value = [0, 3, 0]</text>\r\n",
       "<text text-anchor=\"middle\" x=\"474.5\" y=\"-119.3\" font-family=\"Helvetica,sans-Serif\" font-size=\"14.00\">class = 雪莉</text>\r\n",
       "</g>\r\n",
       "<!-- 10&#45;&gt;11 -->\r\n",
       "<g id=\"edge11\" class=\"edge\"><title>10&#45;&gt;11</title>\r\n",
       "<path fill=\"none\" stroke=\"black\" d=\"M476.459,-222.907C476.185,-212.204 475.888,-200.615 475.61,-189.776\"/>\r\n",
       "<polygon fill=\"black\" stroke=\"black\" points=\"479.106,-189.574 475.35,-179.667 472.108,-189.753 479.106,-189.574\"/>\r\n",
       "</g>\r\n",
       "<!-- 12 -->\r\n",
       "<g id=\"node13\" class=\"node\"><title>12</title>\r\n",
       "<path fill=\"#e58139\" stroke=\"black\" d=\"M658,-179.5C658,-179.5 561,-179.5 561,-179.5 555,-179.5 549,-173.5 549,-167.5 549,-167.5 549,-123.5 549,-123.5 549,-117.5 555,-111.5 561,-111.5 561,-111.5 658,-111.5 658,-111.5 664,-111.5 670,-117.5 670,-123.5 670,-123.5 670,-167.5 670,-167.5 670,-173.5 664,-179.5 658,-179.5\"/>\r\n",
       "<text text-anchor=\"middle\" x=\"609.5\" y=\"-164.3\" font-family=\"Helvetica,sans-Serif\" font-size=\"14.00\">entropy = 0.0</text>\r\n",
       "<text text-anchor=\"middle\" x=\"609.5\" y=\"-149.3\" font-family=\"Helvetica,sans-Serif\" font-size=\"14.00\">samples = 36</text>\r\n",
       "<text text-anchor=\"middle\" x=\"609.5\" y=\"-134.3\" font-family=\"Helvetica,sans-Serif\" font-size=\"14.00\">value = [36, 0, 0]</text>\r\n",
       "<text text-anchor=\"middle\" x=\"609.5\" y=\"-119.3\" font-family=\"Helvetica,sans-Serif\" font-size=\"14.00\">class = 琴酒</text>\r\n",
       "</g>\r\n",
       "<!-- 10&#45;&gt;12 -->\r\n",
       "<g id=\"edge12\" class=\"edge\"><title>10&#45;&gt;12</title>\r\n",
       "<path fill=\"none\" stroke=\"black\" d=\"M523.297,-222.907C536.617,-211.101 551.153,-198.217 564.429,-186.45\"/>\r\n",
       "<polygon fill=\"black\" stroke=\"black\" points=\"566.919,-188.919 572.081,-179.667 562.276,-183.681 566.919,-188.919\"/>\r\n",
       "</g>\r\n",
       "</g>\r\n",
       "</svg>\r\n"
      ],
      "text/plain": [
       "<graphviz.files.Source at 0x279b69545c0>"
      ]
     },
     "execution_count": 11,
     "metadata": {},
     "output_type": "execute_result"
    }
   ],
   "source": [
    "feature_names = ['酒精','苹果酸','灰','灰的碱性','镁','总酚',\n",
    "                 '类黄酮','非黄烷类酚类','花青素','颜色强度',\n",
    "                 '色调','od280/od315稀释葡萄酒','脯氨酸']\n",
    "dot_data = tree.export_graphviz(clf,\n",
    "                                out_file=None,\n",
    "                                feature_names=feature_names,\n",
    "                                class_names=['琴酒','雪莉','贝尔摩德'],\n",
    "                                filled=True,  # 设置叶颜色\n",
    "                                rounded=True,  # 设置叶子为圆形\n",
    "#                                 label=False\n",
    "                               )\n",
    "graph = graphviz.Source(dot_data)\n",
    "graph"
   ]
  },
  {
   "cell_type": "markdown",
   "metadata": {},
   "source": [
    "#### 探索决策树"
   ]
  },
  {
   "cell_type": "code",
   "execution_count": 12,
   "metadata": {
    "ExecuteTime": {
     "end_time": "2019-12-05T00:51:18.555450Z",
     "start_time": "2019-12-05T00:51:18.536467Z"
    }
   },
   "outputs": [
    {
     "data": {
      "text/plain": [
       "[('酒精', 0.02164643433240562),\n",
       " ('苹果酸', 0.014322886851263617),\n",
       " ('灰', 0.0),\n",
       " ('灰的碱性', 0.0),\n",
       " ('镁', 0.0),\n",
       " ('总酚', 0.0),\n",
       " ('类黄酮', 0.42862165401355806),\n",
       " ('非黄烷类酚类', 0.0),\n",
       " ('花青素', 0.0),\n",
       " ('颜色强度', 0.2184609274421724),\n",
       " ('色调', 0.0),\n",
       " ('od280/od315稀释葡萄酒', 0.0),\n",
       " ('脯氨酸', 0.3169480973606003)]"
      ]
     },
     "execution_count": 12,
     "metadata": {},
     "output_type": "execute_result"
    }
   ],
   "source": [
    "# 显示特征的重要性(权重)\n",
    "clf.feature_importances_\n",
    "[*zip(feature_names, clf.feature_importances_)]"
   ]
  },
  {
   "cell_type": "code",
   "execution_count": 13,
   "metadata": {
    "ExecuteTime": {
     "end_time": "2019-12-05T00:51:23.046856Z",
     "start_time": "2019-12-05T00:51:23.025565Z"
    }
   },
   "outputs": [
    {
     "data": {
      "text/plain": [
       "0.9814814814814815"
      ]
     },
     "execution_count": 13,
     "metadata": {},
     "output_type": "execute_result"
    }
   ],
   "source": [
    "clf = tree.DecisionTreeClassifier(criterion='entropy', random_state=30)\n",
    "clf = clf.fit(x_train, y_train)\n",
    "score = clf.score(x_test, y_test)\n",
    "score"
   ]
  },
  {
   "cell_type": "markdown",
   "metadata": {},
   "source": [
    "#### 修改random_state&splitter参数"
   ]
  },
  {
   "cell_type": "code",
   "execution_count": 14,
   "metadata": {
    "ExecuteTime": {
     "end_time": "2019-12-05T00:51:27.175024Z",
     "start_time": "2019-12-05T00:51:27.156031Z"
    }
   },
   "outputs": [
    {
     "data": {
      "text/plain": [
       "0.9444444444444444"
      ]
     },
     "execution_count": 14,
     "metadata": {},
     "output_type": "execute_result"
    }
   ],
   "source": [
    "clf = tree.DecisionTreeClassifier(criterion='entropy',\n",
    "                                  random_state=32,\n",
    "                                  splitter='random')  # splitter='best' by default\n",
    "clf = clf.fit(x_train, y_train)\n",
    "\n",
    "score = clf.score(x_test, y_test)\n",
    "score"
   ]
  },
  {
   "cell_type": "code",
   "execution_count": 15,
   "metadata": {
    "ExecuteTime": {
     "end_time": "2019-12-05T00:51:29.252035Z",
     "start_time": "2019-12-05T00:51:28.746329Z"
    }
   },
   "outputs": [
    {
     "data": {
      "image/svg+xml": [
       "<?xml version=\"1.0\" encoding=\"UTF-8\" standalone=\"no\"?>\r\n",
       "<!DOCTYPE svg PUBLIC \"-//W3C//DTD SVG 1.1//EN\"\r\n",
       " \"http://www.w3.org/Graphics/SVG/1.1/DTD/svg11.dtd\">\r\n",
       "<!-- Generated by graphviz version 2.38.0 (20140413.2041)\r\n",
       " -->\r\n",
       "<!-- Title: Tree Pages: 1 -->\r\n",
       "<svg width=\"1392pt\" height=\"790pt\"\r\n",
       " viewBox=\"0.00 0.00 1392.00 790.00\" xmlns=\"http://www.w3.org/2000/svg\" xmlns:xlink=\"http://www.w3.org/1999/xlink\">\r\n",
       "<g id=\"graph0\" class=\"graph\" transform=\"scale(1 1) rotate(0) translate(4 786)\">\r\n",
       "<title>Tree</title>\r\n",
       "<polygon fill=\"white\" stroke=\"none\" points=\"-4,4 -4,-786 1388,-786 1388,4 -4,4\"/>\r\n",
       "<!-- 0 -->\r\n",
       "<g id=\"node1\" class=\"node\"><title>0</title>\r\n",
       "<path fill=\"#d8fae6\" stroke=\"black\" d=\"M835,-782C835,-782 722,-782 722,-782 716,-782 710,-776 710,-770 710,-770 710,-711 710,-711 710,-705 716,-699 722,-699 722,-699 835,-699 835,-699 841,-699 847,-705 847,-711 847,-711 847,-770 847,-770 847,-776 841,-782 835,-782\"/>\r\n",
       "<text text-anchor=\"middle\" x=\"778.5\" y=\"-766.8\" font-family=\"Helvetica,sans-Serif\" font-size=\"14.00\">类黄酮 &lt;= 2.076</text>\r\n",
       "<text text-anchor=\"middle\" x=\"778.5\" y=\"-751.8\" font-family=\"Helvetica,sans-Serif\" font-size=\"14.00\">entropy = 1.551</text>\r\n",
       "<text text-anchor=\"middle\" x=\"778.5\" y=\"-736.8\" font-family=\"Helvetica,sans-Serif\" font-size=\"14.00\">samples = 124</text>\r\n",
       "<text text-anchor=\"middle\" x=\"778.5\" y=\"-721.8\" font-family=\"Helvetica,sans-Serif\" font-size=\"14.00\">value = [37, 54, 33]</text>\r\n",
       "<text text-anchor=\"middle\" x=\"778.5\" y=\"-706.8\" font-family=\"Helvetica,sans-Serif\" font-size=\"14.00\">class = 茅台</text>\r\n",
       "</g>\r\n",
       "<!-- 1 -->\r\n",
       "<g id=\"node2\" class=\"node\"><title>1</title>\r\n",
       "<path fill=\"#f0e7fc\" stroke=\"black\" d=\"M738,-663C738,-663 535,-663 535,-663 529,-663 523,-657 523,-651 523,-651 523,-592 523,-592 523,-586 529,-580 535,-580 535,-580 738,-580 738,-580 744,-580 750,-586 750,-592 750,-592 750,-651 750,-651 750,-657 744,-663 738,-663\"/>\r\n",
       "<text text-anchor=\"middle\" x=\"636.5\" y=\"-647.8\" font-family=\"Helvetica,sans-Serif\" font-size=\"14.00\">od280/od315稀释葡萄酒 &lt;= 2.125</text>\r\n",
       "<text text-anchor=\"middle\" x=\"636.5\" y=\"-632.8\" font-family=\"Helvetica,sans-Serif\" font-size=\"14.00\">entropy = 0.997</text>\r\n",
       "<text text-anchor=\"middle\" x=\"636.5\" y=\"-617.8\" font-family=\"Helvetica,sans-Serif\" font-size=\"14.00\">samples = 62</text>\r\n",
       "<text text-anchor=\"middle\" x=\"636.5\" y=\"-602.8\" font-family=\"Helvetica,sans-Serif\" font-size=\"14.00\">value = [0, 29, 33]</text>\r\n",
       "<text text-anchor=\"middle\" x=\"636.5\" y=\"-587.8\" font-family=\"Helvetica,sans-Serif\" font-size=\"14.00\">class = 五粮液</text>\r\n",
       "</g>\r\n",
       "<!-- 0&#45;&gt;1 -->\r\n",
       "<g id=\"edge1\" class=\"edge\"><title>0&#45;&gt;1</title>\r\n",
       "<path fill=\"none\" stroke=\"black\" d=\"M729.234,-698.907C717.779,-689.469 705.489,-679.343 693.724,-669.649\"/>\r\n",
       "<polygon fill=\"black\" stroke=\"black\" points=\"695.623,-666.679 685.679,-663.021 691.171,-672.081 695.623,-666.679\"/>\r\n",
       "<text text-anchor=\"middle\" x=\"688.081\" y=\"-684.205\" font-family=\"Helvetica,sans-Serif\" font-size=\"14.00\">True</text>\r\n",
       "</g>\r\n",
       "<!-- 16 -->\r\n",
       "<g id=\"node17\" class=\"node\"><title>16</title>\r\n",
       "<path fill=\"#f7d6bf\" stroke=\"black\" d=\"M1029,-663C1029,-663 924,-663 924,-663 918,-663 912,-657 912,-651 912,-651 912,-592 912,-592 912,-586 918,-580 924,-580 924,-580 1029,-580 1029,-580 1035,-580 1041,-586 1041,-592 1041,-592 1041,-651 1041,-651 1041,-657 1035,-663 1029,-663\"/>\r\n",
       "<text text-anchor=\"middle\" x=\"976.5\" y=\"-647.8\" font-family=\"Helvetica,sans-Serif\" font-size=\"14.00\">酒精 &lt;= 13.09</text>\r\n",
       "<text text-anchor=\"middle\" x=\"976.5\" y=\"-632.8\" font-family=\"Helvetica,sans-Serif\" font-size=\"14.00\">entropy = 0.973</text>\r\n",
       "<text text-anchor=\"middle\" x=\"976.5\" y=\"-617.8\" font-family=\"Helvetica,sans-Serif\" font-size=\"14.00\">samples = 62</text>\r\n",
       "<text text-anchor=\"middle\" x=\"976.5\" y=\"-602.8\" font-family=\"Helvetica,sans-Serif\" font-size=\"14.00\">value = [37, 25, 0]</text>\r\n",
       "<text text-anchor=\"middle\" x=\"976.5\" y=\"-587.8\" font-family=\"Helvetica,sans-Serif\" font-size=\"14.00\">class = 清酒</text>\r\n",
       "</g>\r\n",
       "<!-- 0&#45;&gt;16 -->\r\n",
       "<g id=\"edge16\" class=\"edge\"><title>0&#45;&gt;16</title>\r\n",
       "<path fill=\"none\" stroke=\"black\" d=\"M847.195,-698.907C865.241,-688.244 884.773,-676.702 903.057,-665.898\"/>\r\n",
       "<polygon fill=\"black\" stroke=\"black\" points=\"905.091,-668.762 911.92,-660.661 901.53,-662.735 905.091,-668.762\"/>\r\n",
       "<text text-anchor=\"middle\" x=\"905.694\" y=\"-681.173\" font-family=\"Helvetica,sans-Serif\" font-size=\"14.00\">False</text>\r\n",
       "</g>\r\n",
       "<!-- 2 -->\r\n",
       "<g id=\"node3\" class=\"node\"><title>2</title>\r\n",
       "<path fill=\"#995fea\" stroke=\"black\" d=\"M411,-544C411,-544 314,-544 314,-544 308,-544 302,-538 302,-532 302,-532 302,-473 302,-473 302,-467 308,-461 314,-461 314,-461 411,-461 411,-461 417,-461 423,-467 423,-473 423,-473 423,-532 423,-532 423,-538 417,-544 411,-544\"/>\r\n",
       "<text text-anchor=\"middle\" x=\"362.5\" y=\"-528.8\" font-family=\"Helvetica,sans-Serif\" font-size=\"14.00\">类黄酮 &lt;= 0.919</text>\r\n",
       "<text text-anchor=\"middle\" x=\"362.5\" y=\"-513.8\" font-family=\"Helvetica,sans-Serif\" font-size=\"14.00\">entropy = 0.639</text>\r\n",
       "<text text-anchor=\"middle\" x=\"362.5\" y=\"-498.8\" font-family=\"Helvetica,sans-Serif\" font-size=\"14.00\">samples = 37</text>\r\n",
       "<text text-anchor=\"middle\" x=\"362.5\" y=\"-483.8\" font-family=\"Helvetica,sans-Serif\" font-size=\"14.00\">value = [0, 6, 31]</text>\r\n",
       "<text text-anchor=\"middle\" x=\"362.5\" y=\"-468.8\" font-family=\"Helvetica,sans-Serif\" font-size=\"14.00\">class = 五粮液</text>\r\n",
       "</g>\r\n",
       "<!-- 1&#45;&gt;2 -->\r\n",
       "<g id=\"edge2\" class=\"edge\"><title>1&#45;&gt;2</title>\r\n",
       "<path fill=\"none\" stroke=\"black\" d=\"M541.437,-579.907C505.705,-564.649 465.76,-547.593 432.691,-533.472\"/>\r\n",
       "<polygon fill=\"black\" stroke=\"black\" points=\"433.681,-530.089 423.11,-529.381 430.932,-536.527 433.681,-530.089\"/>\r\n",
       "</g>\r\n",
       "<!-- 11 -->\r\n",
       "<g id=\"node12\" class=\"node\"><title>11</title>\r\n",
       "<path fill=\"#4ae78c\" stroke=\"black\" d=\"M685,-544C685,-544 588,-544 588,-544 582,-544 576,-538 576,-532 576,-532 576,-473 576,-473 576,-467 582,-461 588,-461 588,-461 685,-461 685,-461 691,-461 697,-467 697,-473 697,-473 697,-532 697,-532 697,-538 691,-544 685,-544\"/>\r\n",
       "<text text-anchor=\"middle\" x=\"636.5\" y=\"-528.8\" font-family=\"Helvetica,sans-Serif\" font-size=\"14.00\">类黄酮 &lt;= 1.155</text>\r\n",
       "<text text-anchor=\"middle\" x=\"636.5\" y=\"-513.8\" font-family=\"Helvetica,sans-Serif\" font-size=\"14.00\">entropy = 0.402</text>\r\n",
       "<text text-anchor=\"middle\" x=\"636.5\" y=\"-498.8\" font-family=\"Helvetica,sans-Serif\" font-size=\"14.00\">samples = 25</text>\r\n",
       "<text text-anchor=\"middle\" x=\"636.5\" y=\"-483.8\" font-family=\"Helvetica,sans-Serif\" font-size=\"14.00\">value = [0, 23, 2]</text>\r\n",
       "<text text-anchor=\"middle\" x=\"636.5\" y=\"-468.8\" font-family=\"Helvetica,sans-Serif\" font-size=\"14.00\">class = 茅台</text>\r\n",
       "</g>\r\n",
       "<!-- 1&#45;&gt;11 -->\r\n",
       "<g id=\"edge11\" class=\"edge\"><title>1&#45;&gt;11</title>\r\n",
       "<path fill=\"none\" stroke=\"black\" d=\"M636.5,-579.907C636.5,-571.649 636.5,-562.864 636.5,-554.302\"/>\r\n",
       "<polygon fill=\"black\" stroke=\"black\" points=\"640,-554.021 636.5,-544.021 633,-554.021 640,-554.021\"/>\r\n",
       "</g>\r\n",
       "<!-- 3 -->\r\n",
       "<g id=\"node4\" class=\"node\"><title>3</title>\r\n",
       "<path fill=\"#8139e5\" stroke=\"black\" d=\"M268,-417.5C268,-417.5 171,-417.5 171,-417.5 165,-417.5 159,-411.5 159,-405.5 159,-405.5 159,-361.5 159,-361.5 159,-355.5 165,-349.5 171,-349.5 171,-349.5 268,-349.5 268,-349.5 274,-349.5 280,-355.5 280,-361.5 280,-361.5 280,-405.5 280,-405.5 280,-411.5 274,-417.5 268,-417.5\"/>\r\n",
       "<text text-anchor=\"middle\" x=\"219.5\" y=\"-402.3\" font-family=\"Helvetica,sans-Serif\" font-size=\"14.00\">entropy = 0.0</text>\r\n",
       "<text text-anchor=\"middle\" x=\"219.5\" y=\"-387.3\" font-family=\"Helvetica,sans-Serif\" font-size=\"14.00\">samples = 24</text>\r\n",
       "<text text-anchor=\"middle\" x=\"219.5\" y=\"-372.3\" font-family=\"Helvetica,sans-Serif\" font-size=\"14.00\">value = [0, 0, 24]</text>\r\n",
       "<text text-anchor=\"middle\" x=\"219.5\" y=\"-357.3\" font-family=\"Helvetica,sans-Serif\" font-size=\"14.00\">class = 五粮液</text>\r\n",
       "</g>\r\n",
       "<!-- 2&#45;&gt;3 -->\r\n",
       "<g id=\"edge3\" class=\"edge\"><title>2&#45;&gt;3</title>\r\n",
       "<path fill=\"none\" stroke=\"black\" d=\"M312.887,-460.907C298.321,-448.99 282.415,-435.976 267.924,-424.12\"/>\r\n",
       "<polygon fill=\"black\" stroke=\"black\" points=\"269.993,-421.29 260.037,-417.667 265.561,-426.708 269.993,-421.29\"/>\r\n",
       "</g>\r\n",
       "<!-- 4 -->\r\n",
       "<g id=\"node5\" class=\"node\"><title>4</title>\r\n",
       "<path fill=\"#ede3fb\" stroke=\"black\" d=\"M414.5,-425C414.5,-425 310.5,-425 310.5,-425 304.5,-425 298.5,-419 298.5,-413 298.5,-413 298.5,-354 298.5,-354 298.5,-348 304.5,-342 310.5,-342 310.5,-342 414.5,-342 414.5,-342 420.5,-342 426.5,-348 426.5,-354 426.5,-354 426.5,-413 426.5,-413 426.5,-419 420.5,-425 414.5,-425\"/>\r\n",
       "<text text-anchor=\"middle\" x=\"362.5\" y=\"-409.8\" font-family=\"Helvetica,sans-Serif\" font-size=\"14.00\">颜色强度 &lt;= 5.183</text>\r\n",
       "<text text-anchor=\"middle\" x=\"362.5\" y=\"-394.8\" font-family=\"Helvetica,sans-Serif\" font-size=\"14.00\">entropy = 0.996</text>\r\n",
       "<text text-anchor=\"middle\" x=\"362.5\" y=\"-379.8\" font-family=\"Helvetica,sans-Serif\" font-size=\"14.00\">samples = 13</text>\r\n",
       "<text text-anchor=\"middle\" x=\"362.5\" y=\"-364.8\" font-family=\"Helvetica,sans-Serif\" font-size=\"14.00\">value = [0, 6, 7]</text>\r\n",
       "<text text-anchor=\"middle\" x=\"362.5\" y=\"-349.8\" font-family=\"Helvetica,sans-Serif\" font-size=\"14.00\">class = 五粮液</text>\r\n",
       "</g>\r\n",
       "<!-- 2&#45;&gt;4 -->\r\n",
       "<g id=\"edge4\" class=\"edge\"><title>2&#45;&gt;4</title>\r\n",
       "<path fill=\"none\" stroke=\"black\" d=\"M362.5,-460.907C362.5,-452.649 362.5,-443.864 362.5,-435.302\"/>\r\n",
       "<polygon fill=\"black\" stroke=\"black\" points=\"366,-435.021 362.5,-425.021 359,-435.021 366,-435.021\"/>\r\n",
       "</g>\r\n",
       "<!-- 5 -->\r\n",
       "<g id=\"node6\" class=\"node\"><title>5</title>\r\n",
       "<path fill=\"#61ea9a\" stroke=\"black\" d=\"M274,-306C274,-306 71,-306 71,-306 65,-306 59,-300 59,-294 59,-294 59,-235 59,-235 59,-229 65,-223 71,-223 71,-223 274,-223 274,-223 280,-223 286,-229 286,-235 286,-235 286,-294 286,-294 286,-300 280,-306 274,-306\"/>\r\n",
       "<text text-anchor=\"middle\" x=\"172.5\" y=\"-290.8\" font-family=\"Helvetica,sans-Serif\" font-size=\"14.00\">od280/od315稀释葡萄酒 &lt;= 1.557</text>\r\n",
       "<text text-anchor=\"middle\" x=\"172.5\" y=\"-275.8\" font-family=\"Helvetica,sans-Serif\" font-size=\"14.00\">entropy = 0.65</text>\r\n",
       "<text text-anchor=\"middle\" x=\"172.5\" y=\"-260.8\" font-family=\"Helvetica,sans-Serif\" font-size=\"14.00\">samples = 6</text>\r\n",
       "<text text-anchor=\"middle\" x=\"172.5\" y=\"-245.8\" font-family=\"Helvetica,sans-Serif\" font-size=\"14.00\">value = [0, 5, 1]</text>\r\n",
       "<text text-anchor=\"middle\" x=\"172.5\" y=\"-230.8\" font-family=\"Helvetica,sans-Serif\" font-size=\"14.00\">class = 茅台</text>\r\n",
       "</g>\r\n",
       "<!-- 4&#45;&gt;5 -->\r\n",
       "<g id=\"edge5\" class=\"edge\"><title>4&#45;&gt;5</title>\r\n",
       "<path fill=\"none\" stroke=\"black\" d=\"M298.44,-343.052C282.018,-332.94 264.212,-321.975 247.301,-311.562\"/>\r\n",
       "<polygon fill=\"black\" stroke=\"black\" points=\"248.902,-308.437 238.551,-306.174 245.231,-314.397 248.902,-308.437\"/>\r\n",
       "</g>\r\n",
       "<!-- 8 -->\r\n",
       "<g id=\"node9\" class=\"node\"><title>8</title>\r\n",
       "<path fill=\"#965ae9\" stroke=\"black\" d=\"M408.5,-306C408.5,-306 316.5,-306 316.5,-306 310.5,-306 304.5,-300 304.5,-294 304.5,-294 304.5,-235 304.5,-235 304.5,-229 310.5,-223 316.5,-223 316.5,-223 408.5,-223 408.5,-223 414.5,-223 420.5,-229 420.5,-235 420.5,-235 420.5,-294 420.5,-294 420.5,-300 414.5,-306 408.5,-306\"/>\r\n",
       "<text text-anchor=\"middle\" x=\"362.5\" y=\"-290.8\" font-family=\"Helvetica,sans-Serif\" font-size=\"14.00\">花青素 &lt;= 0.638</text>\r\n",
       "<text text-anchor=\"middle\" x=\"362.5\" y=\"-275.8\" font-family=\"Helvetica,sans-Serif\" font-size=\"14.00\">entropy = 0.592</text>\r\n",
       "<text text-anchor=\"middle\" x=\"362.5\" y=\"-260.8\" font-family=\"Helvetica,sans-Serif\" font-size=\"14.00\">samples = 7</text>\r\n",
       "<text text-anchor=\"middle\" x=\"362.5\" y=\"-245.8\" font-family=\"Helvetica,sans-Serif\" font-size=\"14.00\">value = [0, 1, 6]</text>\r\n",
       "<text text-anchor=\"middle\" x=\"362.5\" y=\"-230.8\" font-family=\"Helvetica,sans-Serif\" font-size=\"14.00\">class = 五粮液</text>\r\n",
       "</g>\r\n",
       "<!-- 4&#45;&gt;8 -->\r\n",
       "<g id=\"edge8\" class=\"edge\"><title>4&#45;&gt;8</title>\r\n",
       "<path fill=\"none\" stroke=\"black\" d=\"M362.5,-341.907C362.5,-333.649 362.5,-324.864 362.5,-316.302\"/>\r\n",
       "<polygon fill=\"black\" stroke=\"black\" points=\"366,-316.021 362.5,-306.021 359,-316.021 366,-316.021\"/>\r\n",
       "</g>\r\n",
       "<!-- 6 -->\r\n",
       "<g id=\"node7\" class=\"node\"><title>6</title>\r\n",
       "<path fill=\"#8139e5\" stroke=\"black\" d=\"M101,-179.5C101,-179.5 12,-179.5 12,-179.5 6,-179.5 0,-173.5 0,-167.5 0,-167.5 0,-123.5 0,-123.5 0,-117.5 6,-111.5 12,-111.5 12,-111.5 101,-111.5 101,-111.5 107,-111.5 113,-117.5 113,-123.5 113,-123.5 113,-167.5 113,-167.5 113,-173.5 107,-179.5 101,-179.5\"/>\r\n",
       "<text text-anchor=\"middle\" x=\"56.5\" y=\"-164.3\" font-family=\"Helvetica,sans-Serif\" font-size=\"14.00\">entropy = 0.0</text>\r\n",
       "<text text-anchor=\"middle\" x=\"56.5\" y=\"-149.3\" font-family=\"Helvetica,sans-Serif\" font-size=\"14.00\">samples = 1</text>\r\n",
       "<text text-anchor=\"middle\" x=\"56.5\" y=\"-134.3\" font-family=\"Helvetica,sans-Serif\" font-size=\"14.00\">value = [0, 0, 1]</text>\r\n",
       "<text text-anchor=\"middle\" x=\"56.5\" y=\"-119.3\" font-family=\"Helvetica,sans-Serif\" font-size=\"14.00\">class = 五粮液</text>\r\n",
       "</g>\r\n",
       "<!-- 5&#45;&gt;6 -->\r\n",
       "<g id=\"edge6\" class=\"edge\"><title>5&#45;&gt;6</title>\r\n",
       "<path fill=\"none\" stroke=\"black\" d=\"M132.254,-222.907C120.658,-211.211 108.013,-198.457 96.4355,-186.78\"/>\r\n",
       "<polygon fill=\"black\" stroke=\"black\" points=\"98.9096,-184.304 89.3835,-179.667 93.9387,-189.233 98.9096,-184.304\"/>\r\n",
       "</g>\r\n",
       "<!-- 7 -->\r\n",
       "<g id=\"node8\" class=\"node\"><title>7</title>\r\n",
       "<path fill=\"#39e581\" stroke=\"black\" d=\"M232,-179.5C232,-179.5 143,-179.5 143,-179.5 137,-179.5 131,-173.5 131,-167.5 131,-167.5 131,-123.5 131,-123.5 131,-117.5 137,-111.5 143,-111.5 143,-111.5 232,-111.5 232,-111.5 238,-111.5 244,-117.5 244,-123.5 244,-123.5 244,-167.5 244,-167.5 244,-173.5 238,-179.5 232,-179.5\"/>\r\n",
       "<text text-anchor=\"middle\" x=\"187.5\" y=\"-164.3\" font-family=\"Helvetica,sans-Serif\" font-size=\"14.00\">entropy = 0.0</text>\r\n",
       "<text text-anchor=\"middle\" x=\"187.5\" y=\"-149.3\" font-family=\"Helvetica,sans-Serif\" font-size=\"14.00\">samples = 5</text>\r\n",
       "<text text-anchor=\"middle\" x=\"187.5\" y=\"-134.3\" font-family=\"Helvetica,sans-Serif\" font-size=\"14.00\">value = [0, 5, 0]</text>\r\n",
       "<text text-anchor=\"middle\" x=\"187.5\" y=\"-119.3\" font-family=\"Helvetica,sans-Serif\" font-size=\"14.00\">class = 茅台</text>\r\n",
       "</g>\r\n",
       "<!-- 5&#45;&gt;7 -->\r\n",
       "<g id=\"edge7\" class=\"edge\"><title>5&#45;&gt;7</title>\r\n",
       "<path fill=\"none\" stroke=\"black\" d=\"M177.704,-222.907C179.076,-212.204 180.562,-200.615 181.952,-189.776\"/>\r\n",
       "<polygon fill=\"black\" stroke=\"black\" points=\"185.448,-190.031 183.248,-179.667 178.505,-189.141 185.448,-190.031\"/>\r\n",
       "</g>\r\n",
       "<!-- 9 -->\r\n",
       "<g id=\"node10\" class=\"node\"><title>9</title>\r\n",
       "<path fill=\"#39e581\" stroke=\"black\" d=\"M378,-179.5C378,-179.5 289,-179.5 289,-179.5 283,-179.5 277,-173.5 277,-167.5 277,-167.5 277,-123.5 277,-123.5 277,-117.5 283,-111.5 289,-111.5 289,-111.5 378,-111.5 378,-111.5 384,-111.5 390,-117.5 390,-123.5 390,-123.5 390,-167.5 390,-167.5 390,-173.5 384,-179.5 378,-179.5\"/>\r\n",
       "<text text-anchor=\"middle\" x=\"333.5\" y=\"-164.3\" font-family=\"Helvetica,sans-Serif\" font-size=\"14.00\">entropy = 0.0</text>\r\n",
       "<text text-anchor=\"middle\" x=\"333.5\" y=\"-149.3\" font-family=\"Helvetica,sans-Serif\" font-size=\"14.00\">samples = 1</text>\r\n",
       "<text text-anchor=\"middle\" x=\"333.5\" y=\"-134.3\" font-family=\"Helvetica,sans-Serif\" font-size=\"14.00\">value = [0, 1, 0]</text>\r\n",
       "<text text-anchor=\"middle\" x=\"333.5\" y=\"-119.3\" font-family=\"Helvetica,sans-Serif\" font-size=\"14.00\">class = 茅台</text>\r\n",
       "</g>\r\n",
       "<!-- 8&#45;&gt;9 -->\r\n",
       "<g id=\"edge9\" class=\"edge\"><title>8&#45;&gt;9</title>\r\n",
       "<path fill=\"none\" stroke=\"black\" d=\"M352.439,-222.907C349.758,-212.094 346.854,-200.376 344.144,-189.441\"/>\r\n",
       "<polygon fill=\"black\" stroke=\"black\" points=\"347.524,-188.531 341.721,-179.667 340.73,-190.215 347.524,-188.531\"/>\r\n",
       "</g>\r\n",
       "<!-- 10 -->\r\n",
       "<g id=\"node11\" class=\"node\"><title>10</title>\r\n",
       "<path fill=\"#8139e5\" stroke=\"black\" d=\"M509,-179.5C509,-179.5 420,-179.5 420,-179.5 414,-179.5 408,-173.5 408,-167.5 408,-167.5 408,-123.5 408,-123.5 408,-117.5 414,-111.5 420,-111.5 420,-111.5 509,-111.5 509,-111.5 515,-111.5 521,-117.5 521,-123.5 521,-123.5 521,-167.5 521,-167.5 521,-173.5 515,-179.5 509,-179.5\"/>\r\n",
       "<text text-anchor=\"middle\" x=\"464.5\" y=\"-164.3\" font-family=\"Helvetica,sans-Serif\" font-size=\"14.00\">entropy = 0.0</text>\r\n",
       "<text text-anchor=\"middle\" x=\"464.5\" y=\"-149.3\" font-family=\"Helvetica,sans-Serif\" font-size=\"14.00\">samples = 6</text>\r\n",
       "<text text-anchor=\"middle\" x=\"464.5\" y=\"-134.3\" font-family=\"Helvetica,sans-Serif\" font-size=\"14.00\">value = [0, 0, 6]</text>\r\n",
       "<text text-anchor=\"middle\" x=\"464.5\" y=\"-119.3\" font-family=\"Helvetica,sans-Serif\" font-size=\"14.00\">class = 五粮液</text>\r\n",
       "</g>\r\n",
       "<!-- 8&#45;&gt;10 -->\r\n",
       "<g id=\"edge10\" class=\"edge\"><title>8&#45;&gt;10</title>\r\n",
       "<path fill=\"none\" stroke=\"black\" d=\"M397.888,-222.907C407.893,-211.432 418.785,-198.938 428.807,-187.442\"/>\r\n",
       "<polygon fill=\"black\" stroke=\"black\" points=\"431.652,-189.505 435.585,-179.667 426.376,-184.905 431.652,-189.505\"/>\r\n",
       "</g>\r\n",
       "<!-- 12 -->\r\n",
       "<g id=\"node13\" class=\"node\"><title>12</title>\r\n",
       "<path fill=\"#c09cf2\" stroke=\"black\" d=\"M617.5,-425C617.5,-425 513.5,-425 513.5,-425 507.5,-425 501.5,-419 501.5,-413 501.5,-413 501.5,-354 501.5,-354 501.5,-348 507.5,-342 513.5,-342 513.5,-342 617.5,-342 617.5,-342 623.5,-342 629.5,-348 629.5,-354 629.5,-354 629.5,-413 629.5,-413 629.5,-419 623.5,-425 617.5,-425\"/>\r\n",
       "<text text-anchor=\"middle\" x=\"565.5\" y=\"-409.8\" font-family=\"Helvetica,sans-Serif\" font-size=\"14.00\">颜色强度 &lt;= 2.748</text>\r\n",
       "<text text-anchor=\"middle\" x=\"565.5\" y=\"-394.8\" font-family=\"Helvetica,sans-Serif\" font-size=\"14.00\">entropy = 0.918</text>\r\n",
       "<text text-anchor=\"middle\" x=\"565.5\" y=\"-379.8\" font-family=\"Helvetica,sans-Serif\" font-size=\"14.00\">samples = 3</text>\r\n",
       "<text text-anchor=\"middle\" x=\"565.5\" y=\"-364.8\" font-family=\"Helvetica,sans-Serif\" font-size=\"14.00\">value = [0, 1, 2]</text>\r\n",
       "<text text-anchor=\"middle\" x=\"565.5\" y=\"-349.8\" font-family=\"Helvetica,sans-Serif\" font-size=\"14.00\">class = 五粮液</text>\r\n",
       "</g>\r\n",
       "<!-- 11&#45;&gt;12 -->\r\n",
       "<g id=\"edge12\" class=\"edge\"><title>11&#45;&gt;12</title>\r\n",
       "<path fill=\"none\" stroke=\"black\" d=\"M611.867,-460.907C606.525,-452.105 600.82,-442.703 595.303,-433.612\"/>\r\n",
       "<polygon fill=\"black\" stroke=\"black\" points=\"598.27,-431.754 590.09,-425.021 592.285,-435.386 598.27,-431.754\"/>\r\n",
       "</g>\r\n",
       "<!-- 15 -->\r\n",
       "<g id=\"node16\" class=\"node\"><title>15</title>\r\n",
       "<path fill=\"#39e581\" stroke=\"black\" d=\"M757,-417.5C757,-417.5 660,-417.5 660,-417.5 654,-417.5 648,-411.5 648,-405.5 648,-405.5 648,-361.5 648,-361.5 648,-355.5 654,-349.5 660,-349.5 660,-349.5 757,-349.5 757,-349.5 763,-349.5 769,-355.5 769,-361.5 769,-361.5 769,-405.5 769,-405.5 769,-411.5 763,-417.5 757,-417.5\"/>\r\n",
       "<text text-anchor=\"middle\" x=\"708.5\" y=\"-402.3\" font-family=\"Helvetica,sans-Serif\" font-size=\"14.00\">entropy = 0.0</text>\r\n",
       "<text text-anchor=\"middle\" x=\"708.5\" y=\"-387.3\" font-family=\"Helvetica,sans-Serif\" font-size=\"14.00\">samples = 22</text>\r\n",
       "<text text-anchor=\"middle\" x=\"708.5\" y=\"-372.3\" font-family=\"Helvetica,sans-Serif\" font-size=\"14.00\">value = [0, 22, 0]</text>\r\n",
       "<text text-anchor=\"middle\" x=\"708.5\" y=\"-357.3\" font-family=\"Helvetica,sans-Serif\" font-size=\"14.00\">class = 茅台</text>\r\n",
       "</g>\r\n",
       "<!-- 11&#45;&gt;15 -->\r\n",
       "<g id=\"edge15\" class=\"edge\"><title>11&#45;&gt;15</title>\r\n",
       "<path fill=\"none\" stroke=\"black\" d=\"M661.48,-460.907C668.338,-449.763 675.787,-437.658 682.691,-426.439\"/>\r\n",
       "<polygon fill=\"black\" stroke=\"black\" points=\"685.829,-428.018 688.09,-417.667 679.868,-424.349 685.829,-428.018\"/>\r\n",
       "</g>\r\n",
       "<!-- 13 -->\r\n",
       "<g id=\"node14\" class=\"node\"><title>13</title>\r\n",
       "<path fill=\"#39e581\" stroke=\"black\" d=\"M540,-298.5C540,-298.5 451,-298.5 451,-298.5 445,-298.5 439,-292.5 439,-286.5 439,-286.5 439,-242.5 439,-242.5 439,-236.5 445,-230.5 451,-230.5 451,-230.5 540,-230.5 540,-230.5 546,-230.5 552,-236.5 552,-242.5 552,-242.5 552,-286.5 552,-286.5 552,-292.5 546,-298.5 540,-298.5\"/>\r\n",
       "<text text-anchor=\"middle\" x=\"495.5\" y=\"-283.3\" font-family=\"Helvetica,sans-Serif\" font-size=\"14.00\">entropy = 0.0</text>\r\n",
       "<text text-anchor=\"middle\" x=\"495.5\" y=\"-268.3\" font-family=\"Helvetica,sans-Serif\" font-size=\"14.00\">samples = 1</text>\r\n",
       "<text text-anchor=\"middle\" x=\"495.5\" y=\"-253.3\" font-family=\"Helvetica,sans-Serif\" font-size=\"14.00\">value = [0, 1, 0]</text>\r\n",
       "<text text-anchor=\"middle\" x=\"495.5\" y=\"-238.3\" font-family=\"Helvetica,sans-Serif\" font-size=\"14.00\">class = 茅台</text>\r\n",
       "</g>\r\n",
       "<!-- 12&#45;&gt;13 -->\r\n",
       "<g id=\"edge13\" class=\"edge\"><title>12&#45;&gt;13</title>\r\n",
       "<path fill=\"none\" stroke=\"black\" d=\"M541.214,-341.907C534.546,-330.763 527.304,-318.658 520.592,-307.439\"/>\r\n",
       "<polygon fill=\"black\" stroke=\"black\" points=\"523.481,-305.451 515.343,-298.667 517.474,-309.045 523.481,-305.451\"/>\r\n",
       "</g>\r\n",
       "<!-- 14 -->\r\n",
       "<g id=\"node15\" class=\"node\"><title>14</title>\r\n",
       "<path fill=\"#8139e5\" stroke=\"black\" d=\"M671,-298.5C671,-298.5 582,-298.5 582,-298.5 576,-298.5 570,-292.5 570,-286.5 570,-286.5 570,-242.5 570,-242.5 570,-236.5 576,-230.5 582,-230.5 582,-230.5 671,-230.5 671,-230.5 677,-230.5 683,-236.5 683,-242.5 683,-242.5 683,-286.5 683,-286.5 683,-292.5 677,-298.5 671,-298.5\"/>\r\n",
       "<text text-anchor=\"middle\" x=\"626.5\" y=\"-283.3\" font-family=\"Helvetica,sans-Serif\" font-size=\"14.00\">entropy = 0.0</text>\r\n",
       "<text text-anchor=\"middle\" x=\"626.5\" y=\"-268.3\" font-family=\"Helvetica,sans-Serif\" font-size=\"14.00\">samples = 2</text>\r\n",
       "<text text-anchor=\"middle\" x=\"626.5\" y=\"-253.3\" font-family=\"Helvetica,sans-Serif\" font-size=\"14.00\">value = [0, 0, 2]</text>\r\n",
       "<text text-anchor=\"middle\" x=\"626.5\" y=\"-238.3\" font-family=\"Helvetica,sans-Serif\" font-size=\"14.00\">class = 五粮液</text>\r\n",
       "</g>\r\n",
       "<!-- 12&#45;&gt;14 -->\r\n",
       "<g id=\"edge14\" class=\"edge\"><title>12&#45;&gt;14</title>\r\n",
       "<path fill=\"none\" stroke=\"black\" d=\"M586.664,-341.907C592.417,-330.873 598.66,-318.898 604.46,-307.773\"/>\r\n",
       "<polygon fill=\"black\" stroke=\"black\" points=\"607.688,-309.152 609.208,-298.667 601.481,-305.916 607.688,-309.152\"/>\r\n",
       "</g>\r\n",
       "<!-- 17 -->\r\n",
       "<g id=\"node18\" class=\"node\"><title>17</title>\r\n",
       "<path fill=\"#52e891\" stroke=\"black\" d=\"M1026.5,-544C1026.5,-544 926.5,-544 926.5,-544 920.5,-544 914.5,-538 914.5,-532 914.5,-532 914.5,-473 914.5,-473 914.5,-467 920.5,-461 926.5,-461 926.5,-461 1026.5,-461 1026.5,-461 1032.5,-461 1038.5,-467 1038.5,-473 1038.5,-473 1038.5,-532 1038.5,-532 1038.5,-538 1032.5,-544 1026.5,-544\"/>\r\n",
       "<text text-anchor=\"middle\" x=\"976.5\" y=\"-528.8\" font-family=\"Helvetica,sans-Serif\" font-size=\"14.00\">脯氨酸 &lt;= 782.77</text>\r\n",
       "<text text-anchor=\"middle\" x=\"976.5\" y=\"-513.8\" font-family=\"Helvetica,sans-Serif\" font-size=\"14.00\">entropy = 0.503</text>\r\n",
       "<text text-anchor=\"middle\" x=\"976.5\" y=\"-498.8\" font-family=\"Helvetica,sans-Serif\" font-size=\"14.00\">samples = 27</text>\r\n",
       "<text text-anchor=\"middle\" x=\"976.5\" y=\"-483.8\" font-family=\"Helvetica,sans-Serif\" font-size=\"14.00\">value = [3, 24, 0]</text>\r\n",
       "<text text-anchor=\"middle\" x=\"976.5\" y=\"-468.8\" font-family=\"Helvetica,sans-Serif\" font-size=\"14.00\">class = 茅台</text>\r\n",
       "</g>\r\n",
       "<!-- 16&#45;&gt;17 -->\r\n",
       "<g id=\"edge17\" class=\"edge\"><title>16&#45;&gt;17</title>\r\n",
       "<path fill=\"none\" stroke=\"black\" d=\"M976.5,-579.907C976.5,-571.649 976.5,-562.864 976.5,-554.302\"/>\r\n",
       "<polygon fill=\"black\" stroke=\"black\" points=\"980,-554.021 976.5,-544.021 973,-554.021 980,-554.021\"/>\r\n",
       "</g>\r\n",
       "<!-- 30 -->\r\n",
       "<g id=\"node31\" class=\"node\"><title>30</title>\r\n",
       "<path fill=\"#e6853f\" stroke=\"black\" d=\"M1237,-544C1237,-544 1140,-544 1140,-544 1134,-544 1128,-538 1128,-532 1128,-532 1128,-473 1128,-473 1128,-467 1134,-461 1140,-461 1140,-461 1237,-461 1237,-461 1243,-461 1249,-467 1249,-473 1249,-473 1249,-532 1249,-532 1249,-538 1243,-544 1237,-544\"/>\r\n",
       "<text text-anchor=\"middle\" x=\"1188.5\" y=\"-528.8\" font-family=\"Helvetica,sans-Serif\" font-size=\"14.00\">灰 &lt;= 1.911</text>\r\n",
       "<text text-anchor=\"middle\" x=\"1188.5\" y=\"-513.8\" font-family=\"Helvetica,sans-Serif\" font-size=\"14.00\">entropy = 0.187</text>\r\n",
       "<text text-anchor=\"middle\" x=\"1188.5\" y=\"-498.8\" font-family=\"Helvetica,sans-Serif\" font-size=\"14.00\">samples = 35</text>\r\n",
       "<text text-anchor=\"middle\" x=\"1188.5\" y=\"-483.8\" font-family=\"Helvetica,sans-Serif\" font-size=\"14.00\">value = [34, 1, 0]</text>\r\n",
       "<text text-anchor=\"middle\" x=\"1188.5\" y=\"-468.8\" font-family=\"Helvetica,sans-Serif\" font-size=\"14.00\">class = 清酒</text>\r\n",
       "</g>\r\n",
       "<!-- 16&#45;&gt;30 -->\r\n",
       "<g id=\"edge30\" class=\"edge\"><title>16&#45;&gt;30</title>\r\n",
       "<path fill=\"none\" stroke=\"black\" d=\"M1041.26,-584.76C1065.77,-571.234 1093.76,-555.784 1118.72,-542.013\"/>\r\n",
       "<polygon fill=\"black\" stroke=\"black\" points=\"1120.69,-544.919 1127.76,-537.023 1117.31,-538.79 1120.69,-544.919\"/>\r\n",
       "</g>\r\n",
       "<!-- 18 -->\r\n",
       "<g id=\"node19\" class=\"node\"><title>18</title>\r\n",
       "<path fill=\"#42e687\" stroke=\"black\" d=\"M956.5,-425C956.5,-425 856.5,-425 856.5,-425 850.5,-425 844.5,-419 844.5,-413 844.5,-413 844.5,-354 844.5,-354 844.5,-348 850.5,-342 856.5,-342 856.5,-342 956.5,-342 956.5,-342 962.5,-342 968.5,-348 968.5,-354 968.5,-354 968.5,-413 968.5,-413 968.5,-419 962.5,-425 956.5,-425\"/>\r\n",
       "<text text-anchor=\"middle\" x=\"906.5\" y=\"-409.8\" font-family=\"Helvetica,sans-Serif\" font-size=\"14.00\">脯氨酸 &lt;= 581.92</text>\r\n",
       "<text text-anchor=\"middle\" x=\"906.5\" y=\"-394.8\" font-family=\"Helvetica,sans-Serif\" font-size=\"14.00\">entropy = 0.267</text>\r\n",
       "<text text-anchor=\"middle\" x=\"906.5\" y=\"-379.8\" font-family=\"Helvetica,sans-Serif\" font-size=\"14.00\">samples = 22</text>\r\n",
       "<text text-anchor=\"middle\" x=\"906.5\" y=\"-364.8\" font-family=\"Helvetica,sans-Serif\" font-size=\"14.00\">value = [1, 21, 0]</text>\r\n",
       "<text text-anchor=\"middle\" x=\"906.5\" y=\"-349.8\" font-family=\"Helvetica,sans-Serif\" font-size=\"14.00\">class = 茅台</text>\r\n",
       "</g>\r\n",
       "<!-- 17&#45;&gt;18 -->\r\n",
       "<g id=\"edge18\" class=\"edge\"><title>17&#45;&gt;18</title>\r\n",
       "<path fill=\"none\" stroke=\"black\" d=\"M952.214,-460.907C946.947,-452.105 941.322,-442.703 935.883,-433.612\"/>\r\n",
       "<polygon fill=\"black\" stroke=\"black\" points=\"938.881,-431.805 930.743,-425.021 932.874,-435.399 938.881,-431.805\"/>\r\n",
       "</g>\r\n",
       "<!-- 25 -->\r\n",
       "<g id=\"node26\" class=\"node\"><title>25</title>\r\n",
       "<path fill=\"#bdf6d5\" stroke=\"black\" d=\"M1101.5,-425C1101.5,-425 1009.5,-425 1009.5,-425 1003.5,-425 997.5,-419 997.5,-413 997.5,-413 997.5,-354 997.5,-354 997.5,-348 1003.5,-342 1009.5,-342 1009.5,-342 1101.5,-342 1101.5,-342 1107.5,-342 1113.5,-348 1113.5,-354 1113.5,-354 1113.5,-413 1113.5,-413 1113.5,-419 1107.5,-425 1101.5,-425\"/>\r\n",
       "<text text-anchor=\"middle\" x=\"1055.5\" y=\"-409.8\" font-family=\"Helvetica,sans-Serif\" font-size=\"14.00\">镁 &lt;= 111.307</text>\r\n",
       "<text text-anchor=\"middle\" x=\"1055.5\" y=\"-394.8\" font-family=\"Helvetica,sans-Serif\" font-size=\"14.00\">entropy = 0.971</text>\r\n",
       "<text text-anchor=\"middle\" x=\"1055.5\" y=\"-379.8\" font-family=\"Helvetica,sans-Serif\" font-size=\"14.00\">samples = 5</text>\r\n",
       "<text text-anchor=\"middle\" x=\"1055.5\" y=\"-364.8\" font-family=\"Helvetica,sans-Serif\" font-size=\"14.00\">value = [2, 3, 0]</text>\r\n",
       "<text text-anchor=\"middle\" x=\"1055.5\" y=\"-349.8\" font-family=\"Helvetica,sans-Serif\" font-size=\"14.00\">class = 茅台</text>\r\n",
       "</g>\r\n",
       "<!-- 17&#45;&gt;25 -->\r\n",
       "<g id=\"edge25\" class=\"edge\"><title>17&#45;&gt;25</title>\r\n",
       "<path fill=\"none\" stroke=\"black\" d=\"M1003.91,-460.907C1009.91,-452.014 1016.33,-442.509 1022.53,-433.331\"/>\r\n",
       "<polygon fill=\"black\" stroke=\"black\" points=\"1025.44,-435.267 1028.14,-425.021 1019.64,-431.35 1025.44,-435.267\"/>\r\n",
       "</g>\r\n",
       "<!-- 19 -->\r\n",
       "<g id=\"node20\" class=\"node\"><title>19</title>\r\n",
       "<path fill=\"#39e581\" stroke=\"black\" d=\"M810,-298.5C810,-298.5 713,-298.5 713,-298.5 707,-298.5 701,-292.5 701,-286.5 701,-286.5 701,-242.5 701,-242.5 701,-236.5 707,-230.5 713,-230.5 713,-230.5 810,-230.5 810,-230.5 816,-230.5 822,-236.5 822,-242.5 822,-242.5 822,-286.5 822,-286.5 822,-292.5 816,-298.5 810,-298.5\"/>\r\n",
       "<text text-anchor=\"middle\" x=\"761.5\" y=\"-283.3\" font-family=\"Helvetica,sans-Serif\" font-size=\"14.00\">entropy = 0.0</text>\r\n",
       "<text text-anchor=\"middle\" x=\"761.5\" y=\"-268.3\" font-family=\"Helvetica,sans-Serif\" font-size=\"14.00\">samples = 16</text>\r\n",
       "<text text-anchor=\"middle\" x=\"761.5\" y=\"-253.3\" font-family=\"Helvetica,sans-Serif\" font-size=\"14.00\">value = [0, 16, 0]</text>\r\n",
       "<text text-anchor=\"middle\" x=\"761.5\" y=\"-238.3\" font-family=\"Helvetica,sans-Serif\" font-size=\"14.00\">class = 茅台</text>\r\n",
       "</g>\r\n",
       "<!-- 18&#45;&gt;19 -->\r\n",
       "<g id=\"edge19\" class=\"edge\"><title>18&#45;&gt;19</title>\r\n",
       "<path fill=\"none\" stroke=\"black\" d=\"M856.193,-341.907C841.424,-329.99 825.295,-316.976 810.602,-305.12\"/>\r\n",
       "<polygon fill=\"black\" stroke=\"black\" points=\"812.585,-302.223 802.604,-298.667 808.189,-307.67 812.585,-302.223\"/>\r\n",
       "</g>\r\n",
       "<!-- 20 -->\r\n",
       "<g id=\"node21\" class=\"node\"><title>20</title>\r\n",
       "<path fill=\"#61ea9a\" stroke=\"black\" d=\"M960.5,-306C960.5,-306 852.5,-306 852.5,-306 846.5,-306 840.5,-300 840.5,-294 840.5,-294 840.5,-235 840.5,-235 840.5,-229 846.5,-223 852.5,-223 852.5,-223 960.5,-223 960.5,-223 966.5,-223 972.5,-229 972.5,-235 972.5,-235 972.5,-294 972.5,-294 972.5,-300 966.5,-306 960.5,-306\"/>\r\n",
       "<text text-anchor=\"middle\" x=\"906.5\" y=\"-290.8\" font-family=\"Helvetica,sans-Serif\" font-size=\"14.00\">脯氨酸 &lt;= 687.036</text>\r\n",
       "<text text-anchor=\"middle\" x=\"906.5\" y=\"-275.8\" font-family=\"Helvetica,sans-Serif\" font-size=\"14.00\">entropy = 0.65</text>\r\n",
       "<text text-anchor=\"middle\" x=\"906.5\" y=\"-260.8\" font-family=\"Helvetica,sans-Serif\" font-size=\"14.00\">samples = 6</text>\r\n",
       "<text text-anchor=\"middle\" x=\"906.5\" y=\"-245.8\" font-family=\"Helvetica,sans-Serif\" font-size=\"14.00\">value = [1, 5, 0]</text>\r\n",
       "<text text-anchor=\"middle\" x=\"906.5\" y=\"-230.8\" font-family=\"Helvetica,sans-Serif\" font-size=\"14.00\">class = 茅台</text>\r\n",
       "</g>\r\n",
       "<!-- 18&#45;&gt;20 -->\r\n",
       "<g id=\"edge20\" class=\"edge\"><title>18&#45;&gt;20</title>\r\n",
       "<path fill=\"none\" stroke=\"black\" d=\"M906.5,-341.907C906.5,-333.649 906.5,-324.864 906.5,-316.302\"/>\r\n",
       "<polygon fill=\"black\" stroke=\"black\" points=\"910,-316.021 906.5,-306.021 903,-316.021 910,-316.021\"/>\r\n",
       "</g>\r\n",
       "<!-- 21 -->\r\n",
       "<g id=\"node22\" class=\"node\"><title>21</title>\r\n",
       "<path fill=\"#39e581\" stroke=\"black\" d=\"M827,-179.5C827,-179.5 738,-179.5 738,-179.5 732,-179.5 726,-173.5 726,-167.5 726,-167.5 726,-123.5 726,-123.5 726,-117.5 732,-111.5 738,-111.5 738,-111.5 827,-111.5 827,-111.5 833,-111.5 839,-117.5 839,-123.5 839,-123.5 839,-167.5 839,-167.5 839,-173.5 833,-179.5 827,-179.5\"/>\r\n",
       "<text text-anchor=\"middle\" x=\"782.5\" y=\"-164.3\" font-family=\"Helvetica,sans-Serif\" font-size=\"14.00\">entropy = 0.0</text>\r\n",
       "<text text-anchor=\"middle\" x=\"782.5\" y=\"-149.3\" font-family=\"Helvetica,sans-Serif\" font-size=\"14.00\">samples = 4</text>\r\n",
       "<text text-anchor=\"middle\" x=\"782.5\" y=\"-134.3\" font-family=\"Helvetica,sans-Serif\" font-size=\"14.00\">value = [0, 4, 0]</text>\r\n",
       "<text text-anchor=\"middle\" x=\"782.5\" y=\"-119.3\" font-family=\"Helvetica,sans-Serif\" font-size=\"14.00\">class = 茅台</text>\r\n",
       "</g>\r\n",
       "<!-- 20&#45;&gt;21 -->\r\n",
       "<g id=\"edge21\" class=\"edge\"><title>20&#45;&gt;21</title>\r\n",
       "<path fill=\"none\" stroke=\"black\" d=\"M863.479,-222.907C851.082,-211.211 837.566,-198.457 825.19,-186.78\"/>\r\n",
       "<polygon fill=\"black\" stroke=\"black\" points=\"827.327,-183.984 817.651,-179.667 822.523,-189.075 827.327,-183.984\"/>\r\n",
       "</g>\r\n",
       "<!-- 22 -->\r\n",
       "<g id=\"node23\" class=\"node\"><title>22</title>\r\n",
       "<path fill=\"#ffffff\" stroke=\"black\" d=\"M958,-187C958,-187 869,-187 869,-187 863,-187 857,-181 857,-175 857,-175 857,-116 857,-116 857,-110 863,-104 869,-104 869,-104 958,-104 958,-104 964,-104 970,-110 970,-116 970,-116 970,-175 970,-175 970,-181 964,-187 958,-187\"/>\r\n",
       "<text text-anchor=\"middle\" x=\"913.5\" y=\"-171.8\" font-family=\"Helvetica,sans-Serif\" font-size=\"14.00\">镁 &lt;= 99.386</text>\r\n",
       "<text text-anchor=\"middle\" x=\"913.5\" y=\"-156.8\" font-family=\"Helvetica,sans-Serif\" font-size=\"14.00\">entropy = 1.0</text>\r\n",
       "<text text-anchor=\"middle\" x=\"913.5\" y=\"-141.8\" font-family=\"Helvetica,sans-Serif\" font-size=\"14.00\">samples = 2</text>\r\n",
       "<text text-anchor=\"middle\" x=\"913.5\" y=\"-126.8\" font-family=\"Helvetica,sans-Serif\" font-size=\"14.00\">value = [1, 1, 0]</text>\r\n",
       "<text text-anchor=\"middle\" x=\"913.5\" y=\"-111.8\" font-family=\"Helvetica,sans-Serif\" font-size=\"14.00\">class = 清酒</text>\r\n",
       "</g>\r\n",
       "<!-- 20&#45;&gt;22 -->\r\n",
       "<g id=\"edge22\" class=\"edge\"><title>20&#45;&gt;22</title>\r\n",
       "<path fill=\"none\" stroke=\"black\" d=\"M908.929,-222.907C909.428,-214.558 909.96,-205.671 910.477,-197.02\"/>\r\n",
       "<polygon fill=\"black\" stroke=\"black\" points=\"913.972,-197.212 911.076,-187.021 906.985,-196.794 913.972,-197.212\"/>\r\n",
       "</g>\r\n",
       "<!-- 23 -->\r\n",
       "<g id=\"node24\" class=\"node\"><title>23</title>\r\n",
       "<path fill=\"#39e581\" stroke=\"black\" d=\"M892,-68C892,-68 803,-68 803,-68 797,-68 791,-62 791,-56 791,-56 791,-12 791,-12 791,-6 797,-0 803,-0 803,-0 892,-0 892,-0 898,-0 904,-6 904,-12 904,-12 904,-56 904,-56 904,-62 898,-68 892,-68\"/>\r\n",
       "<text text-anchor=\"middle\" x=\"847.5\" y=\"-52.8\" font-family=\"Helvetica,sans-Serif\" font-size=\"14.00\">entropy = 0.0</text>\r\n",
       "<text text-anchor=\"middle\" x=\"847.5\" y=\"-37.8\" font-family=\"Helvetica,sans-Serif\" font-size=\"14.00\">samples = 1</text>\r\n",
       "<text text-anchor=\"middle\" x=\"847.5\" y=\"-22.8\" font-family=\"Helvetica,sans-Serif\" font-size=\"14.00\">value = [0, 1, 0]</text>\r\n",
       "<text text-anchor=\"middle\" x=\"847.5\" y=\"-7.8\" font-family=\"Helvetica,sans-Serif\" font-size=\"14.00\">class = 茅台</text>\r\n",
       "</g>\r\n",
       "<!-- 22&#45;&gt;23 -->\r\n",
       "<g id=\"edge23\" class=\"edge\"><title>22&#45;&gt;23</title>\r\n",
       "<path fill=\"none\" stroke=\"black\" d=\"M888.924,-103.726C883.646,-94.9703 878.061,-85.7032 872.758,-76.9051\"/>\r\n",
       "<polygon fill=\"black\" stroke=\"black\" points=\"875.731,-75.0574 867.571,-68.2996 869.736,-78.671 875.731,-75.0574\"/>\r\n",
       "</g>\r\n",
       "<!-- 24 -->\r\n",
       "<g id=\"node25\" class=\"node\"><title>24</title>\r\n",
       "<path fill=\"#e58139\" stroke=\"black\" d=\"M1023,-68C1023,-68 934,-68 934,-68 928,-68 922,-62 922,-56 922,-56 922,-12 922,-12 922,-6 928,-0 934,-0 934,-0 1023,-0 1023,-0 1029,-0 1035,-6 1035,-12 1035,-12 1035,-56 1035,-56 1035,-62 1029,-68 1023,-68\"/>\r\n",
       "<text text-anchor=\"middle\" x=\"978.5\" y=\"-52.8\" font-family=\"Helvetica,sans-Serif\" font-size=\"14.00\">entropy = 0.0</text>\r\n",
       "<text text-anchor=\"middle\" x=\"978.5\" y=\"-37.8\" font-family=\"Helvetica,sans-Serif\" font-size=\"14.00\">samples = 1</text>\r\n",
       "<text text-anchor=\"middle\" x=\"978.5\" y=\"-22.8\" font-family=\"Helvetica,sans-Serif\" font-size=\"14.00\">value = [1, 0, 0]</text>\r\n",
       "<text text-anchor=\"middle\" x=\"978.5\" y=\"-7.8\" font-family=\"Helvetica,sans-Serif\" font-size=\"14.00\">class = 清酒</text>\r\n",
       "</g>\r\n",
       "<!-- 22&#45;&gt;24 -->\r\n",
       "<g id=\"edge24\" class=\"edge\"><title>22&#45;&gt;24</title>\r\n",
       "<path fill=\"none\" stroke=\"black\" d=\"M937.704,-103.726C942.901,-94.9703 948.402,-85.7032 953.625,-76.9051\"/>\r\n",
       "<polygon fill=\"black\" stroke=\"black\" points=\"956.638,-78.6853 958.733,-68.2996 950.619,-75.1121 956.638,-78.6853\"/>\r\n",
       "</g>\r\n",
       "<!-- 26 -->\r\n",
       "<g id=\"node27\" class=\"node\"><title>26</title>\r\n",
       "<path fill=\"#f2c09c\" stroke=\"black\" d=\"M1132.5,-306C1132.5,-306 1002.5,-306 1002.5,-306 996.5,-306 990.5,-300 990.5,-294 990.5,-294 990.5,-235 990.5,-235 990.5,-229 996.5,-223 1002.5,-223 1002.5,-223 1132.5,-223 1132.5,-223 1138.5,-223 1144.5,-229 1144.5,-235 1144.5,-235 1144.5,-294 1144.5,-294 1144.5,-300 1138.5,-306 1132.5,-306\"/>\r\n",
       "<text text-anchor=\"middle\" x=\"1067.5\" y=\"-290.8\" font-family=\"Helvetica,sans-Serif\" font-size=\"14.00\">非黄烷类酚类 &lt;= 0.133</text>\r\n",
       "<text text-anchor=\"middle\" x=\"1067.5\" y=\"-275.8\" font-family=\"Helvetica,sans-Serif\" font-size=\"14.00\">entropy = 0.918</text>\r\n",
       "<text text-anchor=\"middle\" x=\"1067.5\" y=\"-260.8\" font-family=\"Helvetica,sans-Serif\" font-size=\"14.00\">samples = 3</text>\r\n",
       "<text text-anchor=\"middle\" x=\"1067.5\" y=\"-245.8\" font-family=\"Helvetica,sans-Serif\" font-size=\"14.00\">value = [2, 1, 0]</text>\r\n",
       "<text text-anchor=\"middle\" x=\"1067.5\" y=\"-230.8\" font-family=\"Helvetica,sans-Serif\" font-size=\"14.00\">class = 清酒</text>\r\n",
       "</g>\r\n",
       "<!-- 25&#45;&gt;26 -->\r\n",
       "<g id=\"edge26\" class=\"edge\"><title>25&#45;&gt;26</title>\r\n",
       "<path fill=\"none\" stroke=\"black\" d=\"M1059.66,-341.907C1060.52,-333.558 1061.43,-324.671 1062.32,-316.02\"/>\r\n",
       "<polygon fill=\"black\" stroke=\"black\" points=\"1065.81,-316.326 1063.34,-306.021 1058.84,-315.611 1065.81,-316.326\"/>\r\n",
       "</g>\r\n",
       "<!-- 29 -->\r\n",
       "<g id=\"node30\" class=\"node\"><title>29</title>\r\n",
       "<path fill=\"#39e581\" stroke=\"black\" d=\"M1264,-298.5C1264,-298.5 1175,-298.5 1175,-298.5 1169,-298.5 1163,-292.5 1163,-286.5 1163,-286.5 1163,-242.5 1163,-242.5 1163,-236.5 1169,-230.5 1175,-230.5 1175,-230.5 1264,-230.5 1264,-230.5 1270,-230.5 1276,-236.5 1276,-242.5 1276,-242.5 1276,-286.5 1276,-286.5 1276,-292.5 1270,-298.5 1264,-298.5\"/>\r\n",
       "<text text-anchor=\"middle\" x=\"1219.5\" y=\"-283.3\" font-family=\"Helvetica,sans-Serif\" font-size=\"14.00\">entropy = 0.0</text>\r\n",
       "<text text-anchor=\"middle\" x=\"1219.5\" y=\"-268.3\" font-family=\"Helvetica,sans-Serif\" font-size=\"14.00\">samples = 2</text>\r\n",
       "<text text-anchor=\"middle\" x=\"1219.5\" y=\"-253.3\" font-family=\"Helvetica,sans-Serif\" font-size=\"14.00\">value = [0, 2, 0]</text>\r\n",
       "<text text-anchor=\"middle\" x=\"1219.5\" y=\"-238.3\" font-family=\"Helvetica,sans-Serif\" font-size=\"14.00\">class = 茅台</text>\r\n",
       "</g>\r\n",
       "<!-- 25&#45;&gt;29 -->\r\n",
       "<g id=\"edge29\" class=\"edge\"><title>25&#45;&gt;29</title>\r\n",
       "<path fill=\"none\" stroke=\"black\" d=\"M1112.4,-341.907C1129.26,-329.88 1147.68,-316.735 1164.43,-304.791\"/>\r\n",
       "<polygon fill=\"black\" stroke=\"black\" points=\"1166.9,-307.324 1173.01,-298.667 1162.84,-301.625 1166.9,-307.324\"/>\r\n",
       "</g>\r\n",
       "<!-- 27 -->\r\n",
       "<g id=\"node28\" class=\"node\"><title>27</title>\r\n",
       "<path fill=\"#39e581\" stroke=\"black\" d=\"M1104,-179.5C1104,-179.5 1015,-179.5 1015,-179.5 1009,-179.5 1003,-173.5 1003,-167.5 1003,-167.5 1003,-123.5 1003,-123.5 1003,-117.5 1009,-111.5 1015,-111.5 1015,-111.5 1104,-111.5 1104,-111.5 1110,-111.5 1116,-117.5 1116,-123.5 1116,-123.5 1116,-167.5 1116,-167.5 1116,-173.5 1110,-179.5 1104,-179.5\"/>\r\n",
       "<text text-anchor=\"middle\" x=\"1059.5\" y=\"-164.3\" font-family=\"Helvetica,sans-Serif\" font-size=\"14.00\">entropy = 0.0</text>\r\n",
       "<text text-anchor=\"middle\" x=\"1059.5\" y=\"-149.3\" font-family=\"Helvetica,sans-Serif\" font-size=\"14.00\">samples = 1</text>\r\n",
       "<text text-anchor=\"middle\" x=\"1059.5\" y=\"-134.3\" font-family=\"Helvetica,sans-Serif\" font-size=\"14.00\">value = [0, 1, 0]</text>\r\n",
       "<text text-anchor=\"middle\" x=\"1059.5\" y=\"-119.3\" font-family=\"Helvetica,sans-Serif\" font-size=\"14.00\">class = 茅台</text>\r\n",
       "</g>\r\n",
       "<!-- 26&#45;&gt;27 -->\r\n",
       "<g id=\"edge27\" class=\"edge\"><title>26&#45;&gt;27</title>\r\n",
       "<path fill=\"none\" stroke=\"black\" d=\"M1064.72,-222.907C1063.99,-212.204 1063.2,-200.615 1062.46,-189.776\"/>\r\n",
       "<polygon fill=\"black\" stroke=\"black\" points=\"1065.94,-189.405 1061.77,-179.667 1058.96,-189.882 1065.94,-189.405\"/>\r\n",
       "</g>\r\n",
       "<!-- 28 -->\r\n",
       "<g id=\"node29\" class=\"node\"><title>28</title>\r\n",
       "<path fill=\"#e58139\" stroke=\"black\" d=\"M1235,-179.5C1235,-179.5 1146,-179.5 1146,-179.5 1140,-179.5 1134,-173.5 1134,-167.5 1134,-167.5 1134,-123.5 1134,-123.5 1134,-117.5 1140,-111.5 1146,-111.5 1146,-111.5 1235,-111.5 1235,-111.5 1241,-111.5 1247,-117.5 1247,-123.5 1247,-123.5 1247,-167.5 1247,-167.5 1247,-173.5 1241,-179.5 1235,-179.5\"/>\r\n",
       "<text text-anchor=\"middle\" x=\"1190.5\" y=\"-164.3\" font-family=\"Helvetica,sans-Serif\" font-size=\"14.00\">entropy = 0.0</text>\r\n",
       "<text text-anchor=\"middle\" x=\"1190.5\" y=\"-149.3\" font-family=\"Helvetica,sans-Serif\" font-size=\"14.00\">samples = 2</text>\r\n",
       "<text text-anchor=\"middle\" x=\"1190.5\" y=\"-134.3\" font-family=\"Helvetica,sans-Serif\" font-size=\"14.00\">value = [2, 0, 0]</text>\r\n",
       "<text text-anchor=\"middle\" x=\"1190.5\" y=\"-119.3\" font-family=\"Helvetica,sans-Serif\" font-size=\"14.00\">class = 清酒</text>\r\n",
       "</g>\r\n",
       "<!-- 26&#45;&gt;28 -->\r\n",
       "<g id=\"edge28\" class=\"edge\"><title>26&#45;&gt;28</title>\r\n",
       "<path fill=\"none\" stroke=\"black\" d=\"M1110.17,-222.907C1122.47,-211.211 1135.88,-198.457 1148.15,-186.78\"/>\r\n",
       "<polygon fill=\"black\" stroke=\"black\" points=\"1150.8,-189.095 1155.63,-179.667 1145.97,-184.023 1150.8,-189.095\"/>\r\n",
       "</g>\r\n",
       "<!-- 31 -->\r\n",
       "<g id=\"node32\" class=\"node\"><title>31</title>\r\n",
       "<path fill=\"#39e581\" stroke=\"black\" d=\"M1233,-417.5C1233,-417.5 1144,-417.5 1144,-417.5 1138,-417.5 1132,-411.5 1132,-405.5 1132,-405.5 1132,-361.5 1132,-361.5 1132,-355.5 1138,-349.5 1144,-349.5 1144,-349.5 1233,-349.5 1233,-349.5 1239,-349.5 1245,-355.5 1245,-361.5 1245,-361.5 1245,-405.5 1245,-405.5 1245,-411.5 1239,-417.5 1233,-417.5\"/>\r\n",
       "<text text-anchor=\"middle\" x=\"1188.5\" y=\"-402.3\" font-family=\"Helvetica,sans-Serif\" font-size=\"14.00\">entropy = 0.0</text>\r\n",
       "<text text-anchor=\"middle\" x=\"1188.5\" y=\"-387.3\" font-family=\"Helvetica,sans-Serif\" font-size=\"14.00\">samples = 1</text>\r\n",
       "<text text-anchor=\"middle\" x=\"1188.5\" y=\"-372.3\" font-family=\"Helvetica,sans-Serif\" font-size=\"14.00\">value = [0, 1, 0]</text>\r\n",
       "<text text-anchor=\"middle\" x=\"1188.5\" y=\"-357.3\" font-family=\"Helvetica,sans-Serif\" font-size=\"14.00\">class = 茅台</text>\r\n",
       "</g>\r\n",
       "<!-- 30&#45;&gt;31 -->\r\n",
       "<g id=\"edge31\" class=\"edge\"><title>30&#45;&gt;31</title>\r\n",
       "<path fill=\"none\" stroke=\"black\" d=\"M1188.5,-460.907C1188.5,-450.204 1188.5,-438.615 1188.5,-427.776\"/>\r\n",
       "<polygon fill=\"black\" stroke=\"black\" points=\"1192,-427.667 1188.5,-417.667 1185,-427.667 1192,-427.667\"/>\r\n",
       "</g>\r\n",
       "<!-- 32 -->\r\n",
       "<g id=\"node33\" class=\"node\"><title>32</title>\r\n",
       "<path fill=\"#e58139\" stroke=\"black\" d=\"M1372,-417.5C1372,-417.5 1275,-417.5 1275,-417.5 1269,-417.5 1263,-411.5 1263,-405.5 1263,-405.5 1263,-361.5 1263,-361.5 1263,-355.5 1269,-349.5 1275,-349.5 1275,-349.5 1372,-349.5 1372,-349.5 1378,-349.5 1384,-355.5 1384,-361.5 1384,-361.5 1384,-405.5 1384,-405.5 1384,-411.5 1378,-417.5 1372,-417.5\"/>\r\n",
       "<text text-anchor=\"middle\" x=\"1323.5\" y=\"-402.3\" font-family=\"Helvetica,sans-Serif\" font-size=\"14.00\">entropy = 0.0</text>\r\n",
       "<text text-anchor=\"middle\" x=\"1323.5\" y=\"-387.3\" font-family=\"Helvetica,sans-Serif\" font-size=\"14.00\">samples = 34</text>\r\n",
       "<text text-anchor=\"middle\" x=\"1323.5\" y=\"-372.3\" font-family=\"Helvetica,sans-Serif\" font-size=\"14.00\">value = [34, 0, 0]</text>\r\n",
       "<text text-anchor=\"middle\" x=\"1323.5\" y=\"-357.3\" font-family=\"Helvetica,sans-Serif\" font-size=\"14.00\">class = 清酒</text>\r\n",
       "</g>\r\n",
       "<!-- 30&#45;&gt;32 -->\r\n",
       "<g id=\"edge32\" class=\"edge\"><title>30&#45;&gt;32</title>\r\n",
       "<path fill=\"none\" stroke=\"black\" d=\"M1235.34,-460.907C1248.96,-449.101 1263.83,-436.217 1277.4,-424.45\"/>\r\n",
       "<polygon fill=\"black\" stroke=\"black\" points=\"1279.97,-426.861 1285.23,-417.667 1275.38,-421.571 1279.97,-426.861\"/>\r\n",
       "</g>\r\n",
       "</g>\r\n",
       "</svg>\r\n"
      ],
      "text/plain": [
       "<graphviz.files.Source at 0x279b69548d0>"
      ]
     },
     "execution_count": 15,
     "metadata": {},
     "output_type": "execute_result"
    }
   ],
   "source": [
    "dot_data = tree.export_graphviz(clf, \n",
    "                                feature_names=feature_names,\n",
    "                                class_names=['清酒', '茅台','五粮液'],\n",
    "                                filled=True,\n",
    "                                rounded=True\n",
    "                                )\n",
    "graphviz.Source(dot_data)"
   ]
  },
  {
   "cell_type": "code",
   "execution_count": 16,
   "metadata": {
    "ExecuteTime": {
     "end_time": "2019-12-05T00:52:01.314623Z",
     "start_time": "2019-12-05T00:52:01.292181Z"
    }
   },
   "outputs": [
    {
     "data": {
      "text/plain": [
       "[('酒精', 0.20887234084362402),\n",
       " ('苹果酸', 0.0),\n",
       " ('灰', 0.03406006674379356),\n",
       " ('灰的碱性', 0.0),\n",
       " ('镁', 0.02131553799843766),\n",
       " ('总酚', 0.0),\n",
       " ('类黄酮', 0.4587097166485914),\n",
       " ('非黄烷类酚类', 0.014322886851263615),\n",
       " ('花青素', 0.02153308829404679),\n",
       " ('颜色强度', 0.03981197478901169),\n",
       " ('色调', 0.0),\n",
       " ('od280/od315稀释葡萄酒', 0.16636781216177202),\n",
       " ('脯氨酸', 0.03500657566945914)]"
      ]
     },
     "execution_count": 16,
     "metadata": {},
     "output_type": "execute_result"
    }
   ],
   "source": [
    "[*zip(feature_names, clf.feature_importances_)]"
   ]
  },
  {
   "cell_type": "markdown",
   "metadata": {},
   "source": [
    "#### 剪枝参数"
   ]
  },
  {
   "cell_type": "code",
   "execution_count": 17,
   "metadata": {
    "ExecuteTime": {
     "end_time": "2019-12-05T00:52:04.394695Z",
     "start_time": "2019-12-05T00:52:04.373733Z"
    }
   },
   "outputs": [],
   "source": [
    "def draw_graph(**kwargs):\n",
    "    clf=tree.DecisionTreeClassifier(**kwargs)\n",
    "    clf = clf.fit(x_train, y_train)\n",
    "    dot_data = tree.export_graphviz(clf, \n",
    "                                    feature_names=feature_names,\n",
    "                                    class_names=['茅台', '五粮液', '泸州老窖'],\n",
    "                                    filled=True,\n",
    "                                    rounded=True)\n",
    "    graph = graphviz.Source(dot_data)\n",
    "    return graph, clf.score(x_test, y_test)"
   ]
  },
  {
   "cell_type": "code",
   "execution_count": 18,
   "metadata": {
    "ExecuteTime": {
     "end_time": "2019-12-05T00:52:06.293031Z",
     "start_time": "2019-12-05T00:52:05.975173Z"
    }
   },
   "outputs": [
    {
     "data": {
      "image/svg+xml": [
       "<?xml version=\"1.0\" encoding=\"UTF-8\" standalone=\"no\"?>\r\n",
       "<!DOCTYPE svg PUBLIC \"-//W3C//DTD SVG 1.1//EN\"\r\n",
       " \"http://www.w3.org/Graphics/SVG/1.1/DTD/svg11.dtd\">\r\n",
       "<!-- Generated by graphviz version 2.38.0 (20140413.2041)\r\n",
       " -->\r\n",
       "<!-- Title: Tree Pages: 1 -->\r\n",
       "<svg width=\"800pt\" height=\"433pt\"\r\n",
       " viewBox=\"0.00 0.00 800.00 433.00\" xmlns=\"http://www.w3.org/2000/svg\" xmlns:xlink=\"http://www.w3.org/1999/xlink\">\r\n",
       "<g id=\"graph0\" class=\"graph\" transform=\"scale(1 1) rotate(0) translate(4 429)\">\r\n",
       "<title>Tree</title>\r\n",
       "<polygon fill=\"white\" stroke=\"none\" points=\"-4,4 -4,-429 796,-429 796,4 -4,4\"/>\r\n",
       "<!-- 0 -->\r\n",
       "<g id=\"node1\" class=\"node\"><title>0</title>\r\n",
       "<path fill=\"#d8fae6\" stroke=\"black\" d=\"M354,-425C354,-425 241,-425 241,-425 235,-425 229,-419 229,-413 229,-413 229,-354 229,-354 229,-348 235,-342 241,-342 241,-342 354,-342 354,-342 360,-342 366,-348 366,-354 366,-354 366,-413 366,-413 366,-419 360,-425 354,-425\"/>\r\n",
       "<text text-anchor=\"middle\" x=\"297.5\" y=\"-409.8\" font-family=\"Helvetica,sans-Serif\" font-size=\"14.00\">颜色强度 &lt;= 3.956</text>\r\n",
       "<text text-anchor=\"middle\" x=\"297.5\" y=\"-394.8\" font-family=\"Helvetica,sans-Serif\" font-size=\"14.00\">gini = 0.65</text>\r\n",
       "<text text-anchor=\"middle\" x=\"297.5\" y=\"-379.8\" font-family=\"Helvetica,sans-Serif\" font-size=\"14.00\">samples = 124</text>\r\n",
       "<text text-anchor=\"middle\" x=\"297.5\" y=\"-364.8\" font-family=\"Helvetica,sans-Serif\" font-size=\"14.00\">value = [37, 54, 33]</text>\r\n",
       "<text text-anchor=\"middle\" x=\"297.5\" y=\"-349.8\" font-family=\"Helvetica,sans-Serif\" font-size=\"14.00\">class = 五粮液</text>\r\n",
       "</g>\r\n",
       "<!-- 1 -->\r\n",
       "<g id=\"node2\" class=\"node\"><title>1</title>\r\n",
       "<path fill=\"#52e891\" stroke=\"black\" d=\"M247.5,-306C247.5,-306 143.5,-306 143.5,-306 137.5,-306 131.5,-300 131.5,-294 131.5,-294 131.5,-235 131.5,-235 131.5,-229 137.5,-223 143.5,-223 143.5,-223 247.5,-223 247.5,-223 253.5,-223 259.5,-229 259.5,-235 259.5,-235 259.5,-294 259.5,-294 259.5,-300 253.5,-306 247.5,-306\"/>\r\n",
       "<text text-anchor=\"middle\" x=\"195.5\" y=\"-290.8\" font-family=\"Helvetica,sans-Serif\" font-size=\"14.00\">颜色强度 &lt;= 3.314</text>\r\n",
       "<text text-anchor=\"middle\" x=\"195.5\" y=\"-275.8\" font-family=\"Helvetica,sans-Serif\" font-size=\"14.00\">gini = 0.208</text>\r\n",
       "<text text-anchor=\"middle\" x=\"195.5\" y=\"-260.8\" font-family=\"Helvetica,sans-Serif\" font-size=\"14.00\">samples = 52</text>\r\n",
       "<text text-anchor=\"middle\" x=\"195.5\" y=\"-245.8\" font-family=\"Helvetica,sans-Serif\" font-size=\"14.00\">value = [5, 46, 1]</text>\r\n",
       "<text text-anchor=\"middle\" x=\"195.5\" y=\"-230.8\" font-family=\"Helvetica,sans-Serif\" font-size=\"14.00\">class = 五粮液</text>\r\n",
       "</g>\r\n",
       "<!-- 0&#45;&gt;1 -->\r\n",
       "<g id=\"edge1\" class=\"edge\"><title>0&#45;&gt;1</title>\r\n",
       "<path fill=\"none\" stroke=\"black\" d=\"M262.112,-341.907C254.2,-332.832 245.734,-323.121 237.581,-313.769\"/>\r\n",
       "<polygon fill=\"black\" stroke=\"black\" points=\"240.035,-311.259 230.826,-306.021 234.759,-315.859 240.035,-311.259\"/>\r\n",
       "<text text-anchor=\"middle\" x=\"229.118\" y=\"-327.262\" font-family=\"Helvetica,sans-Serif\" font-size=\"14.00\">True</text>\r\n",
       "</g>\r\n",
       "<!-- 6 -->\r\n",
       "<g id=\"node7\" class=\"node\"><title>6</title>\r\n",
       "<path fill=\"#ffffff\" stroke=\"black\" d=\"M452,-306C452,-306 347,-306 347,-306 341,-306 335,-300 335,-294 335,-294 335,-235 335,-235 335,-229 341,-223 347,-223 347,-223 452,-223 452,-223 458,-223 464,-229 464,-235 464,-235 464,-294 464,-294 464,-300 458,-306 452,-306\"/>\r\n",
       "<text text-anchor=\"middle\" x=\"399.5\" y=\"-290.8\" font-family=\"Helvetica,sans-Serif\" font-size=\"14.00\">类黄酮 &lt;= 2.028</text>\r\n",
       "<text text-anchor=\"middle\" x=\"399.5\" y=\"-275.8\" font-family=\"Helvetica,sans-Serif\" font-size=\"14.00\">gini = 0.593</text>\r\n",
       "<text text-anchor=\"middle\" x=\"399.5\" y=\"-260.8\" font-family=\"Helvetica,sans-Serif\" font-size=\"14.00\">samples = 72</text>\r\n",
       "<text text-anchor=\"middle\" x=\"399.5\" y=\"-245.8\" font-family=\"Helvetica,sans-Serif\" font-size=\"14.00\">value = [32, 8, 32]</text>\r\n",
       "<text text-anchor=\"middle\" x=\"399.5\" y=\"-230.8\" font-family=\"Helvetica,sans-Serif\" font-size=\"14.00\">class = 茅台</text>\r\n",
       "</g>\r\n",
       "<!-- 0&#45;&gt;6 -->\r\n",
       "<g id=\"edge6\" class=\"edge\"><title>0&#45;&gt;6</title>\r\n",
       "<path fill=\"none\" stroke=\"black\" d=\"M332.888,-341.907C340.8,-332.832 349.266,-323.121 357.419,-313.769\"/>\r\n",
       "<polygon fill=\"black\" stroke=\"black\" points=\"360.241,-315.859 364.174,-306.021 354.965,-311.259 360.241,-315.859\"/>\r\n",
       "<text text-anchor=\"middle\" x=\"365.882\" y=\"-327.262\" font-family=\"Helvetica,sans-Serif\" font-size=\"14.00\">False</text>\r\n",
       "</g>\r\n",
       "<!-- 2 -->\r\n",
       "<g id=\"node3\" class=\"node\"><title>2</title>\r\n",
       "<path fill=\"#39e581\" stroke=\"black\" d=\"M109,-179.5C109,-179.5 12,-179.5 12,-179.5 6,-179.5 0,-173.5 0,-167.5 0,-167.5 0,-123.5 0,-123.5 0,-117.5 6,-111.5 12,-111.5 12,-111.5 109,-111.5 109,-111.5 115,-111.5 121,-117.5 121,-123.5 121,-123.5 121,-167.5 121,-167.5 121,-173.5 115,-179.5 109,-179.5\"/>\r\n",
       "<text text-anchor=\"middle\" x=\"60.5\" y=\"-164.3\" font-family=\"Helvetica,sans-Serif\" font-size=\"14.00\">gini = 0.0</text>\r\n",
       "<text text-anchor=\"middle\" x=\"60.5\" y=\"-149.3\" font-family=\"Helvetica,sans-Serif\" font-size=\"14.00\">samples = 38</text>\r\n",
       "<text text-anchor=\"middle\" x=\"60.5\" y=\"-134.3\" font-family=\"Helvetica,sans-Serif\" font-size=\"14.00\">value = [0, 38, 0]</text>\r\n",
       "<text text-anchor=\"middle\" x=\"60.5\" y=\"-119.3\" font-family=\"Helvetica,sans-Serif\" font-size=\"14.00\">class = 五粮液</text>\r\n",
       "</g>\r\n",
       "<!-- 1&#45;&gt;2 -->\r\n",
       "<g id=\"edge2\" class=\"edge\"><title>1&#45;&gt;2</title>\r\n",
       "<path fill=\"none\" stroke=\"black\" d=\"M148.662,-222.907C135.039,-211.101 120.173,-198.217 106.596,-186.45\"/>\r\n",
       "<polygon fill=\"black\" stroke=\"black\" points=\"108.619,-183.571 98.7695,-179.667 104.034,-188.861 108.619,-183.571\"/>\r\n",
       "</g>\r\n",
       "<!-- 3 -->\r\n",
       "<g id=\"node4\" class=\"node\"><title>3</title>\r\n",
       "<path fill=\"#bdf6d5\" stroke=\"black\" d=\"M240,-187C240,-187 151,-187 151,-187 145,-187 139,-181 139,-175 139,-175 139,-116 139,-116 139,-110 145,-104 151,-104 151,-104 240,-104 240,-104 246,-104 252,-110 252,-116 252,-116 252,-175 252,-175 252,-181 246,-187 240,-187\"/>\r\n",
       "<text text-anchor=\"middle\" x=\"195.5\" y=\"-171.8\" font-family=\"Helvetica,sans-Serif\" font-size=\"14.00\">总酚 &lt;= 2.347</text>\r\n",
       "<text text-anchor=\"middle\" x=\"195.5\" y=\"-156.8\" font-family=\"Helvetica,sans-Serif\" font-size=\"14.00\">gini = 0.541</text>\r\n",
       "<text text-anchor=\"middle\" x=\"195.5\" y=\"-141.8\" font-family=\"Helvetica,sans-Serif\" font-size=\"14.00\">samples = 14</text>\r\n",
       "<text text-anchor=\"middle\" x=\"195.5\" y=\"-126.8\" font-family=\"Helvetica,sans-Serif\" font-size=\"14.00\">value = [5, 8, 1]</text>\r\n",
       "<text text-anchor=\"middle\" x=\"195.5\" y=\"-111.8\" font-family=\"Helvetica,sans-Serif\" font-size=\"14.00\">class = 五粮液</text>\r\n",
       "</g>\r\n",
       "<!-- 1&#45;&gt;3 -->\r\n",
       "<g id=\"edge3\" class=\"edge\"><title>1&#45;&gt;3</title>\r\n",
       "<path fill=\"none\" stroke=\"black\" d=\"M195.5,-222.907C195.5,-214.649 195.5,-205.864 195.5,-197.302\"/>\r\n",
       "<polygon fill=\"black\" stroke=\"black\" points=\"199,-197.021 195.5,-187.021 192,-197.021 199,-197.021\"/>\r\n",
       "</g>\r\n",
       "<!-- 4 -->\r\n",
       "<g id=\"node5\" class=\"node\"><title>4</title>\r\n",
       "<path fill=\"#55e993\" stroke=\"black\" d=\"M109,-68C109,-68 20,-68 20,-68 14,-68 8,-62 8,-56 8,-56 8,-12 8,-12 8,-6 14,-0 20,-0 20,-0 109,-0 109,-0 115,-0 121,-6 121,-12 121,-12 121,-56 121,-56 121,-62 115,-68 109,-68\"/>\r\n",
       "<text text-anchor=\"middle\" x=\"64.5\" y=\"-52.8\" font-family=\"Helvetica,sans-Serif\" font-size=\"14.00\">gini = 0.219</text>\r\n",
       "<text text-anchor=\"middle\" x=\"64.5\" y=\"-37.8\" font-family=\"Helvetica,sans-Serif\" font-size=\"14.00\">samples = 8</text>\r\n",
       "<text text-anchor=\"middle\" x=\"64.5\" y=\"-22.8\" font-family=\"Helvetica,sans-Serif\" font-size=\"14.00\">value = [0, 7, 1]</text>\r\n",
       "<text text-anchor=\"middle\" x=\"64.5\" y=\"-7.8\" font-family=\"Helvetica,sans-Serif\" font-size=\"14.00\">class = 五粮液</text>\r\n",
       "</g>\r\n",
       "<!-- 3&#45;&gt;4 -->\r\n",
       "<g id=\"edge4\" class=\"edge\"><title>3&#45;&gt;4</title>\r\n",
       "<path fill=\"none\" stroke=\"black\" d=\"M146.72,-103.726C135.372,-94.2406 123.307,-84.1551 112.014,-74.7159\"/>\r\n",
       "<polygon fill=\"black\" stroke=\"black\" points=\"114.255,-72.0276 104.338,-68.2996 109.766,-77.3984 114.255,-72.0276\"/>\r\n",
       "</g>\r\n",
       "<!-- 5 -->\r\n",
       "<g id=\"node6\" class=\"node\"><title>5</title>\r\n",
       "<path fill=\"#ea9a61\" stroke=\"black\" d=\"M240,-68C240,-68 151,-68 151,-68 145,-68 139,-62 139,-56 139,-56 139,-12 139,-12 139,-6 145,-0 151,-0 151,-0 240,-0 240,-0 246,-0 252,-6 252,-12 252,-12 252,-56 252,-56 252,-62 246,-68 240,-68\"/>\r\n",
       "<text text-anchor=\"middle\" x=\"195.5\" y=\"-52.8\" font-family=\"Helvetica,sans-Serif\" font-size=\"14.00\">gini = 0.278</text>\r\n",
       "<text text-anchor=\"middle\" x=\"195.5\" y=\"-37.8\" font-family=\"Helvetica,sans-Serif\" font-size=\"14.00\">samples = 6</text>\r\n",
       "<text text-anchor=\"middle\" x=\"195.5\" y=\"-22.8\" font-family=\"Helvetica,sans-Serif\" font-size=\"14.00\">value = [5, 1, 0]</text>\r\n",
       "<text text-anchor=\"middle\" x=\"195.5\" y=\"-7.8\" font-family=\"Helvetica,sans-Serif\" font-size=\"14.00\">class = 茅台</text>\r\n",
       "</g>\r\n",
       "<!-- 3&#45;&gt;5 -->\r\n",
       "<g id=\"edge5\" class=\"edge\"><title>3&#45;&gt;5</title>\r\n",
       "<path fill=\"none\" stroke=\"black\" d=\"M195.5,-103.726C195.5,-95.5175 195.5,-86.8595 195.5,-78.56\"/>\r\n",
       "<polygon fill=\"black\" stroke=\"black\" points=\"199,-78.2996 195.5,-68.2996 192,-78.2996 199,-78.2996\"/>\r\n",
       "</g>\r\n",
       "<!-- 7 -->\r\n",
       "<g id=\"node8\" class=\"node\"><title>7</title>\r\n",
       "<path fill=\"#8d4ce7\" stroke=\"black\" d=\"M448,-187C448,-187 351,-187 351,-187 345,-187 339,-181 339,-175 339,-175 339,-116 339,-116 339,-110 345,-104 351,-104 351,-104 448,-104 448,-104 454,-104 460,-110 460,-116 460,-116 460,-175 460,-175 460,-181 454,-187 448,-187\"/>\r\n",
       "<text text-anchor=\"middle\" x=\"399.5\" y=\"-171.8\" font-family=\"Helvetica,sans-Serif\" font-size=\"14.00\">类黄酮 &lt;= 1.537</text>\r\n",
       "<text text-anchor=\"middle\" x=\"399.5\" y=\"-156.8\" font-family=\"Helvetica,sans-Serif\" font-size=\"14.00\">gini = 0.157</text>\r\n",
       "<text text-anchor=\"middle\" x=\"399.5\" y=\"-141.8\" font-family=\"Helvetica,sans-Serif\" font-size=\"14.00\">samples = 35</text>\r\n",
       "<text text-anchor=\"middle\" x=\"399.5\" y=\"-126.8\" font-family=\"Helvetica,sans-Serif\" font-size=\"14.00\">value = [0, 3, 32]</text>\r\n",
       "<text text-anchor=\"middle\" x=\"399.5\" y=\"-111.8\" font-family=\"Helvetica,sans-Serif\" font-size=\"14.00\">class = 泸州老窖</text>\r\n",
       "</g>\r\n",
       "<!-- 6&#45;&gt;7 -->\r\n",
       "<g id=\"edge7\" class=\"edge\"><title>6&#45;&gt;7</title>\r\n",
       "<path fill=\"none\" stroke=\"black\" d=\"M399.5,-222.907C399.5,-214.649 399.5,-205.864 399.5,-197.302\"/>\r\n",
       "<polygon fill=\"black\" stroke=\"black\" points=\"403,-197.021 399.5,-187.021 396,-197.021 403,-197.021\"/>\r\n",
       "</g>\r\n",
       "<!-- 10 -->\r\n",
       "<g id=\"node11\" class=\"node\"><title>10</title>\r\n",
       "<path fill=\"#e99558\" stroke=\"black\" d=\"M645,-187C645,-187 548,-187 548,-187 542,-187 536,-181 536,-175 536,-175 536,-116 536,-116 536,-110 542,-104 548,-104 548,-104 645,-104 645,-104 651,-104 657,-110 657,-116 657,-116 657,-175 657,-175 657,-181 651,-187 645,-187\"/>\r\n",
       "<text text-anchor=\"middle\" x=\"596.5\" y=\"-171.8\" font-family=\"Helvetica,sans-Serif\" font-size=\"14.00\">酒精 &lt;= 12.758</text>\r\n",
       "<text text-anchor=\"middle\" x=\"596.5\" y=\"-156.8\" font-family=\"Helvetica,sans-Serif\" font-size=\"14.00\">gini = 0.234</text>\r\n",
       "<text text-anchor=\"middle\" x=\"596.5\" y=\"-141.8\" font-family=\"Helvetica,sans-Serif\" font-size=\"14.00\">samples = 37</text>\r\n",
       "<text text-anchor=\"middle\" x=\"596.5\" y=\"-126.8\" font-family=\"Helvetica,sans-Serif\" font-size=\"14.00\">value = [32, 5, 0]</text>\r\n",
       "<text text-anchor=\"middle\" x=\"596.5\" y=\"-111.8\" font-family=\"Helvetica,sans-Serif\" font-size=\"14.00\">class = 茅台</text>\r\n",
       "</g>\r\n",
       "<!-- 6&#45;&gt;10 -->\r\n",
       "<g id=\"edge10\" class=\"edge\"><title>6&#45;&gt;10</title>\r\n",
       "<path fill=\"none\" stroke=\"black\" d=\"M464.005,-225.19C484.232,-213.177 506.638,-199.87 527.183,-187.668\"/>\r\n",
       "<polygon fill=\"black\" stroke=\"black\" points=\"529.051,-190.629 535.862,-182.514 525.476,-184.611 529.051,-190.629\"/>\r\n",
       "</g>\r\n",
       "<!-- 8 -->\r\n",
       "<g id=\"node9\" class=\"node\"><title>8</title>\r\n",
       "<path fill=\"#853fe6\" stroke=\"black\" d=\"M379,-68C379,-68 282,-68 282,-68 276,-68 270,-62 270,-56 270,-56 270,-12 270,-12 270,-6 276,-0 282,-0 282,-0 379,-0 379,-0 385,-0 391,-6 391,-12 391,-12 391,-56 391,-56 391,-62 385,-68 379,-68\"/>\r\n",
       "<text text-anchor=\"middle\" x=\"330.5\" y=\"-52.8\" font-family=\"Helvetica,sans-Serif\" font-size=\"14.00\">gini = 0.059</text>\r\n",
       "<text text-anchor=\"middle\" x=\"330.5\" y=\"-37.8\" font-family=\"Helvetica,sans-Serif\" font-size=\"14.00\">samples = 33</text>\r\n",
       "<text text-anchor=\"middle\" x=\"330.5\" y=\"-22.8\" font-family=\"Helvetica,sans-Serif\" font-size=\"14.00\">value = [0, 1, 32]</text>\r\n",
       "<text text-anchor=\"middle\" x=\"330.5\" y=\"-7.8\" font-family=\"Helvetica,sans-Serif\" font-size=\"14.00\">class = 泸州老窖</text>\r\n",
       "</g>\r\n",
       "<!-- 7&#45;&gt;8 -->\r\n",
       "<g id=\"edge8\" class=\"edge\"><title>7&#45;&gt;8</title>\r\n",
       "<path fill=\"none\" stroke=\"black\" d=\"M373.807,-103.726C368.289,-94.9703 362.45,-85.7032 356.906,-76.9051\"/>\r\n",
       "<polygon fill=\"black\" stroke=\"black\" points=\"359.776,-74.8941 351.483,-68.2996 353.853,-78.6259 359.776,-74.8941\"/>\r\n",
       "</g>\r\n",
       "<!-- 9 -->\r\n",
       "<g id=\"node10\" class=\"node\"><title>9</title>\r\n",
       "<path fill=\"#39e581\" stroke=\"black\" d=\"M510,-68C510,-68 421,-68 421,-68 415,-68 409,-62 409,-56 409,-56 409,-12 409,-12 409,-6 415,-0 421,-0 421,-0 510,-0 510,-0 516,-0 522,-6 522,-12 522,-12 522,-56 522,-56 522,-62 516,-68 510,-68\"/>\r\n",
       "<text text-anchor=\"middle\" x=\"465.5\" y=\"-52.8\" font-family=\"Helvetica,sans-Serif\" font-size=\"14.00\">gini = 0.0</text>\r\n",
       "<text text-anchor=\"middle\" x=\"465.5\" y=\"-37.8\" font-family=\"Helvetica,sans-Serif\" font-size=\"14.00\">samples = 2</text>\r\n",
       "<text text-anchor=\"middle\" x=\"465.5\" y=\"-22.8\" font-family=\"Helvetica,sans-Serif\" font-size=\"14.00\">value = [0, 2, 0]</text>\r\n",
       "<text text-anchor=\"middle\" x=\"465.5\" y=\"-7.8\" font-family=\"Helvetica,sans-Serif\" font-size=\"14.00\">class = 五粮液</text>\r\n",
       "</g>\r\n",
       "<!-- 7&#45;&gt;9 -->\r\n",
       "<g id=\"edge9\" class=\"edge\"><title>7&#45;&gt;9</title>\r\n",
       "<path fill=\"none\" stroke=\"black\" d=\"M424.076,-103.726C429.354,-94.9703 434.939,-85.7032 440.242,-76.9051\"/>\r\n",
       "<polygon fill=\"black\" stroke=\"black\" points=\"443.264,-78.671 445.429,-68.2996 437.269,-75.0574 443.264,-78.671\"/>\r\n",
       "</g>\r\n",
       "<!-- 11 -->\r\n",
       "<g id=\"node12\" class=\"node\"><title>11</title>\r\n",
       "<path fill=\"#39e581\" stroke=\"black\" d=\"M641,-68C641,-68 552,-68 552,-68 546,-68 540,-62 540,-56 540,-56 540,-12 540,-12 540,-6 546,-0 552,-0 552,-0 641,-0 641,-0 647,-0 653,-6 653,-12 653,-12 653,-56 653,-56 653,-62 647,-68 641,-68\"/>\r\n",
       "<text text-anchor=\"middle\" x=\"596.5\" y=\"-52.8\" font-family=\"Helvetica,sans-Serif\" font-size=\"14.00\">gini = 0.0</text>\r\n",
       "<text text-anchor=\"middle\" x=\"596.5\" y=\"-37.8\" font-family=\"Helvetica,sans-Serif\" font-size=\"14.00\">samples = 4</text>\r\n",
       "<text text-anchor=\"middle\" x=\"596.5\" y=\"-22.8\" font-family=\"Helvetica,sans-Serif\" font-size=\"14.00\">value = [0, 4, 0]</text>\r\n",
       "<text text-anchor=\"middle\" x=\"596.5\" y=\"-7.8\" font-family=\"Helvetica,sans-Serif\" font-size=\"14.00\">class = 五粮液</text>\r\n",
       "</g>\r\n",
       "<!-- 10&#45;&gt;11 -->\r\n",
       "<g id=\"edge11\" class=\"edge\"><title>10&#45;&gt;11</title>\r\n",
       "<path fill=\"none\" stroke=\"black\" d=\"M596.5,-103.726C596.5,-95.5175 596.5,-86.8595 596.5,-78.56\"/>\r\n",
       "<polygon fill=\"black\" stroke=\"black\" points=\"600,-78.2996 596.5,-68.2996 593,-78.2996 600,-78.2996\"/>\r\n",
       "</g>\r\n",
       "<!-- 12 -->\r\n",
       "<g id=\"node13\" class=\"node\"><title>12</title>\r\n",
       "<path fill=\"#e6853f\" stroke=\"black\" d=\"M780,-68C780,-68 683,-68 683,-68 677,-68 671,-62 671,-56 671,-56 671,-12 671,-12 671,-6 677,-0 683,-0 683,-0 780,-0 780,-0 786,-0 792,-6 792,-12 792,-12 792,-56 792,-56 792,-62 786,-68 780,-68\"/>\r\n",
       "<text text-anchor=\"middle\" x=\"731.5\" y=\"-52.8\" font-family=\"Helvetica,sans-Serif\" font-size=\"14.00\">gini = 0.059</text>\r\n",
       "<text text-anchor=\"middle\" x=\"731.5\" y=\"-37.8\" font-family=\"Helvetica,sans-Serif\" font-size=\"14.00\">samples = 33</text>\r\n",
       "<text text-anchor=\"middle\" x=\"731.5\" y=\"-22.8\" font-family=\"Helvetica,sans-Serif\" font-size=\"14.00\">value = [32, 1, 0]</text>\r\n",
       "<text text-anchor=\"middle\" x=\"731.5\" y=\"-7.8\" font-family=\"Helvetica,sans-Serif\" font-size=\"14.00\">class = 茅台</text>\r\n",
       "</g>\r\n",
       "<!-- 10&#45;&gt;12 -->\r\n",
       "<g id=\"edge12\" class=\"edge\"><title>10&#45;&gt;12</title>\r\n",
       "<path fill=\"none\" stroke=\"black\" d=\"M646.769,-103.726C658.464,-94.2406 670.898,-84.1551 682.535,-74.7159\"/>\r\n",
       "<polygon fill=\"black\" stroke=\"black\" points=\"684.884,-77.3173 690.446,-68.2996 680.474,-71.8808 684.884,-77.3173\"/>\r\n",
       "</g>\r\n",
       "</g>\r\n",
       "</svg>\r\n"
      ],
      "text/plain": [
       "<graphviz.files.Source at 0x279b693eb00>"
      ]
     },
     "execution_count": 18,
     "metadata": {},
     "output_type": "execute_result"
    }
   ],
   "source": [
    "graph, score = draw_graph(random_state=30,\n",
    "                          splitter='random',\n",
    "                          max_depth=3,\n",
    "                          \n",
    "                          )\n",
    "graph"
   ]
  },
  {
   "cell_type": "code",
   "execution_count": 19,
   "metadata": {
    "ExecuteTime": {
     "end_time": "2019-12-05T00:52:14.287510Z",
     "start_time": "2019-12-05T00:52:14.270452Z"
    }
   },
   "outputs": [
    {
     "data": {
      "text/plain": [
       "0.9259259259259259"
      ]
     },
     "execution_count": 19,
     "metadata": {},
     "output_type": "execute_result"
    }
   ],
   "source": [
    "score"
   ]
  },
  {
   "cell_type": "code",
   "execution_count": 20,
   "metadata": {
    "ExecuteTime": {
     "end_time": "2019-12-05T00:52:16.321622Z",
     "start_time": "2019-12-05T00:52:16.037859Z"
    }
   },
   "outputs": [
    {
     "data": {
      "image/svg+xml": [
       "<?xml version=\"1.0\" encoding=\"UTF-8\" standalone=\"no\"?>\r\n",
       "<!DOCTYPE svg PUBLIC \"-//W3C//DTD SVG 1.1//EN\"\r\n",
       " \"http://www.w3.org/Graphics/SVG/1.1/DTD/svg11.dtd\">\r\n",
       "<!-- Generated by graphviz version 2.38.0 (20140413.2041)\r\n",
       " -->\r\n",
       "<!-- Title: Tree Pages: 1 -->\r\n",
       "<svg width=\"704pt\" height=\"433pt\"\r\n",
       " viewBox=\"0.00 0.00 704.00 433.00\" xmlns=\"http://www.w3.org/2000/svg\" xmlns:xlink=\"http://www.w3.org/1999/xlink\">\r\n",
       "<g id=\"graph0\" class=\"graph\" transform=\"scale(1 1) rotate(0) translate(4 429)\">\r\n",
       "<title>Tree</title>\r\n",
       "<polygon fill=\"white\" stroke=\"none\" points=\"-4,4 -4,-429 700,-429 700,4 -4,4\"/>\r\n",
       "<!-- 0 -->\r\n",
       "<g id=\"node1\" class=\"node\"><title>0</title>\r\n",
       "<path fill=\"#d8fae6\" stroke=\"black\" d=\"M333,-425C333,-425 220,-425 220,-425 214,-425 208,-419 208,-413 208,-413 208,-354 208,-354 208,-348 214,-342 220,-342 220,-342 333,-342 333,-342 339,-342 345,-348 345,-354 345,-354 345,-413 345,-413 345,-419 339,-425 333,-425\"/>\r\n",
       "<text text-anchor=\"middle\" x=\"276.5\" y=\"-409.8\" font-family=\"Helvetica,sans-Serif\" font-size=\"14.00\">颜色强度 &lt;= 3.956</text>\r\n",
       "<text text-anchor=\"middle\" x=\"276.5\" y=\"-394.8\" font-family=\"Helvetica,sans-Serif\" font-size=\"14.00\">gini = 0.65</text>\r\n",
       "<text text-anchor=\"middle\" x=\"276.5\" y=\"-379.8\" font-family=\"Helvetica,sans-Serif\" font-size=\"14.00\">samples = 124</text>\r\n",
       "<text text-anchor=\"middle\" x=\"276.5\" y=\"-364.8\" font-family=\"Helvetica,sans-Serif\" font-size=\"14.00\">value = [37, 54, 33]</text>\r\n",
       "<text text-anchor=\"middle\" x=\"276.5\" y=\"-349.8\" font-family=\"Helvetica,sans-Serif\" font-size=\"14.00\">class = 五粮液</text>\r\n",
       "</g>\r\n",
       "<!-- 1 -->\r\n",
       "<g id=\"node2\" class=\"node\"><title>1</title>\r\n",
       "<path fill=\"#52e891\" stroke=\"black\" d=\"M232.5,-306C232.5,-306 128.5,-306 128.5,-306 122.5,-306 116.5,-300 116.5,-294 116.5,-294 116.5,-235 116.5,-235 116.5,-229 122.5,-223 128.5,-223 128.5,-223 232.5,-223 232.5,-223 238.5,-223 244.5,-229 244.5,-235 244.5,-235 244.5,-294 244.5,-294 244.5,-300 238.5,-306 232.5,-306\"/>\r\n",
       "<text text-anchor=\"middle\" x=\"180.5\" y=\"-290.8\" font-family=\"Helvetica,sans-Serif\" font-size=\"14.00\">颜色强度 &lt;= 3.314</text>\r\n",
       "<text text-anchor=\"middle\" x=\"180.5\" y=\"-275.8\" font-family=\"Helvetica,sans-Serif\" font-size=\"14.00\">gini = 0.208</text>\r\n",
       "<text text-anchor=\"middle\" x=\"180.5\" y=\"-260.8\" font-family=\"Helvetica,sans-Serif\" font-size=\"14.00\">samples = 52</text>\r\n",
       "<text text-anchor=\"middle\" x=\"180.5\" y=\"-245.8\" font-family=\"Helvetica,sans-Serif\" font-size=\"14.00\">value = [5, 46, 1]</text>\r\n",
       "<text text-anchor=\"middle\" x=\"180.5\" y=\"-230.8\" font-family=\"Helvetica,sans-Serif\" font-size=\"14.00\">class = 五粮液</text>\r\n",
       "</g>\r\n",
       "<!-- 0&#45;&gt;1 -->\r\n",
       "<g id=\"edge1\" class=\"edge\"><title>0&#45;&gt;1</title>\r\n",
       "<path fill=\"none\" stroke=\"black\" d=\"M243.193,-341.907C235.747,-332.832 227.779,-323.121 220.106,-313.769\"/>\r\n",
       "<polygon fill=\"black\" stroke=\"black\" points=\"222.797,-311.531 213.748,-306.021 217.385,-315.972 222.797,-311.531\"/>\r\n",
       "<text text-anchor=\"middle\" x=\"211.295\" y=\"-327.2\" font-family=\"Helvetica,sans-Serif\" font-size=\"14.00\">True</text>\r\n",
       "</g>\r\n",
       "<!-- 4 -->\r\n",
       "<g id=\"node5\" class=\"node\"><title>4</title>\r\n",
       "<path fill=\"#ffffff\" stroke=\"black\" d=\"M470,-306C470,-306 275,-306 275,-306 269,-306 263,-300 263,-294 263,-294 263,-235 263,-235 263,-229 269,-223 275,-223 275,-223 470,-223 470,-223 476,-223 482,-229 482,-235 482,-235 482,-294 482,-294 482,-300 476,-306 470,-306\"/>\r\n",
       "<text text-anchor=\"middle\" x=\"372.5\" y=\"-290.8\" font-family=\"Helvetica,sans-Serif\" font-size=\"14.00\">od280/od315稀释葡萄酒 &lt;= 2.11</text>\r\n",
       "<text text-anchor=\"middle\" x=\"372.5\" y=\"-275.8\" font-family=\"Helvetica,sans-Serif\" font-size=\"14.00\">gini = 0.593</text>\r\n",
       "<text text-anchor=\"middle\" x=\"372.5\" y=\"-260.8\" font-family=\"Helvetica,sans-Serif\" font-size=\"14.00\">samples = 72</text>\r\n",
       "<text text-anchor=\"middle\" x=\"372.5\" y=\"-245.8\" font-family=\"Helvetica,sans-Serif\" font-size=\"14.00\">value = [32, 8, 32]</text>\r\n",
       "<text text-anchor=\"middle\" x=\"372.5\" y=\"-230.8\" font-family=\"Helvetica,sans-Serif\" font-size=\"14.00\">class = 茅台</text>\r\n",
       "</g>\r\n",
       "<!-- 0&#45;&gt;4 -->\r\n",
       "<g id=\"edge4\" class=\"edge\"><title>0&#45;&gt;4</title>\r\n",
       "<path fill=\"none\" stroke=\"black\" d=\"M309.807,-341.907C317.253,-332.832 325.221,-323.121 332.894,-313.769\"/>\r\n",
       "<polygon fill=\"black\" stroke=\"black\" points=\"335.615,-315.972 339.252,-306.021 330.203,-311.531 335.615,-315.972\"/>\r\n",
       "<text text-anchor=\"middle\" x=\"341.705\" y=\"-327.2\" font-family=\"Helvetica,sans-Serif\" font-size=\"14.00\">False</text>\r\n",
       "</g>\r\n",
       "<!-- 2 -->\r\n",
       "<g id=\"node3\" class=\"node\"><title>2</title>\r\n",
       "<path fill=\"#39e581\" stroke=\"black\" d=\"M109,-179.5C109,-179.5 12,-179.5 12,-179.5 6,-179.5 0,-173.5 0,-167.5 0,-167.5 0,-123.5 0,-123.5 0,-117.5 6,-111.5 12,-111.5 12,-111.5 109,-111.5 109,-111.5 115,-111.5 121,-117.5 121,-123.5 121,-123.5 121,-167.5 121,-167.5 121,-173.5 115,-179.5 109,-179.5\"/>\r\n",
       "<text text-anchor=\"middle\" x=\"60.5\" y=\"-164.3\" font-family=\"Helvetica,sans-Serif\" font-size=\"14.00\">gini = 0.0</text>\r\n",
       "<text text-anchor=\"middle\" x=\"60.5\" y=\"-149.3\" font-family=\"Helvetica,sans-Serif\" font-size=\"14.00\">samples = 38</text>\r\n",
       "<text text-anchor=\"middle\" x=\"60.5\" y=\"-134.3\" font-family=\"Helvetica,sans-Serif\" font-size=\"14.00\">value = [0, 38, 0]</text>\r\n",
       "<text text-anchor=\"middle\" x=\"60.5\" y=\"-119.3\" font-family=\"Helvetica,sans-Serif\" font-size=\"14.00\">class = 五粮液</text>\r\n",
       "</g>\r\n",
       "<!-- 1&#45;&gt;2 -->\r\n",
       "<g id=\"edge2\" class=\"edge\"><title>1&#45;&gt;2</title>\r\n",
       "<path fill=\"none\" stroke=\"black\" d=\"M138.867,-222.907C126.87,-211.211 113.79,-198.457 101.813,-186.78\"/>\r\n",
       "<polygon fill=\"black\" stroke=\"black\" points=\"104.121,-184.142 94.5174,-179.667 99.234,-189.154 104.121,-184.142\"/>\r\n",
       "</g>\r\n",
       "<!-- 3 -->\r\n",
       "<g id=\"node4\" class=\"node\"><title>3</title>\r\n",
       "<path fill=\"#bdf6d5\" stroke=\"black\" d=\"M240,-179.5C240,-179.5 151,-179.5 151,-179.5 145,-179.5 139,-173.5 139,-167.5 139,-167.5 139,-123.5 139,-123.5 139,-117.5 145,-111.5 151,-111.5 151,-111.5 240,-111.5 240,-111.5 246,-111.5 252,-117.5 252,-123.5 252,-123.5 252,-167.5 252,-167.5 252,-173.5 246,-179.5 240,-179.5\"/>\r\n",
       "<text text-anchor=\"middle\" x=\"195.5\" y=\"-164.3\" font-family=\"Helvetica,sans-Serif\" font-size=\"14.00\">gini = 0.541</text>\r\n",
       "<text text-anchor=\"middle\" x=\"195.5\" y=\"-149.3\" font-family=\"Helvetica,sans-Serif\" font-size=\"14.00\">samples = 14</text>\r\n",
       "<text text-anchor=\"middle\" x=\"195.5\" y=\"-134.3\" font-family=\"Helvetica,sans-Serif\" font-size=\"14.00\">value = [5, 8, 1]</text>\r\n",
       "<text text-anchor=\"middle\" x=\"195.5\" y=\"-119.3\" font-family=\"Helvetica,sans-Serif\" font-size=\"14.00\">class = 五粮液</text>\r\n",
       "</g>\r\n",
       "<!-- 1&#45;&gt;3 -->\r\n",
       "<g id=\"edge3\" class=\"edge\"><title>1&#45;&gt;3</title>\r\n",
       "<path fill=\"none\" stroke=\"black\" d=\"M185.704,-222.907C187.076,-212.204 188.562,-200.615 189.952,-189.776\"/>\r\n",
       "<polygon fill=\"black\" stroke=\"black\" points=\"193.448,-190.031 191.248,-179.667 186.505,-189.141 193.448,-190.031\"/>\r\n",
       "</g>\r\n",
       "<!-- 5 -->\r\n",
       "<g id=\"node6\" class=\"node\"><title>5</title>\r\n",
       "<path fill=\"#8946e7\" stroke=\"black\" d=\"M407,-187C407,-187 310,-187 310,-187 304,-187 298,-181 298,-175 298,-175 298,-116 298,-116 298,-110 304,-104 310,-104 310,-104 407,-104 407,-104 413,-104 419,-110 419,-116 419,-116 419,-175 419,-175 419,-181 413,-187 407,-187\"/>\r\n",
       "<text text-anchor=\"middle\" x=\"358.5\" y=\"-171.8\" font-family=\"Helvetica,sans-Serif\" font-size=\"14.00\">灰 &lt;= 2.448</text>\r\n",
       "<text text-anchor=\"middle\" x=\"358.5\" y=\"-156.8\" font-family=\"Helvetica,sans-Serif\" font-size=\"14.00\">gini = 0.117</text>\r\n",
       "<text text-anchor=\"middle\" x=\"358.5\" y=\"-141.8\" font-family=\"Helvetica,sans-Serif\" font-size=\"14.00\">samples = 32</text>\r\n",
       "<text text-anchor=\"middle\" x=\"358.5\" y=\"-126.8\" font-family=\"Helvetica,sans-Serif\" font-size=\"14.00\">value = [0, 2, 30]</text>\r\n",
       "<text text-anchor=\"middle\" x=\"358.5\" y=\"-111.8\" font-family=\"Helvetica,sans-Serif\" font-size=\"14.00\">class = 泸州老窖</text>\r\n",
       "</g>\r\n",
       "<!-- 4&#45;&gt;5 -->\r\n",
       "<g id=\"edge5\" class=\"edge\"><title>4&#45;&gt;5</title>\r\n",
       "<path fill=\"none\" stroke=\"black\" d=\"M367.643,-222.907C366.644,-214.558 365.58,-205.671 364.545,-197.02\"/>\r\n",
       "<polygon fill=\"black\" stroke=\"black\" points=\"368.012,-196.534 363.349,-187.021 361.062,-197.366 368.012,-196.534\"/>\r\n",
       "</g>\r\n",
       "<!-- 8 -->\r\n",
       "<g id=\"node9\" class=\"node\"><title>8</title>\r\n",
       "<path fill=\"#eb9f68\" stroke=\"black\" d=\"M557.5,-187C557.5,-187 449.5,-187 449.5,-187 443.5,-187 437.5,-181 437.5,-175 437.5,-175 437.5,-116 437.5,-116 437.5,-110 443.5,-104 449.5,-104 449.5,-104 557.5,-104 557.5,-104 563.5,-104 569.5,-110 569.5,-116 569.5,-116 569.5,-175 569.5,-175 569.5,-181 563.5,-187 557.5,-187\"/>\r\n",
       "<text text-anchor=\"middle\" x=\"503.5\" y=\"-171.8\" font-family=\"Helvetica,sans-Serif\" font-size=\"14.00\">脯氨酸 &lt;= 899.564</text>\r\n",
       "<text text-anchor=\"middle\" x=\"503.5\" y=\"-156.8\" font-family=\"Helvetica,sans-Serif\" font-size=\"14.00\">gini = 0.335</text>\r\n",
       "<text text-anchor=\"middle\" x=\"503.5\" y=\"-141.8\" font-family=\"Helvetica,sans-Serif\" font-size=\"14.00\">samples = 40</text>\r\n",
       "<text text-anchor=\"middle\" x=\"503.5\" y=\"-126.8\" font-family=\"Helvetica,sans-Serif\" font-size=\"14.00\">value = [32, 6, 2]</text>\r\n",
       "<text text-anchor=\"middle\" x=\"503.5\" y=\"-111.8\" font-family=\"Helvetica,sans-Serif\" font-size=\"14.00\">class = 茅台</text>\r\n",
       "</g>\r\n",
       "<!-- 4&#45;&gt;8 -->\r\n",
       "<g id=\"edge8\" class=\"edge\"><title>4&#45;&gt;8</title>\r\n",
       "<path fill=\"none\" stroke=\"black\" d=\"M417.95,-222.907C428.416,-213.56 439.637,-203.538 450.396,-193.929\"/>\r\n",
       "<polygon fill=\"black\" stroke=\"black\" points=\"453.004,-196.293 458.131,-187.021 448.341,-191.072 453.004,-196.293\"/>\r\n",
       "</g>\r\n",
       "<!-- 6 -->\r\n",
       "<g id=\"node7\" class=\"node\"><title>6</title>\r\n",
       "<path fill=\"#8f4fe8\" stroke=\"black\" d=\"M270,-68C270,-68 173,-68 173,-68 167,-68 161,-62 161,-56 161,-56 161,-12 161,-12 161,-6 167,-0 173,-0 173,-0 270,-0 270,-0 276,-0 282,-6 282,-12 282,-12 282,-56 282,-56 282,-62 276,-68 270,-68\"/>\r\n",
       "<text text-anchor=\"middle\" x=\"221.5\" y=\"-52.8\" font-family=\"Helvetica,sans-Serif\" font-size=\"14.00\">gini = 0.18</text>\r\n",
       "<text text-anchor=\"middle\" x=\"221.5\" y=\"-37.8\" font-family=\"Helvetica,sans-Serif\" font-size=\"14.00\">samples = 20</text>\r\n",
       "<text text-anchor=\"middle\" x=\"221.5\" y=\"-22.8\" font-family=\"Helvetica,sans-Serif\" font-size=\"14.00\">value = [0, 2, 18]</text>\r\n",
       "<text text-anchor=\"middle\" x=\"221.5\" y=\"-7.8\" font-family=\"Helvetica,sans-Serif\" font-size=\"14.00\">class = 泸州老窖</text>\r\n",
       "</g>\r\n",
       "<!-- 5&#45;&gt;6 -->\r\n",
       "<g id=\"edge6\" class=\"edge\"><title>5&#45;&gt;6</title>\r\n",
       "<path fill=\"none\" stroke=\"black\" d=\"M307.486,-103.726C295.618,-94.2406 283,-84.1551 271.19,-74.7159\"/>\r\n",
       "<polygon fill=\"black\" stroke=\"black\" points=\"273.159,-71.8091 263.163,-68.2996 268.789,-77.2771 273.159,-71.8091\"/>\r\n",
       "</g>\r\n",
       "<!-- 7 -->\r\n",
       "<g id=\"node8\" class=\"node\"><title>7</title>\r\n",
       "<path fill=\"#8139e5\" stroke=\"black\" d=\"M409,-68C409,-68 312,-68 312,-68 306,-68 300,-62 300,-56 300,-56 300,-12 300,-12 300,-6 306,-0 312,-0 312,-0 409,-0 409,-0 415,-0 421,-6 421,-12 421,-12 421,-56 421,-56 421,-62 415,-68 409,-68\"/>\r\n",
       "<text text-anchor=\"middle\" x=\"360.5\" y=\"-52.8\" font-family=\"Helvetica,sans-Serif\" font-size=\"14.00\">gini = 0.0</text>\r\n",
       "<text text-anchor=\"middle\" x=\"360.5\" y=\"-37.8\" font-family=\"Helvetica,sans-Serif\" font-size=\"14.00\">samples = 12</text>\r\n",
       "<text text-anchor=\"middle\" x=\"360.5\" y=\"-22.8\" font-family=\"Helvetica,sans-Serif\" font-size=\"14.00\">value = [0, 0, 12]</text>\r\n",
       "<text text-anchor=\"middle\" x=\"360.5\" y=\"-7.8\" font-family=\"Helvetica,sans-Serif\" font-size=\"14.00\">class = 泸州老窖</text>\r\n",
       "</g>\r\n",
       "<!-- 5&#45;&gt;7 -->\r\n",
       "<g id=\"edge7\" class=\"edge\"><title>5&#45;&gt;7</title>\r\n",
       "<path fill=\"none\" stroke=\"black\" d=\"M359.245,-103.726C359.395,-95.5175 359.553,-86.8595 359.704,-78.56\"/>\r\n",
       "<polygon fill=\"black\" stroke=\"black\" points=\"363.208,-78.3619 359.892,-68.2996 356.21,-78.234 363.208,-78.3619\"/>\r\n",
       "</g>\r\n",
       "<!-- 9 -->\r\n",
       "<g id=\"node10\" class=\"node\"><title>9</title>\r\n",
       "<path fill=\"#e6fcef\" stroke=\"black\" d=\"M545,-68C545,-68 456,-68 456,-68 450,-68 444,-62 444,-56 444,-56 444,-12 444,-12 444,-6 450,-0 456,-0 456,-0 545,-0 545,-0 551,-0 557,-6 557,-12 557,-12 557,-56 557,-56 557,-62 551,-68 545,-68\"/>\r\n",
       "<text text-anchor=\"middle\" x=\"500.5\" y=\"-52.8\" font-family=\"Helvetica,sans-Serif\" font-size=\"14.00\">gini = 0.615</text>\r\n",
       "<text text-anchor=\"middle\" x=\"500.5\" y=\"-37.8\" font-family=\"Helvetica,sans-Serif\" font-size=\"14.00\">samples = 13</text>\r\n",
       "<text text-anchor=\"middle\" x=\"500.5\" y=\"-22.8\" font-family=\"Helvetica,sans-Serif\" font-size=\"14.00\">value = [5, 6, 2]</text>\r\n",
       "<text text-anchor=\"middle\" x=\"500.5\" y=\"-7.8\" font-family=\"Helvetica,sans-Serif\" font-size=\"14.00\">class = 五粮液</text>\r\n",
       "</g>\r\n",
       "<!-- 8&#45;&gt;9 -->\r\n",
       "<g id=\"edge9\" class=\"edge\"><title>8&#45;&gt;9</title>\r\n",
       "<path fill=\"none\" stroke=\"black\" d=\"M502.383,-103.726C502.158,-95.5175 501.921,-86.8595 501.693,-78.56\"/>\r\n",
       "<polygon fill=\"black\" stroke=\"black\" points=\"505.185,-78.2 501.412,-68.2996 498.188,-78.3917 505.185,-78.2\"/>\r\n",
       "</g>\r\n",
       "<!-- 10 -->\r\n",
       "<g id=\"node11\" class=\"node\"><title>10</title>\r\n",
       "<path fill=\"#e58139\" stroke=\"black\" d=\"M684,-68C684,-68 587,-68 587,-68 581,-68 575,-62 575,-56 575,-56 575,-12 575,-12 575,-6 581,-0 587,-0 587,-0 684,-0 684,-0 690,-0 696,-6 696,-12 696,-12 696,-56 696,-56 696,-62 690,-68 684,-68\"/>\r\n",
       "<text text-anchor=\"middle\" x=\"635.5\" y=\"-52.8\" font-family=\"Helvetica,sans-Serif\" font-size=\"14.00\">gini = 0.0</text>\r\n",
       "<text text-anchor=\"middle\" x=\"635.5\" y=\"-37.8\" font-family=\"Helvetica,sans-Serif\" font-size=\"14.00\">samples = 27</text>\r\n",
       "<text text-anchor=\"middle\" x=\"635.5\" y=\"-22.8\" font-family=\"Helvetica,sans-Serif\" font-size=\"14.00\">value = [27, 0, 0]</text>\r\n",
       "<text text-anchor=\"middle\" x=\"635.5\" y=\"-7.8\" font-family=\"Helvetica,sans-Serif\" font-size=\"14.00\">class = 茅台</text>\r\n",
       "</g>\r\n",
       "<!-- 8&#45;&gt;10 -->\r\n",
       "<g id=\"edge10\" class=\"edge\"><title>8&#45;&gt;10</title>\r\n",
       "<path fill=\"none\" stroke=\"black\" d=\"M552.652,-103.726C564.087,-94.2406 576.245,-84.1551 587.623,-74.7159\"/>\r\n",
       "<polygon fill=\"black\" stroke=\"black\" points=\"589.896,-77.3781 595.358,-68.2996 585.427,-71.9905 589.896,-77.3781\"/>\r\n",
       "</g>\r\n",
       "</g>\r\n",
       "</svg>\r\n"
      ],
      "text/plain": [
       "<graphviz.files.Source at 0x279b6954a20>"
      ]
     },
     "execution_count": 20,
     "metadata": {},
     "output_type": "execute_result"
    }
   ],
   "source": [
    "graph, score = draw_graph(random_state=30,\n",
    "                          splitter='random',\n",
    "                          max_depth=4,\n",
    "                          min_samples_leaf=10\n",
    "                          )\n",
    "graph"
   ]
  },
  {
   "cell_type": "code",
   "execution_count": 21,
   "metadata": {
    "ExecuteTime": {
     "end_time": "2019-12-05T00:52:18.118811Z",
     "start_time": "2019-12-05T00:52:18.100285Z"
    }
   },
   "outputs": [
    {
     "data": {
      "text/plain": [
       "0.8703703703703703"
      ]
     },
     "execution_count": 21,
     "metadata": {},
     "output_type": "execute_result"
    }
   ],
   "source": [
    "score"
   ]
  },
  {
   "cell_type": "code",
   "execution_count": 22,
   "metadata": {
    "ExecuteTime": {
     "end_time": "2019-12-05T00:52:19.406905Z",
     "start_time": "2019-12-05T00:52:19.121752Z"
    }
   },
   "outputs": [
    {
     "data": {
      "image/svg+xml": [
       "<?xml version=\"1.0\" encoding=\"UTF-8\" standalone=\"no\"?>\r\n",
       "<!DOCTYPE svg PUBLIC \"-//W3C//DTD SVG 1.1//EN\"\r\n",
       " \"http://www.w3.org/Graphics/SVG/1.1/DTD/svg11.dtd\">\r\n",
       "<!-- Generated by graphviz version 2.38.0 (20140413.2041)\r\n",
       " -->\r\n",
       "<!-- Title: Tree Pages: 1 -->\r\n",
       "<svg width=\"635pt\" height=\"552pt\"\r\n",
       " viewBox=\"0.00 0.00 635.00 552.00\" xmlns=\"http://www.w3.org/2000/svg\" xmlns:xlink=\"http://www.w3.org/1999/xlink\">\r\n",
       "<g id=\"graph0\" class=\"graph\" transform=\"scale(1 1) rotate(0) translate(4 548)\">\r\n",
       "<title>Tree</title>\r\n",
       "<polygon fill=\"white\" stroke=\"none\" points=\"-4,4 -4,-548 631,-548 631,4 -4,4\"/>\r\n",
       "<!-- 0 -->\r\n",
       "<g id=\"node1\" class=\"node\"><title>0</title>\r\n",
       "<path fill=\"#d8fae6\" stroke=\"black\" d=\"M333,-544C333,-544 220,-544 220,-544 214,-544 208,-538 208,-532 208,-532 208,-473 208,-473 208,-467 214,-461 220,-461 220,-461 333,-461 333,-461 339,-461 345,-467 345,-473 345,-473 345,-532 345,-532 345,-538 339,-544 333,-544\"/>\r\n",
       "<text text-anchor=\"middle\" x=\"276.5\" y=\"-528.8\" font-family=\"Helvetica,sans-Serif\" font-size=\"14.00\">颜色强度 &lt;= 3.82</text>\r\n",
       "<text text-anchor=\"middle\" x=\"276.5\" y=\"-513.8\" font-family=\"Helvetica,sans-Serif\" font-size=\"14.00\">gini = 0.65</text>\r\n",
       "<text text-anchor=\"middle\" x=\"276.5\" y=\"-498.8\" font-family=\"Helvetica,sans-Serif\" font-size=\"14.00\">samples = 124</text>\r\n",
       "<text text-anchor=\"middle\" x=\"276.5\" y=\"-483.8\" font-family=\"Helvetica,sans-Serif\" font-size=\"14.00\">value = [37, 54, 33]</text>\r\n",
       "<text text-anchor=\"middle\" x=\"276.5\" y=\"-468.8\" font-family=\"Helvetica,sans-Serif\" font-size=\"14.00\">class = 五粮液</text>\r\n",
       "</g>\r\n",
       "<!-- 1 -->\r\n",
       "<g id=\"node2\" class=\"node\"><title>1</title>\r\n",
       "<path fill=\"#42e687\" stroke=\"black\" d=\"M278,-425C278,-425 83,-425 83,-425 77,-425 71,-419 71,-413 71,-413 71,-354 71,-354 71,-348 77,-342 83,-342 83,-342 278,-342 278,-342 284,-342 290,-348 290,-354 290,-354 290,-413 290,-413 290,-419 284,-425 278,-425\"/>\r\n",
       "<text text-anchor=\"middle\" x=\"180.5\" y=\"-409.8\" font-family=\"Helvetica,sans-Serif\" font-size=\"14.00\">od280/od315稀释葡萄酒 &lt;= 3.36</text>\r\n",
       "<text text-anchor=\"middle\" x=\"180.5\" y=\"-394.8\" font-family=\"Helvetica,sans-Serif\" font-size=\"14.00\">gini = 0.081</text>\r\n",
       "<text text-anchor=\"middle\" x=\"180.5\" y=\"-379.8\" font-family=\"Helvetica,sans-Serif\" font-size=\"14.00\">samples = 47</text>\r\n",
       "<text text-anchor=\"middle\" x=\"180.5\" y=\"-364.8\" font-family=\"Helvetica,sans-Serif\" font-size=\"14.00\">value = [2, 45, 0]</text>\r\n",
       "<text text-anchor=\"middle\" x=\"180.5\" y=\"-349.8\" font-family=\"Helvetica,sans-Serif\" font-size=\"14.00\">class = 五粮液</text>\r\n",
       "</g>\r\n",
       "<!-- 0&#45;&gt;1 -->\r\n",
       "<g id=\"edge1\" class=\"edge\"><title>0&#45;&gt;1</title>\r\n",
       "<path fill=\"none\" stroke=\"black\" d=\"M243.193,-460.907C235.747,-451.832 227.779,-442.121 220.106,-432.769\"/>\r\n",
       "<polygon fill=\"black\" stroke=\"black\" points=\"222.797,-430.531 213.748,-425.021 217.385,-434.972 222.797,-430.531\"/>\r\n",
       "<text text-anchor=\"middle\" x=\"211.295\" y=\"-446.2\" font-family=\"Helvetica,sans-Serif\" font-size=\"14.00\">True</text>\r\n",
       "</g>\r\n",
       "<!-- 4 -->\r\n",
       "<g id=\"node5\" class=\"node\"><title>4</title>\r\n",
       "<path fill=\"#fef9f6\" stroke=\"black\" d=\"M425,-425C425,-425 320,-425 320,-425 314,-425 308,-419 308,-413 308,-413 308,-354 308,-354 308,-348 314,-342 320,-342 320,-342 425,-342 425,-342 431,-342 437,-348 437,-354 437,-354 437,-413 437,-413 437,-419 431,-425 425,-425\"/>\r\n",
       "<text text-anchor=\"middle\" x=\"372.5\" y=\"-409.8\" font-family=\"Helvetica,sans-Serif\" font-size=\"14.00\">类黄酮 &lt;= 1.4</text>\r\n",
       "<text text-anchor=\"middle\" x=\"372.5\" y=\"-394.8\" font-family=\"Helvetica,sans-Serif\" font-size=\"14.00\">gini = 0.596</text>\r\n",
       "<text text-anchor=\"middle\" x=\"372.5\" y=\"-379.8\" font-family=\"Helvetica,sans-Serif\" font-size=\"14.00\">samples = 77</text>\r\n",
       "<text text-anchor=\"middle\" x=\"372.5\" y=\"-364.8\" font-family=\"Helvetica,sans-Serif\" font-size=\"14.00\">value = [35, 9, 33]</text>\r\n",
       "<text text-anchor=\"middle\" x=\"372.5\" y=\"-349.8\" font-family=\"Helvetica,sans-Serif\" font-size=\"14.00\">class = 茅台</text>\r\n",
       "</g>\r\n",
       "<!-- 0&#45;&gt;4 -->\r\n",
       "<g id=\"edge4\" class=\"edge\"><title>0&#45;&gt;4</title>\r\n",
       "<path fill=\"none\" stroke=\"black\" d=\"M309.807,-460.907C317.253,-451.832 325.221,-442.121 332.894,-432.769\"/>\r\n",
       "<polygon fill=\"black\" stroke=\"black\" points=\"335.615,-434.972 339.252,-425.021 330.203,-430.531 335.615,-434.972\"/>\r\n",
       "<text text-anchor=\"middle\" x=\"341.705\" y=\"-446.2\" font-family=\"Helvetica,sans-Serif\" font-size=\"14.00\">False</text>\r\n",
       "</g>\r\n",
       "<!-- 2 -->\r\n",
       "<g id=\"node3\" class=\"node\"><title>2</title>\r\n",
       "<path fill=\"#39e581\" stroke=\"black\" d=\"M109,-298.5C109,-298.5 12,-298.5 12,-298.5 6,-298.5 0,-292.5 0,-286.5 0,-286.5 0,-242.5 0,-242.5 0,-236.5 6,-230.5 12,-230.5 12,-230.5 109,-230.5 109,-230.5 115,-230.5 121,-236.5 121,-242.5 121,-242.5 121,-286.5 121,-286.5 121,-292.5 115,-298.5 109,-298.5\"/>\r\n",
       "<text text-anchor=\"middle\" x=\"60.5\" y=\"-283.3\" font-family=\"Helvetica,sans-Serif\" font-size=\"14.00\">gini = 0.0</text>\r\n",
       "<text text-anchor=\"middle\" x=\"60.5\" y=\"-268.3\" font-family=\"Helvetica,sans-Serif\" font-size=\"14.00\">samples = 42</text>\r\n",
       "<text text-anchor=\"middle\" x=\"60.5\" y=\"-253.3\" font-family=\"Helvetica,sans-Serif\" font-size=\"14.00\">value = [0, 42, 0]</text>\r\n",
       "<text text-anchor=\"middle\" x=\"60.5\" y=\"-238.3\" font-family=\"Helvetica,sans-Serif\" font-size=\"14.00\">class = 五粮液</text>\r\n",
       "</g>\r\n",
       "<!-- 1&#45;&gt;2 -->\r\n",
       "<g id=\"edge2\" class=\"edge\"><title>1&#45;&gt;2</title>\r\n",
       "<path fill=\"none\" stroke=\"black\" d=\"M138.867,-341.907C126.87,-330.211 113.79,-317.457 101.813,-305.78\"/>\r\n",
       "<polygon fill=\"black\" stroke=\"black\" points=\"104.121,-303.142 94.5174,-298.667 99.234,-308.154 104.121,-303.142\"/>\r\n",
       "</g>\r\n",
       "<!-- 3 -->\r\n",
       "<g id=\"node4\" class=\"node\"><title>3</title>\r\n",
       "<path fill=\"#bdf6d5\" stroke=\"black\" d=\"M240,-298.5C240,-298.5 151,-298.5 151,-298.5 145,-298.5 139,-292.5 139,-286.5 139,-286.5 139,-242.5 139,-242.5 139,-236.5 145,-230.5 151,-230.5 151,-230.5 240,-230.5 240,-230.5 246,-230.5 252,-236.5 252,-242.5 252,-242.5 252,-286.5 252,-286.5 252,-292.5 246,-298.5 240,-298.5\"/>\r\n",
       "<text text-anchor=\"middle\" x=\"195.5\" y=\"-283.3\" font-family=\"Helvetica,sans-Serif\" font-size=\"14.00\">gini = 0.48</text>\r\n",
       "<text text-anchor=\"middle\" x=\"195.5\" y=\"-268.3\" font-family=\"Helvetica,sans-Serif\" font-size=\"14.00\">samples = 5</text>\r\n",
       "<text text-anchor=\"middle\" x=\"195.5\" y=\"-253.3\" font-family=\"Helvetica,sans-Serif\" font-size=\"14.00\">value = [2, 3, 0]</text>\r\n",
       "<text text-anchor=\"middle\" x=\"195.5\" y=\"-238.3\" font-family=\"Helvetica,sans-Serif\" font-size=\"14.00\">class = 五粮液</text>\r\n",
       "</g>\r\n",
       "<!-- 1&#45;&gt;3 -->\r\n",
       "<g id=\"edge3\" class=\"edge\"><title>1&#45;&gt;3</title>\r\n",
       "<path fill=\"none\" stroke=\"black\" d=\"M185.704,-341.907C187.076,-331.204 188.562,-319.615 189.952,-308.776\"/>\r\n",
       "<polygon fill=\"black\" stroke=\"black\" points=\"193.448,-309.031 191.248,-298.667 186.505,-308.141 193.448,-309.031\"/>\r\n",
       "</g>\r\n",
       "<!-- 5 -->\r\n",
       "<g id=\"node6\" class=\"node\"><title>5</title>\r\n",
       "<path fill=\"#8139e5\" stroke=\"black\" d=\"M407,-298.5C407,-298.5 310,-298.5 310,-298.5 304,-298.5 298,-292.5 298,-286.5 298,-286.5 298,-242.5 298,-242.5 298,-236.5 304,-230.5 310,-230.5 310,-230.5 407,-230.5 407,-230.5 413,-230.5 419,-236.5 419,-242.5 419,-242.5 419,-286.5 419,-286.5 419,-292.5 413,-298.5 407,-298.5\"/>\r\n",
       "<text text-anchor=\"middle\" x=\"358.5\" y=\"-283.3\" font-family=\"Helvetica,sans-Serif\" font-size=\"14.00\">gini = 0.0</text>\r\n",
       "<text text-anchor=\"middle\" x=\"358.5\" y=\"-268.3\" font-family=\"Helvetica,sans-Serif\" font-size=\"14.00\">samples = 33</text>\r\n",
       "<text text-anchor=\"middle\" x=\"358.5\" y=\"-253.3\" font-family=\"Helvetica,sans-Serif\" font-size=\"14.00\">value = [0, 0, 33]</text>\r\n",
       "<text text-anchor=\"middle\" x=\"358.5\" y=\"-238.3\" font-family=\"Helvetica,sans-Serif\" font-size=\"14.00\">class = 泸州老窖</text>\r\n",
       "</g>\r\n",
       "<!-- 4&#45;&gt;5 -->\r\n",
       "<g id=\"edge5\" class=\"edge\"><title>4&#45;&gt;5</title>\r\n",
       "<path fill=\"none\" stroke=\"black\" d=\"M367.643,-341.907C366.362,-331.204 364.975,-319.615 363.678,-308.776\"/>\r\n",
       "<polygon fill=\"black\" stroke=\"black\" points=\"367.132,-308.18 362.469,-298.667 360.182,-309.012 367.132,-308.18\"/>\r\n",
       "</g>\r\n",
       "<!-- 6 -->\r\n",
       "<g id=\"node7\" class=\"node\"><title>6</title>\r\n",
       "<path fill=\"#eca16c\" stroke=\"black\" d=\"M546,-306C546,-306 449,-306 449,-306 443,-306 437,-300 437,-294 437,-294 437,-235 437,-235 437,-229 443,-223 449,-223 449,-223 546,-223 546,-223 552,-223 558,-229 558,-235 558,-235 558,-294 558,-294 558,-300 552,-306 546,-306\"/>\r\n",
       "<text text-anchor=\"middle\" x=\"497.5\" y=\"-290.8\" font-family=\"Helvetica,sans-Serif\" font-size=\"14.00\">脯氨酸 &lt;= 737.0</text>\r\n",
       "<text text-anchor=\"middle\" x=\"497.5\" y=\"-275.8\" font-family=\"Helvetica,sans-Serif\" font-size=\"14.00\">gini = 0.325</text>\r\n",
       "<text text-anchor=\"middle\" x=\"497.5\" y=\"-260.8\" font-family=\"Helvetica,sans-Serif\" font-size=\"14.00\">samples = 44</text>\r\n",
       "<text text-anchor=\"middle\" x=\"497.5\" y=\"-245.8\" font-family=\"Helvetica,sans-Serif\" font-size=\"14.00\">value = [35, 9, 0]</text>\r\n",
       "<text text-anchor=\"middle\" x=\"497.5\" y=\"-230.8\" font-family=\"Helvetica,sans-Serif\" font-size=\"14.00\">class = 茅台</text>\r\n",
       "</g>\r\n",
       "<!-- 4&#45;&gt;6 -->\r\n",
       "<g id=\"edge6\" class=\"edge\"><title>4&#45;&gt;6</title>\r\n",
       "<path fill=\"none\" stroke=\"black\" d=\"M415.868,-341.907C425.855,-332.56 436.562,-322.538 446.828,-312.929\"/>\r\n",
       "<polygon fill=\"black\" stroke=\"black\" points=\"449.299,-315.41 454.209,-306.021 444.516,-310.299 449.299,-315.41\"/>\r\n",
       "</g>\r\n",
       "<!-- 7 -->\r\n",
       "<g id=\"node8\" class=\"node\"><title>7</title>\r\n",
       "<path fill=\"#4fe88f\" stroke=\"black\" d=\"M475.5,-187C475.5,-187 379.5,-187 379.5,-187 373.5,-187 367.5,-181 367.5,-175 367.5,-175 367.5,-116 367.5,-116 367.5,-110 373.5,-104 379.5,-104 379.5,-104 475.5,-104 475.5,-104 481.5,-104 487.5,-110 487.5,-116 487.5,-116 487.5,-175 487.5,-175 487.5,-181 481.5,-187 475.5,-187\"/>\r\n",
       "<text text-anchor=\"middle\" x=\"427.5\" y=\"-171.8\" font-family=\"Helvetica,sans-Serif\" font-size=\"14.00\">颜色强度 &lt;= 4.64</text>\r\n",
       "<text text-anchor=\"middle\" x=\"427.5\" y=\"-156.8\" font-family=\"Helvetica,sans-Serif\" font-size=\"14.00\">gini = 0.18</text>\r\n",
       "<text text-anchor=\"middle\" x=\"427.5\" y=\"-141.8\" font-family=\"Helvetica,sans-Serif\" font-size=\"14.00\">samples = 10</text>\r\n",
       "<text text-anchor=\"middle\" x=\"427.5\" y=\"-126.8\" font-family=\"Helvetica,sans-Serif\" font-size=\"14.00\">value = [1, 9, 0]</text>\r\n",
       "<text text-anchor=\"middle\" x=\"427.5\" y=\"-111.8\" font-family=\"Helvetica,sans-Serif\" font-size=\"14.00\">class = 五粮液</text>\r\n",
       "</g>\r\n",
       "<!-- 6&#45;&gt;7 -->\r\n",
       "<g id=\"edge7\" class=\"edge\"><title>6&#45;&gt;7</title>\r\n",
       "<path fill=\"none\" stroke=\"black\" d=\"M473.214,-222.907C467.947,-214.105 462.322,-204.703 456.883,-195.612\"/>\r\n",
       "<polygon fill=\"black\" stroke=\"black\" points=\"459.881,-193.805 451.743,-187.021 453.874,-197.399 459.881,-193.805\"/>\r\n",
       "</g>\r\n",
       "<!-- 10 -->\r\n",
       "<g id=\"node11\" class=\"node\"><title>10</title>\r\n",
       "<path fill=\"#e58139\" stroke=\"black\" d=\"M615,-179.5C615,-179.5 518,-179.5 518,-179.5 512,-179.5 506,-173.5 506,-167.5 506,-167.5 506,-123.5 506,-123.5 506,-117.5 512,-111.5 518,-111.5 518,-111.5 615,-111.5 615,-111.5 621,-111.5 627,-117.5 627,-123.5 627,-123.5 627,-167.5 627,-167.5 627,-173.5 621,-179.5 615,-179.5\"/>\r\n",
       "<text text-anchor=\"middle\" x=\"566.5\" y=\"-164.3\" font-family=\"Helvetica,sans-Serif\" font-size=\"14.00\">gini = 0.0</text>\r\n",
       "<text text-anchor=\"middle\" x=\"566.5\" y=\"-149.3\" font-family=\"Helvetica,sans-Serif\" font-size=\"14.00\">samples = 34</text>\r\n",
       "<text text-anchor=\"middle\" x=\"566.5\" y=\"-134.3\" font-family=\"Helvetica,sans-Serif\" font-size=\"14.00\">value = [34, 0, 0]</text>\r\n",
       "<text text-anchor=\"middle\" x=\"566.5\" y=\"-119.3\" font-family=\"Helvetica,sans-Serif\" font-size=\"14.00\">class = 茅台</text>\r\n",
       "</g>\r\n",
       "<!-- 6&#45;&gt;10 -->\r\n",
       "<g id=\"edge10\" class=\"edge\"><title>6&#45;&gt;10</title>\r\n",
       "<path fill=\"none\" stroke=\"black\" d=\"M521.439,-222.907C528.012,-211.763 535.15,-199.658 541.767,-188.439\"/>\r\n",
       "<polygon fill=\"black\" stroke=\"black\" points=\"544.875,-190.059 546.94,-179.667 538.845,-186.503 544.875,-190.059\"/>\r\n",
       "</g>\r\n",
       "<!-- 8 -->\r\n",
       "<g id=\"node9\" class=\"node\"><title>8</title>\r\n",
       "<path fill=\"#6aeca0\" stroke=\"black\" d=\"M407,-68C407,-68 318,-68 318,-68 312,-68 306,-62 306,-56 306,-56 306,-12 306,-12 306,-6 312,-0 318,-0 318,-0 407,-0 407,-0 413,-0 419,-6 419,-12 419,-12 419,-56 419,-56 419,-62 413,-68 407,-68\"/>\r\n",
       "<text text-anchor=\"middle\" x=\"362.5\" y=\"-52.8\" font-family=\"Helvetica,sans-Serif\" font-size=\"14.00\">gini = 0.32</text>\r\n",
       "<text text-anchor=\"middle\" x=\"362.5\" y=\"-37.8\" font-family=\"Helvetica,sans-Serif\" font-size=\"14.00\">samples = 5</text>\r\n",
       "<text text-anchor=\"middle\" x=\"362.5\" y=\"-22.8\" font-family=\"Helvetica,sans-Serif\" font-size=\"14.00\">value = [1, 4, 0]</text>\r\n",
       "<text text-anchor=\"middle\" x=\"362.5\" y=\"-7.8\" font-family=\"Helvetica,sans-Serif\" font-size=\"14.00\">class = 五粮液</text>\r\n",
       "</g>\r\n",
       "<!-- 7&#45;&gt;8 -->\r\n",
       "<g id=\"edge8\" class=\"edge\"><title>7&#45;&gt;8</title>\r\n",
       "<path fill=\"none\" stroke=\"black\" d=\"M403.296,-103.726C398.099,-94.9703 392.598,-85.7032 387.375,-76.9051\"/>\r\n",
       "<polygon fill=\"black\" stroke=\"black\" points=\"390.381,-75.1121 382.267,-68.2996 384.362,-78.6853 390.381,-75.1121\"/>\r\n",
       "</g>\r\n",
       "<!-- 9 -->\r\n",
       "<g id=\"node10\" class=\"node\"><title>9</title>\r\n",
       "<path fill=\"#39e581\" stroke=\"black\" d=\"M538,-68C538,-68 449,-68 449,-68 443,-68 437,-62 437,-56 437,-56 437,-12 437,-12 437,-6 443,-0 449,-0 449,-0 538,-0 538,-0 544,-0 550,-6 550,-12 550,-12 550,-56 550,-56 550,-62 544,-68 538,-68\"/>\r\n",
       "<text text-anchor=\"middle\" x=\"493.5\" y=\"-52.8\" font-family=\"Helvetica,sans-Serif\" font-size=\"14.00\">gini = 0.0</text>\r\n",
       "<text text-anchor=\"middle\" x=\"493.5\" y=\"-37.8\" font-family=\"Helvetica,sans-Serif\" font-size=\"14.00\">samples = 5</text>\r\n",
       "<text text-anchor=\"middle\" x=\"493.5\" y=\"-22.8\" font-family=\"Helvetica,sans-Serif\" font-size=\"14.00\">value = [0, 5, 0]</text>\r\n",
       "<text text-anchor=\"middle\" x=\"493.5\" y=\"-7.8\" font-family=\"Helvetica,sans-Serif\" font-size=\"14.00\">class = 五粮液</text>\r\n",
       "</g>\r\n",
       "<!-- 7&#45;&gt;9 -->\r\n",
       "<g id=\"edge9\" class=\"edge\"><title>7&#45;&gt;9</title>\r\n",
       "<path fill=\"none\" stroke=\"black\" d=\"M452.076,-103.726C457.354,-94.9703 462.939,-85.7032 468.242,-76.9051\"/>\r\n",
       "<polygon fill=\"black\" stroke=\"black\" points=\"471.264,-78.671 473.429,-68.2996 465.269,-75.0574 471.264,-78.671\"/>\r\n",
       "</g>\r\n",
       "</g>\r\n",
       "</svg>\r\n"
      ],
      "text/plain": [
       "<graphviz.files.Source at 0x279b6954ba8>"
      ]
     },
     "execution_count": 22,
     "metadata": {},
     "output_type": "execute_result"
    }
   ],
   "source": [
    "graph, score = draw_graph(random_state=30,\n",
    "                          splitter='best',\n",
    "                          max_depth=4,\n",
    "                          min_samples_leaf=5,\n",
    "                          min_samples_split=2\n",
    "                          )\n",
    "graph"
   ]
  },
  {
   "cell_type": "code",
   "execution_count": 23,
   "metadata": {
    "ExecuteTime": {
     "end_time": "2019-12-05T00:52:45.519112Z",
     "start_time": "2019-12-05T00:52:45.500133Z"
    }
   },
   "outputs": [
    {
     "data": {
      "text/plain": [
       "0.9259259259259259"
      ]
     },
     "execution_count": 23,
     "metadata": {},
     "output_type": "execute_result"
    }
   ],
   "source": [
    "score"
   ]
  },
  {
   "cell_type": "markdown",
   "metadata": {},
   "source": [
    "#### 确定最优参数"
   ]
  },
  {
   "cell_type": "code",
   "execution_count": 25,
   "metadata": {
    "ExecuteTime": {
     "end_time": "2019-12-05T00:52:52.085438Z",
     "start_time": "2019-12-05T00:52:51.785570Z"
    }
   },
   "outputs": [
    {
     "data": {
      "image/png": "[encoded data removed]",
      "text/plain": [
       "<Figure size 432x288 with 1 Axes>"
      ]
     },
     "metadata": {
      "needs_background": "light"
     },
     "output_type": "display_data"
    }
   ],
   "source": [
    "import matplotlib.pyplot as plt\n",
    "test = []\n",
    "for i in range(10):\n",
    "    clf = tree.DecisionTreeClassifier(max_depth=i+1\n",
    "                                    ,criterion=\"entropy\"\n",
    "                                    ,random_state=30\n",
    "                                    ,splitter=\"random\"\n",
    "                                    )\n",
    "    clf = clf.fit(x_train, y_train)\n",
    "    score = clf.score(x_test, y_test)\n",
    "    test.append(score)\n",
    "plt.plot(range(1,11),test,color=\"red\",label=\"max_depth\")\n",
    "plt.legend()\n",
    "plt.show()"
   ]
  },
  {
   "cell_type": "code",
   "execution_count": 26,
   "metadata": {
    "ExecuteTime": {
     "end_time": "2019-12-05T00:53:03.251734Z",
     "start_time": "2019-12-05T00:53:03.236347Z"
    }
   },
   "outputs": [],
   "source": [
    "clf = tree.DecisionTreeClassifier(max_depth=4\n",
    "                                ,criterion=\"entropy\"\n",
    "                                ,random_state=30\n",
    "                                ,splitter=\"random\"\n",
    "                                )\n",
    "clf = clf.fit(x_train, y_train)"
   ]
  },
  {
   "cell_type": "code",
   "execution_count": 27,
   "metadata": {
    "ExecuteTime": {
     "end_time": "2019-12-05T00:53:03.682559Z",
     "start_time": "2019-12-05T00:53:03.669006Z"
    }
   },
   "outputs": [
    {
     "data": {
      "text/plain": [
       "0.8703703703703703"
      ]
     },
     "execution_count": 27,
     "metadata": {},
     "output_type": "execute_result"
    }
   ],
   "source": [
    "clf.score(x_train, y_train)\n",
    "clf.score(x_test, y_test)"
   ]
  },
  {
   "cell_type": "markdown",
   "metadata": {},
   "source": [
    "#### 重要属性和接口"
   ]
  },
  {
   "cell_type": "markdown",
   "metadata": {},
   "source": [
    "属性是在模型训练之后，能够调用查看的模型的各种性质。对决策树来说，最重要的是feature_importances_，能\n",
    "够查看各个特征对模型的重要性。  \n",
    "\n",
    "sklearn中许多算法的接口都是相似的，比如说我们之前已经用到的fit和score，几乎对每个算法都可以使用。除了\n",
    "这两个接口之外，决策树最常用的接口还有apply和predict。apply中输入测试集返回每个测试样本所在的叶子节点的索引，predict输入测试集返回每个测试样本的标签。返回的内容一目了然并且非常容易。   \n",
    "在这里不得不提的是，**所有接口中要求输入X_train和X_test的部分，输入的特征矩阵必须至少是一个二维矩阵。\n",
    "sklearn不接受任何一维矩阵作为特征矩阵被输入**。如果你的数据的确只有一个特征，那必须用reshape(-1,1)来给\n",
    "矩阵增维；如果你的数据只有一个特征和一个样本，使用reshape(1,-1)来给你的数据增维。"
   ]
  },
  {
   "cell_type": "code",
   "execution_count": 160,
   "metadata": {
    "ExecuteTime": {
     "end_time": "2019-11-29T12:36:37.683089Z",
     "start_time": "2019-11-29T12:36:37.661800Z"
    }
   },
   "outputs": [
    {
     "data": {
      "text/plain": [
       "array([ 3, 16,  3, 19,  5, 14, 20, 16,  3, 14, 16, 10, 20, 20,  6, 20, 10,\n",
       "       20, 20,  6,  5, 17, 16, 14, 20,  6,  5, 20, 14,  3,  9, 20, 10, 20,\n",
       "       16, 14, 19, 16, 10, 20,  3, 20, 17, 20, 20, 20,  3, 20, 14, 20, 20,\n",
       "       16, 16,  3], dtype=int64)"
      ]
     },
     "execution_count": 160,
     "metadata": {},
     "output_type": "execute_result"
    }
   ],
   "source": [
    "#apply返回每个测试样本所在的叶子节点的索引\n",
    "clf.apply(x_test)"
   ]
  },
  {
   "cell_type": "code",
   "execution_count": 143,
   "metadata": {
    "ExecuteTime": {
     "end_time": "2019-11-29T12:28:42.779070Z",
     "start_time": "2019-11-29T12:28:42.762648Z"
    }
   },
   "outputs": [
    {
     "data": {
      "text/plain": [
       "array([2, 1, 2, 1, 2, 1, 0, 1, 2, 1, 1, 1, 0, 0, 1, 0, 1, 0, 0, 1, 2, 0,\n",
       "       1, 1, 0, 1, 2, 0, 1, 2, 2, 0, 1, 0, 1, 1, 1, 1, 1, 0, 2, 0, 0, 0,\n",
       "       0, 0, 2, 0, 1, 0, 0, 1, 1, 2])"
      ]
     },
     "execution_count": 143,
     "metadata": {},
     "output_type": "execute_result"
    }
   ],
   "source": [
    "clf.predict(x_test)"
   ]
  },
  {
   "cell_type": "code",
   "execution_count": 153,
   "metadata": {
    "ExecuteTime": {
     "end_time": "2019-11-29T12:31:53.217540Z",
     "start_time": "2019-11-29T12:31:52.925443Z"
    }
   },
   "outputs": [
    {
     "data": {
      "image/svg+xml": [
       "<?xml version=\"1.0\" encoding=\"UTF-8\" standalone=\"no\"?>\r\n",
       "<!DOCTYPE svg PUBLIC \"-//W3C//DTD SVG 1.1//EN\"\r\n",
       " \"http://www.w3.org/Graphics/SVG/1.1/DTD/svg11.dtd\">\r\n",
       "<!-- Generated by graphviz version 2.38.0 (20140413.2041)\r\n",
       " -->\r\n",
       "<!-- Title: Tree Pages: 1 -->\r\n",
       "<svg width=\"1096pt\" height=\"477pt\"\r\n",
       " viewBox=\"0.00 0.00 1096.00 477.00\" xmlns=\"http://www.w3.org/2000/svg\" xmlns:xlink=\"http://www.w3.org/1999/xlink\">\r\n",
       "<g id=\"graph0\" class=\"graph\" transform=\"scale(1 1) rotate(0) translate(4 473)\">\r\n",
       "<title>Tree</title>\r\n",
       "<polygon fill=\"white\" stroke=\"none\" points=\"-4,4 -4,-473 1092,-473 1092,4 -4,4\"/>\r\n",
       "<!-- 0 -->\r\n",
       "<g id=\"node1\" class=\"node\"><title>0</title>\r\n",
       "<polygon fill=\"#fafefc\" stroke=\"black\" points=\"562.5,-469 437.5,-469 437.5,-401 562.5,-401 562.5,-469\"/>\r\n",
       "<text text-anchor=\"middle\" x=\"500\" y=\"-453.8\" font-family=\"Times New Roman,serif\" font-size=\"14.00\">类黄酮 &lt;= 1.714</text>\r\n",
       "<text text-anchor=\"middle\" x=\"500\" y=\"-438.8\" font-family=\"Times New Roman,serif\" font-size=\"14.00\">entropy = 1.582</text>\r\n",
       "<text text-anchor=\"middle\" x=\"500\" y=\"-423.8\" font-family=\"Times New Roman,serif\" font-size=\"14.00\">samples = 124</text>\r\n",
       "<text text-anchor=\"middle\" x=\"500\" y=\"-408.8\" font-family=\"Times New Roman,serif\" font-size=\"14.00\">value = [42, 44, 38]</text>\r\n",
       "</g>\r\n",
       "<!-- 1 -->\r\n",
       "<g id=\"node2\" class=\"node\"><title>1</title>\r\n",
       "<polygon fill=\"#b387ef\" stroke=\"black\" points=\"496.5,-365 287.5,-365 287.5,-297 496.5,-297 496.5,-365\"/>\r\n",
       "<text text-anchor=\"middle\" x=\"392\" y=\"-349.8\" font-family=\"Times New Roman,serif\" font-size=\"14.00\">od280/od315稀释葡萄酒 &lt;= 2.112</text>\r\n",
       "<text text-anchor=\"middle\" x=\"392\" y=\"-334.8\" font-family=\"Times New Roman,serif\" font-size=\"14.00\">entropy = 0.86</text>\r\n",
       "<text text-anchor=\"middle\" x=\"392\" y=\"-319.8\" font-family=\"Times New Roman,serif\" font-size=\"14.00\">samples = 53</text>\r\n",
       "<text text-anchor=\"middle\" x=\"392\" y=\"-304.8\" font-family=\"Times New Roman,serif\" font-size=\"14.00\">value = [0, 15, 38]</text>\r\n",
       "</g>\r\n",
       "<!-- 0&#45;&gt;1 -->\r\n",
       "<g id=\"edge1\" class=\"edge\"><title>0&#45;&gt;1</title>\r\n",
       "<path fill=\"none\" stroke=\"black\" d=\"M464.935,-400.884C455.316,-391.798 444.778,-381.845 434.777,-372.4\"/>\r\n",
       "<polygon fill=\"black\" stroke=\"black\" points=\"436.931,-369.621 427.258,-365.299 432.125,-374.71 436.931,-369.621\"/>\r\n",
       "<text text-anchor=\"middle\" x=\"427.972\" y=\"-386.589\" font-family=\"Times New Roman,serif\" font-size=\"14.00\">True</text>\r\n",
       "</g>\r\n",
       "<!-- 12 -->\r\n",
       "<g id=\"node13\" class=\"node\"><title>12</title>\r\n",
       "<polygon fill=\"#f7d8c2\" stroke=\"black\" points=\"667.5,-365 548.5,-365 548.5,-297 667.5,-297 667.5,-365\"/>\r\n",
       "<text text-anchor=\"middle\" x=\"608\" y=\"-349.8\" font-family=\"Times New Roman,serif\" font-size=\"14.00\">酒精 &lt;= 12.925</text>\r\n",
       "<text text-anchor=\"middle\" x=\"608\" y=\"-334.8\" font-family=\"Times New Roman,serif\" font-size=\"14.00\">entropy = 0.976</text>\r\n",
       "<text text-anchor=\"middle\" x=\"608\" y=\"-319.8\" font-family=\"Times New Roman,serif\" font-size=\"14.00\">samples = 71</text>\r\n",
       "<text text-anchor=\"middle\" x=\"608\" y=\"-304.8\" font-family=\"Times New Roman,serif\" font-size=\"14.00\">value = [42, 29, 0]</text>\r\n",
       "</g>\r\n",
       "<!-- 0&#45;&gt;12 -->\r\n",
       "<g id=\"edge12\" class=\"edge\"><title>0&#45;&gt;12</title>\r\n",
       "<path fill=\"none\" stroke=\"black\" d=\"M535.065,-400.884C544.684,-391.798 555.222,-381.845 565.223,-372.4\"/>\r\n",
       "<polygon fill=\"black\" stroke=\"black\" points=\"567.875,-374.71 572.742,-365.299 563.069,-369.621 567.875,-374.71\"/>\r\n",
       "<text text-anchor=\"middle\" x=\"572.028\" y=\"-386.589\" font-family=\"Times New Roman,serif\" font-size=\"14.00\">False</text>\r\n",
       "</g>\r\n",
       "<!-- 2 -->\r\n",
       "<g id=\"node3\" class=\"node\"><title>2</title>\r\n",
       "<polygon fill=\"#8c49e7\" stroke=\"black\" points=\"239,-261 127,-261 127,-193 239,-193 239,-261\"/>\r\n",
       "<text text-anchor=\"middle\" x=\"183\" y=\"-245.8\" font-family=\"Times New Roman,serif\" font-size=\"14.00\">色调 &lt;= 0.81</text>\r\n",
       "<text text-anchor=\"middle\" x=\"183\" y=\"-230.8\" font-family=\"Times New Roman,serif\" font-size=\"14.00\">entropy = 0.391</text>\r\n",
       "<text text-anchor=\"middle\" x=\"183\" y=\"-215.8\" font-family=\"Times New Roman,serif\" font-size=\"14.00\">samples = 39</text>\r\n",
       "<text text-anchor=\"middle\" x=\"183\" y=\"-200.8\" font-family=\"Times New Roman,serif\" font-size=\"14.00\">value = [0, 3, 36]</text>\r\n",
       "</g>\r\n",
       "<!-- 1&#45;&gt;2 -->\r\n",
       "<g id=\"edge2\" class=\"edge\"><title>1&#45;&gt;2</title>\r\n",
       "<path fill=\"none\" stroke=\"black\" d=\"M324.144,-296.884C299.835,-285.02 272.497,-271.678 248.4,-259.918\"/>\r\n",
       "<polygon fill=\"black\" stroke=\"black\" points=\"249.859,-256.735 239.337,-255.495 246.789,-263.026 249.859,-256.735\"/>\r\n",
       "</g>\r\n",
       "<!-- 7 -->\r\n",
       "<g id=\"node8\" class=\"node\"><title>7</title>\r\n",
       "<polygon fill=\"#5ae996\" stroke=\"black\" points=\"448,-261 336,-261 336,-193 448,-193 448,-261\"/>\r\n",
       "<text text-anchor=\"middle\" x=\"392\" y=\"-245.8\" font-family=\"Times New Roman,serif\" font-size=\"14.00\">酒精 &lt;= 13.198</text>\r\n",
       "<text text-anchor=\"middle\" x=\"392\" y=\"-230.8\" font-family=\"Times New Roman,serif\" font-size=\"14.00\">entropy = 0.592</text>\r\n",
       "<text text-anchor=\"middle\" x=\"392\" y=\"-215.8\" font-family=\"Times New Roman,serif\" font-size=\"14.00\">samples = 14</text>\r\n",
       "<text text-anchor=\"middle\" x=\"392\" y=\"-200.8\" font-family=\"Times New Roman,serif\" font-size=\"14.00\">value = [0, 12, 2]</text>\r\n",
       "</g>\r\n",
       "<!-- 1&#45;&gt;7 -->\r\n",
       "<g id=\"edge7\" class=\"edge\"><title>1&#45;&gt;7</title>\r\n",
       "<path fill=\"none\" stroke=\"black\" d=\"M392,-296.884C392,-288.778 392,-279.982 392,-271.472\"/>\r\n",
       "<polygon fill=\"black\" stroke=\"black\" points=\"395.5,-271.299 392,-261.299 388.5,-271.299 395.5,-271.299\"/>\r\n",
       "</g>\r\n",
       "<!-- 3 -->\r\n",
       "<g id=\"node4\" class=\"node\"><title>3</title>\r\n",
       "<polygon fill=\"#8139e5\" stroke=\"black\" points=\"112,-149.5 7.10543e-015,-149.5 7.10543e-015,-96.5 112,-96.5 112,-149.5\"/>\r\n",
       "<text text-anchor=\"middle\" x=\"56\" y=\"-134.3\" font-family=\"Times New Roman,serif\" font-size=\"14.00\">entropy = 0.0</text>\r\n",
       "<text text-anchor=\"middle\" x=\"56\" y=\"-119.3\" font-family=\"Times New Roman,serif\" font-size=\"14.00\">samples = 31</text>\r\n",
       "<text text-anchor=\"middle\" x=\"56\" y=\"-104.3\" font-family=\"Times New Roman,serif\" font-size=\"14.00\">value = [0, 0, 31]</text>\r\n",
       "</g>\r\n",
       "<!-- 2&#45;&gt;3 -->\r\n",
       "<g id=\"edge3\" class=\"edge\"><title>2&#45;&gt;3</title>\r\n",
       "<path fill=\"none\" stroke=\"black\" d=\"M141.767,-192.884C126.978,-181.006 110.344,-167.646 95.6887,-155.876\"/>\r\n",
       "<polygon fill=\"black\" stroke=\"black\" points=\"97.7632,-153.053 87.7748,-149.52 93.3799,-158.511 97.7632,-153.053\"/>\r\n",
       "</g>\r\n",
       "<!-- 4 -->\r\n",
       "<g id=\"node5\" class=\"node\"><title>4</title>\r\n",
       "<polygon fill=\"#cdb0f5\" stroke=\"black\" points=\"236,-157 130,-157 130,-89 236,-89 236,-157\"/>\r\n",
       "<text text-anchor=\"middle\" x=\"183\" y=\"-141.8\" font-family=\"Times New Roman,serif\" font-size=\"14.00\">类黄酮 &lt;= 0.81</text>\r\n",
       "<text text-anchor=\"middle\" x=\"183\" y=\"-126.8\" font-family=\"Times New Roman,serif\" font-size=\"14.00\">entropy = 0.954</text>\r\n",
       "<text text-anchor=\"middle\" x=\"183\" y=\"-111.8\" font-family=\"Times New Roman,serif\" font-size=\"14.00\">samples = 8</text>\r\n",
       "<text text-anchor=\"middle\" x=\"183\" y=\"-96.8\" font-family=\"Times New Roman,serif\" font-size=\"14.00\">value = [0, 3, 5]</text>\r\n",
       "</g>\r\n",
       "<!-- 2&#45;&gt;4 -->\r\n",
       "<g id=\"edge4\" class=\"edge\"><title>2&#45;&gt;4</title>\r\n",
       "<path fill=\"none\" stroke=\"black\" d=\"M183,-192.884C183,-184.778 183,-175.982 183,-167.472\"/>\r\n",
       "<polygon fill=\"black\" stroke=\"black\" points=\"186.5,-167.299 183,-157.299 179.5,-167.299 186.5,-167.299\"/>\r\n",
       "</g>\r\n",
       "<!-- 5 -->\r\n",
       "<g id=\"node6\" class=\"node\"><title>5</title>\r\n",
       "<polygon fill=\"#8139e5\" stroke=\"black\" points=\"112.5,-53 7.5,-53 7.5,-0 112.5,-0 112.5,-53\"/>\r\n",
       "<text text-anchor=\"middle\" x=\"60\" y=\"-37.8\" font-family=\"Times New Roman,serif\" font-size=\"14.00\">entropy = 0.0</text>\r\n",
       "<text text-anchor=\"middle\" x=\"60\" y=\"-22.8\" font-family=\"Times New Roman,serif\" font-size=\"14.00\">samples = 4</text>\r\n",
       "<text text-anchor=\"middle\" x=\"60\" y=\"-7.8\" font-family=\"Times New Roman,serif\" font-size=\"14.00\">value = [0, 0, 4]</text>\r\n",
       "</g>\r\n",
       "<!-- 4&#45;&gt;5 -->\r\n",
       "<g id=\"edge5\" class=\"edge\"><title>4&#45;&gt;5</title>\r\n",
       "<path fill=\"none\" stroke=\"black\" d=\"M139.981,-88.9485C127.478,-79.3431 113.853,-68.8747 101.449,-59.345\"/>\r\n",
       "<polygon fill=\"black\" stroke=\"black\" points=\"103.561,-56.5537 93.4986,-53.2367 99.2961,-62.1046 103.561,-56.5537\"/>\r\n",
       "</g>\r\n",
       "<!-- 6 -->\r\n",
       "<g id=\"node7\" class=\"node\"><title>6</title>\r\n",
       "<polygon fill=\"#7beeab\" stroke=\"black\" points=\"237,-53 131,-53 131,-0 237,-0 237,-53\"/>\r\n",
       "<text text-anchor=\"middle\" x=\"184\" y=\"-37.8\" font-family=\"Times New Roman,serif\" font-size=\"14.00\">entropy = 0.811</text>\r\n",
       "<text text-anchor=\"middle\" x=\"184\" y=\"-22.8\" font-family=\"Times New Roman,serif\" font-size=\"14.00\">samples = 4</text>\r\n",
       "<text text-anchor=\"middle\" x=\"184\" y=\"-7.8\" font-family=\"Times New Roman,serif\" font-size=\"14.00\">value = [0, 3, 1]</text>\r\n",
       "</g>\r\n",
       "<!-- 4&#45;&gt;6 -->\r\n",
       "<g id=\"edge6\" class=\"edge\"><title>4&#45;&gt;6</title>\r\n",
       "<path fill=\"none\" stroke=\"black\" d=\"M183.35,-88.9485C183.437,-80.7153 183.531,-71.848 183.619,-63.4814\"/>\r\n",
       "<polygon fill=\"black\" stroke=\"black\" points=\"187.122,-63.2732 183.728,-53.2367 180.122,-63.1991 187.122,-63.2732\"/>\r\n",
       "</g>\r\n",
       "<!-- 8 -->\r\n",
       "<g id=\"node9\" class=\"node\"><title>8</title>\r\n",
       "<polygon fill=\"#49e78c\" stroke=\"black\" points=\"366,-157 254,-157 254,-89 366,-89 366,-157\"/>\r\n",
       "<text text-anchor=\"middle\" x=\"310\" y=\"-141.8\" font-family=\"Times New Roman,serif\" font-size=\"14.00\">类黄酮 &lt;= 0.817</text>\r\n",
       "<text text-anchor=\"middle\" x=\"310\" y=\"-126.8\" font-family=\"Times New Roman,serif\" font-size=\"14.00\">entropy = 0.391</text>\r\n",
       "<text text-anchor=\"middle\" x=\"310\" y=\"-111.8\" font-family=\"Times New Roman,serif\" font-size=\"14.00\">samples = 13</text>\r\n",
       "<text text-anchor=\"middle\" x=\"310\" y=\"-96.8\" font-family=\"Times New Roman,serif\" font-size=\"14.00\">value = [0, 12, 1]</text>\r\n",
       "</g>\r\n",
       "<!-- 7&#45;&gt;8 -->\r\n",
       "<g id=\"edge8\" class=\"edge\"><title>7&#45;&gt;8</title>\r\n",
       "<path fill=\"none\" stroke=\"black\" d=\"M365.377,-192.884C358.288,-184.065 350.542,-174.43 343.15,-165.235\"/>\r\n",
       "<polygon fill=\"black\" stroke=\"black\" points=\"345.764,-162.9 336.77,-157.299 340.308,-167.286 345.764,-162.9\"/>\r\n",
       "</g>\r\n",
       "<!-- 11 -->\r\n",
       "<g id=\"node12\" class=\"node\"><title>11</title>\r\n",
       "<polygon fill=\"#8139e5\" stroke=\"black\" points=\"489.5,-149.5 384.5,-149.5 384.5,-96.5 489.5,-96.5 489.5,-149.5\"/>\r\n",
       "<text text-anchor=\"middle\" x=\"437\" y=\"-134.3\" font-family=\"Times New Roman,serif\" font-size=\"14.00\">entropy = 0.0</text>\r\n",
       "<text text-anchor=\"middle\" x=\"437\" y=\"-119.3\" font-family=\"Times New Roman,serif\" font-size=\"14.00\">samples = 1</text>\r\n",
       "<text text-anchor=\"middle\" x=\"437\" y=\"-104.3\" font-family=\"Times New Roman,serif\" font-size=\"14.00\">value = [0, 0, 1]</text>\r\n",
       "</g>\r\n",
       "<!-- 7&#45;&gt;11 -->\r\n",
       "<g id=\"edge11\" class=\"edge\"><title>7&#45;&gt;11</title>\r\n",
       "<path fill=\"none\" stroke=\"black\" d=\"M406.61,-192.884C411.414,-181.996 416.766,-169.863 421.625,-158.85\"/>\r\n",
       "<polygon fill=\"black\" stroke=\"black\" points=\"424.907,-160.082 425.741,-149.52 418.503,-157.256 424.907,-160.082\"/>\r\n",
       "</g>\r\n",
       "<!-- 9 -->\r\n",
       "<g id=\"node10\" class=\"node\"><title>9</title>\r\n",
       "<polygon fill=\"#8139e5\" stroke=\"black\" points=\"361.5,-53 256.5,-53 256.5,-0 361.5,-0 361.5,-53\"/>\r\n",
       "<text text-anchor=\"middle\" x=\"309\" y=\"-37.8\" font-family=\"Times New Roman,serif\" font-size=\"14.00\">entropy = 0.0</text>\r\n",
       "<text text-anchor=\"middle\" x=\"309\" y=\"-22.8\" font-family=\"Times New Roman,serif\" font-size=\"14.00\">samples = 1</text>\r\n",
       "<text text-anchor=\"middle\" x=\"309\" y=\"-7.8\" font-family=\"Times New Roman,serif\" font-size=\"14.00\">value = [0, 0, 1]</text>\r\n",
       "</g>\r\n",
       "<!-- 8&#45;&gt;9 -->\r\n",
       "<g id=\"edge9\" class=\"edge\"><title>8&#45;&gt;9</title>\r\n",
       "<path fill=\"none\" stroke=\"black\" d=\"M309.65,-88.9485C309.563,-80.7153 309.469,-71.848 309.381,-63.4814\"/>\r\n",
       "<polygon fill=\"black\" stroke=\"black\" points=\"312.878,-63.1991 309.272,-53.2367 305.878,-63.2732 312.878,-63.1991\"/>\r\n",
       "</g>\r\n",
       "<!-- 10 -->\r\n",
       "<g id=\"node11\" class=\"node\"><title>10</title>\r\n",
       "<polygon fill=\"#39e581\" stroke=\"black\" points=\"492,-53 380,-53 380,-0 492,-0 492,-53\"/>\r\n",
       "<text text-anchor=\"middle\" x=\"436\" y=\"-37.8\" font-family=\"Times New Roman,serif\" font-size=\"14.00\">entropy = 0.0</text>\r\n",
       "<text text-anchor=\"middle\" x=\"436\" y=\"-22.8\" font-family=\"Times New Roman,serif\" font-size=\"14.00\">samples = 12</text>\r\n",
       "<text text-anchor=\"middle\" x=\"436\" y=\"-7.8\" font-family=\"Times New Roman,serif\" font-size=\"14.00\">value = [0, 12, 0]</text>\r\n",
       "</g>\r\n",
       "<!-- 8&#45;&gt;10 -->\r\n",
       "<g id=\"edge10\" class=\"edge\"><title>8&#45;&gt;10</title>\r\n",
       "<path fill=\"none\" stroke=\"black\" d=\"M354.069,-88.9485C366.876,-79.3431 380.834,-68.8747 393.54,-59.345\"/>\r\n",
       "<polygon fill=\"black\" stroke=\"black\" points=\"395.784,-62.0368 401.684,-53.2367 391.584,-56.4367 395.784,-62.0368\"/>\r\n",
       "</g>\r\n",
       "<!-- 13 -->\r\n",
       "<g id=\"node14\" class=\"node\"><title>13</title>\r\n",
       "<polygon fill=\"#41e686\" stroke=\"black\" points=\"664,-261 552,-261 552,-193 664,-193 664,-261\"/>\r\n",
       "<text text-anchor=\"middle\" x=\"608\" y=\"-245.8\" font-family=\"Times New Roman,serif\" font-size=\"14.00\">灰 &lt;= 2.26</text>\r\n",
       "<text text-anchor=\"middle\" x=\"608\" y=\"-230.8\" font-family=\"Times New Roman,serif\" font-size=\"14.00\">entropy = 0.235</text>\r\n",
       "<text text-anchor=\"middle\" x=\"608\" y=\"-215.8\" font-family=\"Times New Roman,serif\" font-size=\"14.00\">samples = 26</text>\r\n",
       "<text text-anchor=\"middle\" x=\"608\" y=\"-200.8\" font-family=\"Times New Roman,serif\" font-size=\"14.00\">value = [1, 25, 0]</text>\r\n",
       "</g>\r\n",
       "<!-- 12&#45;&gt;13 -->\r\n",
       "<g id=\"edge13\" class=\"edge\"><title>12&#45;&gt;13</title>\r\n",
       "<path fill=\"none\" stroke=\"black\" d=\"M608,-296.884C608,-288.778 608,-279.982 608,-271.472\"/>\r\n",
       "<polygon fill=\"black\" stroke=\"black\" points=\"611.5,-271.299 608,-261.299 604.5,-271.299 611.5,-271.299\"/>\r\n",
       "</g>\r\n",
       "<!-- 18 -->\r\n",
       "<g id=\"node19\" class=\"node\"><title>18</title>\r\n",
       "<polygon fill=\"#e88d4c\" stroke=\"black\" points=\"961,-261 849,-261 849,-193 961,-193 961,-261\"/>\r\n",
       "<text text-anchor=\"middle\" x=\"905\" y=\"-245.8\" font-family=\"Times New Roman,serif\" font-size=\"14.00\">镁 &lt;= 89.942</text>\r\n",
       "<text text-anchor=\"middle\" x=\"905\" y=\"-230.8\" font-family=\"Times New Roman,serif\" font-size=\"14.00\">entropy = 0.433</text>\r\n",
       "<text text-anchor=\"middle\" x=\"905\" y=\"-215.8\" font-family=\"Times New Roman,serif\" font-size=\"14.00\">samples = 45</text>\r\n",
       "<text text-anchor=\"middle\" x=\"905\" y=\"-200.8\" font-family=\"Times New Roman,serif\" font-size=\"14.00\">value = [41, 4, 0]</text>\r\n",
       "</g>\r\n",
       "<!-- 12&#45;&gt;18 -->\r\n",
       "<g id=\"edge18\" class=\"edge\"><title>12&#45;&gt;18</title>\r\n",
       "<path fill=\"none\" stroke=\"black\" d=\"M667.745,-309.481C717.396,-292.43 787.954,-268.197 839.21,-250.594\"/>\r\n",
       "<polygon fill=\"black\" stroke=\"black\" points=\"840.548,-253.836 848.869,-247.277 838.275,-247.215 840.548,-253.836\"/>\r\n",
       "</g>\r\n",
       "<!-- 14 -->\r\n",
       "<g id=\"node15\" class=\"node\"><title>14</title>\r\n",
       "<polygon fill=\"#39e581\" stroke=\"black\" points=\"620,-149.5 508,-149.5 508,-96.5 620,-96.5 620,-149.5\"/>\r\n",
       "<text text-anchor=\"middle\" x=\"564\" y=\"-134.3\" font-family=\"Times New Roman,serif\" font-size=\"14.00\">entropy = 0.0</text>\r\n",
       "<text text-anchor=\"middle\" x=\"564\" y=\"-119.3\" font-family=\"Times New Roman,serif\" font-size=\"14.00\">samples = 14</text>\r\n",
       "<text text-anchor=\"middle\" x=\"564\" y=\"-104.3\" font-family=\"Times New Roman,serif\" font-size=\"14.00\">value = [0, 14, 0]</text>\r\n",
       "</g>\r\n",
       "<!-- 13&#45;&gt;14 -->\r\n",
       "<g id=\"edge14\" class=\"edge\"><title>13&#45;&gt;14</title>\r\n",
       "<path fill=\"none\" stroke=\"black\" d=\"M593.714,-192.884C589.018,-181.996 583.784,-169.863 579.033,-158.85\"/>\r\n",
       "<polygon fill=\"black\" stroke=\"black\" points=\"582.183,-157.316 575.009,-149.52 575.756,-160.088 582.183,-157.316\"/>\r\n",
       "</g>\r\n",
       "<!-- 15 -->\r\n",
       "<g id=\"node16\" class=\"node\"><title>15</title>\r\n",
       "<polygon fill=\"#4be78c\" stroke=\"black\" points=\"834,-157 638,-157 638,-89 834,-89 834,-157\"/>\r\n",
       "<text text-anchor=\"middle\" x=\"736\" y=\"-141.8\" font-family=\"Times New Roman,serif\" font-size=\"14.00\">od280/od315稀释葡萄酒 &lt;= 3.4</text>\r\n",
       "<text text-anchor=\"middle\" x=\"736\" y=\"-126.8\" font-family=\"Times New Roman,serif\" font-size=\"14.00\">entropy = 0.414</text>\r\n",
       "<text text-anchor=\"middle\" x=\"736\" y=\"-111.8\" font-family=\"Times New Roman,serif\" font-size=\"14.00\">samples = 12</text>\r\n",
       "<text text-anchor=\"middle\" x=\"736\" y=\"-96.8\" font-family=\"Times New Roman,serif\" font-size=\"14.00\">value = [1, 11, 0]</text>\r\n",
       "</g>\r\n",
       "<!-- 13&#45;&gt;15 -->\r\n",
       "<g id=\"edge15\" class=\"edge\"><title>13&#45;&gt;15</title>\r\n",
       "<path fill=\"none\" stroke=\"black\" d=\"M649.558,-192.884C661.295,-183.531 674.184,-173.259 686.346,-163.568\"/>\r\n",
       "<polygon fill=\"black\" stroke=\"black\" points=\"688.573,-166.269 694.213,-157.299 684.211,-160.794 688.573,-166.269\"/>\r\n",
       "</g>\r\n",
       "<!-- 16 -->\r\n",
       "<g id=\"node17\" class=\"node\"><title>16</title>\r\n",
       "<polygon fill=\"#39e581\" stroke=\"black\" points=\"728,-53 616,-53 616,-0 728,-0 728,-53\"/>\r\n",
       "<text text-anchor=\"middle\" x=\"672\" y=\"-37.8\" font-family=\"Times New Roman,serif\" font-size=\"14.00\">entropy = 0.0</text>\r\n",
       "<text text-anchor=\"middle\" x=\"672\" y=\"-22.8\" font-family=\"Times New Roman,serif\" font-size=\"14.00\">samples = 11</text>\r\n",
       "<text text-anchor=\"middle\" x=\"672\" y=\"-7.8\" font-family=\"Times New Roman,serif\" font-size=\"14.00\">value = [0, 11, 0]</text>\r\n",
       "</g>\r\n",
       "<!-- 15&#45;&gt;16 -->\r\n",
       "<g id=\"edge16\" class=\"edge\"><title>15&#45;&gt;16</title>\r\n",
       "<path fill=\"none\" stroke=\"black\" d=\"M713.616,-88.9485C707.606,-80.0749 701.098,-70.4648 695.053,-61.5388\"/>\r\n",
       "<polygon fill=\"black\" stroke=\"black\" points=\"697.936,-59.5539 689.43,-53.2367 692.14,-63.4792 697.936,-59.5539\"/>\r\n",
       "</g>\r\n",
       "<!-- 17 -->\r\n",
       "<g id=\"node18\" class=\"node\"><title>17</title>\r\n",
       "<polygon fill=\"#e58139\" stroke=\"black\" points=\"851.5,-53 746.5,-53 746.5,-0 851.5,-0 851.5,-53\"/>\r\n",
       "<text text-anchor=\"middle\" x=\"799\" y=\"-37.8\" font-family=\"Times New Roman,serif\" font-size=\"14.00\">entropy = 0.0</text>\r\n",
       "<text text-anchor=\"middle\" x=\"799\" y=\"-22.8\" font-family=\"Times New Roman,serif\" font-size=\"14.00\">samples = 1</text>\r\n",
       "<text text-anchor=\"middle\" x=\"799\" y=\"-7.8\" font-family=\"Times New Roman,serif\" font-size=\"14.00\">value = [1, 0, 0]</text>\r\n",
       "</g>\r\n",
       "<!-- 15&#45;&gt;17 -->\r\n",
       "<g id=\"edge17\" class=\"edge\"><title>15&#45;&gt;17</title>\r\n",
       "<path fill=\"none\" stroke=\"black\" d=\"M758.034,-88.9485C763.889,-80.1664 770.225,-70.6629 776.123,-61.815\"/>\r\n",
       "<polygon fill=\"black\" stroke=\"black\" points=\"779.207,-63.4987 781.842,-53.2367 773.383,-59.6158 779.207,-63.4987\"/>\r\n",
       "</g>\r\n",
       "<!-- 19 -->\r\n",
       "<g id=\"node20\" class=\"node\"><title>19</title>\r\n",
       "<polygon fill=\"#39e581\" stroke=\"black\" points=\"957.5,-149.5 852.5,-149.5 852.5,-96.5 957.5,-96.5 957.5,-149.5\"/>\r\n",
       "<text text-anchor=\"middle\" x=\"905\" y=\"-134.3\" font-family=\"Times New Roman,serif\" font-size=\"14.00\">entropy = 0.0</text>\r\n",
       "<text text-anchor=\"middle\" x=\"905\" y=\"-119.3\" font-family=\"Times New Roman,serif\" font-size=\"14.00\">samples = 4</text>\r\n",
       "<text text-anchor=\"middle\" x=\"905\" y=\"-104.3\" font-family=\"Times New Roman,serif\" font-size=\"14.00\">value = [0, 4, 0]</text>\r\n",
       "</g>\r\n",
       "<!-- 18&#45;&gt;19 -->\r\n",
       "<g id=\"edge19\" class=\"edge\"><title>18&#45;&gt;19</title>\r\n",
       "<path fill=\"none\" stroke=\"black\" d=\"M905,-192.884C905,-182.326 905,-170.597 905,-159.854\"/>\r\n",
       "<polygon fill=\"black\" stroke=\"black\" points=\"908.5,-159.52 905,-149.52 901.5,-159.52 908.5,-159.52\"/>\r\n",
       "</g>\r\n",
       "<!-- 20 -->\r\n",
       "<g id=\"node21\" class=\"node\"><title>20</title>\r\n",
       "<polygon fill=\"#e58139\" stroke=\"black\" points=\"1088,-149.5 976,-149.5 976,-96.5 1088,-96.5 1088,-149.5\"/>\r\n",
       "<text text-anchor=\"middle\" x=\"1032\" y=\"-134.3\" font-family=\"Times New Roman,serif\" font-size=\"14.00\">entropy = 0.0</text>\r\n",
       "<text text-anchor=\"middle\" x=\"1032\" y=\"-119.3\" font-family=\"Times New Roman,serif\" font-size=\"14.00\">samples = 41</text>\r\n",
       "<text text-anchor=\"middle\" x=\"1032\" y=\"-104.3\" font-family=\"Times New Roman,serif\" font-size=\"14.00\">value = [41, 0, 0]</text>\r\n",
       "</g>\r\n",
       "<!-- 18&#45;&gt;20 -->\r\n",
       "<g id=\"edge20\" class=\"edge\"><title>18&#45;&gt;20</title>\r\n",
       "<path fill=\"none\" stroke=\"black\" d=\"M946.233,-192.884C961.022,-181.006 977.656,-167.646 992.311,-155.876\"/>\r\n",
       "<polygon fill=\"black\" stroke=\"black\" points=\"994.62,-158.511 1000.23,-149.52 990.237,-153.053 994.62,-158.511\"/>\r\n",
       "</g>\r\n",
       "</g>\r\n",
       "</svg>\r\n"
      ],
      "text/plain": [
       "<graphviz.files.Source at 0x20bc2b58240>"
      ]
     },
     "execution_count": 153,
     "metadata": {},
     "output_type": "execute_result"
    }
   ],
   "source": [
    "dot_data = tree.export_graphviz(clf,\n",
    "                                feature_names=feature_names,\n",
    "                                filled=True)\n",
    "graph = graphviz.Source(dot_data)\n",
    "graph"
   ]
  },
  {
   "cell_type": "code",
   "execution_count": 157,
   "metadata": {
    "ExecuteTime": {
     "end_time": "2019-11-29T12:33:29.540850Z",
     "start_time": "2019-11-29T12:33:29.530434Z"
    }
   },
   "outputs": [
    {
     "data": {
      "text/plain": [
       "'images/graph.gv'"
      ]
     },
     "execution_count": 157,
     "metadata": {},
     "output_type": "execute_result"
    }
   ],
   "source": [
    "graph.save('images/graph.gv')"
   ]
  },
  {
   "cell_type": "code",
   "execution_count": 159,
   "metadata": {
    "ExecuteTime": {
     "end_time": "2019-11-29T12:34:00.785466Z",
     "start_time": "2019-11-29T12:34:00.344736Z"
    }
   },
   "outputs": [
    {
     "data": {
      "text/plain": [
       "'images\\\\graph.gv.pdf'"
      ]
     },
     "execution_count": 159,
     "metadata": {},
     "output_type": "execute_result"
    }
   ],
   "source": [
    "graph.view()"
   ]
  },
  {
   "cell_type": "markdown",
   "metadata": {},
   "source": [
    "# DecisionTreeRegressor(线性回归决策树)"
   ]
  },
  {
   "cell_type": "code",
   "execution_count": 34,
   "metadata": {
    "ExecuteTime": {
     "end_time": "2019-12-05T00:56:43.524348Z",
     "start_time": "2019-12-05T00:56:43.507430Z"
    }
   },
   "outputs": [],
   "source": [
    "from sklearn.tree import DecisionTreeRegressor\n"
   ]
  },
  {
   "cell_type": "markdown",
   "metadata": {},
   "source": [
    "## 重要属性接口\n",
    "```python\n",
    "Init signature:\n",
    "DecisionTreeRegressor(\n",
    "    criterion='mse',\n",
    "    splitter='best',\n",
    "    max_depth=None,\n",
    "    min_samples_split=2,\n",
    "    min_samples_leaf=1,\n",
    "    min_weight_fraction_leaf=0.0,\n",
    "    max_features=None,\n",
    "    random_state=None,\n",
    "    max_leaf_nodes=None,\n",
    "    min_impurity_decrease=0.0,\n",
    "    min_impurity_split=None,\n",
    "    presort=False,\n",
    ")\n",
    "```"
   ]
  },
  {
   "cell_type": "markdown",
   "metadata": {
    "ExecuteTime": {
     "end_time": "2019-12-05T00:58:46.956183Z",
     "start_time": "2019-12-05T00:58:46.936673Z"
    }
   },
   "source": [
    "### criterion(评估标准)\n",
    "1. 输入\"mse\"使用均方误差mean squared error(MSE)，父节点和叶子节点之间的均方误差的差额将被用来作为\n",
    "特征选择的标准，这种方法通过使用叶子节点的均值来最小化L2损失\n",
    "2. 输入“friedman_mse”使用费尔德曼均方误差，这种指标使用弗里德曼针对潜在分枝中的问题改进后的均方误差\n",
    "3. 输入\"mae\"使用绝对平均误差MAE（mean absolute error），这种指标使用叶节点的中值来最小化L1损失\n",
    "属性中最重要的依然是feature_importances_，接口依然是apply, fit, predict, score最核心"
   ]
  },
  {
   "cell_type": "markdown",
   "metadata": {},
   "source": [
    "$$MSE = \\dfrac{1}{N}\\displaystyle \\sum_{i=1}^{N}(f_i - y_i)^2$$"
   ]
  },
  {
   "cell_type": "markdown",
   "metadata": {},
   "source": [
    "其中N是样本数量，i是每一个数据样本，fi是模型回归出的数值，yi是样本点i实际的数值标签。所以MSE的本质，\n",
    "其实是样本真实数据与回归结果的差异（类似于损失函数）。在回归树中，MSE不只是我们的分枝质量衡量指标，也是我们最常用的衡\n",
    "量回归树回归质量的指标，当我们在使用交叉验证，或者其他方式获取回归树的结果时，我们往往选择均方误差作\n",
    "为我们的评估（在分类树中这个指标是score代表的预测准确率）。在回归中，我们追求的是，**MSE越小越好**。\n",
    "然而，**回归树的接口score返回的是R平方，并不是MSE**。R平方被定义如下:"
   ]
  },
  {
   "cell_type": "markdown",
   "metadata": {},
   "source": [
    "$$R^2 = 1 - \\dfrac{u}{v} \\; \\;\\;其中, \\\\\n",
    "u = \\displaystyle \\sum_{i=1}^{N}(f_i - y_i)^2\\;\\;\\;\\;v = \\sum_{i=1}^{N}(y_i - \\hat{y})^2$$"
   ]
  },
  {
   "cell_type": "markdown",
   "metadata": {},
   "source": [
    "其中u为残差平方和(MSE * N), v是总平方和，N是样本数量，i是每一个数据样本，fi是模型回归出的数值，yi\n",
    "是样本点i实际的数值标签。$\\hat{y}$是**真实数值标签的平均数**。R平方可以为正为负（如果模型的残差平方和远远大于\n",
    "模型的总平方和，模型非常糟糕，R平方就会为负），而均方误差永远为正\n"
   ]
  },
  {
   "cell_type": "markdown",
   "metadata": {},
   "source": [
    "值得一提的是，**虽然均方误差永远为正，但是sklearn当中使用均方误差作为评判标准时，却是计算”负均方误\n",
    "差“（neg_mean_squared_error）**。这是因为sklearn在计算模型评估指标的时候，会考虑指标本身的性质，均\n",
    "方误差本身是一种误差，所以被sklearn划分为模型的一种损失(loss)，因此在sklearn当中，都以负数表示。真正的\n",
    "均方误差MSE的数值，其实就是neg_mean_squared_error去掉负号的数字\n"
   ]
  },
  {
   "cell_type": "markdown",
   "metadata": {},
   "source": [
    "## 交叉验证\n"
   ]
  },
  {
   "cell_type": "markdown",
   "metadata": {},
   "source": [
    ">交叉验证是用来观察模型的稳定性的一种方法，我们将数据划分为n份，依次使用其中一份作为测试集，其他n-1份\n",
    "作为训练集，多次计算模型的精确性来评估模型的平均准确程度。训练集和测试集的划分会干扰模型的结果，因此\n",
    "用交叉验证n次的结果求出的平均值，是对模型效果的一个更好的度量"
   ]
  },
  {
   "cell_type": "markdown",
   "metadata": {},
   "source": [
    "### 使用sklearn实现交叉验证"
   ]
  },
  {
   "cell_type": "code",
   "execution_count": 37,
   "metadata": {
    "ExecuteTime": {
     "end_time": "2019-12-05T01:26:42.427592Z",
     "start_time": "2019-12-05T01:26:42.418699Z"
    }
   },
   "outputs": [],
   "source": [
    "from sklearn.datasets import load_boston\n",
    "from sklearn.model_selection import cross_val_score\n",
    "from sklearn.tree import DecisionTreeRegressor"
   ]
  },
  {
   "cell_type": "code",
   "execution_count": 39,
   "metadata": {
    "ExecuteTime": {
     "end_time": "2019-12-05T01:31:50.452173Z",
     "start_time": "2019-12-05T01:31:50.328168Z"
    }
   },
   "outputs": [
    {
     "data": {
      "text/plain": [
       "array([ 0.52939335,  0.60461936, -1.60907519,  0.4356399 ,  0.77280671,\n",
       "        0.40597035,  0.23656049,  0.38709149, -2.06488186, -0.95162992])"
      ]
     },
     "execution_count": 39,
     "metadata": {},
     "output_type": "execute_result"
    }
   ],
   "source": [
    "boston = load_boston()\n",
    "regressor = DecisionTreeRegressor(random_state=0)\n",
    "cross_val_score(regressor, boston.data, boston.target, cv=10)\n",
    "                #, scoring='neg_mean_squared_error')"
   ]
  },
  {
   "cell_type": "markdown",
   "metadata": {},
   "source": [
    "sklearn fit只支持二维数据\n",
    "reval降维"
   ]
  },
  {
   "cell_type": "markdown",
   "metadata": {},
   "source": [
    "## 示例：一维回归的图像绘制"
   ]
  },
  {
   "cell_type": "code",
   "execution_count": 45,
   "metadata": {
    "ExecuteTime": {
     "end_time": "2019-12-05T02:20:58.453186Z",
     "start_time": "2019-12-05T02:20:58.443291Z"
    }
   },
   "outputs": [],
   "source": [
    "import numpy as np\n",
    "from sklearn.tree import DecisionTreeRegressor\n",
    "import matplotlib.pyplot as plt"
   ]
  },
  {
   "cell_type": "code",
   "execution_count": 48,
   "metadata": {
    "ExecuteTime": {
     "end_time": "2019-12-05T02:21:28.652000Z",
     "start_time": "2019-12-05T02:21:28.645260Z"
    }
   },
   "outputs": [],
   "source": [
    "# 设置随机种子\n",
    "rng = np.random.RandomState(1)\n",
    "# 生成0-5区间内的随机数据 with shape (80, 1)\n",
    "x = np.sort(5 * rng.rand(80,1), axis=0)\n",
    "# 生成x对应的sin(y)\n",
    "y = np.sin(x).ravel()  # ravel() 将数据降到一维"
   ]
  },
  {
   "cell_type": "code",
   "execution_count": 49,
   "metadata": {
    "ExecuteTime": {
     "end_time": "2019-12-05T02:22:43.313524Z",
     "start_time": "2019-12-05T02:22:43.295533Z"
    }
   },
   "outputs": [],
   "source": [
    "# 对y添加噪音\n",
    "y[::5] += 3 * (0.5 - rng.rand(16))"
   ]
  },
  {
   "cell_type": "code",
   "execution_count": 57,
   "metadata": {
    "ExecuteTime": {
     "end_time": "2019-12-05T02:26:25.206445Z",
     "start_time": "2019-12-05T02:26:24.917459Z"
    }
   },
   "outputs": [
    {
     "data": {
      "image/png": "[encoded data removed]",
      "text/plain": [
       "<Figure size 900x450 with 1 Axes>"
      ]
     },
     "metadata": {
      "needs_background": "light"
     },
     "output_type": "display_data"
    }
   ],
   "source": [
    "fig = plt.figure(dpi=150, figsize=(6,3))\n",
    "plt.scatter(x, y, s=20, edgecolors='black', c='darkorange', label='data')\n",
    "plt.show()"
   ]
  },
  {
   "cell_type": "code",
   "execution_count": 58,
   "metadata": {
    "ExecuteTime": {
     "end_time": "2019-12-05T02:28:16.761405Z",
     "start_time": "2019-12-05T02:28:16.754493Z"
    }
   },
   "outputs": [],
   "source": [
    "# 进行线性回归决策树拟合，创建3个max_path不同的决策树\n",
    "regressor_1 = DecisionTreeRegressor(max_depth=2)\n",
    "regressor_2 = DecisionTreeRegressor(max_depth=3)\n",
    "regressor_3 = DecisionTreeRegressor(max_depth=5)"
   ]
  },
  {
   "cell_type": "code",
   "execution_count": 63,
   "metadata": {
    "ExecuteTime": {
     "end_time": "2019-12-05T02:30:10.069639Z",
     "start_time": "2019-12-05T02:30:10.051158Z"
    }
   },
   "outputs": [],
   "source": [
    "reg_1 = regressor_1.fit(x, y)\n",
    "reg_2 = regressor_2.fit(x, y)\n",
    "reg_3 = regressor_3.fit(x, y)"
   ]
  },
  {
   "cell_type": "code",
   "execution_count": 65,
   "metadata": {
    "ExecuteTime": {
     "end_time": "2019-12-05T02:31:08.036909Z",
     "start_time": "2019-12-05T02:31:08.026988Z"
    }
   },
   "outputs": [],
   "source": [
    "# 创建测试集\n",
    "x_test = np.linspace(0, 5, 100)[:, np.newaxis]"
   ]
  },
  {
   "cell_type": "code",
   "execution_count": 66,
   "metadata": {
    "ExecuteTime": {
     "end_time": "2019-12-05T02:31:53.084047Z",
     "start_time": "2019-12-05T02:31:53.069073Z"
    }
   },
   "outputs": [],
   "source": [
    "# 拟合数据\n",
    "y_1 = reg_1.predict(x_test)\n",
    "y_2 = reg_2.predict(x_test)\n",
    "y_3 = reg_3.predict(x_test)"
   ]
  },
  {
   "cell_type": "code",
   "execution_count": 72,
   "metadata": {
    "ExecuteTime": {
     "end_time": "2019-12-05T02:36:01.991241Z",
     "start_time": "2019-12-05T02:36:01.588982Z"
    }
   },
   "outputs": [
    {
     "data": {
      "image/png": "[encoded data removed]",
      "text/plain": [
       "<Figure size 900x450 with 1 Axes>"
      ]
     },
     "metadata": {
      "needs_background": "light"
     },
     "output_type": "display_data"
    }
   ],
   "source": [
    "# 绘图\n",
    "fig = plt.figure(dpi=150, figsize=(6,3))\n",
    "plt.scatter(x, y, s=20, edgecolors='black', c='darkorange', label='data')\n",
    "# plt.plot(x_test, y_1, color='cornflowerblue', label='max_depth=2', linewidth=2)\n",
    "plt.plot(x_test, y_2, color='green', label='max_depth=3', linewidth=2)\n",
    "plt.plot(x_test, y_3,color='red', label='max_depth=5', linewidth=2)\n",
    "\n",
    "plt.xlabel('x')\n",
    "plt.ylabel('y')\n",
    "plt.title('difference of max depth')\n",
    "plt.legend(loc='best')\n",
    "\n",
    "plt.show()"
   ]
  },
  {
   "cell_type": "markdown",
   "metadata": {},
   "source": [
    "# 示例：泰坦尼克幸存者的预测"
   ]
  },
  {
   "cell_type": "code",
   "execution_count": 90,
   "metadata": {
    "ExecuteTime": {
     "end_time": "2019-12-05T03:04:31.497728Z",
     "start_time": "2019-12-05T03:04:31.490929Z"
    }
   },
   "outputs": [],
   "source": [
    "import pandas as pd\n",
    "from sklearn.tree import DecisionTreeClassifier\n",
    "from sklearn.model_selection import train_test_split\n",
    "from sklearn.model_selection import cross_val_score\n",
    "from sklearn.model_selection import GridSearchCV\n",
    "import matplotlib.pyplot as plt"
   ]
  },
  {
   "cell_type": "markdown",
   "metadata": {},
   "source": [
    "## 加载数据"
   ]
  },
  {
   "cell_type": "code",
   "execution_count": 94,
   "metadata": {
    "ExecuteTime": {
     "end_time": "2019-12-05T03:06:26.843216Z",
     "start_time": "2019-12-05T03:06:26.825812Z"
    }
   },
   "outputs": [],
   "source": [
    "data = pd.read_csv('data/titanic_data.csv', index_col=0)"
   ]
  },
  {
   "cell_type": "code",
   "execution_count": 88,
   "metadata": {
    "ExecuteTime": {
     "end_time": "2019-12-05T03:03:56.026649Z",
     "start_time": "2019-12-05T03:03:56.000868Z"
    }
   },
   "outputs": [
    {
     "data": {
      "text/html": [
       "<div>\n",
       "<style scoped>\n",
       "    .dataframe tbody tr th:only-of-type {\n",
       "        vertical-align: middle;\n",
       "    }\n",
       "\n",
       "    .dataframe tbody tr th {\n",
       "        vertical-align: top;\n",
       "    }\n",
       "\n",
       "    .dataframe thead th {\n",
       "        text-align: right;\n",
       "    }\n",
       "</style>\n",
       "<table border=\"1\" class=\"dataframe\">\n",
       "  <thead>\n",
       "    <tr style=\"text-align: right;\">\n",
       "      <th></th>\n",
       "      <th>Survived</th>\n",
       "      <th>Pclass</th>\n",
       "      <th>Name</th>\n",
       "      <th>Sex</th>\n",
       "      <th>Age</th>\n",
       "      <th>SibSp</th>\n",
       "      <th>Parch</th>\n",
       "      <th>Ticket</th>\n",
       "      <th>Fare</th>\n",
       "      <th>Cabin</th>\n",
       "      <th>Embarked</th>\n",
       "    </tr>\n",
       "    <tr>\n",
       "      <th>PassengerId</th>\n",
       "      <th></th>\n",
       "      <th></th>\n",
       "      <th></th>\n",
       "      <th></th>\n",
       "      <th></th>\n",
       "      <th></th>\n",
       "      <th></th>\n",
       "      <th></th>\n",
       "      <th></th>\n",
       "      <th></th>\n",
       "      <th></th>\n",
       "    </tr>\n",
       "  </thead>\n",
       "  <tbody>\n",
       "    <tr>\n",
       "      <th>1</th>\n",
       "      <td>0</td>\n",
       "      <td>3</td>\n",
       "      <td>Braund, Mr. Owen Harris</td>\n",
       "      <td>male</td>\n",
       "      <td>22.0</td>\n",
       "      <td>1</td>\n",
       "      <td>0</td>\n",
       "      <td>A/5 21171</td>\n",
       "      <td>7.2500</td>\n",
       "      <td>NaN</td>\n",
       "      <td>S</td>\n",
       "    </tr>\n",
       "    <tr>\n",
       "      <th>2</th>\n",
       "      <td>1</td>\n",
       "      <td>1</td>\n",
       "      <td>Cumings, Mrs. John Bradley (Florence Briggs Th...</td>\n",
       "      <td>female</td>\n",
       "      <td>38.0</td>\n",
       "      <td>1</td>\n",
       "      <td>0</td>\n",
       "      <td>PC 17599</td>\n",
       "      <td>71.2833</td>\n",
       "      <td>C85</td>\n",
       "      <td>C</td>\n",
       "    </tr>\n",
       "    <tr>\n",
       "      <th>3</th>\n",
       "      <td>1</td>\n",
       "      <td>3</td>\n",
       "      <td>Heikkinen, Miss. Laina</td>\n",
       "      <td>female</td>\n",
       "      <td>26.0</td>\n",
       "      <td>0</td>\n",
       "      <td>0</td>\n",
       "      <td>STON/O2. 3101282</td>\n",
       "      <td>7.9250</td>\n",
       "      <td>NaN</td>\n",
       "      <td>S</td>\n",
       "    </tr>\n",
       "    <tr>\n",
       "      <th>4</th>\n",
       "      <td>1</td>\n",
       "      <td>1</td>\n",
       "      <td>Futrelle, Mrs. Jacques Heath (Lily May Peel)</td>\n",
       "      <td>female</td>\n",
       "      <td>35.0</td>\n",
       "      <td>1</td>\n",
       "      <td>0</td>\n",
       "      <td>113803</td>\n",
       "      <td>53.1000</td>\n",
       "      <td>C123</td>\n",
       "      <td>S</td>\n",
       "    </tr>\n",
       "    <tr>\n",
       "      <th>5</th>\n",
       "      <td>0</td>\n",
       "      <td>3</td>\n",
       "      <td>Allen, Mr. William Henry</td>\n",
       "      <td>male</td>\n",
       "      <td>35.0</td>\n",
       "      <td>0</td>\n",
       "      <td>0</td>\n",
       "      <td>373450</td>\n",
       "      <td>8.0500</td>\n",
       "      <td>NaN</td>\n",
       "      <td>S</td>\n",
       "    </tr>\n",
       "  </tbody>\n",
       "</table>\n",
       "</div>"
      ],
      "text/plain": [
       "             Survived  Pclass  \\\n",
       "PassengerId                     \n",
       "1                   0       3   \n",
       "2                   1       1   \n",
       "3                   1       3   \n",
       "4                   1       1   \n",
       "5                   0       3   \n",
       "\n",
       "                                                          Name     Sex   Age  \\\n",
       "PassengerId                                                                    \n",
       "1                                      Braund, Mr. Owen Harris    male  22.0   \n",
       "2            Cumings, Mrs. John Bradley (Florence Briggs Th...  female  38.0   \n",
       "3                                       Heikkinen, Miss. Laina  female  26.0   \n",
       "4                 Futrelle, Mrs. Jacques Heath (Lily May Peel)  female  35.0   \n",
       "5                                     Allen, Mr. William Henry    male  35.0   \n",
       "\n",
       "             SibSp  Parch            Ticket     Fare Cabin Embarked  \n",
       "PassengerId                                                          \n",
       "1                1      0         A/5 21171   7.2500   NaN        S  \n",
       "2                1      0          PC 17599  71.2833   C85        C  \n",
       "3                0      0  STON/O2. 3101282   7.9250   NaN        S  \n",
       "4                1      0            113803  53.1000  C123        S  \n",
       "5                0      0            373450   8.0500   NaN        S  "
      ]
     },
     "execution_count": 88,
     "metadata": {},
     "output_type": "execute_result"
    }
   ],
   "source": [
    "data.head()"
   ]
  },
  {
   "cell_type": "code",
   "execution_count": 89,
   "metadata": {
    "ExecuteTime": {
     "end_time": "2019-12-05T03:03:56.406010Z",
     "start_time": "2019-12-05T03:03:56.390136Z"
    }
   },
   "outputs": [
    {
     "name": "stdout",
     "output_type": "stream",
     "text": [
      "<class 'pandas.core.frame.DataFrame'>\n",
      "Int64Index: 891 entries, 1 to 891\n",
      "Data columns (total 11 columns):\n",
      "Survived    891 non-null int64\n",
      "Pclass      891 non-null int64\n",
      "Name        891 non-null object\n",
      "Sex         891 non-null object\n",
      "Age         714 non-null float64\n",
      "SibSp       891 non-null int64\n",
      "Parch       891 non-null int64\n",
      "Ticket      891 non-null object\n",
      "Fare        891 non-null float64\n",
      "Cabin       204 non-null object\n",
      "Embarked    889 non-null object\n",
      "dtypes: float64(2), int64(4), object(5)\n",
      "memory usage: 83.5+ KB\n"
     ]
    }
   ],
   "source": [
    "data.info()"
   ]
  },
  {
   "cell_type": "markdown",
   "metadata": {},
   "source": [
    "## 数据清洗"
   ]
  },
  {
   "cell_type": "code",
   "execution_count": 95,
   "metadata": {
    "ExecuteTime": {
     "end_time": "2019-12-05T03:06:29.675188Z",
     "start_time": "2019-12-05T03:06:29.667189Z"
    }
   },
   "outputs": [],
   "source": [
    "# 删除无效数据\n",
    "data = data.drop(['Ticket', 'Cabin', 'Name'], axis=1)"
   ]
  },
  {
   "cell_type": "code",
   "execution_count": 97,
   "metadata": {
    "ExecuteTime": {
     "end_time": "2019-12-05T03:07:15.581251Z",
     "start_time": "2019-12-05T03:07:15.575519Z"
    }
   },
   "outputs": [],
   "source": [
    "# 填充数据\n",
    "data['Age'] = data['Age'].fillna(data['Age'].mean())"
   ]
  },
  {
   "cell_type": "code",
   "execution_count": 100,
   "metadata": {
    "ExecuteTime": {
     "end_time": "2019-12-05T03:08:31.156844Z",
     "start_time": "2019-12-05T03:08:31.098402Z"
    }
   },
   "outputs": [],
   "source": [
    "# 对于有些缺失值的数据，直接drop\n",
    "data = data.dropna()"
   ]
  },
  {
   "cell_type": "code",
   "execution_count": 104,
   "metadata": {
    "ExecuteTime": {
     "end_time": "2019-12-05T03:15:21.558098Z",
     "start_time": "2019-12-05T03:15:21.190069Z"
    }
   },
   "outputs": [],
   "source": [
    "# 将分类数据转换成数值数据\n",
    "data.head()\n",
    "# 二分类变量转换成数据值型数据\n",
    "data['Sex'] = (data[\"Sex\"]== \"male\").astype(\"int\")"
   ]
  },
  {
   "cell_type": "code",
   "execution_count": 112,
   "metadata": {
    "ExecuteTime": {
     "end_time": "2019-12-05T03:20:47.428975Z",
     "start_time": "2019-12-05T03:20:47.419100Z"
    }
   },
   "outputs": [],
   "source": [
    "# 多分类变量转换成数值型数据\n",
    "labels = data['Embarked'].unique().tolist()\n",
    "data['Embarked'] =  data['Embarked'].apply(lambda x: labels.index(x))"
   ]
  },
  {
   "cell_type": "code",
   "execution_count": 114,
   "metadata": {
    "ExecuteTime": {
     "end_time": "2019-12-05T03:20:58.511256Z",
     "start_time": "2019-12-05T03:20:58.482413Z"
    }
   },
   "outputs": [
    {
     "data": {
      "text/html": [
       "<div>\n",
       "<style scoped>\n",
       "    .dataframe tbody tr th:only-of-type {\n",
       "        vertical-align: middle;\n",
       "    }\n",
       "\n",
       "    .dataframe tbody tr th {\n",
       "        vertical-align: top;\n",
       "    }\n",
       "\n",
       "    .dataframe thead th {\n",
       "        text-align: right;\n",
       "    }\n",
       "</style>\n",
       "<table border=\"1\" class=\"dataframe\">\n",
       "  <thead>\n",
       "    <tr style=\"text-align: right;\">\n",
       "      <th></th>\n",
       "      <th>Survived</th>\n",
       "      <th>Pclass</th>\n",
       "      <th>Sex</th>\n",
       "      <th>Age</th>\n",
       "      <th>SibSp</th>\n",
       "      <th>Parch</th>\n",
       "      <th>Fare</th>\n",
       "      <th>Embarked</th>\n",
       "    </tr>\n",
       "    <tr>\n",
       "      <th>PassengerId</th>\n",
       "      <th></th>\n",
       "      <th></th>\n",
       "      <th></th>\n",
       "      <th></th>\n",
       "      <th></th>\n",
       "      <th></th>\n",
       "      <th></th>\n",
       "      <th></th>\n",
       "    </tr>\n",
       "  </thead>\n",
       "  <tbody>\n",
       "    <tr>\n",
       "      <th>1</th>\n",
       "      <td>0</td>\n",
       "      <td>3</td>\n",
       "      <td>1</td>\n",
       "      <td>22.0</td>\n",
       "      <td>1</td>\n",
       "      <td>0</td>\n",
       "      <td>7.2500</td>\n",
       "      <td>0</td>\n",
       "    </tr>\n",
       "    <tr>\n",
       "      <th>2</th>\n",
       "      <td>1</td>\n",
       "      <td>1</td>\n",
       "      <td>0</td>\n",
       "      <td>38.0</td>\n",
       "      <td>1</td>\n",
       "      <td>0</td>\n",
       "      <td>71.2833</td>\n",
       "      <td>1</td>\n",
       "    </tr>\n",
       "    <tr>\n",
       "      <th>3</th>\n",
       "      <td>1</td>\n",
       "      <td>3</td>\n",
       "      <td>0</td>\n",
       "      <td>26.0</td>\n",
       "      <td>0</td>\n",
       "      <td>0</td>\n",
       "      <td>7.9250</td>\n",
       "      <td>0</td>\n",
       "    </tr>\n",
       "    <tr>\n",
       "      <th>4</th>\n",
       "      <td>1</td>\n",
       "      <td>1</td>\n",
       "      <td>0</td>\n",
       "      <td>35.0</td>\n",
       "      <td>1</td>\n",
       "      <td>0</td>\n",
       "      <td>53.1000</td>\n",
       "      <td>0</td>\n",
       "    </tr>\n",
       "    <tr>\n",
       "      <th>5</th>\n",
       "      <td>0</td>\n",
       "      <td>3</td>\n",
       "      <td>1</td>\n",
       "      <td>35.0</td>\n",
       "      <td>0</td>\n",
       "      <td>0</td>\n",
       "      <td>8.0500</td>\n",
       "      <td>0</td>\n",
       "    </tr>\n",
       "  </tbody>\n",
       "</table>\n",
       "</div>"
      ],
      "text/plain": [
       "             Survived  Pclass  Sex   Age  SibSp  Parch     Fare  Embarked\n",
       "PassengerId                                                              \n",
       "1                   0       3    1  22.0      1      0   7.2500         0\n",
       "2                   1       1    0  38.0      1      0  71.2833         1\n",
       "3                   1       3    0  26.0      0      0   7.9250         0\n",
       "4                   1       1    0  35.0      1      0  53.1000         0\n",
       "5                   0       3    1  35.0      0      0   8.0500         0"
      ]
     },
     "execution_count": 114,
     "metadata": {},
     "output_type": "execute_result"
    }
   ],
   "source": [
    "data.head()"
   ]
  },
  {
   "cell_type": "markdown",
   "metadata": {},
   "source": [
    "## 提取标签和特征矩阵，划分测试集和训练集"
   ]
  },
  {
   "cell_type": "code",
   "execution_count": 116,
   "metadata": {
    "ExecuteTime": {
     "end_time": "2019-12-05T03:23:31.163624Z",
     "start_time": "2019-12-05T03:23:31.155059Z"
    }
   },
   "outputs": [],
   "source": [
    "x = data.iloc[:, data.columns != 'Survived']\n",
    "y = data.iloc[:, data.columns == 'Survived']\n",
    "\n"
   ]
  },
  {
   "cell_type": "code",
   "execution_count": 117,
   "metadata": {
    "ExecuteTime": {
     "end_time": "2019-12-05T03:24:47.708086Z",
     "start_time": "2019-12-05T03:24:47.692986Z"
    }
   },
   "outputs": [],
   "source": [
    "from sklearn.model_selection import train_test_split\n",
    "Xtrain, Xtest, ytrain, ytest = train_test_split(x, y, test_size=.3)"
   ]
  },
  {
   "cell_type": "code",
   "execution_count": 121,
   "metadata": {
    "ExecuteTime": {
     "end_time": "2019-12-05T03:26:51.039760Z",
     "start_time": "2019-12-05T03:26:51.032322Z"
    }
   },
   "outputs": [],
   "source": [
    "# 修正索引\n",
    "for i in [Xtrain, Xtest, ytrain, ytest]:\n",
    "    i.index = range(i.shape[0])"
   ]
  },
  {
   "cell_type": "markdown",
   "metadata": {},
   "source": [
    "## 导入模型，粗略地跑一下"
   ]
  },
  {
   "cell_type": "code",
   "execution_count": 123,
   "metadata": {
    "ExecuteTime": {
     "end_time": "2019-12-05T03:28:38.462708Z",
     "start_time": "2019-12-05T03:28:38.456461Z"
    }
   },
   "outputs": [],
   "source": [
    "clf = DecisionTreeClassifier(random_state=25)"
   ]
  },
  {
   "cell_type": "code",
   "execution_count": 124,
   "metadata": {
    "ExecuteTime": {
     "end_time": "2019-12-05T03:28:50.592603Z",
     "start_time": "2019-12-05T03:28:50.531087Z"
    }
   },
   "outputs": [],
   "source": [
    "clf = clf.fit(Xtrain, ytrain)"
   ]
  },
  {
   "cell_type": "code",
   "execution_count": 129,
   "metadata": {
    "ExecuteTime": {
     "end_time": "2019-12-05T03:29:34.664415Z",
     "start_time": "2019-12-05T03:29:34.648740Z"
    }
   },
   "outputs": [
    {
     "data": {
      "text/plain": [
       "0.7602996254681648"
      ]
     },
     "execution_count": 129,
     "metadata": {},
     "output_type": "execute_result"
    }
   ],
   "source": [
    "score_ = clf.score(Xtest, ytest)\n",
    "score_"
   ]
  },
  {
   "cell_type": "code",
   "execution_count": 130,
   "metadata": {
    "ExecuteTime": {
     "end_time": "2019-12-05T03:30:28.864175Z",
     "start_time": "2019-12-05T03:30:28.742594Z"
    }
   },
   "outputs": [
    {
     "data": {
      "text/plain": [
       "0.7491452991452991"
      ]
     },
     "execution_count": 130,
     "metadata": {},
     "output_type": "execute_result"
    }
   ],
   "source": [
    "score_ = cross_val_score(clf, Xtest, ytest, cv=10).mean()\n",
    "score_"
   ]
  },
  {
   "cell_type": "code",
   "execution_count": 141,
   "metadata": {
    "ExecuteTime": {
     "end_time": "2019-12-05T03:38:53.309435Z",
     "start_time": "2019-12-05T03:38:53.304971Z"
    }
   },
   "outputs": [],
   "source": [
    "# import graphviz\n",
    "# from sklearn import tree\n",
    "# dot_data = tree.export_graphviz(clf, filled=True, rounded=True, feature_names=x.columns, class_names=['Survived', 'death'])\n",
    "# graphviz.Source(dot_data)"
   ]
  },
  {
   "cell_type": "markdown",
   "metadata": {
    "ExecuteTime": {
     "end_time": "2019-12-05T03:37:06.741406Z",
     "start_time": "2019-12-05T03:37:06.732506Z"
    }
   },
   "source": [
    "## 在不同max_depth下观察模型拟合状况"
   ]
  },
  {
   "cell_type": "code",
   "execution_count": 162,
   "metadata": {
    "ExecuteTime": {
     "end_time": "2019-12-05T03:50:34.966873Z",
     "start_time": "2019-12-05T03:50:33.652404Z"
    }
   },
   "outputs": [],
   "source": [
    "# 创建一个列表用于接收拟合后的分数\n",
    "tr = []\n",
    "# te用于接收交叉验证后的分数\n",
    "te = []\n",
    "\n",
    "for i in range(10):\n",
    "    # 这里为什么使用“entropy”？因为我们注意到，在最大深度=3的时候，模型拟合不足，在训练集和测试集上的表现接\n",
    "    # 近，但却都不是非常理想，只能够达到83%左右，所以我们要使用entropy。\n",
    "    temp_clf = DecisionTreeClassifier(random_state=25,\n",
    "                                 max_depth=i+1,\n",
    "                                criterion='entropy')\n",
    "    temp_clf = temp_clf.fit(Xtrain, ytrain)\n",
    "    \n",
    "    temp_score = temp_clf.score(Xtrain, ytrain)\n",
    "    temp_score2 = cross_val_score(temp_clf, x, y, cv=10).mean()\n",
    "    \n",
    "    tr.append(temp_score)\n",
    "    te.append(temp_score2)"
   ]
  },
  {
   "cell_type": "code",
   "execution_count": 164,
   "metadata": {
    "ExecuteTime": {
     "end_time": "2019-12-05T03:50:37.600957Z",
     "start_time": "2019-12-05T03:50:37.594250Z"
    }
   },
   "outputs": [
    {
     "name": "stdout",
     "output_type": "stream",
     "text": [
      "0.9115755627009646\n",
      "0.8177860061287026\n"
     ]
    }
   ],
   "source": [
    "print(max(tr))\n",
    "print(max(te))"
   ]
  },
  {
   "cell_type": "code",
   "execution_count": 166,
   "metadata": {
    "ExecuteTime": {
     "end_time": "2019-12-05T06:58:49.681619Z",
     "start_time": "2019-12-05T06:58:49.101263Z"
    }
   },
   "outputs": [
    {
     "data": {
      "image/png": "[encoded data removed]",
      "text/plain": [
       "<Figure size 432x288 with 1 Axes>"
      ]
     },
     "metadata": {
      "needs_background": "light"
     },
     "output_type": "display_data"
    }
   ],
   "source": [
    "# 绘图\n",
    "plt.plot(range(1,11), tr, color='red', label='performance in train')\n",
    "plt.plot(range(1,11), te, color='blue', label='performance in test')\n",
    "plt.legend()\n",
    "plt.xticks(range(1, 11))\n",
    "plt.show()"
   ]
  },
  {
   "cell_type": "markdown",
   "metadata": {},
   "source": [
    "# 使用网格搜索调整参数\n",
    ">网格搜索类似于我们调参数，只是参数可以一次性调很多个，而且全部可以交给程序去跑。  \n",
    "\n",
    "网格搜索的优缺点很明显：可以自动调参，但是，当我们把参数传进去后，网格搜索就一定会按照传进去的参数进行选择，不会删除某些参数。\n"
   ]
  },
  {
   "cell_type": "code",
   "execution_count": 168,
   "metadata": {
    "ExecuteTime": {
     "end_time": "2019-12-05T07:16:35.826069Z",
     "start_time": "2019-12-05T07:16:35.817668Z"
    }
   },
   "outputs": [],
   "source": [
    "from sklearn.model_selection import GridSearchCV\n",
    "import numpy as np"
   ]
  },
  {
   "cell_type": "code",
   "execution_count": 181,
   "metadata": {
    "ExecuteTime": {
     "end_time": "2019-12-05T07:46:27.540604Z",
     "start_time": "2019-12-05T07:28:22.318206Z"
    }
   },
   "outputs": [
    {
     "name": "stderr",
     "output_type": "stream",
     "text": [
      "D:\\anaconda\\lib\\site-packages\\sklearn\\model_selection\\_search.py:813: DeprecationWarning: The default of the `iid` parameter will change from True to False in version 0.22 and will be removed in 0.24. This will change numeric results when test-set sizes are unequal.\n",
      "  DeprecationWarning)\n"
     ]
    }
   ],
   "source": [
    "# gini的取值范围在0 - 0.5\n",
    "# entropy的取值范围在0 - 1\n",
    "gini_thresholds = np.linspace(0, 0.3, 20)\n",
    "parameters = {\n",
    "    'max_depth':[*range(1, 10), None],\n",
    "    'criterion':['gini', 'entropy'],\n",
    "    'splitter':['best', 'random'],\n",
    "    'min_samples_leaf':[*range(1,8)],\n",
    "    'min_samples_split':[*range(2,6)],\n",
    "    'min_impurity_decrease':gini_thresholds,\n",
    "}\n",
    "\n",
    "\n",
    "\n",
    "\n",
    "clf = DecisionTreeClassifier(random_state=25)\n",
    "GS = GridSearchCV(clf, parameters, cv=5)  # 模型， 参数字典， 交叉验证划分\n",
    "GS = GS.fit(Xtrain, ytrain)"
   ]
  },
  {
   "cell_type": "code",
   "execution_count": 183,
   "metadata": {
    "ExecuteTime": {
     "end_time": "2019-12-05T07:50:53.646078Z",
     "start_time": "2019-12-05T07:50:53.638132Z"
    }
   },
   "outputs": [
    {
     "name": "stdout",
     "output_type": "stream",
     "text": [
      "{'criterion': 'entropy', 'max_depth': 7, 'min_impurity_decrease': 0.0, 'min_samples_leaf': 7, 'min_samples_split': 2, 'splitter': 'best'}\n",
      "0.8247588424437299\n"
     ]
    }
   ],
   "source": [
    "# 输出最佳的参数组合\n",
    "print(GS.best_params_)\n",
    "\n",
    "# 输出最好的分数\n",
    "print(GS.best_score_)"
   ]
  },
  {
   "cell_type": "markdown",
   "metadata": {},
   "source": [
    "# 决策树的优缺点"
   ]
  },
  {
   "cell_type": "markdown",
   "metadata": {},
   "source": [
    "## 优点"
   ]
  },
  {
   "cell_type": "markdown",
   "metadata": {},
   "source": [
    "1. 易于理解和解释，因为树木可以画出来被看见\n",
    "2. 需要很少的数据准备。其他很多算法通常都需要数据规范化，需要创建虚拟变量并删除空值等。但请注意，\n",
    "**sklearn中的决策树模块不支持对缺失值的处理**。\n",
    "3. 使用树的成本（比如说，在预测数据的时候）是用于训练树的数据点的数量的对数，相比于其他算法，这是\n",
    "一个很低的成本。\n",
    "4. 能够同时处理数字和分类数据，既可以做回归又可以做分类。其他技术通常专门用于分析仅具有一种变量类\n",
    "型的数据集。\n",
    "5. 能够处理多输出问题，即含有多个标签的问题，注意与一个标签中含有多种标签分类的问题区别开\n",
    "6. 是一个白盒模型，结果很容易能够被解释。如果在模型中可以观察到给定的情况，则可以通过布尔逻辑轻松\n",
    "解释条件。相反，在黑盒模型中（例如，在人工神经网络中），结果可能更难以解释。\n",
    "7. 可以使用统计测试验证模型，这让我们可以考虑模型的可靠性。\n",
    "8. 即使其假设在某种程度上违反了生成数据的真实模型，也能够表现良好"
   ]
  },
  {
   "cell_type": "markdown",
   "metadata": {},
   "source": [
    "## 缺点"
   ]
  },
  {
   "cell_type": "markdown",
   "metadata": {},
   "source": [
    "1. 决策树学习者可能创建过于复杂的树，这些树不能很好地推广数据。这称为过度拟合。修剪，设置叶节点所\n",
    "需的最小样本数或设置树的最大深度等机制是避免此问题所必需的，而这些参数的整合和调整对初学者来说\n",
    "会比较晦涩\n",
    "2. 决策树可能不稳定，数据中微小的变化可能导致生成完全不同的树，这个问题需要通过集成算法来解决。\n",
    "3. 决策树的学习是基于贪婪算法，它靠优化局部最优（每个节点的最优）来试图达到整体的最优，但这种做法\n",
    "不能保证返回全局最优决策树。这个问题也可以由集成算法来解决，在随机森林中，特征和样本会在分枝过\n",
    "程中被随机采样。\n",
    "4. 有些概念很难学习，因为决策树不容易表达它们，例如XOR，奇偶校验或多路复用器问题。\n",
    "5. 如果标签中的某些类占主导地位，决策树学习者会创建偏向主导类的树。因此，建议在拟合决策树之前平衡\n",
    "数据集。(例如，ID)"
   ]
  },
  {
   "cell_type": "markdown",
   "metadata": {
    "ExecuteTime": {
     "end_time": "2019-12-05T07:46:28.426487Z",
     "start_time": "2019-12-05T07:46:28.418594Z"
    }
   },
   "source": [
    "# 实例：分类树在合成数集上的表现"
   ]
  },
  {
   "cell_type": "code",
   "execution_count": 184,
   "metadata": {
    "ExecuteTime": {
     "end_time": "2019-12-05T07:53:52.946282Z",
     "start_time": "2019-12-05T07:53:52.889738Z"
    }
   },
   "outputs": [],
   "source": [
    "import numpy as np\n",
    "import matplotlib.pyplot as plt\n",
    "from matplotlib.colors import ListedColormap\n",
    "from sklearn.model_selection import train_test_split\n",
    "from sklearn.preprocessing import StandardScaler\n",
    "from sklearn.datasets import make_moons, make_circles, make_classification\n",
    "from sklearn.tree import DecisionTreeClassifier"
   ]
  },
  {
   "cell_type": "markdown",
   "metadata": {},
   "source": [
    "## 生成三种数据集"
   ]
  },
  {
   "cell_type": "code",
   "execution_count": 186,
   "metadata": {
    "ExecuteTime": {
     "end_time": "2019-12-05T07:56:59.674947Z",
     "start_time": "2019-12-05T07:56:59.666508Z"
    }
   },
   "outputs": [],
   "source": [
    "# make_classification 生成二分类数据集\n",
    "X,y = make_classification(n_samples=100, # 生成100个样本\n",
    "                         n_features=2, # 生成2个特征\n",
    "                         n_redundant=0,  # 设置0个冗余特征\n",
    "                         n_informative=2,  # 设置含主要信息的特征为2\n",
    "                         random_state=1, # 设置随机种子,\n",
    "                         n_clusters_per_class=1  # 每个簇包含的标签类别有1个\n",
    "                         )"
   ]
  },
  {
   "cell_type": "code",
   "execution_count": 191,
   "metadata": {
    "ExecuteTime": {
     "end_time": "2019-12-05T07:59:12.987290Z",
     "start_time": "2019-12-05T07:59:12.943128Z"
    }
   },
   "outputs": [
    {
     "data": {
      "text/plain": [
       "(array([[-1.04948638,  0.8786438 ],\n",
       "        [ 0.8780991 ,  0.89551051],\n",
       "        [ 0.95928819,  1.03967316],\n",
       "        [-1.18013412,  1.12062155],\n",
       "        [-0.90731836,  1.06040861],\n",
       "        [-0.62754626,  1.37661405],\n",
       "        [ 0.82178321,  1.18947778],\n",
       "        [-1.20376927,  0.78801845],\n",
       "        [ 0.77151441,  0.345716  ],\n",
       "        [-0.493857  ,  1.66752297],\n",
       "        [ 1.17456965,  0.69211449],\n",
       "        [ 0.82798737,  0.84806927],\n",
       "        [ 0.89189141,  0.87699465],\n",
       "        [ 0.90394545,  0.35413361],\n",
       "        [ 0.94459507,  1.12641981],\n",
       "        [ 0.9317172 ,  0.78344054],\n",
       "        [-0.96853969,  1.27991386],\n",
       "        [-1.09230828,  0.92686981],\n",
       "        [-0.68243019,  1.4468218 ],\n",
       "        [-0.76045809,  0.61363671],\n",
       "        [-1.1146902 ,  1.13545112],\n",
       "        [ 1.32970299,  1.58463774],\n",
       "        [-1.39003042,  0.85771953],\n",
       "        [ 1.01313574,  1.16777676],\n",
       "        [ 1.22382712,  1.98519313],\n",
       "        [-1.20257258,  0.69174373],\n",
       "        [ 0.96435056,  1.77547698],\n",
       "        [ 1.02600767,  0.87226739],\n",
       "        [ 1.10863359,  1.16755486],\n",
       "        [-0.84967187,  0.88838944],\n",
       "        [-1.03048932,  0.61839045],\n",
       "        [-1.278618  ,  0.98379959],\n",
       "        [-0.98437725,  0.93621125],\n",
       "        [ 0.91588404,  0.79032389],\n",
       "        [ 1.13872896,  0.85729649],\n",
       "        [-1.01366961,  0.47330777],\n",
       "        [ 0.84917607,  1.36586461],\n",
       "        [ 1.03436581,  2.07582971],\n",
       "        [ 1.24328724,  1.07258847],\n",
       "        [ 0.84146721,  0.89891716],\n",
       "        [-1.47533915,  0.86146256],\n",
       "        [-1.23912256,  0.94781411],\n",
       "        [ 1.06821044,  0.77370361],\n",
       "        [ 0.90852604,  0.96703727],\n",
       "        [-0.54706224,  0.46739791],\n",
       "        [ 1.0576549 ,  0.97139534],\n",
       "        [-0.87353582,  0.87122579],\n",
       "        [-1.23017555,  1.06523311],\n",
       "        [ 0.99854519,  0.68188934],\n",
       "        [-1.42203164,  1.01177337],\n",
       "        [-0.88286982,  0.81583612],\n",
       "        [ 1.23187251,  0.62567337],\n",
       "        [-0.91766462,  1.01195228],\n",
       "        [-0.8894876 ,  1.34728643],\n",
       "        [-1.6845077 ,  1.32857949],\n",
       "        [ 1.32551412,  1.838294  ],\n",
       "        [ 0.88239331,  0.70017571],\n",
       "        [ 1.03345052,  1.46893146],\n",
       "        [-0.93355729,  0.99785516],\n",
       "        [-1.46662161,  0.87874071],\n",
       "        [ 1.033341  ,  1.18559003],\n",
       "        [ 1.08480038,  1.64661853],\n",
       "        [-1.29936179,  0.85335555],\n",
       "        [ 1.17718111,  1.1437713 ],\n",
       "        [ 0.78655651,  0.77528533],\n",
       "        [-1.85064099,  0.89562312],\n",
       "        [ 0.81405135,  0.88883881],\n",
       "        [ 0.93640333,  0.6236295 ],\n",
       "        [ 1.21828168,  0.96457205],\n",
       "        [-0.5789623 ,  1.32720112],\n",
       "        [ 1.15080755,  1.02242019],\n",
       "        [ 0.82550695,  0.55853873],\n",
       "        [ 0.96548233,  1.18468624],\n",
       "        [-1.13742855,  0.62153099],\n",
       "        [-0.84983074,  0.72297801],\n",
       "        [-1.44189096,  1.09488485],\n",
       "        [ 0.70455707,  1.39198128],\n",
       "        [-0.67204982,  0.85877496],\n",
       "        [-1.88873982,  0.44118981],\n",
       "        [-1.15649503,  0.85982375],\n",
       "        [ 1.10018476,  0.98042741],\n",
       "        [ 0.60660431,  0.56998385],\n",
       "        [ 1.00277655,  1.24549398],\n",
       "        [-1.44620987,  0.6675918 ],\n",
       "        [-1.64162479,  0.76170668],\n",
       "        [-1.14722826,  0.88861146],\n",
       "        [ 0.61771419,  1.02817479],\n",
       "        [-0.62373281,  1.25704434],\n",
       "        [-0.94495995,  0.6109426 ],\n",
       "        [-1.53556118,  0.10593645],\n",
       "        [ 1.17353145,  1.14809657],\n",
       "        [-1.21258781,  0.9292506 ],\n",
       "        [ 1.06796368,  0.5630779 ],\n",
       "        [ 1.17899425,  1.17867274],\n",
       "        [-1.73963799,  1.22867367],\n",
       "        [ 0.75148062,  1.06702918],\n",
       "        [-1.36419132,  1.21619061],\n",
       "        [-1.18913787,  0.62368852],\n",
       "        [ 0.85063796,  0.44689516],\n",
       "        [-0.54245992,  1.34740825]]),\n",
       " array([1, 0, 0, 1, 1, 1, 0, 1, 0, 1, 0, 0, 0, 0, 0, 0, 1, 1, 1, 1, 1, 0,\n",
       "        1, 0, 0, 1, 0, 0, 0, 1, 1, 1, 1, 0, 0, 1, 0, 0, 0, 0, 1, 1, 0, 0,\n",
       "        1, 0, 1, 1, 0, 1, 1, 0, 1, 1, 1, 0, 0, 0, 1, 1, 0, 0, 1, 0, 0, 1,\n",
       "        0, 0, 0, 1, 0, 0, 0, 1, 1, 1, 0, 1, 1, 1, 0, 0, 0, 1, 1, 1, 0, 1,\n",
       "        1, 1, 0, 1, 0, 0, 1, 0, 1, 1, 0, 1]))"
      ]
     },
     "execution_count": 191,
     "metadata": {},
     "output_type": "execute_result"
    }
   ],
   "source": [
    "make_classification(n_samples=100, # 生成100个样本\n",
    "                         n_features=2, # 生成2个特征\n",
    "                         n_redundant=0,  # 设置0个冗余特征\n",
    "                         n_informative=2,  # 设置含主要信息的特征为2\n",
    "                         random_state=1, # 设置随机种子,\n",
    "                         n_clusters_per_class=1  # 每个簇包含的标签类别有1个\n",
    "                         )"
   ]
  },
  {
   "cell_type": "code",
   "execution_count": 195,
   "metadata": {
    "ExecuteTime": {
     "end_time": "2019-12-05T08:01:55.090595Z",
     "start_time": "2019-12-05T08:01:54.787540Z"
    }
   },
   "outputs": [
    {
     "data": {
      "text/plain": [
       "<matplotlib.collections.PathCollection at 0x279c5cd4a20>"
      ]
     },
     "execution_count": 195,
     "metadata": {},
     "output_type": "execute_result"
    },
    {
     "data": {
      "image/png": "[encoded data removed]",
      "text/plain": [
       "<Figure size 432x288 with 1 Axes>"
      ]
     },
     "metadata": {
      "needs_background": "light"
     },
     "output_type": "display_data"
    }
   ],
   "source": [
    "plt.scatter(X[:,0],X[:,1])"
   ]
  },
  {
   "cell_type": "code",
   "execution_count": 197,
   "metadata": {
    "ExecuteTime": {
     "end_time": "2019-12-05T08:04:58.732966Z",
     "start_time": "2019-12-05T08:04:58.418505Z"
    }
   },
   "outputs": [
    {
     "data": {
      "text/plain": [
       "<matplotlib.collections.PathCollection at 0x279c63a4080>"
      ]
     },
     "execution_count": 197,
     "metadata": {},
     "output_type": "execute_result"
    },
    {
     "data": {
      "image/png": "[encoded data removed]",
      "text/plain": [
       "<Figure size 432x288 with 1 Axes>"
      ]
     },
     "metadata": {
      "needs_background": "light"
     },
     "output_type": "display_data"
    }
   ],
   "source": [
    "#从图上可以看出，生成的二分型数据的两个簇离彼此很远，这样不利于我们测试分类器的效果，因此我们使用np生成\n",
    "# 随机数组，通过让已经生成的二分型数据点加减0~1之间的随机数，使数据分布变得更散更稀疏\n",
    "#注意，这个过程只能够运行一次，因为多次运行之后X会变得非常稀疏，两个簇的数据会混合在一起，分类器的效应会\n",
    "# 继续下降\n",
    "rng = np.random.RandomState(2)  # 设置随机种子\n",
    "X += 2 * rng.uniform(size=X.shape)\n",
    "\n",
    "linearly_separable = (X, y)  #生成了新的X，依然可以画散点图来观察一下特征的分布\n",
    "plt.scatter(X[:,0], X[:,1])"
   ]
  },
  {
   "cell_type": "code",
   "execution_count": 199,
   "metadata": {
    "ExecuteTime": {
     "end_time": "2019-12-05T08:06:40.331622Z",
     "start_time": "2019-12-05T08:06:40.320707Z"
    }
   },
   "outputs": [],
   "source": [
    "#用make_moons创建月亮型数据，make_circles创建环形数据，并将三组数据打包起来放在列表datasets中\n",
    "datasets = [make_moons(noise=0.3, random_state=0),\n",
    "            make_circles(noise=0.2, factor=0.5, random_state=1),\n",
    "            linearly_separable]"
   ]
  },
  {
   "cell_type": "markdown",
   "metadata": {
    "ExecuteTime": {
     "end_time": "2019-12-05T08:06:44.503135Z",
     "start_time": "2019-12-05T08:06:44.473376Z"
    }
   },
   "source": [
    "## 画出三种决策树的分类效应图"
   ]
  },
  {
   "cell_type": "code",
   "execution_count": 208,
   "metadata": {
    "ExecuteTime": {
     "end_time": "2019-12-05T08:35:51.701693Z",
     "start_time": "2019-12-05T08:35:51.276741Z"
    }
   },
   "outputs": [
    {
     "data": {
      "image/png": "[encoded data removed]",
      "text/plain": [
       "<Figure size 432x648 with 3 Axes>"
      ]
     },
     "metadata": {},
     "output_type": "display_data"
    }
   ],
   "source": [
    "#创建画布，宽高比为6*9\n",
    "figure = plt.figure(figsize=(6, 9))\n",
    "#设置用来安排图像显示位置的全局变量i\n",
    "i = 1\n",
    "#开始迭代数据，对datasets中的数据进行for循环\n",
    "for ds_index, ds in enumerate(datasets):\n",
    "    X, y = ds\n",
    "    # 对数据进行标准化处理\n",
    "    X = StandardScaler().fit_transform(X)\n",
    "    # print(X)\n",
    "    X_train, X_test, y_train, y_test = train_test_split(X, y, test_size=0.4, random_state=42)\n",
    "    # 找出数据集中两个特征的最大值和最小值，让最大值+0.5，最小值-0.5，创造一个比两个特征的区间本身更大\n",
    "    # 一点的区间\n",
    "    x1_min, x1_max = X[:,0].min() - 0.5, X[:,0].max() + 0.5\n",
    "    x2_min, x2_max = X[:,1].min() - 0.5, X[:,1].max() + 0.5\n",
    "    #用特征向量生成网格数据，网格数据，其实就相当于坐标轴上无数个点\n",
    "    #函数np.arange在给定的两个数之间返回均匀间隔的值，0.2为步长\n",
    "    #函数meshgrid用以生成网格数据，能够将两个一维数组生成两个二维矩阵。\n",
    "    #如果第一个数组是narray，维度是n，第二个参数是marray，维度是m。那么生成的第一个二维数组是以\n",
    "    #narray为行，m行的矩阵，而第二个二维数组是以marray的转置为列，n列的矩阵\n",
    "    #生成的网格数据，是用来绘制决策边界的，因为绘制决策边界的函数contourf要求输入的两个特征都必须是二\n",
    "    #维的\n",
    "    array1,array2 = np.meshgrid(np.arange(x1_min, x1_max, 0.2),\n",
    "                                np.arange(x2_min, x2_max, 0.2))\n",
    "    \n",
    "    #接下来生成彩色画布\n",
    "    #用ListedColormap为画布创建颜色，#FF0000正红，#0000FF正蓝\n",
    "    cm = plt.cm.RdBu\n",
    "    cm_bright = ListedColormap(['#FF0000', '#0000FF'])\n",
    "    \n",
    "    #在画布上加上一个子图，数据为len(datasets)行，2列，放在位置i上\n",
    "    ax = plt.subplot(len(datasets), 2, i)\n",
    "    \n",
    "    #到这里为止，已经生成了0~1之间的坐标系3个了，接下来为我们的坐标系放上标题\n",
    "    #我们有三个坐标系，但我们只需要在第一个坐标系上有标题，因此设定if ds_index==0这个条件\n",
    "    if ds_index == 0:\n",
    "        ax.set_title(\"Input data\")\n",
    "    #将数据集的分布放到我们的坐标系上\n",
    "    #先放训练集\n",
    "    ax.scatter(X_train[:, 0], X_train[:, 1], c=y_train,\n",
    "                cmap=cm_bright,edgecolors='k')\n",
    "    \n",
    "    #放测试集\n",
    "    ax.scatter(X_test[:, 0], X_test[:, 1], c=y_test,\n",
    "                cmap=cm_bright, alpha=0.3,edgecolors='k')\n",
    "    #为图设置坐标轴的最大值和最小值，并设定没有坐标轴\n",
    "    ax.set_xlim(array1.min(), array1.max())\n",
    "    ax.set_ylim(array2.min(), array2.max())\n",
    "    ax.set_xticks(())\n",
    "    ax.set_yticks(())\n",
    "    #每次循环之后，改变i的取值让图每次位列不同的位置\n",
    "    i += 1"
   ]
  },
  {
   "cell_type": "code",
   "execution_count": 206,
   "metadata": {
    "ExecuteTime": {
     "end_time": "2019-12-05T08:25:30.974638Z",
     "start_time": "2019-12-05T08:25:30.965713Z"
    }
   },
   "outputs": [
    {
     "data": {
      "text/plain": [
       "[array([[  1,  10, 100],\n",
       "        [  1,  10, 100]]), array([[ 2,  2,  2],\n",
       "        [20, 20, 20]])]"
      ]
     },
     "execution_count": 206,
     "metadata": {},
     "output_type": "execute_result"
    }
   ],
   "source": [
    "np.meshgrid([1,10,100],[2,20])"
   ]
  }
 ],
 "metadata": {
  "kernelspec": {
   "display_name": "Python 3",
   "language": "python",
   "name": "python3"
  },
  "language_info": {
   "codemirror_mode": {
    "name": "ipython",
    "version": 3
   },
   "file_extension": ".py",
   "mimetype": "text/x-python",
   "name": "python",
   "nbconvert_exporter": "python",
   "pygments_lexer": "ipython3",
   "version": "3.7.3"
  },
  "toc": {
   "base_numbering": 1,
   "nav_menu": {},
   "number_sections": true,
   "sideBar": true,
   "skip_h1_title": false,
   "title_cell": "Table of Contents",
   "title_sidebar": "Contents",
   "toc_cell": false,
   "toc_position": {},
   "toc_section_display": true,
   "toc_window_display": false
  },
  "varInspector": {
   "cols": {
    "lenName": 16,
    "lenType": 16,
    "lenVar": 40
   },
   "kernels_config": {
    "python": {
     "delete_cmd_postfix": "",
     "delete_cmd_prefix": "del ",
     "library": "var_list.py",
     "varRefreshCmd": "print(var_dic_list())"
    },
    "r": {
     "delete_cmd_postfix": ") ",
     "delete_cmd_prefix": "rm(",
     "library": "var_list.r",
     "varRefreshCmd": "cat(var_dic_list()) "
    }
   },
   "types_to_exclude": [
    "module",
    "function",
    "builtin_function_or_method",
    "instance",
    "_Feature"
   ],
   "window_display": false
  }
 },
 "nbformat": 4,
 "nbformat_minor": 2
}
