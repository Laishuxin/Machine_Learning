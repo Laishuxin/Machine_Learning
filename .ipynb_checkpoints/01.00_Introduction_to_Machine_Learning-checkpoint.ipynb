{
 "cells": [
  {
   "cell_type": "markdown",
   "metadata": {},
   "source": [
    "# Mechine Learning Definition\n"
   ]
  },
  {
   "cell_type": "markdown",
   "metadata": {},
   "source": [
    "1. Giving the computer the ability to learn without explicitly programmed.(让机器有自我学习的能力。如，让机器自己学习如何下棋)\n",
    "2. A computer program to learn for experience E with respect to some class of tasks T and performance measure P, if its performance and tasks in T improves with experience E.(从经验中学习某些任务或者指标，然后从这些T/P中获取经验，以此循环)。\n",
    "    + E：the experience of playing many games of checkers.\n",
    "    + T: the tasks of playing checkers\n",
    "    + P: the probability that the program will win the next game.\n"
   ]
  },
  {
   "cell_type": "markdown",
   "metadata": {},
   "source": [
    "# ML's Categories"
   ]
  },
  {
   "cell_type": "markdown",
   "metadata": {},
   "source": [
    "## Supervised Learning"
   ]
  },
  {
   "cell_type": "markdown",
   "metadata": {},
   "source": [
    "Giving some data set containing right answer, and let the machine product more right anser.(给定一些含有正确答案的数据集，让机器自己学习，预估更多的数据结果)"
   ]
  },
  {
   "cell_type": "markdown",
   "metadata": {},
   "source": [
    "1. Regression: predicting results within a continuous output. Mapping the input varibles to some continuous funcion. (通过输入的变量，如年龄、性别等，映射一些函数，得到输出结构)\n",
    "2. classification: mapping input variables into discrete categories.(将输入的变量进行离散化分类)"
   ]
  },
  {
   "cell_type": "markdown",
   "metadata": {},
   "source": [
    "## Unsupervised Learning"
   ]
  },
  {
   "cell_type": "markdown",
   "metadata": {},
   "source": [
    "Giving data set that have all same label or have no label let machine to recognize their categories or classify. \n",
    "不告知结论，然机器自己分类"
   ]
  },
  {
   "cell_type": "markdown",
   "metadata": {},
   "source": [
    "1. 聚类算法。如：google news，新闻自动分类。"
   ]
  },
  {
   "cell_type": "markdown",
   "metadata": {},
   "source": [
    "2. 鸡尾酒会算法"
   ]
  },
  {
   "cell_type": "code",
   "execution_count": null,
   "metadata": {},
   "outputs": [],
   "source": []
  }
 ],
 "metadata": {
  "kernelspec": {
   "display_name": "Python 3",
   "language": "python",
   "name": "python3"
  },
  "language_info": {
   "codemirror_mode": {
    "name": "ipython",
    "version": 3
   },
   "file_extension": ".py",
   "mimetype": "text/x-python",
   "name": "python",
   "nbconvert_exporter": "python",
   "pygments_lexer": "ipython3",
   "version": "3.7.3"
  },
  "toc": {
   "base_numbering": 1,
   "nav_menu": {},
   "number_sections": true,
   "sideBar": true,
   "skip_h1_title": false,
   "title_cell": "Table of Contents",
   "title_sidebar": "Contents",
   "toc_cell": false,
   "toc_position": {},
   "toc_section_display": true,
   "toc_window_display": false
  }
 },
 "nbformat": 4,
 "nbformat_minor": 2
}
