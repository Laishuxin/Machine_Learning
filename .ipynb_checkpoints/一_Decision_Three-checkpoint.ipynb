{
 "cells": [
  {
   "cell_type": "markdown",
   "metadata": {},
   "source": [
    "# 概述\n",
    "## 决策树是如何工作的\n",
    "决策树（Decision Tree）是一种非参数的有监督学习方法，它能够从一系列有特征和标签的数据中总结出决策规\n",
    "则，并用树状图的结构来呈现这些规则，以解决分类和回归问题。决策树算法容易理解，适用各种数据，在解决各\n",
    "种问题时都有良好表现，尤其是以树模型为核心的各种集成算法，在各个行业和领域都有广泛的应用。"
   ]
  },
  {
   "cell_type": "markdown",
   "metadata": {},
   "source": [
    "## 构建决策数的两个阶段"
   ]
  },
  {
   "cell_type": "markdown",
   "metadata": {},
   "source": [
    ">1. 训练阶段  \n",
    "从给定的训练数据集DB，构造出一颗决策树  \n",
    "`class = DecisionTree(DB)`   \n",
    "2. 分类阶段  \n",
    "从根开始，按照决策树的分类属性逐层往下划分，知道叶节点，获得概念(决策、分类)  \n",
    "`y = DecisionTree(x)`\n",
    "\n",
    "\n"
   ]
  },
  {
   "cell_type": "markdown",
   "metadata": {},
   "source": [
    "## 相关概念"
   ]
  },
  {
   "cell_type": "markdown",
   "metadata": {},
   "source": [
    "![](images/concept.png)"
   ]
  },
  {
   "cell_type": "markdown",
   "metadata": {},
   "source": [
    "# 决策树算法"
   ]
  },
  {
   "cell_type": "markdown",
   "metadata": {},
   "source": [
    "## 构建决策树\n",
    "原则上讲，任意一个数据集上的所有特征都可以被拿来分\n",
    "枝，特征上的任意节点又可以自由组合，所以一个数据集上可以发展出非常非常多棵决策树，其数量可达指数级。在\n",
    "这些树中，总有那么一棵树比其他的树分类效力都好，那样的树叫做”全局最优树“。"
   ]
  },
  {
   "cell_type": "markdown",
   "metadata": {},
   "source": [
    "|**关键概念：全局最优、局部最优**|\n",
    "|  :------------------------ |  \n",
    "|全局最优：经过组合形成的，整体来说分类效果最好的模型|\n",
    "|局部最优：每一次分枝的时候都向着更好的分类效果分枝，但无法确认如此生成的树在全局上是否是最优的|"
   ]
  },
  {
   "cell_type": "markdown",
   "metadata": {},
   "source": [
    "要在这么多棵决策树中去一次性找到分类效果最佳的那一棵是不可能的，如果通过排列组合来进行筛选，计算量过于\n",
    "大而且低效，因此我们不会这样做。相对的，机器学习研究者们开发了一些有效的算法，能够在合理的时间内构造出\n",
    "具有一定准确率的**次最优**决策树。这些算法基本都执行”**贪心策略**“，即通过局部的最优来达到我们相信是最接近全局\n",
    "最优的结果。"
   ]
  },
  {
   "cell_type": "markdown",
   "metadata": {},
   "source": [
    "|关键概念：贪心算法|\n",
    "| :---------|\n",
    "|通过实现局部最优来达到接近全局最优结果的算法，所有的树模型都是这样的算法。|"
   ]
  },
  {
   "cell_type": "markdown",
   "metadata": {},
   "source": [
    "## 算法的核心解决问题"
   ]
  },
  {
   "cell_type": "markdown",
   "metadata": {},
   "source": [
    "1. 如何从数据表中找出最佳点和最佳分支\n",
    "2. 如何让决策树停止生长，防止过拟合\n"
   ]
  },
  {
   "cell_type": "markdown",
   "metadata": {},
   "source": [
    "## 选择根节点(信息增益最大的当成根节点)"
   ]
  },
  {
   "cell_type": "markdown",
   "metadata": {},
   "source": [
    "### 决策树-熵\n",
    ">熵：表示数据内部混乱程度。熵越大越混乱。\n"
   ]
  },
  {
   "cell_type": "markdown",
   "metadata": {},
   "source": [
    "相关符合表示：  \n",
    "$H(X), H(Y)：表示当前事情X,Y发生的不确定性。$  \n",
    "$P(X)，P(Y)：表示当前事情发生的概率。$  \n",
    "$P(X)越大 --> H(X)越小。(可以这么理解，一件事情发生的概率越大说明它的不确定性越小。)$  \n",
    "$P(X)越小 --> H(X)越大。(可以这么理解，一件事情发生的概率越小说明它的不确定性越大。)$  \n",
    "\n",
    " "
   ]
  },
  {
   "cell_type": "markdown",
   "metadata": {},
   "source": [
    "假设：$A = \\{1,2,3,4,1,2,1\\}$  数字表示A里面的类别  \n",
    "$B = \\{1,1,1,1,1,2\\}$\n"
   ]
  },
  {
   "cell_type": "markdown",
   "metadata": {},
   "source": [
    "由于A的类别很多，杂乱无章，我们可以说A的熵值很大，不纯度高。   \n",
    "由于B的类别很少(1或者2), B相对于A而言，我们可以说B的熵值很小，不纯度低。"
   ]
  },
  {
   "cell_type": "markdown",
   "metadata": {},
   "source": [
    "|重要概念：不纯度|  \n",
    "| :----- |\n",
    "|决策树的每个叶子节点中都会包含一组数据，在这组数据中，如果有某一类标签占有较大的比例，我们就说叶子\n",
    "节点“纯”，分枝分得好。某一类标签占的比例越大，叶子就越纯，不纯度就越低，分枝就越好。\n",
    "如果没有哪一类标签的比例很大，各类标签都相对平均，则说叶子节点”不纯“，分枝不好，不纯度高|"
   ]
  },
  {
   "cell_type": "markdown",
   "metadata": {},
   "source": [
    "### 公式"
   ]
  },
  {
   "cell_type": "markdown",
   "metadata": {},
   "source": [
    "$熵= - \\displaystyle\\sum_{i=1}^{n}P_iln(P_i)$"
   ]
  },
  {
   "cell_type": "markdown",
   "metadata": {},
   "source": [
    "![](images/shang.png)"
   ]
  },
  {
   "cell_type": "markdown",
   "metadata": {},
   "source": [
    "理解：当P比较小时，对应的lnP会比较大，所以能得到较大是熵，说明当前集合的混乱程度比较大。  \n",
    "当P比较大时，对应的lnP会比较小，所以得到的熵值比较小，说明当前集合的混乱程度比较小。  \n"
   ]
  },
  {
   "cell_type": "markdown",
   "metadata": {},
   "source": [
    "### Gini(基尼系数)"
   ]
  },
  {
   "cell_type": "markdown",
   "metadata": {},
   "source": [
    "$Gini系数 = Gini(p) = \\displaystyle \\sum_{k=1}^{K}p_k(1-p_k) = 1 - \\displaystyle \\sum_{k=1}^{K}p_k^2  \n",
    "\\text{(p为某一类别发生的概率)}$  "
   ]
  },
  {
   "cell_type": "markdown",
   "metadata": {},
   "source": [
    "## 构造决策树的基本想法"
   ]
  },
  {
   "cell_type": "markdown",
   "metadata": {},
   "source": [
    ">构造决策树的基本想法是随着树深度的增加，节点的熵**迅速下降**。熵下降的速度越快越好，这样我们就可以构造一颗**最矮**的决策树。(能用少量有用的信息解决事情越好)"
   ]
  },
  {
   "cell_type": "markdown",
   "metadata": {},
   "source": [
    "### 示例"
   ]
  },
  {
   "cell_type": "markdown",
   "metadata": {},
   "source": [
    "根据前面的特征(outlook, temperature, humidty, windy)，判断是否出去打篮球(play)"
   ]
  },
  {
   "cell_type": "markdown",
   "metadata": {},
   "source": [
    "![](images/example1.png)"
   ]
  },
  {
   "cell_type": "markdown",
   "metadata": {},
   "source": [
    "![](images/decision1.png)"
   ]
  },
  {
   "cell_type": "markdown",
   "metadata": {},
   "source": [
    "### 1.计算原始数据的熵值\n",
    "在没有给定任何天气信息时，根据历史数据，我们能知道一天打球的概率是9/14， 不打的概率是5/14。此时的熵为：  \n",
    "$-\\dfrac{9}{14}log_2\\dfrac{9}{14} - \\dfrac{5}{14}log_2\\dfrac{5}{14} = 0.940$"
   ]
  },
  {
   "cell_type": "markdown",
   "metadata": {},
   "source": [
    "### 2. 计算候选节点的熵值"
   ]
  },
  {
   "cell_type": "markdown",
   "metadata": {},
   "source": [
    "下面我们计算当已知变量outlook的值时，信息熵为多少？"
   ]
  },
  {
   "cell_type": "markdown",
   "metadata": {},
   "source": [
    "![](images/decision2.png)\n"
   ]
  },
  {
   "cell_type": "markdown",
   "metadata": {},
   "source": [
    "对其加权求和"
   ]
  },
  {
   "cell_type": "markdown",
   "metadata": {},
   "source": [
    "![](images/decision3.png)\n"
   ]
  },
  {
   "cell_type": "markdown",
   "metadata": {},
   "source": [
    "### 信息增益"
   ]
  },
  {
   "cell_type": "markdown",
   "metadata": {},
   "source": [
    ">信息增益表示：熵值发生的变化。  \n",
    "\n"
   ]
  },
  {
   "cell_type": "markdown",
   "metadata": {},
   "source": [
    "![](images/decision4.png)\n",
    "\n"
   ]
  },
  {
   "cell_type": "markdown",
   "metadata": {},
   "source": [
    "## ID3：：信息增益算法"
   ]
  },
  {
   "cell_type": "markdown",
   "metadata": {},
   "source": [
    "信息增益的缺点：一些特征里面存在的属性很多，但是每个属性对应的的样本很少，这样会造成很大的信息增益。  \n",
    "示例： 我们为每一个样本增加一个ID(ID与结论无关，只是数据的一个标志)\n"
   ]
  },
  {
   "cell_type": "markdown",
   "metadata": {},
   "source": [
    "![](images/decision5.png)\n"
   ]
  },
  {
   "cell_type": "markdown",
   "metadata": {},
   "source": [
    "现在我们先考虑把ID当成根节点：  \n",
    "那么ID对应的信息熵为：  \n",
    "$\\dfrac{1}{14}\\times(-1\\times log_2(1)) + \\cdots + \\dfrac{1}{14}\\times(-1\\times log_2(1)) = 0$  \n",
    "熵值为0，信息增益最大，我们知道ID只是对样本的一个编号，不会对结论造成影响。但是，通过计算得到的结果会让我们错误地把ID当成根节点。"
   ]
  },
  {
   "cell_type": "markdown",
   "metadata": {},
   "source": [
    "## C4.5(信息增益率)"
   ]
  },
  {
   "cell_type": "markdown",
   "metadata": {},
   "source": [
    "对应每个属性除以它自身的信息增益再求累加和"
   ]
  },
  {
   "cell_type": "markdown",
   "metadata": {},
   "source": [
    "## 评价函数"
   ]
  },
  {
   "cell_type": "markdown",
   "metadata": {},
   "source": [
    "$C(T) = \\displaystyle \\sum_{t∈leaf}N_tH(t)$  （类似于损失函数，越小越好）"
   ]
  },
  {
   "cell_type": "markdown",
   "metadata": {},
   "source": [
    "## 连续值的分界选择(如，年龄)\n",
    "![](images/decision6.png)\n"
   ]
  },
  {
   "cell_type": "markdown",
   "metadata": {},
   "source": [
    "# 剪枝操作"
   ]
  },
  {
   "cell_type": "markdown",
   "metadata": {},
   "source": [
    "为什么要剪枝？  \n",
    "如果不剪枝的话，很容易导致过拟合。   \n",
    "如果决策树过于庞大，它包含的信息可能在训练集上很不错，但在测试集上很容易导致过拟合了，把一些噪音也涵盖进去了。\n"
   ]
  },
  {
   "cell_type": "markdown",
   "metadata": {},
   "source": [
    "## 预剪枝"
   ]
  },
  {
   "cell_type": "markdown",
   "metadata": {},
   "source": [
    ">预剪枝：在构建决策树过程中，能提前停止。"
   ]
  },
  {
   "cell_type": "markdown",
   "metadata": {},
   "source": [
    "1. 设置最大深度\n",
    "2. 设置最小节点\n"
   ]
  },
  {
   "cell_type": "markdown",
   "metadata": {},
   "source": [
    "## 后剪枝\n",
    ">后剪枝：构建完决策树后，才开始剪枝操作"
   ]
  },
  {
   "cell_type": "markdown",
   "metadata": {},
   "source": [
    "1. 修改损失函数\n",
    "![](images/decision7.png)\n"
   ]
  },
  {
   "cell_type": "markdown",
   "metadata": {},
   "source": [
    "# 随机森林(相当于构造多颗决策树)\n",
    "## 相关概念\n",
    "### 采样方式\n",
    "1. Bootstraping：有放回采样  \n",
    "2. Bagging：有放回采样n个样本建立分类器"
   ]
  },
  {
   "cell_type": "markdown",
   "metadata": {},
   "source": [
    "## 随机\n",
    "### 双重随机性\n",
    "1. 数据选择的随机性\n",
    "2. 特征随机性"
   ]
  },
  {
   "cell_type": "markdown",
   "metadata": {},
   "source": [
    "![](images/decision8.png)"
   ]
  },
  {
   "cell_type": "markdown",
   "metadata": {},
   "source": [
    "# sklearn中的决策树\n"
   ]
  },
  {
   "cell_type": "markdown",
   "metadata": {
    "ExecuteTime": {
     "end_time": "2019-11-29T09:31:00.670913Z",
     "start_time": "2019-11-29T09:31:00.652378Z"
    }
   },
   "source": [
    "## 模块sklearn.tree\n",
    "|tree.DecisionTreeClassifier| 分类树|\n",
    "| -------------------------|------ |\n",
    "| tree.DecisionTreeRegressor| 回归树|  \n",
    "| tree.export_graphviz      |将生成的决策树导出为DOT格式，画图专用|\n",
    "| tree.ExtraTreeClassifier  |高随机版本的分类树|  \n",
    "| tree.ExtraTreeRegressor   | 高随机版本的回归树|\n"
   ]
  },
  {
   "cell_type": "markdown",
   "metadata": {},
   "source": [
    "## sklearn的基本建模流程\n",
    "1. 实例化，建立评估模型对象\n",
    "2. 通过模型接口训练模型\n",
    "3. 通过模型接口提取需要的信息  \n",
    "对应代码如下："
   ]
  },
  {
   "cell_type": "markdown",
   "metadata": {
    "ExecuteTime": {
     "end_time": "2019-11-29T09:34:26.628679Z",
     "start_time": "2019-11-29T09:34:26.431579Z"
    }
   },
   "source": [
    "```python\n",
    "from sklearn import tree  # 导入模块\n",
    "\n",
    "clf = tree.DecisionTreeClassifier()  # 实例化，可以调参\n",
    "clf = clf.fit(x_train, y_train)  # 训练模型\n",
    "result = clf.score(x_test, y_test)  # 评估模型\n",
    "```"
   ]
  },
  {
   "cell_type": "markdown",
   "metadata": {},
   "source": [
    "## 利用DecisionTreeClassifier创建红酒数据集"
   ]
  },
  {
   "cell_type": "markdown",
   "metadata": {},
   "source": [
    "```python\n",
    "DecisionTreeClassifier()\n",
    "\n",
    "Init signature:  \n",
    "tree.DecisionTreeClassifier(  \n",
    "    criterion='gini',  \n",
    "    splitter='best',  \n",
    "    max_depth=None,  \n",
    "    min_samples_split=2,  \n",
    "    min_samples_leaf=1,  \n",
    "    min_weight_fraction_leaf=0.0,  \n",
    "    max_features=None,  \n",
    "    random_state=None,  \n",
    "    max_leaf_nodes=None,  \n",
    "    min_impurity_decrease=0.0,  \n",
    "    min_impurity_split=None,  \n",
    "    class_weight=None,  \n",
    "    presort=False,  \n",
    ")\n",
    "```"
   ]
  },
  {
   "cell_type": "markdown",
   "metadata": {},
   "source": [
    "### 重要参数解读\n",
    "#### criterion(评估标准)\n",
    "为了要将表格转化为一棵树，决策树需要找出最佳节点和最佳的分枝方法，对分类树来说，衡量这个“最佳”的指标\n",
    "叫做“不纯度”。通常来说，**不纯度越低，决策树对训练集的拟合越好**。现在使用的决策树算法在分枝方法上的核心\n",
    "大多是围绕在对某个不纯度相关指标的最优化上。"
   ]
  },
  {
   "cell_type": "markdown",
   "metadata": {},
   "source": [
    "![](images/decision9.png)"
   ]
  },
  {
   "cell_type": "markdown",
   "metadata": {},
   "source": [
    ">Criterion：用于决定不纯度的计算方法。sklearn提供了两种选择：  \n",
    "1. entropy：信息熵\n",
    "2. gini：基尼系数  \n",
    "  \n",
    "$$Entropy(t) = - \\displaystyle \\sum_{i=0}^{c-1}p(i|t)log_2p(i|t)$$  \n",
    "$$Gini(t) = 1 - \\displaystyle \\sum_{i = 0}^{c - 1}p(i|t)^2$$\n",
    "\n",
    "\n"
   ]
  },
  {
   "cell_type": "markdown",
   "metadata": {},
   "source": [
    "其中t代表给定的节点，i代表标签的任意分类， $p(i|t)$代表标签分类i在节点t上所占的比例。注意，当使用信息熵\n",
    "时，sklearn实际计算的是基于信息熵的信息增益(Information Gain)，即父节点的信息熵和子节点的信息熵之差。\n",
    "比起基尼系数，**信息熵对不纯度更加敏感，对不纯度的惩罚最强**。但是**在实际使用中，信息熵和基尼系数的效果基\n",
    "本相同。**信息熵的计算比基尼系数缓慢一些，因为基尼系数的计算不涉及对数。另外，因为信息熵对不纯度更加敏\n",
    "感，所以信息熵作为指标时，决策树的生长会更加“精细”，因此对于高维数据或者噪音很多的数据，信息熵很容易\n",
    "过拟合，基尼系数在这种情况下效果往往比较好。当模型拟合程度不足的时候，即当模型在训练集和测试集上都表\n",
    "现不太好的时候，使用信息熵。当然，这些不是绝对的。"
   ]
  },
  {
   "cell_type": "markdown",
   "metadata": {},
   "source": [
    "|参数 |criterion|\n",
    "| ----|:--------|\n",
    "|如何影响模型? |确定不纯度的计算方法，帮忙找出最佳节点和最佳分枝，不纯度越低，决策树对训练集的拟合越好|\n",
    "|可能的输入有哪些？| 不填默认基尼系数，填写gini使用基尼系数，填写entropy使用信息增益|\n",
    "|怎样选取参数？|通常就使用基尼系数<br>数据维度很大，噪音很大时使用基尼系数<br>维度低，数据比较清晰的时候，信息熵和基尼系数没区别<br>当决策树的拟合程度不够的时候，使用信息熵<br>两个都试试，不好就换另外一个"
   ]
  },
  {
   "cell_type": "markdown",
   "metadata": {},
   "source": [
    "#### random_state & splitter"
   ]
  },
  {
   "cell_type": "markdown",
   "metadata": {},
   "source": [
    "random_state用来设置分枝中的随机模式的参数，默认None，在高维度时随机性会表现更明显，低维度的数据\n",
    "（比如鸢尾花数据集），随机性几乎不会显现。输入任意整数，会一直长出同一棵树，让模型稳定下来。\n",
    "splitter也是用来控制决策树中的随机选项的，有两种输入值，输入”best\"，决策树在分枝时虽然随机，但是还是会\n",
    "优先选择更重要的特征进行分枝（重要性可以通过属性feature_importances_查看），输入“random\"，决策树在\n",
    "分枝时会更加随机，树会因为含有更多的不必要信息而更深更大，并因这些不必要信息而降低对训练集的拟合。这\n",
    "也是防止过拟合的一种方式。当你预测到你的模型会过拟合，用这两个参数来帮助你降低树建成之后过拟合的可能\n",
    "性。当然，树一旦建成，我们依然是使用剪枝参数来防止过拟合\n"
   ]
  },
  {
   "cell_type": "markdown",
   "metadata": {},
   "source": [
    "#### 剪枝参数\n",
    "在不加限制的情况下，一棵决策树会生长到衡量不纯度的指标最优，或者没有更多的特征可用为止。这样的决策树\n",
    "往往会过拟合，这就是说，**它会在训练集上表现很好，在测试集上却表现糟糕**。我们收集的样本数据不可能和整体\n",
    "的状况完全一致，因此当一棵决策树对训练数据有了过于优秀的解释性，它找出的规则必然包含了训练样本中的噪\n",
    "声，并使它对未知数据的拟合程度不足。"
   ]
  },
  {
   "cell_type": "markdown",
   "metadata": {},
   "source": [
    "为了让决策树有更好的泛化性，我们要对决策树进行剪枝。剪枝策略对决策树的影响巨大，正确的剪枝策略是优化\n",
    "决策树算法的核心。sklearn为我们提供了不同的剪枝策略："
   ]
  },
  {
   "cell_type": "markdown",
   "metadata": {},
   "source": [
    "##### max_depth"
   ]
  },
  {
   "cell_type": "markdown",
   "metadata": {},
   "source": [
    ">限制树的最大深度，超过设定深度的树枝全部剪掉  \n",
    "\n",
    "这是用得最广泛的剪枝参数，在高维度低样本量时非常有效。决策树多生长一层，对样本量的需求会增加一倍，所\n",
    "以限制树深度能够有效地限制过拟合。在集成算法中也非常实用。实际使用时，建议从=3开始尝试，看看拟合的效\n",
    "果再决定是否增加设定深度"
   ]
  },
  {
   "cell_type": "markdown",
   "metadata": {},
   "source": [
    "##### min_samples_leaf\n",
    "min_samples_leaf限定，一个节点在分枝后的每个子节点都必须包含至少min_samples_leaf个训练样本，否则分\n",
    "枝就不会发生，或者，分枝会朝着满足每个子节点都包含min_samples_leaf个样本的方向去发生\n",
    "一般搭配max_depth使用，在回归树中有神奇的效果，可以让模型变得更加平滑。这个参数的数量设置得太小会引\n",
    "起过拟合，设置得太大就会阻止模型学习数据。一般来说，建议从=5开始使用。如果叶节点中含有的样本量变化很\n",
    "大，建议输入浮点数作为样本量的百分比来使用。同时，这个参数可以保证每个叶子的最小尺寸，可以在回归问题\n",
    "中避免低方差，过拟合的叶子节点出现。对于类别不多的分类问题，=1通常就是最佳选择"
   ]
  },
  {
   "cell_type": "markdown",
   "metadata": {},
   "source": [
    "##### min_samples_split"
   ]
  },
  {
   "cell_type": "markdown",
   "metadata": {},
   "source": [
    "min_samples_split限定，一个节点必须要包含至少min_samples_split个训练样本，这个节点才允许被分枝，否则\n",
    "分枝就不会发生"
   ]
  },
  {
   "cell_type": "markdown",
   "metadata": {},
   "source": [
    "##### max_features & min_impurity_decrease\n",
    "一般max_depth使用，用作树的”精修“\n",
    "max_features限制分枝时考虑的特征个数，超过限制个数的特征都会被舍弃。和max_depth异曲同工，\n",
    "max_features是用来限制高维度数据的过拟合的剪枝参数，但其方法比较暴力，是直接限制可以使用的特征数量\n",
    "而强行使决策树停下的参数，在不知道决策树中的各个特征的重要性的情况下，强行设定这个参数可能会导致模型\n",
    "学习不足。如果希望通过降维的方式防止过拟合，建议使用PCA，ICA或者特征选择模块中的降维算法。\n",
    "min_impurity_decrease限制信息增益的大小，信息增益小于设定数值的分枝不会发生。这是在0.19版本中更新的\n",
    "功能，在0.19版本之前时使用min_impurity_split"
   ]
  },
  {
   "attachments": {},
   "cell_type": "markdown",
   "metadata": {},
   "source": [
    "![](images/decision10.png)"
   ]
  },
  {
   "cell_type": "markdown",
   "metadata": {},
   "source": [
    "### 实操\n"
   ]
  },
  {
   "cell_type": "markdown",
   "metadata": {},
   "source": [
    "#### 调包"
   ]
  },
  {
   "cell_type": "code",
   "execution_count": 1,
   "metadata": {
    "ExecuteTime": {
     "end_time": "2019-11-29T11:18:41.182722Z",
     "start_time": "2019-11-29T11:18:31.132130Z"
    }
   },
   "outputs": [],
   "source": [
    "from sklearn import tree\n",
    "from sklearn.datasets import load_wine\n",
    "from sklearn.model_selection import train_test_split  \n",
    "import pandas as pd"
   ]
  },
  {
   "cell_type": "markdown",
   "metadata": {},
   "source": [
    "#### 加载数据"
   ]
  },
  {
   "cell_type": "code",
   "execution_count": 2,
   "metadata": {
    "ExecuteTime": {
     "end_time": "2019-11-29T11:18:50.959194Z",
     "start_time": "2019-11-29T11:18:50.906116Z"
    }
   },
   "outputs": [
    {
     "data": {
      "text/plain": [
       "array([[1.423e+01, 1.710e+00, 2.430e+00, ..., 1.040e+00, 3.920e+00,\n",
       "        1.065e+03],\n",
       "       [1.320e+01, 1.780e+00, 2.140e+00, ..., 1.050e+00, 3.400e+00,\n",
       "        1.050e+03],\n",
       "       [1.316e+01, 2.360e+00, 2.670e+00, ..., 1.030e+00, 3.170e+00,\n",
       "        1.185e+03],\n",
       "       ...,\n",
       "       [1.327e+01, 4.280e+00, 2.260e+00, ..., 5.900e-01, 1.560e+00,\n",
       "        8.350e+02],\n",
       "       [1.317e+01, 2.590e+00, 2.370e+00, ..., 6.000e-01, 1.620e+00,\n",
       "        8.400e+02],\n",
       "       [1.413e+01, 4.100e+00, 2.740e+00, ..., 6.100e-01, 1.600e+00,\n",
       "        5.600e+02]])"
      ]
     },
     "execution_count": 2,
     "metadata": {},
     "output_type": "execute_result"
    }
   ],
   "source": [
    "# 加载数据\n",
    "wine = load_wine() \n",
    "# 显示数据\n",
    "wine.data"
   ]
  },
  {
   "cell_type": "markdown",
   "metadata": {},
   "source": [
    "#### 显示数据"
   ]
  },
  {
   "cell_type": "code",
   "execution_count": 3,
   "metadata": {
    "ExecuteTime": {
     "end_time": "2019-11-29T11:18:54.063744Z",
     "start_time": "2019-11-29T11:18:54.040369Z"
    }
   },
   "outputs": [
    {
     "data": {
      "text/plain": [
       "array([0, 0, 0, 0, 0, 0, 0, 0, 0, 0, 0, 0, 0, 0, 0, 0, 0, 0, 0, 0, 0, 0,\n",
       "       0, 0, 0, 0, 0, 0, 0, 0, 0, 0, 0, 0, 0, 0, 0, 0, 0, 0, 0, 0, 0, 0,\n",
       "       0, 0, 0, 0, 0, 0, 0, 0, 0, 0, 0, 0, 0, 0, 0, 1, 1, 1, 1, 1, 1, 1,\n",
       "       1, 1, 1, 1, 1, 1, 1, 1, 1, 1, 1, 1, 1, 1, 1, 1, 1, 1, 1, 1, 1, 1,\n",
       "       1, 1, 1, 1, 1, 1, 1, 1, 1, 1, 1, 1, 1, 1, 1, 1, 1, 1, 1, 1, 1, 1,\n",
       "       1, 1, 1, 1, 1, 1, 1, 1, 1, 1, 1, 1, 1, 1, 1, 1, 1, 1, 1, 1, 2, 2,\n",
       "       2, 2, 2, 2, 2, 2, 2, 2, 2, 2, 2, 2, 2, 2, 2, 2, 2, 2, 2, 2, 2, 2,\n",
       "       2, 2, 2, 2, 2, 2, 2, 2, 2, 2, 2, 2, 2, 2, 2, 2, 2, 2, 2, 2, 2, 2,\n",
       "       2, 2])"
      ]
     },
     "execution_count": 3,
     "metadata": {},
     "output_type": "execute_result"
    }
   ],
   "source": [
    "# 显示数据的结果/分类\n",
    "wine.target"
   ]
  },
  {
   "cell_type": "code",
   "execution_count": 4,
   "metadata": {
    "ExecuteTime": {
     "end_time": "2019-11-29T11:18:55.941107Z",
     "start_time": "2019-11-29T11:18:55.843856Z"
    }
   },
   "outputs": [
    {
     "data": {
      "text/html": [
       "<div>\n",
       "<style scoped>\n",
       "    .dataframe tbody tr th:only-of-type {\n",
       "        vertical-align: middle;\n",
       "    }\n",
       "\n",
       "    .dataframe tbody tr th {\n",
       "        vertical-align: top;\n",
       "    }\n",
       "\n",
       "    .dataframe thead th {\n",
       "        text-align: right;\n",
       "    }\n",
       "</style>\n",
       "<table border=\"1\" class=\"dataframe\">\n",
       "  <thead>\n",
       "    <tr style=\"text-align: right;\">\n",
       "      <th></th>\n",
       "      <th>alcohol</th>\n",
       "      <th>malic_acid</th>\n",
       "      <th>ash</th>\n",
       "      <th>alcalinity_of_ash</th>\n",
       "      <th>magnesium</th>\n",
       "      <th>total_phenols</th>\n",
       "      <th>flavanoids</th>\n",
       "      <th>nonflavanoid_phenols</th>\n",
       "      <th>proanthocyanins</th>\n",
       "      <th>color_intensity</th>\n",
       "      <th>hue</th>\n",
       "      <th>od280/od315_of_diluted_wines</th>\n",
       "      <th>proline</th>\n",
       "      <th>class</th>\n",
       "    </tr>\n",
       "  </thead>\n",
       "  <tbody>\n",
       "    <tr>\n",
       "      <th>0</th>\n",
       "      <td>14.23</td>\n",
       "      <td>1.71</td>\n",
       "      <td>2.43</td>\n",
       "      <td>15.6</td>\n",
       "      <td>127.0</td>\n",
       "      <td>2.80</td>\n",
       "      <td>3.06</td>\n",
       "      <td>0.28</td>\n",
       "      <td>2.29</td>\n",
       "      <td>5.64</td>\n",
       "      <td>1.04</td>\n",
       "      <td>3.92</td>\n",
       "      <td>1065.0</td>\n",
       "      <td>0</td>\n",
       "    </tr>\n",
       "    <tr>\n",
       "      <th>1</th>\n",
       "      <td>13.20</td>\n",
       "      <td>1.78</td>\n",
       "      <td>2.14</td>\n",
       "      <td>11.2</td>\n",
       "      <td>100.0</td>\n",
       "      <td>2.65</td>\n",
       "      <td>2.76</td>\n",
       "      <td>0.26</td>\n",
       "      <td>1.28</td>\n",
       "      <td>4.38</td>\n",
       "      <td>1.05</td>\n",
       "      <td>3.40</td>\n",
       "      <td>1050.0</td>\n",
       "      <td>0</td>\n",
       "    </tr>\n",
       "    <tr>\n",
       "      <th>2</th>\n",
       "      <td>13.16</td>\n",
       "      <td>2.36</td>\n",
       "      <td>2.67</td>\n",
       "      <td>18.6</td>\n",
       "      <td>101.0</td>\n",
       "      <td>2.80</td>\n",
       "      <td>3.24</td>\n",
       "      <td>0.30</td>\n",
       "      <td>2.81</td>\n",
       "      <td>5.68</td>\n",
       "      <td>1.03</td>\n",
       "      <td>3.17</td>\n",
       "      <td>1185.0</td>\n",
       "      <td>0</td>\n",
       "    </tr>\n",
       "    <tr>\n",
       "      <th>3</th>\n",
       "      <td>14.37</td>\n",
       "      <td>1.95</td>\n",
       "      <td>2.50</td>\n",
       "      <td>16.8</td>\n",
       "      <td>113.0</td>\n",
       "      <td>3.85</td>\n",
       "      <td>3.49</td>\n",
       "      <td>0.24</td>\n",
       "      <td>2.18</td>\n",
       "      <td>7.80</td>\n",
       "      <td>0.86</td>\n",
       "      <td>3.45</td>\n",
       "      <td>1480.0</td>\n",
       "      <td>0</td>\n",
       "    </tr>\n",
       "    <tr>\n",
       "      <th>4</th>\n",
       "      <td>13.24</td>\n",
       "      <td>2.59</td>\n",
       "      <td>2.87</td>\n",
       "      <td>21.0</td>\n",
       "      <td>118.0</td>\n",
       "      <td>2.80</td>\n",
       "      <td>2.69</td>\n",
       "      <td>0.39</td>\n",
       "      <td>1.82</td>\n",
       "      <td>4.32</td>\n",
       "      <td>1.04</td>\n",
       "      <td>2.93</td>\n",
       "      <td>735.0</td>\n",
       "      <td>0</td>\n",
       "    </tr>\n",
       "  </tbody>\n",
       "</table>\n",
       "</div>"
      ],
      "text/plain": [
       "   alcohol  malic_acid   ash  alcalinity_of_ash  magnesium  total_phenols  \\\n",
       "0    14.23        1.71  2.43               15.6      127.0           2.80   \n",
       "1    13.20        1.78  2.14               11.2      100.0           2.65   \n",
       "2    13.16        2.36  2.67               18.6      101.0           2.80   \n",
       "3    14.37        1.95  2.50               16.8      113.0           3.85   \n",
       "4    13.24        2.59  2.87               21.0      118.0           2.80   \n",
       "\n",
       "   flavanoids  nonflavanoid_phenols  proanthocyanins  color_intensity   hue  \\\n",
       "0        3.06                  0.28             2.29             5.64  1.04   \n",
       "1        2.76                  0.26             1.28             4.38  1.05   \n",
       "2        3.24                  0.30             2.81             5.68  1.03   \n",
       "3        3.49                  0.24             2.18             7.80  0.86   \n",
       "4        2.69                  0.39             1.82             4.32  1.04   \n",
       "\n",
       "   od280/od315_of_diluted_wines  proline  class  \n",
       "0                          3.92   1065.0      0  \n",
       "1                          3.40   1050.0      0  \n",
       "2                          3.17   1185.0      0  \n",
       "3                          3.45   1480.0      0  \n",
       "4                          2.93    735.0      0  "
      ]
     },
     "execution_count": 4,
     "metadata": {},
     "output_type": "execute_result"
    }
   ],
   "source": [
    "# 数据处理，合并数据\n",
    "wine_df = pd.concat([pd.DataFrame(wine.data, columns=wine.feature_names),\n",
    "                    pd.DataFrame(wine.target, columns=['class'])], \n",
    "                    axis=1)\n",
    "wine_df.head()"
   ]
  },
  {
   "cell_type": "code",
   "execution_count": 5,
   "metadata": {
    "ExecuteTime": {
     "end_time": "2019-11-29T11:18:57.449881Z",
     "start_time": "2019-11-29T11:18:57.440423Z"
    }
   },
   "outputs": [
    {
     "data": {
      "text/plain": [
       "['alcohol',\n",
       " 'malic_acid',\n",
       " 'ash',\n",
       " 'alcalinity_of_ash',\n",
       " 'magnesium',\n",
       " 'total_phenols',\n",
       " 'flavanoids',\n",
       " 'nonflavanoid_phenols',\n",
       " 'proanthocyanins',\n",
       " 'color_intensity',\n",
       " 'hue',\n",
       " 'od280/od315_of_diluted_wines',\n",
       " 'proline']"
      ]
     },
     "execution_count": 5,
     "metadata": {},
     "output_type": "execute_result"
    }
   ],
   "source": [
    "# 显示特征名\n",
    "wine.feature_names  "
   ]
  },
  {
   "cell_type": "code",
   "execution_count": 6,
   "metadata": {
    "ExecuteTime": {
     "end_time": "2019-11-29T11:18:58.018600Z",
     "start_time": "2019-11-29T11:18:58.005520Z"
    }
   },
   "outputs": [
    {
     "data": {
      "text/plain": [
       "array(['class_0', 'class_1', 'class_2'], dtype='<U7')"
      ]
     },
     "execution_count": 6,
     "metadata": {},
     "output_type": "execute_result"
    }
   ],
   "source": [
    "# 显示分类\n",
    "wine.target_names"
   ]
  },
  {
   "cell_type": "markdown",
   "metadata": {},
   "source": [
    "#### 分训练集和测试集\n"
   ]
  },
  {
   "cell_type": "code",
   "execution_count": 7,
   "metadata": {
    "ExecuteTime": {
     "end_time": "2019-11-29T11:18:59.940665Z",
     "start_time": "2019-11-29T11:18:59.927273Z"
    }
   },
   "outputs": [
    {
     "data": {
      "text/plain": [
       "(124, 13)"
      ]
     },
     "execution_count": 7,
     "metadata": {},
     "output_type": "execute_result"
    }
   ],
   "source": [
    "# 一定要严格按照格式写，不然可能导数训练和测试乱了\n",
    "# test_size:表示测试集占总的数据的比例\n",
    "x_train, x_test, y_train, y_test = train_test_split(wine.data, \n",
    "                                                    wine.target,\n",
    "                                                    test_size=0.3\n",
    "                                                    )\n",
    "x_train.shape"
   ]
  },
  {
   "cell_type": "markdown",
   "metadata": {},
   "source": [
    "#### 建立模型"
   ]
  },
  {
   "cell_type": "code",
   "execution_count": 8,
   "metadata": {
    "ExecuteTime": {
     "end_time": "2019-11-29T11:19:01.599853Z",
     "start_time": "2019-11-29T11:19:01.534341Z"
    }
   },
   "outputs": [
    {
     "data": {
      "text/plain": [
       "0.8888888888888888"
      ]
     },
     "execution_count": 8,
     "metadata": {},
     "output_type": "execute_result"
    }
   ],
   "source": [
    "clf = tree.DecisionTreeClassifier(criterion='entropy')  # 修改标准为信息增益\n",
    "clf = clf.fit(x_train, y_train)\n",
    "# 返回测试的准确度\n",
    "score = clf.score(x_test, y_test)\n",
    "\n",
    "score"
   ]
  },
  {
   "cell_type": "markdown",
   "metadata": {
    "ExecuteTime": {
     "end_time": "2019-11-29T10:10:56.938196Z",
     "start_time": "2019-11-29T10:10:56.914412Z"
    }
   },
   "source": [
    "#### 画出一棵树"
   ]
  },
  {
   "cell_type": "code",
   "execution_count": 22,
   "metadata": {
    "ExecuteTime": {
     "end_time": "2019-11-29T11:25:03.812655Z",
     "start_time": "2019-11-29T11:25:03.804219Z"
    }
   },
   "outputs": [],
   "source": [
    "import graphviz"
   ]
  },
  {
   "cell_type": "code",
   "execution_count": 45,
   "metadata": {
    "ExecuteTime": {
     "end_time": "2019-11-29T11:45:37.487534Z",
     "start_time": "2019-11-29T11:45:37.115622Z"
    }
   },
   "outputs": [
    {
     "data": {
      "image/svg+xml": [
       "<?xml version=\"1.0\" encoding=\"UTF-8\" standalone=\"no\"?>\r\n",
       "<!DOCTYPE svg PUBLIC \"-//W3C//DTD SVG 1.1//EN\"\r\n",
       " \"http://www.w3.org/Graphics/SVG/1.1/DTD/svg11.dtd\">\r\n",
       "<!-- Generated by graphviz version 2.38.0 (20140413.2041)\r\n",
       " -->\r\n",
       "<!-- Title: Tree Pages: 1 -->\r\n",
       "<svg width=\"1175pt\" height=\"671pt\"\r\n",
       " viewBox=\"0.00 0.00 1175.00 671.00\" xmlns=\"http://www.w3.org/2000/svg\" xmlns:xlink=\"http://www.w3.org/1999/xlink\">\r\n",
       "<g id=\"graph0\" class=\"graph\" transform=\"scale(1 1) rotate(0) translate(4 667)\">\r\n",
       "<title>Tree</title>\r\n",
       "<polygon fill=\"white\" stroke=\"none\" points=\"-4,4 -4,-667 1171,-667 1171,4 -4,4\"/>\r\n",
       "<!-- 0 -->\r\n",
       "<g id=\"node1\" class=\"node\"><title>0</title>\r\n",
       "<path fill=\"#fafefc\" stroke=\"black\" d=\"M594,-663C594,-663 481,-663 481,-663 475,-663 469,-657 469,-651 469,-651 469,-592 469,-592 469,-586 475,-580 481,-580 481,-580 594,-580 594,-580 600,-580 606,-586 606,-592 606,-592 606,-651 606,-651 606,-657 600,-663 594,-663\"/>\r\n",
       "<text text-anchor=\"middle\" x=\"537.5\" y=\"-647.8\" font-family=\"Helvetica,sans-Serif\" font-size=\"14.00\">类黄酮 &lt;= 1.714</text>\r\n",
       "<text text-anchor=\"middle\" x=\"537.5\" y=\"-632.8\" font-family=\"Helvetica,sans-Serif\" font-size=\"14.00\">entropy = 1.582</text>\r\n",
       "<text text-anchor=\"middle\" x=\"537.5\" y=\"-617.8\" font-family=\"Helvetica,sans-Serif\" font-size=\"14.00\">samples = 124</text>\r\n",
       "<text text-anchor=\"middle\" x=\"537.5\" y=\"-602.8\" font-family=\"Helvetica,sans-Serif\" font-size=\"14.00\">value = [42, 44, 38]</text>\r\n",
       "<text text-anchor=\"middle\" x=\"537.5\" y=\"-587.8\" font-family=\"Helvetica,sans-Serif\" font-size=\"14.00\">class = 雪莉</text>\r\n",
       "</g>\r\n",
       "<!-- 1 -->\r\n",
       "<g id=\"node2\" class=\"node\"><title>1</title>\r\n",
       "<path fill=\"#b387ef\" stroke=\"black\" d=\"M523,-544C523,-544 320,-544 320,-544 314,-544 308,-538 308,-532 308,-532 308,-473 308,-473 308,-467 314,-461 320,-461 320,-461 523,-461 523,-461 529,-461 535,-467 535,-473 535,-473 535,-532 535,-532 535,-538 529,-544 523,-544\"/>\r\n",
       "<text text-anchor=\"middle\" x=\"421.5\" y=\"-528.8\" font-family=\"Helvetica,sans-Serif\" font-size=\"14.00\">od280/od315稀释葡萄酒 &lt;= 2.112</text>\r\n",
       "<text text-anchor=\"middle\" x=\"421.5\" y=\"-513.8\" font-family=\"Helvetica,sans-Serif\" font-size=\"14.00\">entropy = 0.86</text>\r\n",
       "<text text-anchor=\"middle\" x=\"421.5\" y=\"-498.8\" font-family=\"Helvetica,sans-Serif\" font-size=\"14.00\">samples = 53</text>\r\n",
       "<text text-anchor=\"middle\" x=\"421.5\" y=\"-483.8\" font-family=\"Helvetica,sans-Serif\" font-size=\"14.00\">value = [0, 15, 38]</text>\r\n",
       "<text text-anchor=\"middle\" x=\"421.5\" y=\"-468.8\" font-family=\"Helvetica,sans-Serif\" font-size=\"14.00\">class = 贝尔摩德</text>\r\n",
       "</g>\r\n",
       "<!-- 0&#45;&gt;1 -->\r\n",
       "<g id=\"edge1\" class=\"edge\"><title>0&#45;&gt;1</title>\r\n",
       "<path fill=\"none\" stroke=\"black\" d=\"M497.254,-579.907C488.077,-570.651 478.243,-560.732 468.801,-551.209\"/>\r\n",
       "<polygon fill=\"black\" stroke=\"black\" points=\"471.201,-548.658 461.674,-544.021 466.23,-553.586 471.201,-548.658\"/>\r\n",
       "<text text-anchor=\"middle\" x=\"461.567\" y=\"-565.321\" font-family=\"Helvetica,sans-Serif\" font-size=\"14.00\">True</text>\r\n",
       "</g>\r\n",
       "<!-- 12 -->\r\n",
       "<g id=\"node13\" class=\"node\"><title>12</title>\r\n",
       "<path fill=\"#f7d8c2\" stroke=\"black\" d=\"M707,-544C707,-544 602,-544 602,-544 596,-544 590,-538 590,-532 590,-532 590,-473 590,-473 590,-467 596,-461 602,-461 602,-461 707,-461 707,-461 713,-461 719,-467 719,-473 719,-473 719,-532 719,-532 719,-538 713,-544 707,-544\"/>\r\n",
       "<text text-anchor=\"middle\" x=\"654.5\" y=\"-528.8\" font-family=\"Helvetica,sans-Serif\" font-size=\"14.00\">酒精 &lt;= 12.925</text>\r\n",
       "<text text-anchor=\"middle\" x=\"654.5\" y=\"-513.8\" font-family=\"Helvetica,sans-Serif\" font-size=\"14.00\">entropy = 0.976</text>\r\n",
       "<text text-anchor=\"middle\" x=\"654.5\" y=\"-498.8\" font-family=\"Helvetica,sans-Serif\" font-size=\"14.00\">samples = 71</text>\r\n",
       "<text text-anchor=\"middle\" x=\"654.5\" y=\"-483.8\" font-family=\"Helvetica,sans-Serif\" font-size=\"14.00\">value = [42, 29, 0]</text>\r\n",
       "<text text-anchor=\"middle\" x=\"654.5\" y=\"-468.8\" font-family=\"Helvetica,sans-Serif\" font-size=\"14.00\">class = 琴酒</text>\r\n",
       "</g>\r\n",
       "<!-- 0&#45;&gt;12 -->\r\n",
       "<g id=\"edge12\" class=\"edge\"><title>0&#45;&gt;12</title>\r\n",
       "<path fill=\"none\" stroke=\"black\" d=\"M578.093,-579.907C587.349,-570.651 597.268,-560.732 606.791,-551.209\"/>\r\n",
       "<polygon fill=\"black\" stroke=\"black\" points=\"609.383,-553.567 613.979,-544.021 604.433,-548.617 609.383,-553.567\"/>\r\n",
       "<text text-anchor=\"middle\" x=\"613.979\" y=\"-565.321\" font-family=\"Helvetica,sans-Serif\" font-size=\"14.00\">False</text>\r\n",
       "</g>\r\n",
       "<!-- 2 -->\r\n",
       "<g id=\"node3\" class=\"node\"><title>2</title>\r\n",
       "<path fill=\"#8c49e7\" stroke=\"black\" d=\"M246,-425C246,-425 149,-425 149,-425 143,-425 137,-419 137,-413 137,-413 137,-354 137,-354 137,-348 143,-342 149,-342 149,-342 246,-342 246,-342 252,-342 258,-348 258,-354 258,-354 258,-413 258,-413 258,-419 252,-425 246,-425\"/>\r\n",
       "<text text-anchor=\"middle\" x=\"197.5\" y=\"-409.8\" font-family=\"Helvetica,sans-Serif\" font-size=\"14.00\">色调 &lt;= 0.81</text>\r\n",
       "<text text-anchor=\"middle\" x=\"197.5\" y=\"-394.8\" font-family=\"Helvetica,sans-Serif\" font-size=\"14.00\">entropy = 0.391</text>\r\n",
       "<text text-anchor=\"middle\" x=\"197.5\" y=\"-379.8\" font-family=\"Helvetica,sans-Serif\" font-size=\"14.00\">samples = 39</text>\r\n",
       "<text text-anchor=\"middle\" x=\"197.5\" y=\"-364.8\" font-family=\"Helvetica,sans-Serif\" font-size=\"14.00\">value = [0, 3, 36]</text>\r\n",
       "<text text-anchor=\"middle\" x=\"197.5\" y=\"-349.8\" font-family=\"Helvetica,sans-Serif\" font-size=\"14.00\">class = 贝尔摩德</text>\r\n",
       "</g>\r\n",
       "<!-- 1&#45;&gt;2 -->\r\n",
       "<g id=\"edge2\" class=\"edge\"><title>1&#45;&gt;2</title>\r\n",
       "<path fill=\"none\" stroke=\"black\" d=\"M343.784,-460.907C318.91,-447.915 291.539,-433.619 267.268,-420.941\"/>\r\n",
       "<polygon fill=\"black\" stroke=\"black\" points=\"268.613,-417.695 258.129,-416.168 265.372,-423.9 268.613,-417.695\"/>\r\n",
       "</g>\r\n",
       "<!-- 9 -->\r\n",
       "<g id=\"node10\" class=\"node\"><title>9</title>\r\n",
       "<path fill=\"#5ae996\" stroke=\"black\" d=\"M470,-425C470,-425 373,-425 373,-425 367,-425 361,-419 361,-413 361,-413 361,-354 361,-354 361,-348 367,-342 373,-342 373,-342 470,-342 470,-342 476,-342 482,-348 482,-354 482,-354 482,-413 482,-413 482,-419 476,-425 470,-425\"/>\r\n",
       "<text text-anchor=\"middle\" x=\"421.5\" y=\"-409.8\" font-family=\"Helvetica,sans-Serif\" font-size=\"14.00\">类黄酮 &lt;= 0.737</text>\r\n",
       "<text text-anchor=\"middle\" x=\"421.5\" y=\"-394.8\" font-family=\"Helvetica,sans-Serif\" font-size=\"14.00\">entropy = 0.592</text>\r\n",
       "<text text-anchor=\"middle\" x=\"421.5\" y=\"-379.8\" font-family=\"Helvetica,sans-Serif\" font-size=\"14.00\">samples = 14</text>\r\n",
       "<text text-anchor=\"middle\" x=\"421.5\" y=\"-364.8\" font-family=\"Helvetica,sans-Serif\" font-size=\"14.00\">value = [0, 12, 2]</text>\r\n",
       "<text text-anchor=\"middle\" x=\"421.5\" y=\"-349.8\" font-family=\"Helvetica,sans-Serif\" font-size=\"14.00\">class = 雪莉</text>\r\n",
       "</g>\r\n",
       "<!-- 1&#45;&gt;9 -->\r\n",
       "<g id=\"edge9\" class=\"edge\"><title>1&#45;&gt;9</title>\r\n",
       "<path fill=\"none\" stroke=\"black\" d=\"M421.5,-460.907C421.5,-452.649 421.5,-443.864 421.5,-435.302\"/>\r\n",
       "<polygon fill=\"black\" stroke=\"black\" points=\"425,-435.021 421.5,-425.021 418,-435.021 425,-435.021\"/>\r\n",
       "</g>\r\n",
       "<!-- 3 -->\r\n",
       "<g id=\"node4\" class=\"node\"><title>3</title>\r\n",
       "<path fill=\"#8139e5\" stroke=\"black\" d=\"M109,-298.5C109,-298.5 12,-298.5 12,-298.5 6,-298.5 0,-292.5 0,-286.5 0,-286.5 0,-242.5 0,-242.5 0,-236.5 6,-230.5 12,-230.5 12,-230.5 109,-230.5 109,-230.5 115,-230.5 121,-236.5 121,-242.5 121,-242.5 121,-286.5 121,-286.5 121,-292.5 115,-298.5 109,-298.5\"/>\r\n",
       "<text text-anchor=\"middle\" x=\"60.5\" y=\"-283.3\" font-family=\"Helvetica,sans-Serif\" font-size=\"14.00\">entropy = 0.0</text>\r\n",
       "<text text-anchor=\"middle\" x=\"60.5\" y=\"-268.3\" font-family=\"Helvetica,sans-Serif\" font-size=\"14.00\">samples = 31</text>\r\n",
       "<text text-anchor=\"middle\" x=\"60.5\" y=\"-253.3\" font-family=\"Helvetica,sans-Serif\" font-size=\"14.00\">value = [0, 0, 31]</text>\r\n",
       "<text text-anchor=\"middle\" x=\"60.5\" y=\"-238.3\" font-family=\"Helvetica,sans-Serif\" font-size=\"14.00\">class = 贝尔摩德</text>\r\n",
       "</g>\r\n",
       "<!-- 2&#45;&gt;3 -->\r\n",
       "<g id=\"edge3\" class=\"edge\"><title>2&#45;&gt;3</title>\r\n",
       "<path fill=\"none\" stroke=\"black\" d=\"M149.969,-341.907C136.143,-330.101 121.057,-317.217 107.279,-305.45\"/>\r\n",
       "<polygon fill=\"black\" stroke=\"black\" points=\"109.214,-302.5 99.3365,-298.667 104.668,-307.823 109.214,-302.5\"/>\r\n",
       "</g>\r\n",
       "<!-- 4 -->\r\n",
       "<g id=\"node5\" class=\"node\"><title>4</title>\r\n",
       "<path fill=\"#cdb0f5\" stroke=\"black\" d=\"M243.5,-306C243.5,-306 151.5,-306 151.5,-306 145.5,-306 139.5,-300 139.5,-294 139.5,-294 139.5,-235 139.5,-235 139.5,-229 145.5,-223 151.5,-223 151.5,-223 243.5,-223 243.5,-223 249.5,-223 255.5,-229 255.5,-235 255.5,-235 255.5,-294 255.5,-294 255.5,-300 249.5,-306 243.5,-306\"/>\r\n",
       "<text text-anchor=\"middle\" x=\"197.5\" y=\"-290.8\" font-family=\"Helvetica,sans-Serif\" font-size=\"14.00\">类黄酮 &lt;= 0.81</text>\r\n",
       "<text text-anchor=\"middle\" x=\"197.5\" y=\"-275.8\" font-family=\"Helvetica,sans-Serif\" font-size=\"14.00\">entropy = 0.954</text>\r\n",
       "<text text-anchor=\"middle\" x=\"197.5\" y=\"-260.8\" font-family=\"Helvetica,sans-Serif\" font-size=\"14.00\">samples = 8</text>\r\n",
       "<text text-anchor=\"middle\" x=\"197.5\" y=\"-245.8\" font-family=\"Helvetica,sans-Serif\" font-size=\"14.00\">value = [0, 3, 5]</text>\r\n",
       "<text text-anchor=\"middle\" x=\"197.5\" y=\"-230.8\" font-family=\"Helvetica,sans-Serif\" font-size=\"14.00\">class = 贝尔摩德</text>\r\n",
       "</g>\r\n",
       "<!-- 2&#45;&gt;4 -->\r\n",
       "<g id=\"edge4\" class=\"edge\"><title>2&#45;&gt;4</title>\r\n",
       "<path fill=\"none\" stroke=\"black\" d=\"M197.5,-341.907C197.5,-333.649 197.5,-324.864 197.5,-316.302\"/>\r\n",
       "<polygon fill=\"black\" stroke=\"black\" points=\"201,-316.021 197.5,-306.021 194,-316.021 201,-316.021\"/>\r\n",
       "</g>\r\n",
       "<!-- 5 -->\r\n",
       "<g id=\"node6\" class=\"node\"><title>5</title>\r\n",
       "<path fill=\"#8139e5\" stroke=\"black\" d=\"M176.5,-179.5C176.5,-179.5 84.5,-179.5 84.5,-179.5 78.5,-179.5 72.5,-173.5 72.5,-167.5 72.5,-167.5 72.5,-123.5 72.5,-123.5 72.5,-117.5 78.5,-111.5 84.5,-111.5 84.5,-111.5 176.5,-111.5 176.5,-111.5 182.5,-111.5 188.5,-117.5 188.5,-123.5 188.5,-123.5 188.5,-167.5 188.5,-167.5 188.5,-173.5 182.5,-179.5 176.5,-179.5\"/>\r\n",
       "<text text-anchor=\"middle\" x=\"130.5\" y=\"-164.3\" font-family=\"Helvetica,sans-Serif\" font-size=\"14.00\">entropy = 0.0</text>\r\n",
       "<text text-anchor=\"middle\" x=\"130.5\" y=\"-149.3\" font-family=\"Helvetica,sans-Serif\" font-size=\"14.00\">samples = 4</text>\r\n",
       "<text text-anchor=\"middle\" x=\"130.5\" y=\"-134.3\" font-family=\"Helvetica,sans-Serif\" font-size=\"14.00\">value = [0, 0, 4]</text>\r\n",
       "<text text-anchor=\"middle\" x=\"130.5\" y=\"-119.3\" font-family=\"Helvetica,sans-Serif\" font-size=\"14.00\">class = 贝尔摩德</text>\r\n",
       "</g>\r\n",
       "<!-- 4&#45;&gt;5 -->\r\n",
       "<g id=\"edge5\" class=\"edge\"><title>4&#45;&gt;5</title>\r\n",
       "<path fill=\"none\" stroke=\"black\" d=\"M174.255,-222.907C167.873,-211.763 160.941,-199.658 154.516,-188.439\"/>\r\n",
       "<polygon fill=\"black\" stroke=\"black\" points=\"157.5,-186.606 149.493,-179.667 151.425,-190.084 157.5,-186.606\"/>\r\n",
       "</g>\r\n",
       "<!-- 6 -->\r\n",
       "<g id=\"node7\" class=\"node\"><title>6</title>\r\n",
       "<path fill=\"#7beeab\" stroke=\"black\" d=\"M310.5,-187C310.5,-187 218.5,-187 218.5,-187 212.5,-187 206.5,-181 206.5,-175 206.5,-175 206.5,-116 206.5,-116 206.5,-110 212.5,-104 218.5,-104 218.5,-104 310.5,-104 310.5,-104 316.5,-104 322.5,-110 322.5,-116 322.5,-116 322.5,-175 322.5,-175 322.5,-181 316.5,-187 310.5,-187\"/>\r\n",
       "<text text-anchor=\"middle\" x=\"264.5\" y=\"-171.8\" font-family=\"Helvetica,sans-Serif\" font-size=\"14.00\">色调 &lt;= 0.905</text>\r\n",
       "<text text-anchor=\"middle\" x=\"264.5\" y=\"-156.8\" font-family=\"Helvetica,sans-Serif\" font-size=\"14.00\">entropy = 0.811</text>\r\n",
       "<text text-anchor=\"middle\" x=\"264.5\" y=\"-141.8\" font-family=\"Helvetica,sans-Serif\" font-size=\"14.00\">samples = 4</text>\r\n",
       "<text text-anchor=\"middle\" x=\"264.5\" y=\"-126.8\" font-family=\"Helvetica,sans-Serif\" font-size=\"14.00\">value = [0, 3, 1]</text>\r\n",
       "<text text-anchor=\"middle\" x=\"264.5\" y=\"-111.8\" font-family=\"Helvetica,sans-Serif\" font-size=\"14.00\">class = 雪莉</text>\r\n",
       "</g>\r\n",
       "<!-- 4&#45;&gt;6 -->\r\n",
       "<g id=\"edge6\" class=\"edge\"><title>4&#45;&gt;6</title>\r\n",
       "<path fill=\"none\" stroke=\"black\" d=\"M220.745,-222.907C225.734,-214.195 231.059,-204.897 236.215,-195.893\"/>\r\n",
       "<polygon fill=\"black\" stroke=\"black\" points=\"239.364,-197.438 241.296,-187.021 233.289,-193.959 239.364,-197.438\"/>\r\n",
       "</g>\r\n",
       "<!-- 7 -->\r\n",
       "<g id=\"node8\" class=\"node\"><title>7</title>\r\n",
       "<path fill=\"#8139e5\" stroke=\"black\" d=\"M243.5,-68C243.5,-68 151.5,-68 151.5,-68 145.5,-68 139.5,-62 139.5,-56 139.5,-56 139.5,-12 139.5,-12 139.5,-6 145.5,-0 151.5,-0 151.5,-0 243.5,-0 243.5,-0 249.5,-0 255.5,-6 255.5,-12 255.5,-12 255.5,-56 255.5,-56 255.5,-62 249.5,-68 243.5,-68\"/>\r\n",
       "<text text-anchor=\"middle\" x=\"197.5\" y=\"-52.8\" font-family=\"Helvetica,sans-Serif\" font-size=\"14.00\">entropy = 0.0</text>\r\n",
       "<text text-anchor=\"middle\" x=\"197.5\" y=\"-37.8\" font-family=\"Helvetica,sans-Serif\" font-size=\"14.00\">samples = 1</text>\r\n",
       "<text text-anchor=\"middle\" x=\"197.5\" y=\"-22.8\" font-family=\"Helvetica,sans-Serif\" font-size=\"14.00\">value = [0, 0, 1]</text>\r\n",
       "<text text-anchor=\"middle\" x=\"197.5\" y=\"-7.8\" font-family=\"Helvetica,sans-Serif\" font-size=\"14.00\">class = 贝尔摩德</text>\r\n",
       "</g>\r\n",
       "<!-- 6&#45;&gt;7 -->\r\n",
       "<g id=\"edge7\" class=\"edge\"><title>6&#45;&gt;7</title>\r\n",
       "<path fill=\"none\" stroke=\"black\" d=\"M239.552,-103.726C234.194,-94.9703 228.524,-85.7032 223.141,-76.9051\"/>\r\n",
       "<polygon fill=\"black\" stroke=\"black\" points=\"226.08,-75.0028 217.875,-68.2996 220.109,-78.6563 226.08,-75.0028\"/>\r\n",
       "</g>\r\n",
       "<!-- 8 -->\r\n",
       "<g id=\"node9\" class=\"node\"><title>8</title>\r\n",
       "<path fill=\"#39e581\" stroke=\"black\" d=\"M375,-68C375,-68 286,-68 286,-68 280,-68 274,-62 274,-56 274,-56 274,-12 274,-12 274,-6 280,-0 286,-0 286,-0 375,-0 375,-0 381,-0 387,-6 387,-12 387,-12 387,-56 387,-56 387,-62 381,-68 375,-68\"/>\r\n",
       "<text text-anchor=\"middle\" x=\"330.5\" y=\"-52.8\" font-family=\"Helvetica,sans-Serif\" font-size=\"14.00\">entropy = 0.0</text>\r\n",
       "<text text-anchor=\"middle\" x=\"330.5\" y=\"-37.8\" font-family=\"Helvetica,sans-Serif\" font-size=\"14.00\">samples = 3</text>\r\n",
       "<text text-anchor=\"middle\" x=\"330.5\" y=\"-22.8\" font-family=\"Helvetica,sans-Serif\" font-size=\"14.00\">value = [0, 3, 0]</text>\r\n",
       "<text text-anchor=\"middle\" x=\"330.5\" y=\"-7.8\" font-family=\"Helvetica,sans-Serif\" font-size=\"14.00\">class = 雪莉</text>\r\n",
       "</g>\r\n",
       "<!-- 6&#45;&gt;8 -->\r\n",
       "<g id=\"edge8\" class=\"edge\"><title>6&#45;&gt;8</title>\r\n",
       "<path fill=\"none\" stroke=\"black\" d=\"M289.076,-103.726C294.354,-94.9703 299.939,-85.7032 305.242,-76.9051\"/>\r\n",
       "<polygon fill=\"black\" stroke=\"black\" points=\"308.264,-78.671 310.429,-68.2996 302.269,-75.0574 308.264,-78.671\"/>\r\n",
       "</g>\r\n",
       "<!-- 10 -->\r\n",
       "<g id=\"node11\" class=\"node\"><title>10</title>\r\n",
       "<path fill=\"#8139e5\" stroke=\"black\" d=\"M377.5,-298.5C377.5,-298.5 285.5,-298.5 285.5,-298.5 279.5,-298.5 273.5,-292.5 273.5,-286.5 273.5,-286.5 273.5,-242.5 273.5,-242.5 273.5,-236.5 279.5,-230.5 285.5,-230.5 285.5,-230.5 377.5,-230.5 377.5,-230.5 383.5,-230.5 389.5,-236.5 389.5,-242.5 389.5,-242.5 389.5,-286.5 389.5,-286.5 389.5,-292.5 383.5,-298.5 377.5,-298.5\"/>\r\n",
       "<text text-anchor=\"middle\" x=\"331.5\" y=\"-283.3\" font-family=\"Helvetica,sans-Serif\" font-size=\"14.00\">entropy = 0.0</text>\r\n",
       "<text text-anchor=\"middle\" x=\"331.5\" y=\"-268.3\" font-family=\"Helvetica,sans-Serif\" font-size=\"14.00\">samples = 2</text>\r\n",
       "<text text-anchor=\"middle\" x=\"331.5\" y=\"-253.3\" font-family=\"Helvetica,sans-Serif\" font-size=\"14.00\">value = [0, 0, 2]</text>\r\n",
       "<text text-anchor=\"middle\" x=\"331.5\" y=\"-238.3\" font-family=\"Helvetica,sans-Serif\" font-size=\"14.00\">class = 贝尔摩德</text>\r\n",
       "</g>\r\n",
       "<!-- 9&#45;&gt;10 -->\r\n",
       "<g id=\"edge10\" class=\"edge\"><title>9&#45;&gt;10</title>\r\n",
       "<path fill=\"none\" stroke=\"black\" d=\"M390.275,-341.907C381.532,-330.542 372.022,-318.178 363.249,-306.774\"/>\r\n",
       "<polygon fill=\"black\" stroke=\"black\" points=\"365.884,-304.459 357.013,-298.667 360.336,-308.727 365.884,-304.459\"/>\r\n",
       "</g>\r\n",
       "<!-- 11 -->\r\n",
       "<g id=\"node12\" class=\"node\"><title>11</title>\r\n",
       "<path fill=\"#39e581\" stroke=\"black\" d=\"M517,-298.5C517,-298.5 420,-298.5 420,-298.5 414,-298.5 408,-292.5 408,-286.5 408,-286.5 408,-242.5 408,-242.5 408,-236.5 414,-230.5 420,-230.5 420,-230.5 517,-230.5 517,-230.5 523,-230.5 529,-236.5 529,-242.5 529,-242.5 529,-286.5 529,-286.5 529,-292.5 523,-298.5 517,-298.5\"/>\r\n",
       "<text text-anchor=\"middle\" x=\"468.5\" y=\"-283.3\" font-family=\"Helvetica,sans-Serif\" font-size=\"14.00\">entropy = 0.0</text>\r\n",
       "<text text-anchor=\"middle\" x=\"468.5\" y=\"-268.3\" font-family=\"Helvetica,sans-Serif\" font-size=\"14.00\">samples = 12</text>\r\n",
       "<text text-anchor=\"middle\" x=\"468.5\" y=\"-253.3\" font-family=\"Helvetica,sans-Serif\" font-size=\"14.00\">value = [0, 12, 0]</text>\r\n",
       "<text text-anchor=\"middle\" x=\"468.5\" y=\"-238.3\" font-family=\"Helvetica,sans-Serif\" font-size=\"14.00\">class = 雪莉</text>\r\n",
       "</g>\r\n",
       "<!-- 9&#45;&gt;11 -->\r\n",
       "<g id=\"edge11\" class=\"edge\"><title>9&#45;&gt;11</title>\r\n",
       "<path fill=\"none\" stroke=\"black\" d=\"M437.806,-341.907C442.195,-330.983 446.953,-319.137 451.384,-308.107\"/>\r\n",
       "<polygon fill=\"black\" stroke=\"black\" points=\"454.697,-309.251 455.177,-298.667 448.201,-306.642 454.697,-309.251\"/>\r\n",
       "</g>\r\n",
       "<!-- 13 -->\r\n",
       "<g id=\"node14\" class=\"node\"><title>13</title>\r\n",
       "<path fill=\"#41e686\" stroke=\"black\" d=\"M703,-425C703,-425 606,-425 606,-425 600,-425 594,-419 594,-413 594,-413 594,-354 594,-354 594,-348 600,-342 606,-342 606,-342 703,-342 703,-342 709,-342 715,-348 715,-354 715,-354 715,-413 715,-413 715,-419 709,-425 703,-425\"/>\r\n",
       "<text text-anchor=\"middle\" x=\"654.5\" y=\"-409.8\" font-family=\"Helvetica,sans-Serif\" font-size=\"14.00\">灰 &lt;= 2.26</text>\r\n",
       "<text text-anchor=\"middle\" x=\"654.5\" y=\"-394.8\" font-family=\"Helvetica,sans-Serif\" font-size=\"14.00\">entropy = 0.235</text>\r\n",
       "<text text-anchor=\"middle\" x=\"654.5\" y=\"-379.8\" font-family=\"Helvetica,sans-Serif\" font-size=\"14.00\">samples = 26</text>\r\n",
       "<text text-anchor=\"middle\" x=\"654.5\" y=\"-364.8\" font-family=\"Helvetica,sans-Serif\" font-size=\"14.00\">value = [1, 25, 0]</text>\r\n",
       "<text text-anchor=\"middle\" x=\"654.5\" y=\"-349.8\" font-family=\"Helvetica,sans-Serif\" font-size=\"14.00\">class = 雪莉</text>\r\n",
       "</g>\r\n",
       "<!-- 12&#45;&gt;13 -->\r\n",
       "<g id=\"edge13\" class=\"edge\"><title>12&#45;&gt;13</title>\r\n",
       "<path fill=\"none\" stroke=\"black\" d=\"M654.5,-460.907C654.5,-452.649 654.5,-443.864 654.5,-435.302\"/>\r\n",
       "<polygon fill=\"black\" stroke=\"black\" points=\"658,-435.021 654.5,-425.021 651,-435.021 658,-435.021\"/>\r\n",
       "</g>\r\n",
       "<!-- 18 -->\r\n",
       "<g id=\"node19\" class=\"node\"><title>18</title>\r\n",
       "<path fill=\"#e88d4c\" stroke=\"black\" d=\"M1020,-425C1020,-425 923,-425 923,-425 917,-425 911,-419 911,-413 911,-413 911,-354 911,-354 911,-348 917,-342 923,-342 923,-342 1020,-342 1020,-342 1026,-342 1032,-348 1032,-354 1032,-354 1032,-413 1032,-413 1032,-419 1026,-425 1020,-425\"/>\r\n",
       "<text text-anchor=\"middle\" x=\"971.5\" y=\"-409.8\" font-family=\"Helvetica,sans-Serif\" font-size=\"14.00\">镁 &lt;= 89.942</text>\r\n",
       "<text text-anchor=\"middle\" x=\"971.5\" y=\"-394.8\" font-family=\"Helvetica,sans-Serif\" font-size=\"14.00\">entropy = 0.433</text>\r\n",
       "<text text-anchor=\"middle\" x=\"971.5\" y=\"-379.8\" font-family=\"Helvetica,sans-Serif\" font-size=\"14.00\">samples = 45</text>\r\n",
       "<text text-anchor=\"middle\" x=\"971.5\" y=\"-364.8\" font-family=\"Helvetica,sans-Serif\" font-size=\"14.00\">value = [41, 4, 0]</text>\r\n",
       "<text text-anchor=\"middle\" x=\"971.5\" y=\"-349.8\" font-family=\"Helvetica,sans-Serif\" font-size=\"14.00\">class = 琴酒</text>\r\n",
       "</g>\r\n",
       "<!-- 12&#45;&gt;18 -->\r\n",
       "<g id=\"edge18\" class=\"edge\"><title>12&#45;&gt;18</title>\r\n",
       "<path fill=\"none\" stroke=\"black\" d=\"M719.032,-477.682C771.972,-458.143 846.801,-430.525 901.243,-410.431\"/>\r\n",
       "<polygon fill=\"black\" stroke=\"black\" points=\"902.651,-413.642 910.82,-406.896 900.227,-407.075 902.651,-413.642\"/>\r\n",
       "</g>\r\n",
       "<!-- 14 -->\r\n",
       "<g id=\"node15\" class=\"node\"><title>14</title>\r\n",
       "<path fill=\"#39e581\" stroke=\"black\" d=\"M656,-298.5C656,-298.5 559,-298.5 559,-298.5 553,-298.5 547,-292.5 547,-286.5 547,-286.5 547,-242.5 547,-242.5 547,-236.5 553,-230.5 559,-230.5 559,-230.5 656,-230.5 656,-230.5 662,-230.5 668,-236.5 668,-242.5 668,-242.5 668,-286.5 668,-286.5 668,-292.5 662,-298.5 656,-298.5\"/>\r\n",
       "<text text-anchor=\"middle\" x=\"607.5\" y=\"-283.3\" font-family=\"Helvetica,sans-Serif\" font-size=\"14.00\">entropy = 0.0</text>\r\n",
       "<text text-anchor=\"middle\" x=\"607.5\" y=\"-268.3\" font-family=\"Helvetica,sans-Serif\" font-size=\"14.00\">samples = 14</text>\r\n",
       "<text text-anchor=\"middle\" x=\"607.5\" y=\"-253.3\" font-family=\"Helvetica,sans-Serif\" font-size=\"14.00\">value = [0, 14, 0]</text>\r\n",
       "<text text-anchor=\"middle\" x=\"607.5\" y=\"-238.3\" font-family=\"Helvetica,sans-Serif\" font-size=\"14.00\">class = 雪莉</text>\r\n",
       "</g>\r\n",
       "<!-- 13&#45;&gt;14 -->\r\n",
       "<g id=\"edge14\" class=\"edge\"><title>13&#45;&gt;14</title>\r\n",
       "<path fill=\"none\" stroke=\"black\" d=\"M638.194,-341.907C633.805,-330.983 629.047,-319.137 624.616,-308.107\"/>\r\n",
       "<polygon fill=\"black\" stroke=\"black\" points=\"627.799,-306.642 620.823,-298.667 621.303,-309.251 627.799,-306.642\"/>\r\n",
       "</g>\r\n",
       "<!-- 15 -->\r\n",
       "<g id=\"node16\" class=\"node\"><title>15</title>\r\n",
       "<path fill=\"#4be78c\" stroke=\"black\" d=\"M885,-306C885,-306 698,-306 698,-306 692,-306 686,-300 686,-294 686,-294 686,-235 686,-235 686,-229 692,-223 698,-223 698,-223 885,-223 885,-223 891,-223 897,-229 897,-235 897,-235 897,-294 897,-294 897,-300 891,-306 885,-306\"/>\r\n",
       "<text text-anchor=\"middle\" x=\"791.5\" y=\"-290.8\" font-family=\"Helvetica,sans-Serif\" font-size=\"14.00\">od280/od315稀释葡萄酒 &lt;= 3.4</text>\r\n",
       "<text text-anchor=\"middle\" x=\"791.5\" y=\"-275.8\" font-family=\"Helvetica,sans-Serif\" font-size=\"14.00\">entropy = 0.414</text>\r\n",
       "<text text-anchor=\"middle\" x=\"791.5\" y=\"-260.8\" font-family=\"Helvetica,sans-Serif\" font-size=\"14.00\">samples = 12</text>\r\n",
       "<text text-anchor=\"middle\" x=\"791.5\" y=\"-245.8\" font-family=\"Helvetica,sans-Serif\" font-size=\"14.00\">value = [1, 11, 0]</text>\r\n",
       "<text text-anchor=\"middle\" x=\"791.5\" y=\"-230.8\" font-family=\"Helvetica,sans-Serif\" font-size=\"14.00\">class = 雪莉</text>\r\n",
       "</g>\r\n",
       "<!-- 13&#45;&gt;15 -->\r\n",
       "<g id=\"edge15\" class=\"edge\"><title>13&#45;&gt;15</title>\r\n",
       "<path fill=\"none\" stroke=\"black\" d=\"M702.031,-341.907C713.083,-332.469 724.94,-322.343 736.291,-312.649\"/>\r\n",
       "<polygon fill=\"black\" stroke=\"black\" points=\"738.721,-315.177 744.053,-306.021 734.175,-309.854 738.721,-315.177\"/>\r\n",
       "</g>\r\n",
       "<!-- 16 -->\r\n",
       "<g id=\"node17\" class=\"node\"><title>16</title>\r\n",
       "<path fill=\"#39e581\" stroke=\"black\" d=\"M772,-179.5C772,-179.5 675,-179.5 675,-179.5 669,-179.5 663,-173.5 663,-167.5 663,-167.5 663,-123.5 663,-123.5 663,-117.5 669,-111.5 675,-111.5 675,-111.5 772,-111.5 772,-111.5 778,-111.5 784,-117.5 784,-123.5 784,-123.5 784,-167.5 784,-167.5 784,-173.5 778,-179.5 772,-179.5\"/>\r\n",
       "<text text-anchor=\"middle\" x=\"723.5\" y=\"-164.3\" font-family=\"Helvetica,sans-Serif\" font-size=\"14.00\">entropy = 0.0</text>\r\n",
       "<text text-anchor=\"middle\" x=\"723.5\" y=\"-149.3\" font-family=\"Helvetica,sans-Serif\" font-size=\"14.00\">samples = 11</text>\r\n",
       "<text text-anchor=\"middle\" x=\"723.5\" y=\"-134.3\" font-family=\"Helvetica,sans-Serif\" font-size=\"14.00\">value = [0, 11, 0]</text>\r\n",
       "<text text-anchor=\"middle\" x=\"723.5\" y=\"-119.3\" font-family=\"Helvetica,sans-Serif\" font-size=\"14.00\">class = 雪莉</text>\r\n",
       "</g>\r\n",
       "<!-- 15&#45;&gt;16 -->\r\n",
       "<g id=\"edge16\" class=\"edge\"><title>15&#45;&gt;16</title>\r\n",
       "<path fill=\"none\" stroke=\"black\" d=\"M767.908,-222.907C761.43,-211.763 754.395,-199.658 747.875,-188.439\"/>\r\n",
       "<polygon fill=\"black\" stroke=\"black\" points=\"750.828,-186.554 742.777,-179.667 744.775,-190.072 750.828,-186.554\"/>\r\n",
       "</g>\r\n",
       "<!-- 17 -->\r\n",
       "<g id=\"node18\" class=\"node\"><title>17</title>\r\n",
       "<path fill=\"#e58139\" stroke=\"black\" d=\"M903,-179.5C903,-179.5 814,-179.5 814,-179.5 808,-179.5 802,-173.5 802,-167.5 802,-167.5 802,-123.5 802,-123.5 802,-117.5 808,-111.5 814,-111.5 814,-111.5 903,-111.5 903,-111.5 909,-111.5 915,-117.5 915,-123.5 915,-123.5 915,-167.5 915,-167.5 915,-173.5 909,-179.5 903,-179.5\"/>\r\n",
       "<text text-anchor=\"middle\" x=\"858.5\" y=\"-164.3\" font-family=\"Helvetica,sans-Serif\" font-size=\"14.00\">entropy = 0.0</text>\r\n",
       "<text text-anchor=\"middle\" x=\"858.5\" y=\"-149.3\" font-family=\"Helvetica,sans-Serif\" font-size=\"14.00\">samples = 1</text>\r\n",
       "<text text-anchor=\"middle\" x=\"858.5\" y=\"-134.3\" font-family=\"Helvetica,sans-Serif\" font-size=\"14.00\">value = [1, 0, 0]</text>\r\n",
       "<text text-anchor=\"middle\" x=\"858.5\" y=\"-119.3\" font-family=\"Helvetica,sans-Serif\" font-size=\"14.00\">class = 琴酒</text>\r\n",
       "</g>\r\n",
       "<!-- 15&#45;&gt;17 -->\r\n",
       "<g id=\"edge17\" class=\"edge\"><title>15&#45;&gt;17</title>\r\n",
       "<path fill=\"none\" stroke=\"black\" d=\"M814.745,-222.907C821.127,-211.763 828.059,-199.658 834.484,-188.439\"/>\r\n",
       "<polygon fill=\"black\" stroke=\"black\" points=\"837.575,-190.084 839.507,-179.667 831.5,-186.606 837.575,-190.084\"/>\r\n",
       "</g>\r\n",
       "<!-- 19 -->\r\n",
       "<g id=\"node20\" class=\"node\"><title>19</title>\r\n",
       "<path fill=\"#39e581\" stroke=\"black\" d=\"M1016,-298.5C1016,-298.5 927,-298.5 927,-298.5 921,-298.5 915,-292.5 915,-286.5 915,-286.5 915,-242.5 915,-242.5 915,-236.5 921,-230.5 927,-230.5 927,-230.5 1016,-230.5 1016,-230.5 1022,-230.5 1028,-236.5 1028,-242.5 1028,-242.5 1028,-286.5 1028,-286.5 1028,-292.5 1022,-298.5 1016,-298.5\"/>\r\n",
       "<text text-anchor=\"middle\" x=\"971.5\" y=\"-283.3\" font-family=\"Helvetica,sans-Serif\" font-size=\"14.00\">entropy = 0.0</text>\r\n",
       "<text text-anchor=\"middle\" x=\"971.5\" y=\"-268.3\" font-family=\"Helvetica,sans-Serif\" font-size=\"14.00\">samples = 4</text>\r\n",
       "<text text-anchor=\"middle\" x=\"971.5\" y=\"-253.3\" font-family=\"Helvetica,sans-Serif\" font-size=\"14.00\">value = [0, 4, 0]</text>\r\n",
       "<text text-anchor=\"middle\" x=\"971.5\" y=\"-238.3\" font-family=\"Helvetica,sans-Serif\" font-size=\"14.00\">class = 雪莉</text>\r\n",
       "</g>\r\n",
       "<!-- 18&#45;&gt;19 -->\r\n",
       "<g id=\"edge19\" class=\"edge\"><title>18&#45;&gt;19</title>\r\n",
       "<path fill=\"none\" stroke=\"black\" d=\"M971.5,-341.907C971.5,-331.204 971.5,-319.615 971.5,-308.776\"/>\r\n",
       "<polygon fill=\"black\" stroke=\"black\" points=\"975,-308.667 971.5,-298.667 968,-308.667 975,-308.667\"/>\r\n",
       "</g>\r\n",
       "<!-- 20 -->\r\n",
       "<g id=\"node21\" class=\"node\"><title>20</title>\r\n",
       "<path fill=\"#e58139\" stroke=\"black\" d=\"M1155,-298.5C1155,-298.5 1058,-298.5 1058,-298.5 1052,-298.5 1046,-292.5 1046,-286.5 1046,-286.5 1046,-242.5 1046,-242.5 1046,-236.5 1052,-230.5 1058,-230.5 1058,-230.5 1155,-230.5 1155,-230.5 1161,-230.5 1167,-236.5 1167,-242.5 1167,-242.5 1167,-286.5 1167,-286.5 1167,-292.5 1161,-298.5 1155,-298.5\"/>\r\n",
       "<text text-anchor=\"middle\" x=\"1106.5\" y=\"-283.3\" font-family=\"Helvetica,sans-Serif\" font-size=\"14.00\">entropy = 0.0</text>\r\n",
       "<text text-anchor=\"middle\" x=\"1106.5\" y=\"-268.3\" font-family=\"Helvetica,sans-Serif\" font-size=\"14.00\">samples = 41</text>\r\n",
       "<text text-anchor=\"middle\" x=\"1106.5\" y=\"-253.3\" font-family=\"Helvetica,sans-Serif\" font-size=\"14.00\">value = [41, 0, 0]</text>\r\n",
       "<text text-anchor=\"middle\" x=\"1106.5\" y=\"-238.3\" font-family=\"Helvetica,sans-Serif\" font-size=\"14.00\">class = 琴酒</text>\r\n",
       "</g>\r\n",
       "<!-- 18&#45;&gt;20 -->\r\n",
       "<g id=\"edge20\" class=\"edge\"><title>18&#45;&gt;20</title>\r\n",
       "<path fill=\"none\" stroke=\"black\" d=\"M1018.34,-341.907C1031.96,-330.101 1046.83,-317.217 1060.4,-305.45\"/>\r\n",
       "<polygon fill=\"black\" stroke=\"black\" points=\"1062.97,-307.861 1068.23,-298.667 1058.38,-302.571 1062.97,-307.861\"/>\r\n",
       "</g>\r\n",
       "</g>\r\n",
       "</svg>\r\n"
      ],
      "text/plain": [
       "<graphviz.files.Source at 0x20bc2492f98>"
      ]
     },
     "execution_count": 45,
     "metadata": {},
     "output_type": "execute_result"
    }
   ],
   "source": [
    "feature_names = ['酒精','苹果酸','灰','灰的碱性','镁','总酚',\n",
    "                 '类黄酮','非黄烷类酚类','花青素','颜色强度',\n",
    "                 '色调','od280/od315稀释葡萄酒','脯氨酸']\n",
    "dot_data = tree.export_graphviz(clf,\n",
    "                                out_file=None,\n",
    "                                feature_names=feature_names,\n",
    "                                class_names=['琴酒','雪莉','贝尔摩德'],\n",
    "                                filled=True,  # 设置叶颜色\n",
    "                                rounded=True,  # 设置叶子为圆形\n",
    "#                                 label=False\n",
    "                               )\n",
    "graph = graphviz.Source(dot_data)\n",
    "graph"
   ]
  },
  {
   "cell_type": "markdown",
   "metadata": {},
   "source": [
    "#### 探索决策树"
   ]
  },
  {
   "cell_type": "code",
   "execution_count": 46,
   "metadata": {
    "ExecuteTime": {
     "end_time": "2019-11-29T11:45:40.136598Z",
     "start_time": "2019-11-29T11:45:40.113043Z"
    }
   },
   "outputs": [
    {
     "data": {
      "text/plain": [
       "[('酒精', 0.22264511518113508),\n",
       " ('苹果酸', 0.0),\n",
       " ('灰', 0.0058572173642410675),\n",
       " ('灰的碱性', 0.0),\n",
       " ('镁', 0.09925119682900188),\n",
       " ('总酚', 0.0),\n",
       " ('类黄酮', 0.47935199173916665),\n",
       " ('非黄烷类酚类', 0.0),\n",
       " ('花青素', 0.0),\n",
       " ('颜色强度', 0.0),\n",
       " ('色调', 0.05539125502342464),\n",
       " ('od280/od315稀释葡萄酒', 0.13750322386303082),\n",
       " ('脯氨酸', 0.0)]"
      ]
     },
     "execution_count": 46,
     "metadata": {},
     "output_type": "execute_result"
    }
   ],
   "source": [
    "# 显示特征的重要性(权重)\n",
    "clf.feature_importances_\n",
    "[*zip(feature_names, clf.feature_importances_)]"
   ]
  },
  {
   "cell_type": "code",
   "execution_count": 47,
   "metadata": {
    "ExecuteTime": {
     "end_time": "2019-11-29T11:45:41.511179Z",
     "start_time": "2019-11-29T11:45:41.498502Z"
    }
   },
   "outputs": [
    {
     "data": {
      "text/plain": [
       "0.9074074074074074"
      ]
     },
     "execution_count": 47,
     "metadata": {},
     "output_type": "execute_result"
    }
   ],
   "source": [
    "clf = tree.DecisionTreeClassifier(criterion='entropy', random_state=30)\n",
    "clf = clf.fit(x_train, y_train)\n",
    "score = clf.score(x_test, y_test)\n",
    "score"
   ]
  },
  {
   "cell_type": "markdown",
   "metadata": {},
   "source": [
    "#### 修改random_state&splitter参数"
   ]
  },
  {
   "cell_type": "code",
   "execution_count": 54,
   "metadata": {
    "ExecuteTime": {
     "end_time": "2019-11-29T11:48:03.468555Z",
     "start_time": "2019-11-29T11:48:03.450080Z"
    }
   },
   "outputs": [
    {
     "data": {
      "text/plain": [
       "0.9074074074074074"
      ]
     },
     "execution_count": 54,
     "metadata": {},
     "output_type": "execute_result"
    }
   ],
   "source": [
    "clf = tree.DecisionTreeClassifier(criterion='entropy',\n",
    "                                  random_state=32,\n",
    "                                  splitter='random')  # splitter='best' by default\n",
    "clf = clf.fit(x_train, y_train)\n",
    "\n",
    "score = clf.score(x_test, y_test)\n",
    "score"
   ]
  },
  {
   "cell_type": "code",
   "execution_count": 55,
   "metadata": {
    "ExecuteTime": {
     "end_time": "2019-11-29T11:48:05.134560Z",
     "start_time": "2019-11-29T11:48:04.779048Z"
    }
   },
   "outputs": [
    {
     "data": {
      "image/svg+xml": [
       "<?xml version=\"1.0\" encoding=\"UTF-8\" standalone=\"no\"?>\r\n",
       "<!DOCTYPE svg PUBLIC \"-//W3C//DTD SVG 1.1//EN\"\r\n",
       " \"http://www.w3.org/Graphics/SVG/1.1/DTD/svg11.dtd\">\r\n",
       "<!-- Generated by graphviz version 2.38.0 (20140413.2041)\r\n",
       " -->\r\n",
       "<!-- Title: Tree Pages: 1 -->\r\n",
       "<svg width=\"623pt\" height=\"790pt\"\r\n",
       " viewBox=\"0.00 0.00 623.00 790.00\" xmlns=\"http://www.w3.org/2000/svg\" xmlns:xlink=\"http://www.w3.org/1999/xlink\">\r\n",
       "<g id=\"graph0\" class=\"graph\" transform=\"scale(1 1) rotate(0) translate(4 786)\">\r\n",
       "<title>Tree</title>\r\n",
       "<polygon fill=\"white\" stroke=\"none\" points=\"-4,4 -4,-786 619,-786 619,4 -4,4\"/>\r\n",
       "<!-- 0 -->\r\n",
       "<g id=\"node1\" class=\"node\"><title>0</title>\r\n",
       "<path fill=\"#fafefc\" stroke=\"black\" d=\"M327,-782C327,-782 214,-782 214,-782 208,-782 202,-776 202,-770 202,-770 202,-711 202,-711 202,-705 208,-699 214,-699 214,-699 327,-699 327,-699 333,-699 339,-705 339,-711 339,-711 339,-770 339,-770 339,-776 333,-782 327,-782\"/>\r\n",
       "<text text-anchor=\"middle\" x=\"270.5\" y=\"-766.8\" font-family=\"Helvetica,sans-Serif\" font-size=\"14.00\">类黄酮 &lt;= 1.591</text>\r\n",
       "<text text-anchor=\"middle\" x=\"270.5\" y=\"-751.8\" font-family=\"Helvetica,sans-Serif\" font-size=\"14.00\">entropy = 1.582</text>\r\n",
       "<text text-anchor=\"middle\" x=\"270.5\" y=\"-736.8\" font-family=\"Helvetica,sans-Serif\" font-size=\"14.00\">samples = 124</text>\r\n",
       "<text text-anchor=\"middle\" x=\"270.5\" y=\"-721.8\" font-family=\"Helvetica,sans-Serif\" font-size=\"14.00\">value = [42, 44, 38]</text>\r\n",
       "<text text-anchor=\"middle\" x=\"270.5\" y=\"-706.8\" font-family=\"Helvetica,sans-Serif\" font-size=\"14.00\">class = 茅台</text>\r\n",
       "</g>\r\n",
       "<!-- 1 -->\r\n",
       "<g id=\"node2\" class=\"node\"><title>1</title>\r\n",
       "<path fill=\"#a572ed\" stroke=\"black\" d=\"M249,-663C249,-663 144,-663 144,-663 138,-663 132,-657 132,-651 132,-651 132,-592 132,-592 132,-586 138,-580 144,-580 144,-580 249,-580 249,-580 255,-580 261,-586 261,-592 261,-592 261,-651 261,-651 261,-657 255,-663 249,-663\"/>\r\n",
       "<text text-anchor=\"middle\" x=\"196.5\" y=\"-647.8\" font-family=\"Helvetica,sans-Serif\" font-size=\"14.00\">颜色强度 &lt;= 3.681</text>\r\n",
       "<text text-anchor=\"middle\" x=\"196.5\" y=\"-632.8\" font-family=\"Helvetica,sans-Serif\" font-size=\"14.00\">entropy = 0.768</text>\r\n",
       "<text text-anchor=\"middle\" x=\"196.5\" y=\"-617.8\" font-family=\"Helvetica,sans-Serif\" font-size=\"14.00\">samples = 49</text>\r\n",
       "<text text-anchor=\"middle\" x=\"196.5\" y=\"-602.8\" font-family=\"Helvetica,sans-Serif\" font-size=\"14.00\">value = [0, 11, 38]</text>\r\n",
       "<text text-anchor=\"middle\" x=\"196.5\" y=\"-587.8\" font-family=\"Helvetica,sans-Serif\" font-size=\"14.00\">class = 五粮液</text>\r\n",
       "</g>\r\n",
       "<!-- 0&#45;&gt;1 -->\r\n",
       "<g id=\"edge1\" class=\"edge\"><title>0&#45;&gt;1</title>\r\n",
       "<path fill=\"none\" stroke=\"black\" d=\"M244.826,-698.907C239.258,-690.105 233.312,-680.703 227.562,-671.612\"/>\r\n",
       "<polygon fill=\"black\" stroke=\"black\" points=\"230.432,-669.601 222.129,-663.021 224.516,-673.343 230.432,-669.601\"/>\r\n",
       "<text text-anchor=\"middle\" x=\"216.638\" y=\"-683.71\" font-family=\"Helvetica,sans-Serif\" font-size=\"14.00\">True</text>\r\n",
       "</g>\r\n",
       "<!-- 8 -->\r\n",
       "<g id=\"node9\" class=\"node\"><title>8</title>\r\n",
       "<path fill=\"#f9e4d5\" stroke=\"black\" d=\"M399.5,-663C399.5,-663 291.5,-663 291.5,-663 285.5,-663 279.5,-657 279.5,-651 279.5,-651 279.5,-592 279.5,-592 279.5,-586 285.5,-580 291.5,-580 291.5,-580 399.5,-580 399.5,-580 405.5,-580 411.5,-586 411.5,-592 411.5,-592 411.5,-651 411.5,-651 411.5,-657 405.5,-663 399.5,-663\"/>\r\n",
       "<text text-anchor=\"middle\" x=\"345.5\" y=\"-647.8\" font-family=\"Helvetica,sans-Serif\" font-size=\"14.00\">脯氨酸 &lt;= 646.571</text>\r\n",
       "<text text-anchor=\"middle\" x=\"345.5\" y=\"-632.8\" font-family=\"Helvetica,sans-Serif\" font-size=\"14.00\">entropy = 0.99</text>\r\n",
       "<text text-anchor=\"middle\" x=\"345.5\" y=\"-617.8\" font-family=\"Helvetica,sans-Serif\" font-size=\"14.00\">samples = 75</text>\r\n",
       "<text text-anchor=\"middle\" x=\"345.5\" y=\"-602.8\" font-family=\"Helvetica,sans-Serif\" font-size=\"14.00\">value = [42, 33, 0]</text>\r\n",
       "<text text-anchor=\"middle\" x=\"345.5\" y=\"-587.8\" font-family=\"Helvetica,sans-Serif\" font-size=\"14.00\">class = 清酒</text>\r\n",
       "</g>\r\n",
       "<!-- 0&#45;&gt;8 -->\r\n",
       "<g id=\"edge8\" class=\"edge\"><title>0&#45;&gt;8</title>\r\n",
       "<path fill=\"none\" stroke=\"black\" d=\"M296.521,-698.907C302.164,-690.105 308.19,-680.703 314.018,-671.612\"/>\r\n",
       "<polygon fill=\"black\" stroke=\"black\" points=\"317.075,-673.328 319.525,-663.021 311.182,-669.551 317.075,-673.328\"/>\r\n",
       "<text text-anchor=\"middle\" x=\"324.868\" y=\"-683.743\" font-family=\"Helvetica,sans-Serif\" font-size=\"14.00\">False</text>\r\n",
       "</g>\r\n",
       "<!-- 2 -->\r\n",
       "<g id=\"node3\" class=\"node\"><title>2</title>\r\n",
       "<path fill=\"#39e581\" stroke=\"black\" d=\"M109,-536.5C109,-536.5 12,-536.5 12,-536.5 6,-536.5 0,-530.5 0,-524.5 0,-524.5 0,-480.5 0,-480.5 0,-474.5 6,-468.5 12,-468.5 12,-468.5 109,-468.5 109,-468.5 115,-468.5 121,-474.5 121,-480.5 121,-480.5 121,-524.5 121,-524.5 121,-530.5 115,-536.5 109,-536.5\"/>\r\n",
       "<text text-anchor=\"middle\" x=\"60.5\" y=\"-521.3\" font-family=\"Helvetica,sans-Serif\" font-size=\"14.00\">entropy = 0.0</text>\r\n",
       "<text text-anchor=\"middle\" x=\"60.5\" y=\"-506.3\" font-family=\"Helvetica,sans-Serif\" font-size=\"14.00\">samples = 10</text>\r\n",
       "<text text-anchor=\"middle\" x=\"60.5\" y=\"-491.3\" font-family=\"Helvetica,sans-Serif\" font-size=\"14.00\">value = [0, 10, 0]</text>\r\n",
       "<text text-anchor=\"middle\" x=\"60.5\" y=\"-476.3\" font-family=\"Helvetica,sans-Serif\" font-size=\"14.00\">class = 茅台</text>\r\n",
       "</g>\r\n",
       "<!-- 1&#45;&gt;2 -->\r\n",
       "<g id=\"edge2\" class=\"edge\"><title>1&#45;&gt;2</title>\r\n",
       "<path fill=\"none\" stroke=\"black\" d=\"M149.315,-579.907C135.591,-568.101 120.615,-555.217 106.937,-543.45\"/>\r\n",
       "<polygon fill=\"black\" stroke=\"black\" points=\"108.916,-540.535 99.053,-536.667 104.351,-545.842 108.916,-540.535\"/>\r\n",
       "</g>\r\n",
       "<!-- 3 -->\r\n",
       "<g id=\"node4\" class=\"node\"><title>3</title>\r\n",
       "<path fill=\"#843ee6\" stroke=\"black\" d=\"M248,-544C248,-544 151,-544 151,-544 145,-544 139,-538 139,-532 139,-532 139,-473 139,-473 139,-467 145,-461 151,-461 151,-461 248,-461 248,-461 254,-461 260,-467 260,-473 260,-473 260,-532 260,-532 260,-538 254,-544 248,-544\"/>\r\n",
       "<text text-anchor=\"middle\" x=\"199.5\" y=\"-528.8\" font-family=\"Helvetica,sans-Serif\" font-size=\"14.00\">酒精 &lt;= 12.361</text>\r\n",
       "<text text-anchor=\"middle\" x=\"199.5\" y=\"-513.8\" font-family=\"Helvetica,sans-Serif\" font-size=\"14.00\">entropy = 0.172</text>\r\n",
       "<text text-anchor=\"middle\" x=\"199.5\" y=\"-498.8\" font-family=\"Helvetica,sans-Serif\" font-size=\"14.00\">samples = 39</text>\r\n",
       "<text text-anchor=\"middle\" x=\"199.5\" y=\"-483.8\" font-family=\"Helvetica,sans-Serif\" font-size=\"14.00\">value = [0, 1, 38]</text>\r\n",
       "<text text-anchor=\"middle\" x=\"199.5\" y=\"-468.8\" font-family=\"Helvetica,sans-Serif\" font-size=\"14.00\">class = 五粮液</text>\r\n",
       "</g>\r\n",
       "<!-- 1&#45;&gt;3 -->\r\n",
       "<g id=\"edge3\" class=\"edge\"><title>1&#45;&gt;3</title>\r\n",
       "<path fill=\"none\" stroke=\"black\" d=\"M197.541,-579.907C197.755,-571.558 197.983,-562.671 198.205,-554.02\"/>\r\n",
       "<polygon fill=\"black\" stroke=\"black\" points=\"201.703,-554.107 198.461,-544.021 194.706,-553.928 201.703,-554.107\"/>\r\n",
       "</g>\r\n",
       "<!-- 4 -->\r\n",
       "<g id=\"node5\" class=\"node\"><title>4</title>\r\n",
       "<path fill=\"#ab7bee\" stroke=\"black\" d=\"M181.5,-425C181.5,-425 89.5,-425 89.5,-425 83.5,-425 77.5,-419 77.5,-413 77.5,-413 77.5,-354 77.5,-354 77.5,-348 83.5,-342 89.5,-342 89.5,-342 181.5,-342 181.5,-342 187.5,-342 193.5,-348 193.5,-354 193.5,-354 193.5,-413 193.5,-413 193.5,-419 187.5,-425 181.5,-425\"/>\r\n",
       "<text text-anchor=\"middle\" x=\"135.5\" y=\"-409.8\" font-family=\"Helvetica,sans-Serif\" font-size=\"14.00\">色调 &lt;= 1.083</text>\r\n",
       "<text text-anchor=\"middle\" x=\"135.5\" y=\"-394.8\" font-family=\"Helvetica,sans-Serif\" font-size=\"14.00\">entropy = 0.811</text>\r\n",
       "<text text-anchor=\"middle\" x=\"135.5\" y=\"-379.8\" font-family=\"Helvetica,sans-Serif\" font-size=\"14.00\">samples = 4</text>\r\n",
       "<text text-anchor=\"middle\" x=\"135.5\" y=\"-364.8\" font-family=\"Helvetica,sans-Serif\" font-size=\"14.00\">value = [0, 1, 3]</text>\r\n",
       "<text text-anchor=\"middle\" x=\"135.5\" y=\"-349.8\" font-family=\"Helvetica,sans-Serif\" font-size=\"14.00\">class = 五粮液</text>\r\n",
       "</g>\r\n",
       "<!-- 3&#45;&gt;4 -->\r\n",
       "<g id=\"edge4\" class=\"edge\"><title>3&#45;&gt;4</title>\r\n",
       "<path fill=\"none\" stroke=\"black\" d=\"M177.296,-460.907C172.53,-452.195 167.444,-442.897 162.519,-433.893\"/>\r\n",
       "<polygon fill=\"black\" stroke=\"black\" points=\"165.535,-432.114 157.665,-425.021 159.394,-435.474 165.535,-432.114\"/>\r\n",
       "</g>\r\n",
       "<!-- 7 -->\r\n",
       "<g id=\"node8\" class=\"node\"><title>7</title>\r\n",
       "<path fill=\"#8139e5\" stroke=\"black\" d=\"M321,-417.5C321,-417.5 224,-417.5 224,-417.5 218,-417.5 212,-411.5 212,-405.5 212,-405.5 212,-361.5 212,-361.5 212,-355.5 218,-349.5 224,-349.5 224,-349.5 321,-349.5 321,-349.5 327,-349.5 333,-355.5 333,-361.5 333,-361.5 333,-405.5 333,-405.5 333,-411.5 327,-417.5 321,-417.5\"/>\r\n",
       "<text text-anchor=\"middle\" x=\"272.5\" y=\"-402.3\" font-family=\"Helvetica,sans-Serif\" font-size=\"14.00\">entropy = 0.0</text>\r\n",
       "<text text-anchor=\"middle\" x=\"272.5\" y=\"-387.3\" font-family=\"Helvetica,sans-Serif\" font-size=\"14.00\">samples = 35</text>\r\n",
       "<text text-anchor=\"middle\" x=\"272.5\" y=\"-372.3\" font-family=\"Helvetica,sans-Serif\" font-size=\"14.00\">value = [0, 0, 35]</text>\r\n",
       "<text text-anchor=\"middle\" x=\"272.5\" y=\"-357.3\" font-family=\"Helvetica,sans-Serif\" font-size=\"14.00\">class = 五粮液</text>\r\n",
       "</g>\r\n",
       "<!-- 3&#45;&gt;7 -->\r\n",
       "<g id=\"edge7\" class=\"edge\"><title>3&#45;&gt;7</title>\r\n",
       "<path fill=\"none\" stroke=\"black\" d=\"M224.827,-460.907C231.781,-449.763 239.333,-437.658 246.333,-426.439\"/>\r\n",
       "<polygon fill=\"black\" stroke=\"black\" points=\"249.482,-428.004 251.806,-417.667 243.543,-424.298 249.482,-428.004\"/>\r\n",
       "</g>\r\n",
       "<!-- 5 -->\r\n",
       "<g id=\"node6\" class=\"node\"><title>5</title>\r\n",
       "<path fill=\"#8139e5\" stroke=\"black\" d=\"M118,-298.5C118,-298.5 29,-298.5 29,-298.5 23,-298.5 17,-292.5 17,-286.5 17,-286.5 17,-242.5 17,-242.5 17,-236.5 23,-230.5 29,-230.5 29,-230.5 118,-230.5 118,-230.5 124,-230.5 130,-236.5 130,-242.5 130,-242.5 130,-286.5 130,-286.5 130,-292.5 124,-298.5 118,-298.5\"/>\r\n",
       "<text text-anchor=\"middle\" x=\"73.5\" y=\"-283.3\" font-family=\"Helvetica,sans-Serif\" font-size=\"14.00\">entropy = 0.0</text>\r\n",
       "<text text-anchor=\"middle\" x=\"73.5\" y=\"-268.3\" font-family=\"Helvetica,sans-Serif\" font-size=\"14.00\">samples = 3</text>\r\n",
       "<text text-anchor=\"middle\" x=\"73.5\" y=\"-253.3\" font-family=\"Helvetica,sans-Serif\" font-size=\"14.00\">value = [0, 0, 3]</text>\r\n",
       "<text text-anchor=\"middle\" x=\"73.5\" y=\"-238.3\" font-family=\"Helvetica,sans-Serif\" font-size=\"14.00\">class = 五粮液</text>\r\n",
       "</g>\r\n",
       "<!-- 4&#45;&gt;5 -->\r\n",
       "<g id=\"edge5\" class=\"edge\"><title>4&#45;&gt;5</title>\r\n",
       "<path fill=\"none\" stroke=\"black\" d=\"M113.989,-341.907C108.142,-330.873 101.796,-318.898 95.9009,-307.773\"/>\r\n",
       "<polygon fill=\"black\" stroke=\"black\" points=\"98.8507,-305.864 91.0756,-298.667 92.6654,-309.142 98.8507,-305.864\"/>\r\n",
       "</g>\r\n",
       "<!-- 6 -->\r\n",
       "<g id=\"node7\" class=\"node\"><title>6</title>\r\n",
       "<path fill=\"#39e581\" stroke=\"black\" d=\"M249,-298.5C249,-298.5 160,-298.5 160,-298.5 154,-298.5 148,-292.5 148,-286.5 148,-286.5 148,-242.5 148,-242.5 148,-236.5 154,-230.5 160,-230.5 160,-230.5 249,-230.5 249,-230.5 255,-230.5 261,-236.5 261,-242.5 261,-242.5 261,-286.5 261,-286.5 261,-292.5 255,-298.5 249,-298.5\"/>\r\n",
       "<text text-anchor=\"middle\" x=\"204.5\" y=\"-283.3\" font-family=\"Helvetica,sans-Serif\" font-size=\"14.00\">entropy = 0.0</text>\r\n",
       "<text text-anchor=\"middle\" x=\"204.5\" y=\"-268.3\" font-family=\"Helvetica,sans-Serif\" font-size=\"14.00\">samples = 1</text>\r\n",
       "<text text-anchor=\"middle\" x=\"204.5\" y=\"-253.3\" font-family=\"Helvetica,sans-Serif\" font-size=\"14.00\">value = [0, 1, 0]</text>\r\n",
       "<text text-anchor=\"middle\" x=\"204.5\" y=\"-238.3\" font-family=\"Helvetica,sans-Serif\" font-size=\"14.00\">class = 茅台</text>\r\n",
       "</g>\r\n",
       "<!-- 4&#45;&gt;6 -->\r\n",
       "<g id=\"edge6\" class=\"edge\"><title>4&#45;&gt;6</title>\r\n",
       "<path fill=\"none\" stroke=\"black\" d=\"M159.439,-341.907C166.012,-330.763 173.15,-318.658 179.767,-307.439\"/>\r\n",
       "<polygon fill=\"black\" stroke=\"black\" points=\"182.875,-309.059 184.94,-298.667 176.845,-305.503 182.875,-309.059\"/>\r\n",
       "</g>\r\n",
       "<!-- 9 -->\r\n",
       "<g id=\"node10\" class=\"node\"><title>9</title>\r\n",
       "<path fill=\"#39e581\" stroke=\"black\" d=\"M392,-536.5C392,-536.5 295,-536.5 295,-536.5 289,-536.5 283,-530.5 283,-524.5 283,-524.5 283,-480.5 283,-480.5 283,-474.5 289,-468.5 295,-468.5 295,-468.5 392,-468.5 392,-468.5 398,-468.5 404,-474.5 404,-480.5 404,-480.5 404,-524.5 404,-524.5 404,-530.5 398,-536.5 392,-536.5\"/>\r\n",
       "<text text-anchor=\"middle\" x=\"343.5\" y=\"-521.3\" font-family=\"Helvetica,sans-Serif\" font-size=\"14.00\">entropy = 0.0</text>\r\n",
       "<text text-anchor=\"middle\" x=\"343.5\" y=\"-506.3\" font-family=\"Helvetica,sans-Serif\" font-size=\"14.00\">samples = 25</text>\r\n",
       "<text text-anchor=\"middle\" x=\"343.5\" y=\"-491.3\" font-family=\"Helvetica,sans-Serif\" font-size=\"14.00\">value = [0, 25, 0]</text>\r\n",
       "<text text-anchor=\"middle\" x=\"343.5\" y=\"-476.3\" font-family=\"Helvetica,sans-Serif\" font-size=\"14.00\">class = 茅台</text>\r\n",
       "</g>\r\n",
       "<!-- 8&#45;&gt;9 -->\r\n",
       "<g id=\"edge9\" class=\"edge\"><title>8&#45;&gt;9</title>\r\n",
       "<path fill=\"none\" stroke=\"black\" d=\"M344.806,-579.907C344.623,-569.204 344.425,-557.615 344.24,-546.776\"/>\r\n",
       "<polygon fill=\"black\" stroke=\"black\" points=\"347.737,-546.606 344.067,-536.667 340.738,-546.725 347.737,-546.606\"/>\r\n",
       "</g>\r\n",
       "<!-- 10 -->\r\n",
       "<g id=\"node11\" class=\"node\"><title>10</title>\r\n",
       "<path fill=\"#ea995f\" stroke=\"black\" d=\"M538.5,-544C538.5,-544 434.5,-544 434.5,-544 428.5,-544 422.5,-538 422.5,-532 422.5,-532 422.5,-473 422.5,-473 422.5,-467 428.5,-461 434.5,-461 434.5,-461 538.5,-461 538.5,-461 544.5,-461 550.5,-467 550.5,-473 550.5,-473 550.5,-532 550.5,-532 550.5,-538 544.5,-544 538.5,-544\"/>\r\n",
       "<text text-anchor=\"middle\" x=\"486.5\" y=\"-528.8\" font-family=\"Helvetica,sans-Serif\" font-size=\"14.00\">颜色强度 &lt;= 4.006</text>\r\n",
       "<text text-anchor=\"middle\" x=\"486.5\" y=\"-513.8\" font-family=\"Helvetica,sans-Serif\" font-size=\"14.00\">entropy = 0.634</text>\r\n",
       "<text text-anchor=\"middle\" x=\"486.5\" y=\"-498.8\" font-family=\"Helvetica,sans-Serif\" font-size=\"14.00\">samples = 50</text>\r\n",
       "<text text-anchor=\"middle\" x=\"486.5\" y=\"-483.8\" font-family=\"Helvetica,sans-Serif\" font-size=\"14.00\">value = [42, 8, 0]</text>\r\n",
       "<text text-anchor=\"middle\" x=\"486.5\" y=\"-468.8\" font-family=\"Helvetica,sans-Serif\" font-size=\"14.00\">class = 清酒</text>\r\n",
       "</g>\r\n",
       "<!-- 8&#45;&gt;10 -->\r\n",
       "<g id=\"edge10\" class=\"edge\"><title>8&#45;&gt;10</title>\r\n",
       "<path fill=\"none\" stroke=\"black\" d=\"M394.419,-579.907C405.793,-570.469 417.997,-560.343 429.679,-550.649\"/>\r\n",
       "<polygon fill=\"black\" stroke=\"black\" points=\"432.207,-553.1 437.667,-544.021 427.737,-547.713 432.207,-553.1\"/>\r\n",
       "</g>\r\n",
       "<!-- 11 -->\r\n",
       "<g id=\"node12\" class=\"node\"><title>11</title>\r\n",
       "<path fill=\"#e6fcef\" stroke=\"black\" d=\"M463.5,-425C463.5,-425 363.5,-425 363.5,-425 357.5,-425 351.5,-419 351.5,-413 351.5,-413 351.5,-354 351.5,-354 351.5,-348 357.5,-342 363.5,-342 363.5,-342 463.5,-342 463.5,-342 469.5,-342 475.5,-348 475.5,-354 475.5,-354 475.5,-413 475.5,-413 475.5,-419 469.5,-425 463.5,-425\"/>\r\n",
       "<text text-anchor=\"middle\" x=\"413.5\" y=\"-409.8\" font-family=\"Helvetica,sans-Serif\" font-size=\"14.00\">脯氨酸 &lt;= 760.42</text>\r\n",
       "<text text-anchor=\"middle\" x=\"413.5\" y=\"-394.8\" font-family=\"Helvetica,sans-Serif\" font-size=\"14.00\">entropy = 0.997</text>\r\n",
       "<text text-anchor=\"middle\" x=\"413.5\" y=\"-379.8\" font-family=\"Helvetica,sans-Serif\" font-size=\"14.00\">samples = 15</text>\r\n",
       "<text text-anchor=\"middle\" x=\"413.5\" y=\"-364.8\" font-family=\"Helvetica,sans-Serif\" font-size=\"14.00\">value = [7, 8, 0]</text>\r\n",
       "<text text-anchor=\"middle\" x=\"413.5\" y=\"-349.8\" font-family=\"Helvetica,sans-Serif\" font-size=\"14.00\">class = 茅台</text>\r\n",
       "</g>\r\n",
       "<!-- 10&#45;&gt;11 -->\r\n",
       "<g id=\"edge11\" class=\"edge\"><title>10&#45;&gt;11</title>\r\n",
       "<path fill=\"none\" stroke=\"black\" d=\"M461.173,-460.907C455.681,-452.105 449.815,-442.703 444.143,-433.612\"/>\r\n",
       "<polygon fill=\"black\" stroke=\"black\" points=\"447.045,-431.652 438.782,-425.021 441.106,-435.358 447.045,-431.652\"/>\r\n",
       "</g>\r\n",
       "<!-- 18 -->\r\n",
       "<g id=\"node19\" class=\"node\"><title>18</title>\r\n",
       "<path fill=\"#e58139\" stroke=\"black\" d=\"M603,-417.5C603,-417.5 506,-417.5 506,-417.5 500,-417.5 494,-411.5 494,-405.5 494,-405.5 494,-361.5 494,-361.5 494,-355.5 500,-349.5 506,-349.5 506,-349.5 603,-349.5 603,-349.5 609,-349.5 615,-355.5 615,-361.5 615,-361.5 615,-405.5 615,-405.5 615,-411.5 609,-417.5 603,-417.5\"/>\r\n",
       "<text text-anchor=\"middle\" x=\"554.5\" y=\"-402.3\" font-family=\"Helvetica,sans-Serif\" font-size=\"14.00\">entropy = 0.0</text>\r\n",
       "<text text-anchor=\"middle\" x=\"554.5\" y=\"-387.3\" font-family=\"Helvetica,sans-Serif\" font-size=\"14.00\">samples = 35</text>\r\n",
       "<text text-anchor=\"middle\" x=\"554.5\" y=\"-372.3\" font-family=\"Helvetica,sans-Serif\" font-size=\"14.00\">value = [35, 0, 0]</text>\r\n",
       "<text text-anchor=\"middle\" x=\"554.5\" y=\"-357.3\" font-family=\"Helvetica,sans-Serif\" font-size=\"14.00\">class = 清酒</text>\r\n",
       "</g>\r\n",
       "<!-- 10&#45;&gt;18 -->\r\n",
       "<g id=\"edge18\" class=\"edge\"><title>10&#45;&gt;18</title>\r\n",
       "<path fill=\"none\" stroke=\"black\" d=\"M510.092,-460.907C516.57,-449.763 523.605,-437.658 530.125,-426.439\"/>\r\n",
       "<polygon fill=\"black\" stroke=\"black\" points=\"533.225,-428.072 535.223,-417.667 527.172,-424.554 533.225,-428.072\"/>\r\n",
       "</g>\r\n",
       "<!-- 12 -->\r\n",
       "<g id=\"node13\" class=\"node\"><title>12</title>\r\n",
       "<path fill=\"#39e581\" stroke=\"black\" d=\"M388,-298.5C388,-298.5 299,-298.5 299,-298.5 293,-298.5 287,-292.5 287,-286.5 287,-286.5 287,-242.5 287,-242.5 287,-236.5 293,-230.5 299,-230.5 299,-230.5 388,-230.5 388,-230.5 394,-230.5 400,-236.5 400,-242.5 400,-242.5 400,-286.5 400,-286.5 400,-292.5 394,-298.5 388,-298.5\"/>\r\n",
       "<text text-anchor=\"middle\" x=\"343.5\" y=\"-283.3\" font-family=\"Helvetica,sans-Serif\" font-size=\"14.00\">entropy = 0.0</text>\r\n",
       "<text text-anchor=\"middle\" x=\"343.5\" y=\"-268.3\" font-family=\"Helvetica,sans-Serif\" font-size=\"14.00\">samples = 6</text>\r\n",
       "<text text-anchor=\"middle\" x=\"343.5\" y=\"-253.3\" font-family=\"Helvetica,sans-Serif\" font-size=\"14.00\">value = [0, 6, 0]</text>\r\n",
       "<text text-anchor=\"middle\" x=\"343.5\" y=\"-238.3\" font-family=\"Helvetica,sans-Serif\" font-size=\"14.00\">class = 茅台</text>\r\n",
       "</g>\r\n",
       "<!-- 11&#45;&gt;12 -->\r\n",
       "<g id=\"edge12\" class=\"edge\"><title>11&#45;&gt;12</title>\r\n",
       "<path fill=\"none\" stroke=\"black\" d=\"M389.214,-341.907C382.546,-330.763 375.304,-318.658 368.592,-307.439\"/>\r\n",
       "<polygon fill=\"black\" stroke=\"black\" points=\"371.481,-305.451 363.343,-298.667 365.474,-309.045 371.481,-305.451\"/>\r\n",
       "</g>\r\n",
       "<!-- 13 -->\r\n",
       "<g id=\"node14\" class=\"node\"><title>13</title>\r\n",
       "<path fill=\"#eca572\" stroke=\"black\" d=\"M522.5,-306C522.5,-306 430.5,-306 430.5,-306 424.5,-306 418.5,-300 418.5,-294 418.5,-294 418.5,-235 418.5,-235 418.5,-229 424.5,-223 430.5,-223 430.5,-223 522.5,-223 522.5,-223 528.5,-223 534.5,-229 534.5,-235 534.5,-235 534.5,-294 534.5,-294 534.5,-300 528.5,-306 522.5,-306\"/>\r\n",
       "<text text-anchor=\"middle\" x=\"476.5\" y=\"-290.8\" font-family=\"Helvetica,sans-Serif\" font-size=\"14.00\">苹果酸 &lt;= 1.672</text>\r\n",
       "<text text-anchor=\"middle\" x=\"476.5\" y=\"-275.8\" font-family=\"Helvetica,sans-Serif\" font-size=\"14.00\">entropy = 0.764</text>\r\n",
       "<text text-anchor=\"middle\" x=\"476.5\" y=\"-260.8\" font-family=\"Helvetica,sans-Serif\" font-size=\"14.00\">samples = 9</text>\r\n",
       "<text text-anchor=\"middle\" x=\"476.5\" y=\"-245.8\" font-family=\"Helvetica,sans-Serif\" font-size=\"14.00\">value = [7, 2, 0]</text>\r\n",
       "<text text-anchor=\"middle\" x=\"476.5\" y=\"-230.8\" font-family=\"Helvetica,sans-Serif\" font-size=\"14.00\">class = 清酒</text>\r\n",
       "</g>\r\n",
       "<!-- 11&#45;&gt;13 -->\r\n",
       "<g id=\"edge13\" class=\"edge\"><title>11&#45;&gt;13</title>\r\n",
       "<path fill=\"none\" stroke=\"black\" d=\"M435.358,-341.907C440.049,-333.195 445.056,-323.897 449.904,-314.893\"/>\r\n",
       "<polygon fill=\"black\" stroke=\"black\" points=\"453.022,-316.485 454.681,-306.021 446.858,-313.166 453.022,-316.485\"/>\r\n",
       "</g>\r\n",
       "<!-- 14 -->\r\n",
       "<g id=\"node15\" class=\"node\"><title>14</title>\r\n",
       "<path fill=\"#ffffff\" stroke=\"black\" d=\"M455,-187C455,-187 366,-187 366,-187 360,-187 354,-181 354,-175 354,-175 354,-116 354,-116 354,-110 360,-104 366,-104 366,-104 455,-104 455,-104 461,-104 467,-110 467,-116 467,-116 467,-175 467,-175 467,-181 461,-187 455,-187\"/>\r\n",
       "<text text-anchor=\"middle\" x=\"410.5\" y=\"-171.8\" font-family=\"Helvetica,sans-Serif\" font-size=\"14.00\">酒精 &lt;= 12.512</text>\r\n",
       "<text text-anchor=\"middle\" x=\"410.5\" y=\"-156.8\" font-family=\"Helvetica,sans-Serif\" font-size=\"14.00\">entropy = 1.0</text>\r\n",
       "<text text-anchor=\"middle\" x=\"410.5\" y=\"-141.8\" font-family=\"Helvetica,sans-Serif\" font-size=\"14.00\">samples = 4</text>\r\n",
       "<text text-anchor=\"middle\" x=\"410.5\" y=\"-126.8\" font-family=\"Helvetica,sans-Serif\" font-size=\"14.00\">value = [2, 2, 0]</text>\r\n",
       "<text text-anchor=\"middle\" x=\"410.5\" y=\"-111.8\" font-family=\"Helvetica,sans-Serif\" font-size=\"14.00\">class = 清酒</text>\r\n",
       "</g>\r\n",
       "<!-- 13&#45;&gt;14 -->\r\n",
       "<g id=\"edge14\" class=\"edge\"><title>13&#45;&gt;14</title>\r\n",
       "<path fill=\"none\" stroke=\"black\" d=\"M453.602,-222.907C448.687,-214.195 443.442,-204.897 438.363,-195.893\"/>\r\n",
       "<polygon fill=\"black\" stroke=\"black\" points=\"441.32,-194.011 433.358,-187.021 435.223,-197.45 441.32,-194.011\"/>\r\n",
       "</g>\r\n",
       "<!-- 17 -->\r\n",
       "<g id=\"node18\" class=\"node\"><title>17</title>\r\n",
       "<path fill=\"#e58139\" stroke=\"black\" d=\"M586,-179.5C586,-179.5 497,-179.5 497,-179.5 491,-179.5 485,-173.5 485,-167.5 485,-167.5 485,-123.5 485,-123.5 485,-117.5 491,-111.5 497,-111.5 497,-111.5 586,-111.5 586,-111.5 592,-111.5 598,-117.5 598,-123.5 598,-123.5 598,-167.5 598,-167.5 598,-173.5 592,-179.5 586,-179.5\"/>\r\n",
       "<text text-anchor=\"middle\" x=\"541.5\" y=\"-164.3\" font-family=\"Helvetica,sans-Serif\" font-size=\"14.00\">entropy = 0.0</text>\r\n",
       "<text text-anchor=\"middle\" x=\"541.5\" y=\"-149.3\" font-family=\"Helvetica,sans-Serif\" font-size=\"14.00\">samples = 5</text>\r\n",
       "<text text-anchor=\"middle\" x=\"541.5\" y=\"-134.3\" font-family=\"Helvetica,sans-Serif\" font-size=\"14.00\">value = [5, 0, 0]</text>\r\n",
       "<text text-anchor=\"middle\" x=\"541.5\" y=\"-119.3\" font-family=\"Helvetica,sans-Serif\" font-size=\"14.00\">class = 清酒</text>\r\n",
       "</g>\r\n",
       "<!-- 13&#45;&gt;17 -->\r\n",
       "<g id=\"edge17\" class=\"edge\"><title>13&#45;&gt;17</title>\r\n",
       "<path fill=\"none\" stroke=\"black\" d=\"M499.051,-222.907C505.243,-211.763 511.968,-199.658 518.2,-188.439\"/>\r\n",
       "<polygon fill=\"black\" stroke=\"black\" points=\"521.277,-190.108 523.074,-179.667 515.158,-186.709 521.277,-190.108\"/>\r\n",
       "</g>\r\n",
       "<!-- 15 -->\r\n",
       "<g id=\"node16\" class=\"node\"><title>15</title>\r\n",
       "<path fill=\"#39e581\" stroke=\"black\" d=\"M390,-68C390,-68 301,-68 301,-68 295,-68 289,-62 289,-56 289,-56 289,-12 289,-12 289,-6 295,-0 301,-0 301,-0 390,-0 390,-0 396,-0 402,-6 402,-12 402,-12 402,-56 402,-56 402,-62 396,-68 390,-68\"/>\r\n",
       "<text text-anchor=\"middle\" x=\"345.5\" y=\"-52.8\" font-family=\"Helvetica,sans-Serif\" font-size=\"14.00\">entropy = 0.0</text>\r\n",
       "<text text-anchor=\"middle\" x=\"345.5\" y=\"-37.8\" font-family=\"Helvetica,sans-Serif\" font-size=\"14.00\">samples = 2</text>\r\n",
       "<text text-anchor=\"middle\" x=\"345.5\" y=\"-22.8\" font-family=\"Helvetica,sans-Serif\" font-size=\"14.00\">value = [0, 2, 0]</text>\r\n",
       "<text text-anchor=\"middle\" x=\"345.5\" y=\"-7.8\" font-family=\"Helvetica,sans-Serif\" font-size=\"14.00\">class = 茅台</text>\r\n",
       "</g>\r\n",
       "<!-- 14&#45;&gt;15 -->\r\n",
       "<g id=\"edge15\" class=\"edge\"><title>14&#45;&gt;15</title>\r\n",
       "<path fill=\"none\" stroke=\"black\" d=\"M386.296,-103.726C381.099,-94.9703 375.598,-85.7032 370.375,-76.9051\"/>\r\n",
       "<polygon fill=\"black\" stroke=\"black\" points=\"373.381,-75.1121 365.267,-68.2996 367.362,-78.6853 373.381,-75.1121\"/>\r\n",
       "</g>\r\n",
       "<!-- 16 -->\r\n",
       "<g id=\"node17\" class=\"node\"><title>16</title>\r\n",
       "<path fill=\"#e58139\" stroke=\"black\" d=\"M521,-68C521,-68 432,-68 432,-68 426,-68 420,-62 420,-56 420,-56 420,-12 420,-12 420,-6 426,-0 432,-0 432,-0 521,-0 521,-0 527,-0 533,-6 533,-12 533,-12 533,-56 533,-56 533,-62 527,-68 521,-68\"/>\r\n",
       "<text text-anchor=\"middle\" x=\"476.5\" y=\"-52.8\" font-family=\"Helvetica,sans-Serif\" font-size=\"14.00\">entropy = 0.0</text>\r\n",
       "<text text-anchor=\"middle\" x=\"476.5\" y=\"-37.8\" font-family=\"Helvetica,sans-Serif\" font-size=\"14.00\">samples = 2</text>\r\n",
       "<text text-anchor=\"middle\" x=\"476.5\" y=\"-22.8\" font-family=\"Helvetica,sans-Serif\" font-size=\"14.00\">value = [2, 0, 0]</text>\r\n",
       "<text text-anchor=\"middle\" x=\"476.5\" y=\"-7.8\" font-family=\"Helvetica,sans-Serif\" font-size=\"14.00\">class = 清酒</text>\r\n",
       "</g>\r\n",
       "<!-- 14&#45;&gt;16 -->\r\n",
       "<g id=\"edge16\" class=\"edge\"><title>14&#45;&gt;16</title>\r\n",
       "<path fill=\"none\" stroke=\"black\" d=\"M435.076,-103.726C440.354,-94.9703 445.939,-85.7032 451.242,-76.9051\"/>\r\n",
       "<polygon fill=\"black\" stroke=\"black\" points=\"454.264,-78.671 456.429,-68.2996 448.269,-75.0574 454.264,-78.671\"/>\r\n",
       "</g>\r\n",
       "</g>\r\n",
       "</svg>\r\n"
      ],
      "text/plain": [
       "<graphviz.files.Source at 0x20bc265cc88>"
      ]
     },
     "execution_count": 55,
     "metadata": {},
     "output_type": "execute_result"
    }
   ],
   "source": [
    "dot_data = tree.export_graphviz(clf, \n",
    "                                feature_names=feature_names,\n",
    "                                class_names=['清酒', '茅台','五粮液'],\n",
    "                                filled=True,\n",
    "                                rounded=True\n",
    "                                )\n",
    "graphviz.Source(dot_data)"
   ]
  },
  {
   "cell_type": "code",
   "execution_count": 56,
   "metadata": {
    "ExecuteTime": {
     "end_time": "2019-11-29T11:48:06.909639Z",
     "start_time": "2019-11-29T11:48:06.888254Z"
    }
   },
   "outputs": [
    {
     "data": {
      "text/plain": [
       "[('酒精', 0.03804317442638823),\n",
       " ('苹果酸', 0.014667386349118584),\n",
       " ('灰', 0.0),\n",
       " ('灰的碱性', 0.0),\n",
       " ('镁', 0.0),\n",
       " ('总酚', 0.0),\n",
       " ('类黄酮', 0.42986243106354993),\n",
       " ('非黄烷类酚类', 0.0),\n",
       " ('花青素', 0.0),\n",
       " ('颜色强度', 0.24311062406653566),\n",
       " ('色调', 0.01653924801714775),\n",
       " ('od280/od315稀释葡萄酒', 0.0),\n",
       " ('脯氨酸', 0.25777713607725977)]"
      ]
     },
     "execution_count": 56,
     "metadata": {},
     "output_type": "execute_result"
    }
   ],
   "source": [
    "[*zip(feature_names, clf.feature_importances_)]"
   ]
  },
  {
   "cell_type": "markdown",
   "metadata": {},
   "source": [
    "#### 剪枝参数"
   ]
  },
  {
   "cell_type": "code",
   "execution_count": 61,
   "metadata": {
    "ExecuteTime": {
     "end_time": "2019-11-29T11:59:11.721707Z",
     "start_time": "2019-11-29T11:59:11.701413Z"
    }
   },
   "outputs": [],
   "source": [
    "def draw_graph(**kwargs):\n",
    "    clf=tree.DecisionTreeClassifier(**kwargs)\n",
    "    clf = clf.fit(x_train, y_train)\n",
    "    dot_data = tree.export_graphviz(clf, \n",
    "                                    feature_names=feature_names,\n",
    "                                    class_names=['茅台', '五粮液', '泸州老窖'],\n",
    "                                    filled=True,\n",
    "                                    rounded=True)\n",
    "    graph = graphviz.Source(dot_data)\n",
    "    return graph, clf.score(x_test, y_test)"
   ]
  },
  {
   "cell_type": "code",
   "execution_count": 66,
   "metadata": {
    "ExecuteTime": {
     "end_time": "2019-11-29T12:01:04.948328Z",
     "start_time": "2019-11-29T12:01:04.581168Z"
    }
   },
   "outputs": [
    {
     "data": {
      "image/svg+xml": [
       "<?xml version=\"1.0\" encoding=\"UTF-8\" standalone=\"no\"?>\r\n",
       "<!DOCTYPE svg PUBLIC \"-//W3C//DTD SVG 1.1//EN\"\r\n",
       " \"http://www.w3.org/Graphics/SVG/1.1/DTD/svg11.dtd\">\r\n",
       "<!-- Generated by graphviz version 2.38.0 (20140413.2041)\r\n",
       " -->\r\n",
       "<!-- Title: Tree Pages: 1 -->\r\n",
       "<svg width=\"831pt\" height=\"433pt\"\r\n",
       " viewBox=\"0.00 0.00 831.00 433.00\" xmlns=\"http://www.w3.org/2000/svg\" xmlns:xlink=\"http://www.w3.org/1999/xlink\">\r\n",
       "<g id=\"graph0\" class=\"graph\" transform=\"scale(1 1) rotate(0) translate(4 429)\">\r\n",
       "<title>Tree</title>\r\n",
       "<polygon fill=\"white\" stroke=\"none\" points=\"-4,4 -4,-429 827,-429 827,4 -4,4\"/>\r\n",
       "<!-- 0 -->\r\n",
       "<g id=\"node1\" class=\"node\"><title>0</title>\r\n",
       "<path fill=\"#fafefc\" stroke=\"black\" d=\"M480,-425C480,-425 367,-425 367,-425 361,-425 355,-419 355,-413 355,-413 355,-354 355,-354 355,-348 361,-342 367,-342 367,-342 480,-342 480,-342 486,-342 492,-348 492,-354 492,-354 492,-413 492,-413 492,-419 486,-425 480,-425\"/>\r\n",
       "<text text-anchor=\"middle\" x=\"423.5\" y=\"-409.8\" font-family=\"Helvetica,sans-Serif\" font-size=\"14.00\">类黄酮 &lt;= 1.714</text>\r\n",
       "<text text-anchor=\"middle\" x=\"423.5\" y=\"-394.8\" font-family=\"Helvetica,sans-Serif\" font-size=\"14.00\">entropy = 1.582</text>\r\n",
       "<text text-anchor=\"middle\" x=\"423.5\" y=\"-379.8\" font-family=\"Helvetica,sans-Serif\" font-size=\"14.00\">samples = 124</text>\r\n",
       "<text text-anchor=\"middle\" x=\"423.5\" y=\"-364.8\" font-family=\"Helvetica,sans-Serif\" font-size=\"14.00\">value = [42, 44, 38]</text>\r\n",
       "<text text-anchor=\"middle\" x=\"423.5\" y=\"-349.8\" font-family=\"Helvetica,sans-Serif\" font-size=\"14.00\">class = 五粮液</text>\r\n",
       "</g>\r\n",
       "<!-- 1 -->\r\n",
       "<g id=\"node2\" class=\"node\"><title>1</title>\r\n",
       "<path fill=\"#b387ef\" stroke=\"black\" d=\"M426,-306C426,-306 223,-306 223,-306 217,-306 211,-300 211,-294 211,-294 211,-235 211,-235 211,-229 217,-223 223,-223 223,-223 426,-223 426,-223 432,-223 438,-229 438,-235 438,-235 438,-294 438,-294 438,-300 432,-306 426,-306\"/>\r\n",
       "<text text-anchor=\"middle\" x=\"324.5\" y=\"-290.8\" font-family=\"Helvetica,sans-Serif\" font-size=\"14.00\">od280/od315稀释葡萄酒 &lt;= 2.112</text>\r\n",
       "<text text-anchor=\"middle\" x=\"324.5\" y=\"-275.8\" font-family=\"Helvetica,sans-Serif\" font-size=\"14.00\">entropy = 0.86</text>\r\n",
       "<text text-anchor=\"middle\" x=\"324.5\" y=\"-260.8\" font-family=\"Helvetica,sans-Serif\" font-size=\"14.00\">samples = 53</text>\r\n",
       "<text text-anchor=\"middle\" x=\"324.5\" y=\"-245.8\" font-family=\"Helvetica,sans-Serif\" font-size=\"14.00\">value = [0, 15, 38]</text>\r\n",
       "<text text-anchor=\"middle\" x=\"324.5\" y=\"-230.8\" font-family=\"Helvetica,sans-Serif\" font-size=\"14.00\">class = 泸州老窖</text>\r\n",
       "</g>\r\n",
       "<!-- 0&#45;&gt;1 -->\r\n",
       "<g id=\"edge1\" class=\"edge\"><title>0&#45;&gt;1</title>\r\n",
       "<path fill=\"none\" stroke=\"black\" d=\"M389.152,-341.907C381.474,-332.832 373.256,-323.121 365.343,-313.769\"/>\r\n",
       "<polygon fill=\"black\" stroke=\"black\" points=\"367.918,-311.394 358.787,-306.021 362.574,-315.916 367.918,-311.394\"/>\r\n",
       "<text text-anchor=\"middle\" x=\"356.711\" y=\"-327.234\" font-family=\"Helvetica,sans-Serif\" font-size=\"14.00\">True</text>\r\n",
       "</g>\r\n",
       "<!-- 8 -->\r\n",
       "<g id=\"node9\" class=\"node\"><title>8</title>\r\n",
       "<path fill=\"#f7d8c2\" stroke=\"black\" d=\"M576.5,-306C576.5,-306 468.5,-306 468.5,-306 462.5,-306 456.5,-300 456.5,-294 456.5,-294 456.5,-235 456.5,-235 456.5,-229 462.5,-223 468.5,-223 468.5,-223 576.5,-223 576.5,-223 582.5,-223 588.5,-229 588.5,-235 588.5,-235 588.5,-294 588.5,-294 588.5,-300 582.5,-306 576.5,-306\"/>\r\n",
       "<text text-anchor=\"middle\" x=\"522.5\" y=\"-290.8\" font-family=\"Helvetica,sans-Serif\" font-size=\"14.00\">脯氨酸 &lt;= 558.218</text>\r\n",
       "<text text-anchor=\"middle\" x=\"522.5\" y=\"-275.8\" font-family=\"Helvetica,sans-Serif\" font-size=\"14.00\">entropy = 0.976</text>\r\n",
       "<text text-anchor=\"middle\" x=\"522.5\" y=\"-260.8\" font-family=\"Helvetica,sans-Serif\" font-size=\"14.00\">samples = 71</text>\r\n",
       "<text text-anchor=\"middle\" x=\"522.5\" y=\"-245.8\" font-family=\"Helvetica,sans-Serif\" font-size=\"14.00\">value = [42, 29, 0]</text>\r\n",
       "<text text-anchor=\"middle\" x=\"522.5\" y=\"-230.8\" font-family=\"Helvetica,sans-Serif\" font-size=\"14.00\">class = 茅台</text>\r\n",
       "</g>\r\n",
       "<!-- 0&#45;&gt;8 -->\r\n",
       "<g id=\"edge8\" class=\"edge\"><title>0&#45;&gt;8</title>\r\n",
       "<path fill=\"none\" stroke=\"black\" d=\"M457.848,-341.907C465.526,-332.832 473.744,-323.121 481.657,-313.769\"/>\r\n",
       "<polygon fill=\"black\" stroke=\"black\" points=\"484.426,-315.916 488.213,-306.021 479.082,-311.394 484.426,-315.916\"/>\r\n",
       "<text text-anchor=\"middle\" x=\"490.289\" y=\"-327.234\" font-family=\"Helvetica,sans-Serif\" font-size=\"14.00\">False</text>\r\n",
       "</g>\r\n",
       "<!-- 2 -->\r\n",
       "<g id=\"node3\" class=\"node\"><title>2</title>\r\n",
       "<path fill=\"#8c49e7\" stroke=\"black\" d=\"M244,-187C244,-187 147,-187 147,-187 141,-187 135,-181 135,-175 135,-175 135,-116 135,-116 135,-110 141,-104 147,-104 147,-104 244,-104 244,-104 250,-104 256,-110 256,-116 256,-116 256,-175 256,-175 256,-181 250,-187 244,-187\"/>\r\n",
       "<text text-anchor=\"middle\" x=\"195.5\" y=\"-171.8\" font-family=\"Helvetica,sans-Serif\" font-size=\"14.00\">色调 &lt;= 0.81</text>\r\n",
       "<text text-anchor=\"middle\" x=\"195.5\" y=\"-156.8\" font-family=\"Helvetica,sans-Serif\" font-size=\"14.00\">entropy = 0.391</text>\r\n",
       "<text text-anchor=\"middle\" x=\"195.5\" y=\"-141.8\" font-family=\"Helvetica,sans-Serif\" font-size=\"14.00\">samples = 39</text>\r\n",
       "<text text-anchor=\"middle\" x=\"195.5\" y=\"-126.8\" font-family=\"Helvetica,sans-Serif\" font-size=\"14.00\">value = [0, 3, 36]</text>\r\n",
       "<text text-anchor=\"middle\" x=\"195.5\" y=\"-111.8\" font-family=\"Helvetica,sans-Serif\" font-size=\"14.00\">class = 泸州老窖</text>\r\n",
       "</g>\r\n",
       "<!-- 1&#45;&gt;2 -->\r\n",
       "<g id=\"edge2\" class=\"edge\"><title>1&#45;&gt;2</title>\r\n",
       "<path fill=\"none\" stroke=\"black\" d=\"M279.744,-222.907C269.438,-213.56 258.388,-203.538 247.793,-193.929\"/>\r\n",
       "<polygon fill=\"black\" stroke=\"black\" points=\"249.935,-191.146 240.177,-187.021 245.233,-196.332 249.935,-191.146\"/>\r\n",
       "</g>\r\n",
       "<!-- 5 -->\r\n",
       "<g id=\"node6\" class=\"node\"><title>5</title>\r\n",
       "<path fill=\"#5ae996\" stroke=\"black\" d=\"M390.5,-187C390.5,-187 286.5,-187 286.5,-187 280.5,-187 274.5,-181 274.5,-175 274.5,-175 274.5,-116 274.5,-116 274.5,-110 280.5,-104 286.5,-104 286.5,-104 390.5,-104 390.5,-104 396.5,-104 402.5,-110 402.5,-116 402.5,-116 402.5,-175 402.5,-175 402.5,-181 396.5,-187 390.5,-187\"/>\r\n",
       "<text text-anchor=\"middle\" x=\"338.5\" y=\"-171.8\" font-family=\"Helvetica,sans-Serif\" font-size=\"14.00\">颜色强度 &lt;= 4.854</text>\r\n",
       "<text text-anchor=\"middle\" x=\"338.5\" y=\"-156.8\" font-family=\"Helvetica,sans-Serif\" font-size=\"14.00\">entropy = 0.592</text>\r\n",
       "<text text-anchor=\"middle\" x=\"338.5\" y=\"-141.8\" font-family=\"Helvetica,sans-Serif\" font-size=\"14.00\">samples = 14</text>\r\n",
       "<text text-anchor=\"middle\" x=\"338.5\" y=\"-126.8\" font-family=\"Helvetica,sans-Serif\" font-size=\"14.00\">value = [0, 12, 2]</text>\r\n",
       "<text text-anchor=\"middle\" x=\"338.5\" y=\"-111.8\" font-family=\"Helvetica,sans-Serif\" font-size=\"14.00\">class = 五粮液</text>\r\n",
       "</g>\r\n",
       "<!-- 1&#45;&gt;5 -->\r\n",
       "<g id=\"edge5\" class=\"edge\"><title>1&#45;&gt;5</title>\r\n",
       "<path fill=\"none\" stroke=\"black\" d=\"M329.357,-222.907C330.356,-214.558 331.42,-205.671 332.455,-197.02\"/>\r\n",
       "<polygon fill=\"black\" stroke=\"black\" points=\"335.938,-197.366 333.651,-187.021 328.988,-196.534 335.938,-197.366\"/>\r\n",
       "</g>\r\n",
       "<!-- 3 -->\r\n",
       "<g id=\"node4\" class=\"node\"><title>3</title>\r\n",
       "<path fill=\"#8139e5\" stroke=\"black\" d=\"M109,-68C109,-68 12,-68 12,-68 6,-68 0,-62 0,-56 0,-56 0,-12 0,-12 0,-6 6,-0 12,-0 12,-0 109,-0 109,-0 115,-0 121,-6 121,-12 121,-12 121,-56 121,-56 121,-62 115,-68 109,-68\"/>\r\n",
       "<text text-anchor=\"middle\" x=\"60.5\" y=\"-52.8\" font-family=\"Helvetica,sans-Serif\" font-size=\"14.00\">entropy = 0.0</text>\r\n",
       "<text text-anchor=\"middle\" x=\"60.5\" y=\"-37.8\" font-family=\"Helvetica,sans-Serif\" font-size=\"14.00\">samples = 31</text>\r\n",
       "<text text-anchor=\"middle\" x=\"60.5\" y=\"-22.8\" font-family=\"Helvetica,sans-Serif\" font-size=\"14.00\">value = [0, 0, 31]</text>\r\n",
       "<text text-anchor=\"middle\" x=\"60.5\" y=\"-7.8\" font-family=\"Helvetica,sans-Serif\" font-size=\"14.00\">class = 泸州老窖</text>\r\n",
       "</g>\r\n",
       "<!-- 2&#45;&gt;3 -->\r\n",
       "<g id=\"edge3\" class=\"edge\"><title>2&#45;&gt;3</title>\r\n",
       "<path fill=\"none\" stroke=\"black\" d=\"M145.231,-103.726C133.536,-94.2406 121.102,-84.1551 109.465,-74.7159\"/>\r\n",
       "<polygon fill=\"black\" stroke=\"black\" points=\"111.526,-71.8808 101.554,-68.2996 107.116,-77.3173 111.526,-71.8808\"/>\r\n",
       "</g>\r\n",
       "<!-- 4 -->\r\n",
       "<g id=\"node5\" class=\"node\"><title>4</title>\r\n",
       "<path fill=\"#cdb0f5\" stroke=\"black\" d=\"M243.5,-68C243.5,-68 151.5,-68 151.5,-68 145.5,-68 139.5,-62 139.5,-56 139.5,-56 139.5,-12 139.5,-12 139.5,-6 145.5,-0 151.5,-0 151.5,-0 243.5,-0 243.5,-0 249.5,-0 255.5,-6 255.5,-12 255.5,-12 255.5,-56 255.5,-56 255.5,-62 249.5,-68 243.5,-68\"/>\r\n",
       "<text text-anchor=\"middle\" x=\"197.5\" y=\"-52.8\" font-family=\"Helvetica,sans-Serif\" font-size=\"14.00\">entropy = 0.954</text>\r\n",
       "<text text-anchor=\"middle\" x=\"197.5\" y=\"-37.8\" font-family=\"Helvetica,sans-Serif\" font-size=\"14.00\">samples = 8</text>\r\n",
       "<text text-anchor=\"middle\" x=\"197.5\" y=\"-22.8\" font-family=\"Helvetica,sans-Serif\" font-size=\"14.00\">value = [0, 3, 5]</text>\r\n",
       "<text text-anchor=\"middle\" x=\"197.5\" y=\"-7.8\" font-family=\"Helvetica,sans-Serif\" font-size=\"14.00\">class = 泸州老窖</text>\r\n",
       "</g>\r\n",
       "<!-- 2&#45;&gt;4 -->\r\n",
       "<g id=\"edge4\" class=\"edge\"><title>2&#45;&gt;4</title>\r\n",
       "<path fill=\"none\" stroke=\"black\" d=\"M196.245,-103.726C196.395,-95.5175 196.553,-86.8595 196.704,-78.56\"/>\r\n",
       "<polygon fill=\"black\" stroke=\"black\" points=\"200.208,-78.3619 196.892,-68.2996 193.21,-78.234 200.208,-78.3619\"/>\r\n",
       "</g>\r\n",
       "<!-- 6 -->\r\n",
       "<g id=\"node7\" class=\"node\"><title>6</title>\r\n",
       "<path fill=\"#39e581\" stroke=\"black\" d=\"M386,-68C386,-68 289,-68 289,-68 283,-68 277,-62 277,-56 277,-56 277,-12 277,-12 277,-6 283,-0 289,-0 289,-0 386,-0 386,-0 392,-0 398,-6 398,-12 398,-12 398,-56 398,-56 398,-62 392,-68 386,-68\"/>\r\n",
       "<text text-anchor=\"middle\" x=\"337.5\" y=\"-52.8\" font-family=\"Helvetica,sans-Serif\" font-size=\"14.00\">entropy = 0.0</text>\r\n",
       "<text text-anchor=\"middle\" x=\"337.5\" y=\"-37.8\" font-family=\"Helvetica,sans-Serif\" font-size=\"14.00\">samples = 12</text>\r\n",
       "<text text-anchor=\"middle\" x=\"337.5\" y=\"-22.8\" font-family=\"Helvetica,sans-Serif\" font-size=\"14.00\">value = [0, 12, 0]</text>\r\n",
       "<text text-anchor=\"middle\" x=\"337.5\" y=\"-7.8\" font-family=\"Helvetica,sans-Serif\" font-size=\"14.00\">class = 五粮液</text>\r\n",
       "</g>\r\n",
       "<!-- 5&#45;&gt;6 -->\r\n",
       "<g id=\"edge6\" class=\"edge\"><title>5&#45;&gt;6</title>\r\n",
       "<path fill=\"none\" stroke=\"black\" d=\"M338.128,-103.726C338.053,-95.5175 337.974,-86.8595 337.898,-78.56\"/>\r\n",
       "<polygon fill=\"black\" stroke=\"black\" points=\"341.395,-78.2672 337.804,-68.2996 334.396,-78.3312 341.395,-78.2672\"/>\r\n",
       "</g>\r\n",
       "<!-- 7 -->\r\n",
       "<g id=\"node8\" class=\"node\"><title>7</title>\r\n",
       "<path fill=\"#8139e5\" stroke=\"black\" d=\"M520.5,-68C520.5,-68 428.5,-68 428.5,-68 422.5,-68 416.5,-62 416.5,-56 416.5,-56 416.5,-12 416.5,-12 416.5,-6 422.5,-0 428.5,-0 428.5,-0 520.5,-0 520.5,-0 526.5,-0 532.5,-6 532.5,-12 532.5,-12 532.5,-56 532.5,-56 532.5,-62 526.5,-68 520.5,-68\"/>\r\n",
       "<text text-anchor=\"middle\" x=\"474.5\" y=\"-52.8\" font-family=\"Helvetica,sans-Serif\" font-size=\"14.00\">entropy = 0.0</text>\r\n",
       "<text text-anchor=\"middle\" x=\"474.5\" y=\"-37.8\" font-family=\"Helvetica,sans-Serif\" font-size=\"14.00\">samples = 2</text>\r\n",
       "<text text-anchor=\"middle\" x=\"474.5\" y=\"-22.8\" font-family=\"Helvetica,sans-Serif\" font-size=\"14.00\">value = [0, 0, 2]</text>\r\n",
       "<text text-anchor=\"middle\" x=\"474.5\" y=\"-7.8\" font-family=\"Helvetica,sans-Serif\" font-size=\"14.00\">class = 泸州老窖</text>\r\n",
       "</g>\r\n",
       "<!-- 5&#45;&gt;7 -->\r\n",
       "<g id=\"edge7\" class=\"edge\"><title>5&#45;&gt;7</title>\r\n",
       "<path fill=\"none\" stroke=\"black\" d=\"M389.141,-103.726C400.923,-94.2406 413.449,-84.1551 425.173,-74.7159\"/>\r\n",
       "<polygon fill=\"black\" stroke=\"black\" points=\"427.547,-77.2972 433.142,-68.2996 423.157,-71.8448 427.547,-77.2972\"/>\r\n",
       "</g>\r\n",
       "<!-- 9 -->\r\n",
       "<g id=\"node10\" class=\"node\"><title>9</title>\r\n",
       "<path fill=\"#39e581\" stroke=\"black\" d=\"M557,-179.5C557,-179.5 460,-179.5 460,-179.5 454,-179.5 448,-173.5 448,-167.5 448,-167.5 448,-123.5 448,-123.5 448,-117.5 454,-111.5 460,-111.5 460,-111.5 557,-111.5 557,-111.5 563,-111.5 569,-117.5 569,-123.5 569,-123.5 569,-167.5 569,-167.5 569,-173.5 563,-179.5 557,-179.5\"/>\r\n",
       "<text text-anchor=\"middle\" x=\"508.5\" y=\"-164.3\" font-family=\"Helvetica,sans-Serif\" font-size=\"14.00\">entropy = 0.0</text>\r\n",
       "<text text-anchor=\"middle\" x=\"508.5\" y=\"-149.3\" font-family=\"Helvetica,sans-Serif\" font-size=\"14.00\">samples = 20</text>\r\n",
       "<text text-anchor=\"middle\" x=\"508.5\" y=\"-134.3\" font-family=\"Helvetica,sans-Serif\" font-size=\"14.00\">value = [0, 20, 0]</text>\r\n",
       "<text text-anchor=\"middle\" x=\"508.5\" y=\"-119.3\" font-family=\"Helvetica,sans-Serif\" font-size=\"14.00\">class = 五粮液</text>\r\n",
       "</g>\r\n",
       "<!-- 8&#45;&gt;9 -->\r\n",
       "<g id=\"edge9\" class=\"edge\"><title>8&#45;&gt;9</title>\r\n",
       "<path fill=\"none\" stroke=\"black\" d=\"M517.643,-222.907C516.362,-212.204 514.975,-200.615 513.678,-189.776\"/>\r\n",
       "<polygon fill=\"black\" stroke=\"black\" points=\"517.132,-189.18 512.469,-179.667 510.182,-190.012 517.132,-189.18\"/>\r\n",
       "</g>\r\n",
       "<!-- 10 -->\r\n",
       "<g id=\"node11\" class=\"node\"><title>10</title>\r\n",
       "<path fill=\"#eb9c63\" stroke=\"black\" d=\"M696,-187C696,-187 599,-187 599,-187 593,-187 587,-181 587,-175 587,-175 587,-116 587,-116 587,-110 593,-104 599,-104 599,-104 696,-104 696,-104 702,-104 708,-110 708,-116 708,-116 708,-175 708,-175 708,-181 702,-187 696,-187\"/>\r\n",
       "<text text-anchor=\"middle\" x=\"647.5\" y=\"-171.8\" font-family=\"Helvetica,sans-Serif\" font-size=\"14.00\">酒精 &lt;= 12.695</text>\r\n",
       "<text text-anchor=\"middle\" x=\"647.5\" y=\"-156.8\" font-family=\"Helvetica,sans-Serif\" font-size=\"14.00\">entropy = 0.672</text>\r\n",
       "<text text-anchor=\"middle\" x=\"647.5\" y=\"-141.8\" font-family=\"Helvetica,sans-Serif\" font-size=\"14.00\">samples = 51</text>\r\n",
       "<text text-anchor=\"middle\" x=\"647.5\" y=\"-126.8\" font-family=\"Helvetica,sans-Serif\" font-size=\"14.00\">value = [42, 9, 0]</text>\r\n",
       "<text text-anchor=\"middle\" x=\"647.5\" y=\"-111.8\" font-family=\"Helvetica,sans-Serif\" font-size=\"14.00\">class = 茅台</text>\r\n",
       "</g>\r\n",
       "<!-- 8&#45;&gt;10 -->\r\n",
       "<g id=\"edge10\" class=\"edge\"><title>8&#45;&gt;10</title>\r\n",
       "<path fill=\"none\" stroke=\"black\" d=\"M565.868,-222.907C575.855,-213.56 586.562,-203.538 596.828,-193.929\"/>\r\n",
       "<polygon fill=\"black\" stroke=\"black\" points=\"599.299,-196.41 604.209,-187.021 594.516,-191.299 599.299,-196.41\"/>\r\n",
       "</g>\r\n",
       "<!-- 11 -->\r\n",
       "<g id=\"node12\" class=\"node\"><title>11</title>\r\n",
       "<path fill=\"#39e581\" stroke=\"black\" d=\"M672,-68C672,-68 583,-68 583,-68 577,-68 571,-62 571,-56 571,-56 571,-12 571,-12 571,-6 577,-0 583,-0 583,-0 672,-0 672,-0 678,-0 684,-6 684,-12 684,-12 684,-56 684,-56 684,-62 678,-68 672,-68\"/>\r\n",
       "<text text-anchor=\"middle\" x=\"627.5\" y=\"-52.8\" font-family=\"Helvetica,sans-Serif\" font-size=\"14.00\">entropy = 0.0</text>\r\n",
       "<text text-anchor=\"middle\" x=\"627.5\" y=\"-37.8\" font-family=\"Helvetica,sans-Serif\" font-size=\"14.00\">samples = 8</text>\r\n",
       "<text text-anchor=\"middle\" x=\"627.5\" y=\"-22.8\" font-family=\"Helvetica,sans-Serif\" font-size=\"14.00\">value = [0, 8, 0]</text>\r\n",
       "<text text-anchor=\"middle\" x=\"627.5\" y=\"-7.8\" font-family=\"Helvetica,sans-Serif\" font-size=\"14.00\">class = 五粮液</text>\r\n",
       "</g>\r\n",
       "<!-- 10&#45;&gt;11 -->\r\n",
       "<g id=\"edge11\" class=\"edge\"><title>10&#45;&gt;11</title>\r\n",
       "<path fill=\"none\" stroke=\"black\" d=\"M640.053,-103.726C638.537,-95.4263 636.937,-86.6671 635.406,-78.2834\"/>\r\n",
       "<polygon fill=\"black\" stroke=\"black\" points=\"638.822,-77.508 633.582,-68.2996 631.936,-78.7658 638.822,-77.508\"/>\r\n",
       "</g>\r\n",
       "<!-- 12 -->\r\n",
       "<g id=\"node13\" class=\"node\"><title>12</title>\r\n",
       "<path fill=\"#e6843e\" stroke=\"black\" d=\"M811,-68C811,-68 714,-68 714,-68 708,-68 702,-62 702,-56 702,-56 702,-12 702,-12 702,-6 708,-0 714,-0 714,-0 811,-0 811,-0 817,-0 823,-6 823,-12 823,-12 823,-56 823,-56 823,-62 817,-68 811,-68\"/>\r\n",
       "<text text-anchor=\"middle\" x=\"762.5\" y=\"-52.8\" font-family=\"Helvetica,sans-Serif\" font-size=\"14.00\">entropy = 0.159</text>\r\n",
       "<text text-anchor=\"middle\" x=\"762.5\" y=\"-37.8\" font-family=\"Helvetica,sans-Serif\" font-size=\"14.00\">samples = 43</text>\r\n",
       "<text text-anchor=\"middle\" x=\"762.5\" y=\"-22.8\" font-family=\"Helvetica,sans-Serif\" font-size=\"14.00\">value = [42, 1, 0]</text>\r\n",
       "<text text-anchor=\"middle\" x=\"762.5\" y=\"-7.8\" font-family=\"Helvetica,sans-Serif\" font-size=\"14.00\">class = 茅台</text>\r\n",
       "</g>\r\n",
       "<!-- 10&#45;&gt;12 -->\r\n",
       "<g id=\"edge12\" class=\"edge\"><title>10&#45;&gt;12</title>\r\n",
       "<path fill=\"none\" stroke=\"black\" d=\"M690.322,-103.726C700.092,-94.423 710.469,-84.5428 720.217,-75.2612\"/>\r\n",
       "<polygon fill=\"black\" stroke=\"black\" points=\"722.699,-77.7301 727.528,-68.2996 717.872,-72.6606 722.699,-77.7301\"/>\r\n",
       "</g>\r\n",
       "</g>\r\n",
       "</svg>\r\n"
      ],
      "text/plain": [
       "<graphviz.files.Source at 0x20bc15edda0>"
      ]
     },
     "execution_count": 66,
     "metadata": {},
     "output_type": "execute_result"
    }
   ],
   "source": [
    "graph, score = draw_graph(random_state=30,\n",
    "                          splitter='random',\n",
    "                          max_depth=3,\n",
    "                          \n",
    "                          )\n",
    "graph"
   ]
  },
  {
   "cell_type": "code",
   "execution_count": 67,
   "metadata": {
    "ExecuteTime": {
     "end_time": "2019-11-29T12:01:06.688627Z",
     "start_time": "2019-11-29T12:01:06.672627Z"
    }
   },
   "outputs": [
    {
     "data": {
      "text/plain": [
       "0.8703703703703703"
      ]
     },
     "execution_count": 67,
     "metadata": {},
     "output_type": "execute_result"
    }
   ],
   "source": [
    "score"
   ]
  },
  {
   "cell_type": "code",
   "execution_count": 76,
   "metadata": {
    "ExecuteTime": {
     "end_time": "2019-11-29T12:03:48.024071Z",
     "start_time": "2019-11-29T12:03:47.707176Z"
    }
   },
   "outputs": [
    {
     "data": {
      "image/svg+xml": [
       "<?xml version=\"1.0\" encoding=\"UTF-8\" standalone=\"no\"?>\r\n",
       "<!DOCTYPE svg PUBLIC \"-//W3C//DTD SVG 1.1//EN\"\r\n",
       " \"http://www.w3.org/Graphics/SVG/1.1/DTD/svg11.dtd\">\r\n",
       "<!-- Generated by graphviz version 2.38.0 (20140413.2041)\r\n",
       " -->\r\n",
       "<!-- Title: Tree Pages: 1 -->\r\n",
       "<svg width=\"652pt\" height=\"552pt\"\r\n",
       " viewBox=\"0.00 0.00 652.00 552.00\" xmlns=\"http://www.w3.org/2000/svg\" xmlns:xlink=\"http://www.w3.org/1999/xlink\">\r\n",
       "<g id=\"graph0\" class=\"graph\" transform=\"scale(1 1) rotate(0) translate(4 548)\">\r\n",
       "<title>Tree</title>\r\n",
       "<polygon fill=\"white\" stroke=\"none\" points=\"-4,4 -4,-548 648,-548 648,4 -4,4\"/>\r\n",
       "<!-- 0 -->\r\n",
       "<g id=\"node1\" class=\"node\"><title>0</title>\r\n",
       "<path fill=\"#fafefc\" stroke=\"black\" d=\"M401,-544C401,-544 288,-544 288,-544 282,-544 276,-538 276,-532 276,-532 276,-473 276,-473 276,-467 282,-461 288,-461 288,-461 401,-461 401,-461 407,-461 413,-467 413,-473 413,-473 413,-532 413,-532 413,-538 407,-544 401,-544\"/>\r\n",
       "<text text-anchor=\"middle\" x=\"344.5\" y=\"-528.8\" font-family=\"Helvetica,sans-Serif\" font-size=\"14.00\">类黄酮 &lt;= 1.714</text>\r\n",
       "<text text-anchor=\"middle\" x=\"344.5\" y=\"-513.8\" font-family=\"Helvetica,sans-Serif\" font-size=\"14.00\">gini = 0.665</text>\r\n",
       "<text text-anchor=\"middle\" x=\"344.5\" y=\"-498.8\" font-family=\"Helvetica,sans-Serif\" font-size=\"14.00\">samples = 124</text>\r\n",
       "<text text-anchor=\"middle\" x=\"344.5\" y=\"-483.8\" font-family=\"Helvetica,sans-Serif\" font-size=\"14.00\">value = [42, 44, 38]</text>\r\n",
       "<text text-anchor=\"middle\" x=\"344.5\" y=\"-468.8\" font-family=\"Helvetica,sans-Serif\" font-size=\"14.00\">class = 五粮液</text>\r\n",
       "</g>\r\n",
       "<!-- 1 -->\r\n",
       "<g id=\"node2\" class=\"node\"><title>1</title>\r\n",
       "<path fill=\"#b387ef\" stroke=\"black\" d=\"M347,-425C347,-425 144,-425 144,-425 138,-425 132,-419 132,-413 132,-413 132,-354 132,-354 132,-348 138,-342 144,-342 144,-342 347,-342 347,-342 353,-342 359,-348 359,-354 359,-354 359,-413 359,-413 359,-419 353,-425 347,-425\"/>\r\n",
       "<text text-anchor=\"middle\" x=\"245.5\" y=\"-409.8\" font-family=\"Helvetica,sans-Serif\" font-size=\"14.00\">od280/od315稀释葡萄酒 &lt;= 2.112</text>\r\n",
       "<text text-anchor=\"middle\" x=\"245.5\" y=\"-394.8\" font-family=\"Helvetica,sans-Serif\" font-size=\"14.00\">gini = 0.406</text>\r\n",
       "<text text-anchor=\"middle\" x=\"245.5\" y=\"-379.8\" font-family=\"Helvetica,sans-Serif\" font-size=\"14.00\">samples = 53</text>\r\n",
       "<text text-anchor=\"middle\" x=\"245.5\" y=\"-364.8\" font-family=\"Helvetica,sans-Serif\" font-size=\"14.00\">value = [0, 15, 38]</text>\r\n",
       "<text text-anchor=\"middle\" x=\"245.5\" y=\"-349.8\" font-family=\"Helvetica,sans-Serif\" font-size=\"14.00\">class = 泸州老窖</text>\r\n",
       "</g>\r\n",
       "<!-- 0&#45;&gt;1 -->\r\n",
       "<g id=\"edge1\" class=\"edge\"><title>0&#45;&gt;1</title>\r\n",
       "<path fill=\"none\" stroke=\"black\" d=\"M310.152,-460.907C302.474,-451.832 294.256,-442.121 286.343,-432.769\"/>\r\n",
       "<polygon fill=\"black\" stroke=\"black\" points=\"288.918,-430.394 279.787,-425.021 283.574,-434.916 288.918,-430.394\"/>\r\n",
       "<text text-anchor=\"middle\" x=\"277.711\" y=\"-446.234\" font-family=\"Helvetica,sans-Serif\" font-size=\"14.00\">True</text>\r\n",
       "</g>\r\n",
       "<!-- 8 -->\r\n",
       "<g id=\"node9\" class=\"node\"><title>8</title>\r\n",
       "<path fill=\"#f7d8c2\" stroke=\"black\" d=\"M497.5,-425C497.5,-425 389.5,-425 389.5,-425 383.5,-425 377.5,-419 377.5,-413 377.5,-413 377.5,-354 377.5,-354 377.5,-348 383.5,-342 389.5,-342 389.5,-342 497.5,-342 497.5,-342 503.5,-342 509.5,-348 509.5,-354 509.5,-354 509.5,-413 509.5,-413 509.5,-419 503.5,-425 497.5,-425\"/>\r\n",
       "<text text-anchor=\"middle\" x=\"443.5\" y=\"-409.8\" font-family=\"Helvetica,sans-Serif\" font-size=\"14.00\">脯氨酸 &lt;= 558.218</text>\r\n",
       "<text text-anchor=\"middle\" x=\"443.5\" y=\"-394.8\" font-family=\"Helvetica,sans-Serif\" font-size=\"14.00\">gini = 0.483</text>\r\n",
       "<text text-anchor=\"middle\" x=\"443.5\" y=\"-379.8\" font-family=\"Helvetica,sans-Serif\" font-size=\"14.00\">samples = 71</text>\r\n",
       "<text text-anchor=\"middle\" x=\"443.5\" y=\"-364.8\" font-family=\"Helvetica,sans-Serif\" font-size=\"14.00\">value = [42, 29, 0]</text>\r\n",
       "<text text-anchor=\"middle\" x=\"443.5\" y=\"-349.8\" font-family=\"Helvetica,sans-Serif\" font-size=\"14.00\">class = 茅台</text>\r\n",
       "</g>\r\n",
       "<!-- 0&#45;&gt;8 -->\r\n",
       "<g id=\"edge8\" class=\"edge\"><title>0&#45;&gt;8</title>\r\n",
       "<path fill=\"none\" stroke=\"black\" d=\"M378.848,-460.907C386.526,-451.832 394.744,-442.121 402.657,-432.769\"/>\r\n",
       "<polygon fill=\"black\" stroke=\"black\" points=\"405.426,-434.916 409.213,-425.021 400.082,-430.394 405.426,-434.916\"/>\r\n",
       "<text text-anchor=\"middle\" x=\"411.289\" y=\"-446.234\" font-family=\"Helvetica,sans-Serif\" font-size=\"14.00\">False</text>\r\n",
       "</g>\r\n",
       "<!-- 2 -->\r\n",
       "<g id=\"node3\" class=\"node\"><title>2</title>\r\n",
       "<path fill=\"#8c49e7\" stroke=\"black\" d=\"M176.5,-306C176.5,-306 68.5,-306 68.5,-306 62.5,-306 56.5,-300 56.5,-294 56.5,-294 56.5,-235 56.5,-235 56.5,-229 62.5,-223 68.5,-223 68.5,-223 176.5,-223 176.5,-223 182.5,-223 188.5,-229 188.5,-235 188.5,-235 188.5,-294 188.5,-294 188.5,-300 182.5,-306 176.5,-306\"/>\r\n",
       "<text text-anchor=\"middle\" x=\"122.5\" y=\"-290.8\" font-family=\"Helvetica,sans-Serif\" font-size=\"14.00\">脯氨酸 &lt;= 724.202</text>\r\n",
       "<text text-anchor=\"middle\" x=\"122.5\" y=\"-275.8\" font-family=\"Helvetica,sans-Serif\" font-size=\"14.00\">gini = 0.142</text>\r\n",
       "<text text-anchor=\"middle\" x=\"122.5\" y=\"-260.8\" font-family=\"Helvetica,sans-Serif\" font-size=\"14.00\">samples = 39</text>\r\n",
       "<text text-anchor=\"middle\" x=\"122.5\" y=\"-245.8\" font-family=\"Helvetica,sans-Serif\" font-size=\"14.00\">value = [0, 3, 36]</text>\r\n",
       "<text text-anchor=\"middle\" x=\"122.5\" y=\"-230.8\" font-family=\"Helvetica,sans-Serif\" font-size=\"14.00\">class = 泸州老窖</text>\r\n",
       "</g>\r\n",
       "<!-- 1&#45;&gt;2 -->\r\n",
       "<g id=\"edge2\" class=\"edge\"><title>1&#45;&gt;2</title>\r\n",
       "<path fill=\"none\" stroke=\"black\" d=\"M202.826,-341.907C192.999,-332.56 182.463,-322.538 172.361,-312.929\"/>\r\n",
       "<polygon fill=\"black\" stroke=\"black\" points=\"174.757,-310.377 165.099,-306.021 169.932,-315.449 174.757,-310.377\"/>\r\n",
       "</g>\r\n",
       "<!-- 7 -->\r\n",
       "<g id=\"node8\" class=\"node\"><title>7</title>\r\n",
       "<path fill=\"#5ae996\" stroke=\"black\" d=\"M316,-298.5C316,-298.5 219,-298.5 219,-298.5 213,-298.5 207,-292.5 207,-286.5 207,-286.5 207,-242.5 207,-242.5 207,-236.5 213,-230.5 219,-230.5 219,-230.5 316,-230.5 316,-230.5 322,-230.5 328,-236.5 328,-242.5 328,-242.5 328,-286.5 328,-286.5 328,-292.5 322,-298.5 316,-298.5\"/>\r\n",
       "<text text-anchor=\"middle\" x=\"267.5\" y=\"-283.3\" font-family=\"Helvetica,sans-Serif\" font-size=\"14.00\">gini = 0.245</text>\r\n",
       "<text text-anchor=\"middle\" x=\"267.5\" y=\"-268.3\" font-family=\"Helvetica,sans-Serif\" font-size=\"14.00\">samples = 14</text>\r\n",
       "<text text-anchor=\"middle\" x=\"267.5\" y=\"-253.3\" font-family=\"Helvetica,sans-Serif\" font-size=\"14.00\">value = [0, 12, 2]</text>\r\n",
       "<text text-anchor=\"middle\" x=\"267.5\" y=\"-238.3\" font-family=\"Helvetica,sans-Serif\" font-size=\"14.00\">class = 五粮液</text>\r\n",
       "</g>\r\n",
       "<!-- 1&#45;&gt;7 -->\r\n",
       "<g id=\"edge7\" class=\"edge\"><title>1&#45;&gt;7</title>\r\n",
       "<path fill=\"none\" stroke=\"black\" d=\"M253.133,-341.907C255.145,-331.204 257.324,-319.615 259.363,-308.776\"/>\r\n",
       "<polygon fill=\"black\" stroke=\"black\" points=\"262.855,-309.142 261.263,-298.667 255.976,-307.848 262.855,-309.142\"/>\r\n",
       "</g>\r\n",
       "<!-- 3 -->\r\n",
       "<g id=\"node4\" class=\"node\"><title>3</title>\r\n",
       "<path fill=\"#8640e6\" stroke=\"black\" d=\"M147,-187C147,-187 34,-187 34,-187 28,-187 22,-181 22,-175 22,-175 22,-116 22,-116 22,-110 28,-104 34,-104 34,-104 147,-104 147,-104 153,-104 159,-110 159,-116 159,-116 159,-175 159,-175 159,-181 153,-187 147,-187\"/>\r\n",
       "<text text-anchor=\"middle\" x=\"90.5\" y=\"-171.8\" font-family=\"Helvetica,sans-Serif\" font-size=\"14.00\">灰的碱性 &lt;= 21.838</text>\r\n",
       "<text text-anchor=\"middle\" x=\"90.5\" y=\"-156.8\" font-family=\"Helvetica,sans-Serif\" font-size=\"14.00\">gini = 0.067</text>\r\n",
       "<text text-anchor=\"middle\" x=\"90.5\" y=\"-141.8\" font-family=\"Helvetica,sans-Serif\" font-size=\"14.00\">samples = 29</text>\r\n",
       "<text text-anchor=\"middle\" x=\"90.5\" y=\"-126.8\" font-family=\"Helvetica,sans-Serif\" font-size=\"14.00\">value = [0, 1, 28]</text>\r\n",
       "<text text-anchor=\"middle\" x=\"90.5\" y=\"-111.8\" font-family=\"Helvetica,sans-Serif\" font-size=\"14.00\">class = 泸州老窖</text>\r\n",
       "</g>\r\n",
       "<!-- 2&#45;&gt;3 -->\r\n",
       "<g id=\"edge3\" class=\"edge\"><title>2&#45;&gt;3</title>\r\n",
       "<path fill=\"none\" stroke=\"black\" d=\"M111.398,-222.907C109.089,-214.468 106.631,-205.477 104.24,-196.738\"/>\r\n",
       "<polygon fill=\"black\" stroke=\"black\" points=\"107.597,-195.743 101.583,-187.021 100.845,-197.59 107.597,-195.743\"/>\r\n",
       "</g>\r\n",
       "<!-- 6 -->\r\n",
       "<g id=\"node7\" class=\"node\"><title>6</title>\r\n",
       "<path fill=\"#a06aec\" stroke=\"black\" d=\"M281.5,-179.5C281.5,-179.5 189.5,-179.5 189.5,-179.5 183.5,-179.5 177.5,-173.5 177.5,-167.5 177.5,-167.5 177.5,-123.5 177.5,-123.5 177.5,-117.5 183.5,-111.5 189.5,-111.5 189.5,-111.5 281.5,-111.5 281.5,-111.5 287.5,-111.5 293.5,-117.5 293.5,-123.5 293.5,-123.5 293.5,-167.5 293.5,-167.5 293.5,-173.5 287.5,-179.5 281.5,-179.5\"/>\r\n",
       "<text text-anchor=\"middle\" x=\"235.5\" y=\"-164.3\" font-family=\"Helvetica,sans-Serif\" font-size=\"14.00\">gini = 0.32</text>\r\n",
       "<text text-anchor=\"middle\" x=\"235.5\" y=\"-149.3\" font-family=\"Helvetica,sans-Serif\" font-size=\"14.00\">samples = 10</text>\r\n",
       "<text text-anchor=\"middle\" x=\"235.5\" y=\"-134.3\" font-family=\"Helvetica,sans-Serif\" font-size=\"14.00\">value = [0, 2, 8]</text>\r\n",
       "<text text-anchor=\"middle\" x=\"235.5\" y=\"-119.3\" font-family=\"Helvetica,sans-Serif\" font-size=\"14.00\">class = 泸州老窖</text>\r\n",
       "</g>\r\n",
       "<!-- 2&#45;&gt;6 -->\r\n",
       "<g id=\"edge6\" class=\"edge\"><title>2&#45;&gt;6</title>\r\n",
       "<path fill=\"none\" stroke=\"black\" d=\"M161.705,-222.907C172.895,-211.321 185.087,-198.698 196.278,-187.111\"/>\r\n",
       "<polygon fill=\"black\" stroke=\"black\" points=\"199.037,-189.291 203.467,-179.667 194.002,-184.428 199.037,-189.291\"/>\r\n",
       "</g>\r\n",
       "<!-- 4 -->\r\n",
       "<g id=\"node5\" class=\"node\"><title>4</title>\r\n",
       "<path fill=\"#8945e7\" stroke=\"black\" d=\"M109,-68C109,-68 12,-68 12,-68 6,-68 0,-62 0,-56 0,-56 0,-12 0,-12 0,-6 6,-0 12,-0 12,-0 109,-0 109,-0 115,-0 121,-6 121,-12 121,-12 121,-56 121,-56 121,-62 115,-68 109,-68\"/>\r\n",
       "<text text-anchor=\"middle\" x=\"60.5\" y=\"-52.8\" font-family=\"Helvetica,sans-Serif\" font-size=\"14.00\">gini = 0.111</text>\r\n",
       "<text text-anchor=\"middle\" x=\"60.5\" y=\"-37.8\" font-family=\"Helvetica,sans-Serif\" font-size=\"14.00\">samples = 17</text>\r\n",
       "<text text-anchor=\"middle\" x=\"60.5\" y=\"-22.8\" font-family=\"Helvetica,sans-Serif\" font-size=\"14.00\">value = [0, 1, 16]</text>\r\n",
       "<text text-anchor=\"middle\" x=\"60.5\" y=\"-7.8\" font-family=\"Helvetica,sans-Serif\" font-size=\"14.00\">class = 泸州老窖</text>\r\n",
       "</g>\r\n",
       "<!-- 3&#45;&gt;4 -->\r\n",
       "<g id=\"edge4\" class=\"edge\"><title>3&#45;&gt;4</title>\r\n",
       "<path fill=\"none\" stroke=\"black\" d=\"M79.3291,-103.726C77.0302,-95.3351 74.6026,-86.4745 72.2828,-78.0072\"/>\r\n",
       "<polygon fill=\"black\" stroke=\"black\" points=\"75.6412,-77.0193 69.6232,-68.2996 68.89,-78.869 75.6412,-77.0193\"/>\r\n",
       "</g>\r\n",
       "<!-- 5 -->\r\n",
       "<g id=\"node6\" class=\"node\"><title>5</title>\r\n",
       "<path fill=\"#8139e5\" stroke=\"black\" d=\"M248,-68C248,-68 151,-68 151,-68 145,-68 139,-62 139,-56 139,-56 139,-12 139,-12 139,-6 145,-0 151,-0 151,-0 248,-0 248,-0 254,-0 260,-6 260,-12 260,-12 260,-56 260,-56 260,-62 254,-68 248,-68\"/>\r\n",
       "<text text-anchor=\"middle\" x=\"199.5\" y=\"-52.8\" font-family=\"Helvetica,sans-Serif\" font-size=\"14.00\">gini = 0.0</text>\r\n",
       "<text text-anchor=\"middle\" x=\"199.5\" y=\"-37.8\" font-family=\"Helvetica,sans-Serif\" font-size=\"14.00\">samples = 12</text>\r\n",
       "<text text-anchor=\"middle\" x=\"199.5\" y=\"-22.8\" font-family=\"Helvetica,sans-Serif\" font-size=\"14.00\">value = [0, 0, 12]</text>\r\n",
       "<text text-anchor=\"middle\" x=\"199.5\" y=\"-7.8\" font-family=\"Helvetica,sans-Serif\" font-size=\"14.00\">class = 泸州老窖</text>\r\n",
       "</g>\r\n",
       "<!-- 3&#45;&gt;5 -->\r\n",
       "<g id=\"edge5\" class=\"edge\"><title>3&#45;&gt;5</title>\r\n",
       "<path fill=\"none\" stroke=\"black\" d=\"M131.088,-103.726C140.258,-94.5142 149.991,-84.7364 159.151,-75.5343\"/>\r\n",
       "<polygon fill=\"black\" stroke=\"black\" points=\"161.778,-77.8561 166.352,-68.2996 156.817,-72.9176 161.778,-77.8561\"/>\r\n",
       "</g>\r\n",
       "<!-- 9 -->\r\n",
       "<g id=\"node10\" class=\"node\"><title>9</title>\r\n",
       "<path fill=\"#39e581\" stroke=\"black\" d=\"M471,-298.5C471,-298.5 374,-298.5 374,-298.5 368,-298.5 362,-292.5 362,-286.5 362,-286.5 362,-242.5 362,-242.5 362,-236.5 368,-230.5 374,-230.5 374,-230.5 471,-230.5 471,-230.5 477,-230.5 483,-236.5 483,-242.5 483,-242.5 483,-286.5 483,-286.5 483,-292.5 477,-298.5 471,-298.5\"/>\r\n",
       "<text text-anchor=\"middle\" x=\"422.5\" y=\"-283.3\" font-family=\"Helvetica,sans-Serif\" font-size=\"14.00\">gini = 0.0</text>\r\n",
       "<text text-anchor=\"middle\" x=\"422.5\" y=\"-268.3\" font-family=\"Helvetica,sans-Serif\" font-size=\"14.00\">samples = 20</text>\r\n",
       "<text text-anchor=\"middle\" x=\"422.5\" y=\"-253.3\" font-family=\"Helvetica,sans-Serif\" font-size=\"14.00\">value = [0, 20, 0]</text>\r\n",
       "<text text-anchor=\"middle\" x=\"422.5\" y=\"-238.3\" font-family=\"Helvetica,sans-Serif\" font-size=\"14.00\">class = 五粮液</text>\r\n",
       "</g>\r\n",
       "<!-- 8&#45;&gt;9 -->\r\n",
       "<g id=\"edge9\" class=\"edge\"><title>8&#45;&gt;9</title>\r\n",
       "<path fill=\"none\" stroke=\"black\" d=\"M436.214,-341.907C434.293,-331.204 432.213,-319.615 430.268,-308.776\"/>\r\n",
       "<polygon fill=\"black\" stroke=\"black\" points=\"433.665,-307.891 428.453,-298.667 426.775,-309.128 433.665,-307.891\"/>\r\n",
       "</g>\r\n",
       "<!-- 10 -->\r\n",
       "<g id=\"node11\" class=\"node\"><title>10</title>\r\n",
       "<path fill=\"#eb9c63\" stroke=\"black\" d=\"M621.5,-306C621.5,-306 513.5,-306 513.5,-306 507.5,-306 501.5,-300 501.5,-294 501.5,-294 501.5,-235 501.5,-235 501.5,-229 507.5,-223 513.5,-223 513.5,-223 621.5,-223 621.5,-223 627.5,-223 633.5,-229 633.5,-235 633.5,-235 633.5,-294 633.5,-294 633.5,-300 627.5,-306 621.5,-306\"/>\r\n",
       "<text text-anchor=\"middle\" x=\"567.5\" y=\"-290.8\" font-family=\"Helvetica,sans-Serif\" font-size=\"14.00\">脯氨酸 &lt;= 987.518</text>\r\n",
       "<text text-anchor=\"middle\" x=\"567.5\" y=\"-275.8\" font-family=\"Helvetica,sans-Serif\" font-size=\"14.00\">gini = 0.291</text>\r\n",
       "<text text-anchor=\"middle\" x=\"567.5\" y=\"-260.8\" font-family=\"Helvetica,sans-Serif\" font-size=\"14.00\">samples = 51</text>\r\n",
       "<text text-anchor=\"middle\" x=\"567.5\" y=\"-245.8\" font-family=\"Helvetica,sans-Serif\" font-size=\"14.00\">value = [42, 9, 0]</text>\r\n",
       "<text text-anchor=\"middle\" x=\"567.5\" y=\"-230.8\" font-family=\"Helvetica,sans-Serif\" font-size=\"14.00\">class = 茅台</text>\r\n",
       "</g>\r\n",
       "<!-- 8&#45;&gt;10 -->\r\n",
       "<g id=\"edge10\" class=\"edge\"><title>8&#45;&gt;10</title>\r\n",
       "<path fill=\"none\" stroke=\"black\" d=\"M486.521,-341.907C496.428,-332.56 507.05,-322.538 517.234,-312.929\"/>\r\n",
       "<polygon fill=\"black\" stroke=\"black\" points=\"519.683,-315.429 524.555,-306.021 514.879,-310.338 519.683,-315.429\"/>\r\n",
       "</g>\r\n",
       "<!-- 11 -->\r\n",
       "<g id=\"node12\" class=\"node\"><title>11</title>\r\n",
       "<path fill=\"#f6d2b8\" stroke=\"black\" d=\"M492.5,-187C492.5,-187 384.5,-187 384.5,-187 378.5,-187 372.5,-181 372.5,-175 372.5,-175 372.5,-116 372.5,-116 372.5,-110 378.5,-104 384.5,-104 384.5,-104 492.5,-104 492.5,-104 498.5,-104 504.5,-110 504.5,-116 504.5,-116 504.5,-175 504.5,-175 504.5,-181 498.5,-187 492.5,-187\"/>\r\n",
       "<text text-anchor=\"middle\" x=\"438.5\" y=\"-171.8\" font-family=\"Helvetica,sans-Serif\" font-size=\"14.00\">脯氨酸 &lt;= 774.583</text>\r\n",
       "<text text-anchor=\"middle\" x=\"438.5\" y=\"-156.8\" font-family=\"Helvetica,sans-Serif\" font-size=\"14.00\">gini = 0.476</text>\r\n",
       "<text text-anchor=\"middle\" x=\"438.5\" y=\"-141.8\" font-family=\"Helvetica,sans-Serif\" font-size=\"14.00\">samples = 23</text>\r\n",
       "<text text-anchor=\"middle\" x=\"438.5\" y=\"-126.8\" font-family=\"Helvetica,sans-Serif\" font-size=\"14.00\">value = [14, 9, 0]</text>\r\n",
       "<text text-anchor=\"middle\" x=\"438.5\" y=\"-111.8\" font-family=\"Helvetica,sans-Serif\" font-size=\"14.00\">class = 茅台</text>\r\n",
       "</g>\r\n",
       "<!-- 10&#45;&gt;11 -->\r\n",
       "<g id=\"edge11\" class=\"edge\"><title>10&#45;&gt;11</title>\r\n",
       "<path fill=\"none\" stroke=\"black\" d=\"M522.744,-222.907C512.438,-213.56 501.388,-203.538 490.793,-193.929\"/>\r\n",
       "<polygon fill=\"black\" stroke=\"black\" points=\"492.935,-191.146 483.177,-187.021 488.233,-196.332 492.935,-191.146\"/>\r\n",
       "</g>\r\n",
       "<!-- 14 -->\r\n",
       "<g id=\"node15\" class=\"node\"><title>14</title>\r\n",
       "<path fill=\"#e58139\" stroke=\"black\" d=\"M632,-179.5C632,-179.5 535,-179.5 535,-179.5 529,-179.5 523,-173.5 523,-167.5 523,-167.5 523,-123.5 523,-123.5 523,-117.5 529,-111.5 535,-111.5 535,-111.5 632,-111.5 632,-111.5 638,-111.5 644,-117.5 644,-123.5 644,-123.5 644,-167.5 644,-167.5 644,-173.5 638,-179.5 632,-179.5\"/>\r\n",
       "<text text-anchor=\"middle\" x=\"583.5\" y=\"-164.3\" font-family=\"Helvetica,sans-Serif\" font-size=\"14.00\">gini = 0.0</text>\r\n",
       "<text text-anchor=\"middle\" x=\"583.5\" y=\"-149.3\" font-family=\"Helvetica,sans-Serif\" font-size=\"14.00\">samples = 28</text>\r\n",
       "<text text-anchor=\"middle\" x=\"583.5\" y=\"-134.3\" font-family=\"Helvetica,sans-Serif\" font-size=\"14.00\">value = [28, 0, 0]</text>\r\n",
       "<text text-anchor=\"middle\" x=\"583.5\" y=\"-119.3\" font-family=\"Helvetica,sans-Serif\" font-size=\"14.00\">class = 茅台</text>\r\n",
       "</g>\r\n",
       "<!-- 10&#45;&gt;14 -->\r\n",
       "<g id=\"edge14\" class=\"edge\"><title>10&#45;&gt;14</title>\r\n",
       "<path fill=\"none\" stroke=\"black\" d=\"M573.051,-222.907C574.515,-212.204 576.1,-200.615 577.582,-189.776\"/>\r\n",
       "<polygon fill=\"black\" stroke=\"black\" points=\"581.077,-190.049 578.964,-179.667 574.142,-189.1 581.077,-190.049\"/>\r\n",
       "</g>\r\n",
       "<!-- 12 -->\r\n",
       "<g id=\"node13\" class=\"node\"><title>12</title>\r\n",
       "<path fill=\"#aaf4c9\" stroke=\"black\" d=\"M431,-68C431,-68 342,-68 342,-68 336,-68 330,-62 330,-56 330,-56 330,-12 330,-12 330,-6 336,-0 342,-0 342,-0 431,-0 431,-0 437,-0 443,-6 443,-12 443,-12 443,-56 443,-56 443,-62 437,-68 431,-68\"/>\r\n",
       "<text text-anchor=\"middle\" x=\"386.5\" y=\"-52.8\" font-family=\"Helvetica,sans-Serif\" font-size=\"14.00\">gini = 0.463</text>\r\n",
       "<text text-anchor=\"middle\" x=\"386.5\" y=\"-37.8\" font-family=\"Helvetica,sans-Serif\" font-size=\"14.00\">samples = 11</text>\r\n",
       "<text text-anchor=\"middle\" x=\"386.5\" y=\"-22.8\" font-family=\"Helvetica,sans-Serif\" font-size=\"14.00\">value = [4, 7, 0]</text>\r\n",
       "<text text-anchor=\"middle\" x=\"386.5\" y=\"-7.8\" font-family=\"Helvetica,sans-Serif\" font-size=\"14.00\">class = 五粮液</text>\r\n",
       "</g>\r\n",
       "<!-- 11&#45;&gt;12 -->\r\n",
       "<g id=\"edge12\" class=\"edge\"><title>11&#45;&gt;12</title>\r\n",
       "<path fill=\"none\" stroke=\"black\" d=\"M419.137,-103.726C415.066,-95.1527 410.761,-86.0891 406.662,-77.4555\"/>\r\n",
       "<polygon fill=\"black\" stroke=\"black\" points=\"409.765,-75.8314 402.314,-68.2996 403.442,-78.8342 409.765,-75.8314\"/>\r\n",
       "</g>\r\n",
       "<!-- 13 -->\r\n",
       "<g id=\"node14\" class=\"node\"><title>13</title>\r\n",
       "<path fill=\"#ea9a61\" stroke=\"black\" d=\"M570,-68C570,-68 473,-68 473,-68 467,-68 461,-62 461,-56 461,-56 461,-12 461,-12 461,-6 467,-0 473,-0 473,-0 570,-0 570,-0 576,-0 582,-6 582,-12 582,-12 582,-56 582,-56 582,-62 576,-68 570,-68\"/>\r\n",
       "<text text-anchor=\"middle\" x=\"521.5\" y=\"-52.8\" font-family=\"Helvetica,sans-Serif\" font-size=\"14.00\">gini = 0.278</text>\r\n",
       "<text text-anchor=\"middle\" x=\"521.5\" y=\"-37.8\" font-family=\"Helvetica,sans-Serif\" font-size=\"14.00\">samples = 12</text>\r\n",
       "<text text-anchor=\"middle\" x=\"521.5\" y=\"-22.8\" font-family=\"Helvetica,sans-Serif\" font-size=\"14.00\">value = [10, 2, 0]</text>\r\n",
       "<text text-anchor=\"middle\" x=\"521.5\" y=\"-7.8\" font-family=\"Helvetica,sans-Serif\" font-size=\"14.00\">class = 茅台</text>\r\n",
       "</g>\r\n",
       "<!-- 11&#45;&gt;13 -->\r\n",
       "<g id=\"edge13\" class=\"edge\"><title>11&#45;&gt;13</title>\r\n",
       "<path fill=\"none\" stroke=\"black\" d=\"M469.406,-103.726C476.181,-94.7878 483.36,-85.3168 490.153,-76.3558\"/>\r\n",
       "<polygon fill=\"black\" stroke=\"black\" points=\"493.008,-78.3832 496.259,-68.2996 487.429,-74.1547 493.008,-78.3832\"/>\r\n",
       "</g>\r\n",
       "</g>\r\n",
       "</svg>\r\n"
      ],
      "text/plain": [
       "<graphviz.files.Source at 0x20bc1728208>"
      ]
     },
     "execution_count": 76,
     "metadata": {},
     "output_type": "execute_result"
    }
   ],
   "source": [
    "graph, score = draw_graph(random_state=30,\n",
    "                          splitter='random',\n",
    "                          max_depth=4,\n",
    "                          min_samples_leaf=10\n",
    "                          )\n",
    "graph"
   ]
  },
  {
   "cell_type": "code",
   "execution_count": 77,
   "metadata": {
    "ExecuteTime": {
     "end_time": "2019-11-29T12:03:50.226086Z",
     "start_time": "2019-11-29T12:03:50.207722Z"
    }
   },
   "outputs": [
    {
     "data": {
      "text/plain": [
       "0.8888888888888888"
      ]
     },
     "execution_count": 77,
     "metadata": {},
     "output_type": "execute_result"
    }
   ],
   "source": [
    "score"
   ]
  },
  {
   "cell_type": "code",
   "execution_count": 124,
   "metadata": {
    "ExecuteTime": {
     "end_time": "2019-11-29T12:12:58.095989Z",
     "start_time": "2019-11-29T12:12:57.749788Z"
    }
   },
   "outputs": [
    {
     "data": {
      "image/svg+xml": [
       "<?xml version=\"1.0\" encoding=\"UTF-8\" standalone=\"no\"?>\r\n",
       "<!DOCTYPE svg PUBLIC \"-//W3C//DTD SVG 1.1//EN\"\r\n",
       " \"http://www.w3.org/Graphics/SVG/1.1/DTD/svg11.dtd\">\r\n",
       "<!-- Generated by graphviz version 2.38.0 (20140413.2041)\r\n",
       " -->\r\n",
       "<!-- Title: Tree Pages: 1 -->\r\n",
       "<svg width=\"704pt\" height=\"552pt\"\r\n",
       " viewBox=\"0.00 0.00 704.00 552.00\" xmlns=\"http://www.w3.org/2000/svg\" xmlns:xlink=\"http://www.w3.org/1999/xlink\">\r\n",
       "<g id=\"graph0\" class=\"graph\" transform=\"scale(1 1) rotate(0) translate(4 548)\">\r\n",
       "<title>Tree</title>\r\n",
       "<polygon fill=\"white\" stroke=\"none\" points=\"-4,4 -4,-548 700,-548 700,4 -4,4\"/>\r\n",
       "<!-- 0 -->\r\n",
       "<g id=\"node1\" class=\"node\"><title>0</title>\r\n",
       "<path fill=\"#fafefc\" stroke=\"black\" d=\"M368,-544C368,-544 165,-544 165,-544 159,-544 153,-538 153,-532 153,-532 153,-473 153,-473 153,-467 159,-461 165,-461 165,-461 368,-461 368,-461 374,-461 380,-467 380,-473 380,-473 380,-532 380,-532 380,-538 374,-544 368,-544\"/>\r\n",
       "<text text-anchor=\"middle\" x=\"266.5\" y=\"-528.8\" font-family=\"Helvetica,sans-Serif\" font-size=\"14.00\">od280/od315稀释葡萄酒 &lt;= 2.055</text>\r\n",
       "<text text-anchor=\"middle\" x=\"266.5\" y=\"-513.8\" font-family=\"Helvetica,sans-Serif\" font-size=\"14.00\">gini = 0.665</text>\r\n",
       "<text text-anchor=\"middle\" x=\"266.5\" y=\"-498.8\" font-family=\"Helvetica,sans-Serif\" font-size=\"14.00\">samples = 124</text>\r\n",
       "<text text-anchor=\"middle\" x=\"266.5\" y=\"-483.8\" font-family=\"Helvetica,sans-Serif\" font-size=\"14.00\">value = [42, 44, 38]</text>\r\n",
       "<text text-anchor=\"middle\" x=\"266.5\" y=\"-468.8\" font-family=\"Helvetica,sans-Serif\" font-size=\"14.00\">class = 五粮液</text>\r\n",
       "</g>\r\n",
       "<!-- 1 -->\r\n",
       "<g id=\"node2\" class=\"node\"><title>1</title>\r\n",
       "<path fill=\"#8844e6\" stroke=\"black\" d=\"M244,-425C244,-425 147,-425 147,-425 141,-425 135,-419 135,-413 135,-413 135,-354 135,-354 135,-348 141,-342 147,-342 147,-342 244,-342 244,-342 250,-342 256,-348 256,-354 256,-354 256,-413 256,-413 256,-419 250,-425 244,-425\"/>\r\n",
       "<text text-anchor=\"middle\" x=\"195.5\" y=\"-409.8\" font-family=\"Helvetica,sans-Serif\" font-size=\"14.00\">色调 &lt;= 0.835</text>\r\n",
       "<text text-anchor=\"middle\" x=\"195.5\" y=\"-394.8\" font-family=\"Helvetica,sans-Serif\" font-size=\"14.00\">gini = 0.1</text>\r\n",
       "<text text-anchor=\"middle\" x=\"195.5\" y=\"-379.8\" font-family=\"Helvetica,sans-Serif\" font-size=\"14.00\">samples = 38</text>\r\n",
       "<text text-anchor=\"middle\" x=\"195.5\" y=\"-364.8\" font-family=\"Helvetica,sans-Serif\" font-size=\"14.00\">value = [0, 2, 36]</text>\r\n",
       "<text text-anchor=\"middle\" x=\"195.5\" y=\"-349.8\" font-family=\"Helvetica,sans-Serif\" font-size=\"14.00\">class = 泸州老窖</text>\r\n",
       "</g>\r\n",
       "<!-- 0&#45;&gt;1 -->\r\n",
       "<g id=\"edge1\" class=\"edge\"><title>0&#45;&gt;1</title>\r\n",
       "<path fill=\"none\" stroke=\"black\" d=\"M241.867,-460.907C236.525,-452.105 230.82,-442.703 225.303,-433.612\"/>\r\n",
       "<polygon fill=\"black\" stroke=\"black\" points=\"228.27,-431.754 220.09,-425.021 222.285,-435.386 228.27,-431.754\"/>\r\n",
       "<text text-anchor=\"middle\" x=\"214.148\" y=\"-445.604\" font-family=\"Helvetica,sans-Serif\" font-size=\"14.00\">True</text>\r\n",
       "</g>\r\n",
       "<!-- 4 -->\r\n",
       "<g id=\"node5\" class=\"node\"><title>4</title>\r\n",
       "<path fill=\"#ffffff\" stroke=\"black\" d=\"M391,-425C391,-425 286,-425 286,-425 280,-425 274,-419 274,-413 274,-413 274,-354 274,-354 274,-348 280,-342 286,-342 286,-342 391,-342 391,-342 397,-342 403,-348 403,-354 403,-354 403,-413 403,-413 403,-419 397,-425 391,-425\"/>\r\n",
       "<text text-anchor=\"middle\" x=\"338.5\" y=\"-409.8\" font-family=\"Helvetica,sans-Serif\" font-size=\"14.00\">酒精 &lt;= 12.805</text>\r\n",
       "<text text-anchor=\"middle\" x=\"338.5\" y=\"-394.8\" font-family=\"Helvetica,sans-Serif\" font-size=\"14.00\">gini = 0.522</text>\r\n",
       "<text text-anchor=\"middle\" x=\"338.5\" y=\"-379.8\" font-family=\"Helvetica,sans-Serif\" font-size=\"14.00\">samples = 86</text>\r\n",
       "<text text-anchor=\"middle\" x=\"338.5\" y=\"-364.8\" font-family=\"Helvetica,sans-Serif\" font-size=\"14.00\">value = [42, 42, 2]</text>\r\n",
       "<text text-anchor=\"middle\" x=\"338.5\" y=\"-349.8\" font-family=\"Helvetica,sans-Serif\" font-size=\"14.00\">class = 茅台</text>\r\n",
       "</g>\r\n",
       "<!-- 0&#45;&gt;4 -->\r\n",
       "<g id=\"edge4\" class=\"edge\"><title>0&#45;&gt;4</title>\r\n",
       "<path fill=\"none\" stroke=\"black\" d=\"M291.48,-460.907C296.897,-452.105 302.683,-442.703 308.277,-433.612\"/>\r\n",
       "<polygon fill=\"black\" stroke=\"black\" points=\"311.304,-435.372 313.564,-425.021 305.342,-431.703 311.304,-435.372\"/>\r\n",
       "<text text-anchor=\"middle\" x=\"319.355\" y=\"-445.641\" font-family=\"Helvetica,sans-Serif\" font-size=\"14.00\">False</text>\r\n",
       "</g>\r\n",
       "<!-- 2 -->\r\n",
       "<g id=\"node3\" class=\"node\"><title>2</title>\r\n",
       "<path fill=\"#8139e5\" stroke=\"black\" d=\"M109,-298.5C109,-298.5 12,-298.5 12,-298.5 6,-298.5 0,-292.5 0,-286.5 0,-286.5 0,-242.5 0,-242.5 0,-236.5 6,-230.5 12,-230.5 12,-230.5 109,-230.5 109,-230.5 115,-230.5 121,-236.5 121,-242.5 121,-242.5 121,-286.5 121,-286.5 121,-292.5 115,-298.5 109,-298.5\"/>\r\n",
       "<text text-anchor=\"middle\" x=\"60.5\" y=\"-283.3\" font-family=\"Helvetica,sans-Serif\" font-size=\"14.00\">gini = 0.0</text>\r\n",
       "<text text-anchor=\"middle\" x=\"60.5\" y=\"-268.3\" font-family=\"Helvetica,sans-Serif\" font-size=\"14.00\">samples = 33</text>\r\n",
       "<text text-anchor=\"middle\" x=\"60.5\" y=\"-253.3\" font-family=\"Helvetica,sans-Serif\" font-size=\"14.00\">value = [0, 0, 33]</text>\r\n",
       "<text text-anchor=\"middle\" x=\"60.5\" y=\"-238.3\" font-family=\"Helvetica,sans-Serif\" font-size=\"14.00\">class = 泸州老窖</text>\r\n",
       "</g>\r\n",
       "<!-- 1&#45;&gt;2 -->\r\n",
       "<g id=\"edge2\" class=\"edge\"><title>1&#45;&gt;2</title>\r\n",
       "<path fill=\"none\" stroke=\"black\" d=\"M148.662,-341.907C135.039,-330.101 120.173,-317.217 106.596,-305.45\"/>\r\n",
       "<polygon fill=\"black\" stroke=\"black\" points=\"108.619,-302.571 98.7695,-298.667 104.034,-307.861 108.619,-302.571\"/>\r\n",
       "</g>\r\n",
       "<!-- 3 -->\r\n",
       "<g id=\"node4\" class=\"node\"><title>3</title>\r\n",
       "<path fill=\"#d5bdf6\" stroke=\"black\" d=\"M243.5,-298.5C243.5,-298.5 151.5,-298.5 151.5,-298.5 145.5,-298.5 139.5,-292.5 139.5,-286.5 139.5,-286.5 139.5,-242.5 139.5,-242.5 139.5,-236.5 145.5,-230.5 151.5,-230.5 151.5,-230.5 243.5,-230.5 243.5,-230.5 249.5,-230.5 255.5,-236.5 255.5,-242.5 255.5,-242.5 255.5,-286.5 255.5,-286.5 255.5,-292.5 249.5,-298.5 243.5,-298.5\"/>\r\n",
       "<text text-anchor=\"middle\" x=\"197.5\" y=\"-283.3\" font-family=\"Helvetica,sans-Serif\" font-size=\"14.00\">gini = 0.48</text>\r\n",
       "<text text-anchor=\"middle\" x=\"197.5\" y=\"-268.3\" font-family=\"Helvetica,sans-Serif\" font-size=\"14.00\">samples = 5</text>\r\n",
       "<text text-anchor=\"middle\" x=\"197.5\" y=\"-253.3\" font-family=\"Helvetica,sans-Serif\" font-size=\"14.00\">value = [0, 2, 3]</text>\r\n",
       "<text text-anchor=\"middle\" x=\"197.5\" y=\"-238.3\" font-family=\"Helvetica,sans-Serif\" font-size=\"14.00\">class = 泸州老窖</text>\r\n",
       "</g>\r\n",
       "<!-- 1&#45;&gt;3 -->\r\n",
       "<g id=\"edge3\" class=\"edge\"><title>1&#45;&gt;3</title>\r\n",
       "<path fill=\"none\" stroke=\"black\" d=\"M196.194,-341.907C196.377,-331.204 196.575,-319.615 196.76,-308.776\"/>\r\n",
       "<polygon fill=\"black\" stroke=\"black\" points=\"200.262,-308.725 196.933,-298.667 193.263,-308.606 200.262,-308.725\"/>\r\n",
       "</g>\r\n",
       "<!-- 5 -->\r\n",
       "<g id=\"node6\" class=\"node\"><title>5</title>\r\n",
       "<path fill=\"#39e581\" stroke=\"black\" d=\"M386,-298.5C386,-298.5 289,-298.5 289,-298.5 283,-298.5 277,-292.5 277,-286.5 277,-286.5 277,-242.5 277,-242.5 277,-236.5 283,-230.5 289,-230.5 289,-230.5 386,-230.5 386,-230.5 392,-230.5 398,-236.5 398,-242.5 398,-242.5 398,-286.5 398,-286.5 398,-292.5 392,-298.5 386,-298.5\"/>\r\n",
       "<text text-anchor=\"middle\" x=\"337.5\" y=\"-283.3\" font-family=\"Helvetica,sans-Serif\" font-size=\"14.00\">gini = 0.0</text>\r\n",
       "<text text-anchor=\"middle\" x=\"337.5\" y=\"-268.3\" font-family=\"Helvetica,sans-Serif\" font-size=\"14.00\">samples = 38</text>\r\n",
       "<text text-anchor=\"middle\" x=\"337.5\" y=\"-253.3\" font-family=\"Helvetica,sans-Serif\" font-size=\"14.00\">value = [0, 38, 0]</text>\r\n",
       "<text text-anchor=\"middle\" x=\"337.5\" y=\"-238.3\" font-family=\"Helvetica,sans-Serif\" font-size=\"14.00\">class = 五粮液</text>\r\n",
       "</g>\r\n",
       "<!-- 4&#45;&gt;5 -->\r\n",
       "<g id=\"edge5\" class=\"edge\"><title>4&#45;&gt;5</title>\r\n",
       "<path fill=\"none\" stroke=\"black\" d=\"M338.153,-341.907C338.062,-331.204 337.963,-319.615 337.87,-308.776\"/>\r\n",
       "<polygon fill=\"black\" stroke=\"black\" points=\"341.369,-308.637 337.783,-298.667 334.369,-308.697 341.369,-308.637\"/>\r\n",
       "</g>\r\n",
       "<!-- 6 -->\r\n",
       "<g id=\"node7\" class=\"node\"><title>6</title>\r\n",
       "<path fill=\"#e99254\" stroke=\"black\" d=\"M525,-306C525,-306 428,-306 428,-306 422,-306 416,-300 416,-294 416,-294 416,-235 416,-235 416,-229 422,-223 428,-223 428,-223 525,-223 525,-223 531,-223 537,-229 537,-235 537,-235 537,-294 537,-294 537,-300 531,-306 525,-306\"/>\r\n",
       "<text text-anchor=\"middle\" x=\"476.5\" y=\"-290.8\" font-family=\"Helvetica,sans-Serif\" font-size=\"14.00\">脯氨酸 &lt;= 635.0</text>\r\n",
       "<text text-anchor=\"middle\" x=\"476.5\" y=\"-275.8\" font-family=\"Helvetica,sans-Serif\" font-size=\"14.00\">gini = 0.226</text>\r\n",
       "<text text-anchor=\"middle\" x=\"476.5\" y=\"-260.8\" font-family=\"Helvetica,sans-Serif\" font-size=\"14.00\">samples = 48</text>\r\n",
       "<text text-anchor=\"middle\" x=\"476.5\" y=\"-245.8\" font-family=\"Helvetica,sans-Serif\" font-size=\"14.00\">value = [42, 4, 2]</text>\r\n",
       "<text text-anchor=\"middle\" x=\"476.5\" y=\"-230.8\" font-family=\"Helvetica,sans-Serif\" font-size=\"14.00\">class = 茅台</text>\r\n",
       "</g>\r\n",
       "<!-- 4&#45;&gt;6 -->\r\n",
       "<g id=\"edge6\" class=\"edge\"><title>4&#45;&gt;6</title>\r\n",
       "<path fill=\"none\" stroke=\"black\" d=\"M386.378,-341.907C397.511,-332.469 409.454,-322.343 420.888,-312.649\"/>\r\n",
       "<polygon fill=\"black\" stroke=\"black\" points=\"423.342,-315.157 428.706,-306.021 418.815,-309.818 423.342,-315.157\"/>\r\n",
       "</g>\r\n",
       "<!-- 7 -->\r\n",
       "<g id=\"node8\" class=\"node\"><title>7</title>\r\n",
       "<path fill=\"#6aeca0\" stroke=\"black\" d=\"M429,-179.5C429,-179.5 340,-179.5 340,-179.5 334,-179.5 328,-173.5 328,-167.5 328,-167.5 328,-123.5 328,-123.5 328,-117.5 334,-111.5 340,-111.5 340,-111.5 429,-111.5 429,-111.5 435,-111.5 441,-117.5 441,-123.5 441,-123.5 441,-167.5 441,-167.5 441,-173.5 435,-179.5 429,-179.5\"/>\r\n",
       "<text text-anchor=\"middle\" x=\"384.5\" y=\"-164.3\" font-family=\"Helvetica,sans-Serif\" font-size=\"14.00\">gini = 0.32</text>\r\n",
       "<text text-anchor=\"middle\" x=\"384.5\" y=\"-149.3\" font-family=\"Helvetica,sans-Serif\" font-size=\"14.00\">samples = 5</text>\r\n",
       "<text text-anchor=\"middle\" x=\"384.5\" y=\"-134.3\" font-family=\"Helvetica,sans-Serif\" font-size=\"14.00\">value = [0, 4, 1]</text>\r\n",
       "<text text-anchor=\"middle\" x=\"384.5\" y=\"-119.3\" font-family=\"Helvetica,sans-Serif\" font-size=\"14.00\">class = 五粮液</text>\r\n",
       "</g>\r\n",
       "<!-- 6&#45;&gt;7 -->\r\n",
       "<g id=\"edge7\" class=\"edge\"><title>6&#45;&gt;7</title>\r\n",
       "<path fill=\"none\" stroke=\"black\" d=\"M444.581,-222.907C435.644,-211.542 425.922,-199.178 416.955,-187.774\"/>\r\n",
       "<polygon fill=\"black\" stroke=\"black\" points=\"419.513,-185.364 410.58,-179.667 414.01,-189.691 419.513,-185.364\"/>\r\n",
       "</g>\r\n",
       "<!-- 8 -->\r\n",
       "<g id=\"node9\" class=\"node\"><title>8</title>\r\n",
       "<path fill=\"#e6843e\" stroke=\"black\" d=\"M666,-187C666,-187 471,-187 471,-187 465,-187 459,-181 459,-175 459,-175 459,-116 459,-116 459,-110 465,-104 471,-104 471,-104 666,-104 666,-104 672,-104 678,-110 678,-116 678,-116 678,-175 678,-175 678,-181 672,-187 666,-187\"/>\r\n",
       "<text text-anchor=\"middle\" x=\"568.5\" y=\"-171.8\" font-family=\"Helvetica,sans-Serif\" font-size=\"14.00\">od280/od315稀释葡萄酒 &lt;= 2.75</text>\r\n",
       "<text text-anchor=\"middle\" x=\"568.5\" y=\"-156.8\" font-family=\"Helvetica,sans-Serif\" font-size=\"14.00\">gini = 0.045</text>\r\n",
       "<text text-anchor=\"middle\" x=\"568.5\" y=\"-141.8\" font-family=\"Helvetica,sans-Serif\" font-size=\"14.00\">samples = 43</text>\r\n",
       "<text text-anchor=\"middle\" x=\"568.5\" y=\"-126.8\" font-family=\"Helvetica,sans-Serif\" font-size=\"14.00\">value = [42, 0, 1]</text>\r\n",
       "<text text-anchor=\"middle\" x=\"568.5\" y=\"-111.8\" font-family=\"Helvetica,sans-Serif\" font-size=\"14.00\">class = 茅台</text>\r\n",
       "</g>\r\n",
       "<!-- 6&#45;&gt;8 -->\r\n",
       "<g id=\"edge8\" class=\"edge\"><title>6&#45;&gt;8</title>\r\n",
       "<path fill=\"none\" stroke=\"black\" d=\"M508.419,-222.907C515.484,-213.923 523.039,-204.315 530.324,-195.05\"/>\r\n",
       "<polygon fill=\"black\" stroke=\"black\" points=\"533.208,-197.045 536.637,-187.021 527.705,-192.718 533.208,-197.045\"/>\r\n",
       "</g>\r\n",
       "<!-- 9 -->\r\n",
       "<g id=\"node10\" class=\"node\"><title>9</title>\r\n",
       "<path fill=\"#eca06a\" stroke=\"black\" d=\"M545,-68C545,-68 456,-68 456,-68 450,-68 444,-62 444,-56 444,-56 444,-12 444,-12 444,-6 450,-0 456,-0 456,-0 545,-0 545,-0 551,-0 557,-6 557,-12 557,-12 557,-56 557,-56 557,-62 551,-68 545,-68\"/>\r\n",
       "<text text-anchor=\"middle\" x=\"500.5\" y=\"-52.8\" font-family=\"Helvetica,sans-Serif\" font-size=\"14.00\">gini = 0.32</text>\r\n",
       "<text text-anchor=\"middle\" x=\"500.5\" y=\"-37.8\" font-family=\"Helvetica,sans-Serif\" font-size=\"14.00\">samples = 5</text>\r\n",
       "<text text-anchor=\"middle\" x=\"500.5\" y=\"-22.8\" font-family=\"Helvetica,sans-Serif\" font-size=\"14.00\">value = [4, 0, 1]</text>\r\n",
       "<text text-anchor=\"middle\" x=\"500.5\" y=\"-7.8\" font-family=\"Helvetica,sans-Serif\" font-size=\"14.00\">class = 茅台</text>\r\n",
       "</g>\r\n",
       "<!-- 8&#45;&gt;9 -->\r\n",
       "<g id=\"edge9\" class=\"edge\"><title>8&#45;&gt;9</title>\r\n",
       "<path fill=\"none\" stroke=\"black\" d=\"M543.179,-103.726C537.742,-94.9703 531.987,-85.7032 526.523,-76.9051\"/>\r\n",
       "<polygon fill=\"black\" stroke=\"black\" points=\"529.428,-74.9484 521.179,-68.2996 523.481,-78.6413 529.428,-74.9484\"/>\r\n",
       "</g>\r\n",
       "<!-- 10 -->\r\n",
       "<g id=\"node11\" class=\"node\"><title>10</title>\r\n",
       "<path fill=\"#e58139\" stroke=\"black\" d=\"M684,-68C684,-68 587,-68 587,-68 581,-68 575,-62 575,-56 575,-56 575,-12 575,-12 575,-6 581,-0 587,-0 587,-0 684,-0 684,-0 690,-0 696,-6 696,-12 696,-12 696,-56 696,-56 696,-62 690,-68 684,-68\"/>\r\n",
       "<text text-anchor=\"middle\" x=\"635.5\" y=\"-52.8\" font-family=\"Helvetica,sans-Serif\" font-size=\"14.00\">gini = 0.0</text>\r\n",
       "<text text-anchor=\"middle\" x=\"635.5\" y=\"-37.8\" font-family=\"Helvetica,sans-Serif\" font-size=\"14.00\">samples = 38</text>\r\n",
       "<text text-anchor=\"middle\" x=\"635.5\" y=\"-22.8\" font-family=\"Helvetica,sans-Serif\" font-size=\"14.00\">value = [38, 0, 0]</text>\r\n",
       "<text text-anchor=\"middle\" x=\"635.5\" y=\"-7.8\" font-family=\"Helvetica,sans-Serif\" font-size=\"14.00\">class = 茅台</text>\r\n",
       "</g>\r\n",
       "<!-- 8&#45;&gt;10 -->\r\n",
       "<g id=\"edge10\" class=\"edge\"><title>8&#45;&gt;10</title>\r\n",
       "<path fill=\"none\" stroke=\"black\" d=\"M593.448,-103.726C598.806,-94.9703 604.476,-85.7032 609.859,-76.9051\"/>\r\n",
       "<polygon fill=\"black\" stroke=\"black\" points=\"612.891,-78.6563 615.125,-68.2996 606.92,-75.0028 612.891,-78.6563\"/>\r\n",
       "</g>\r\n",
       "</g>\r\n",
       "</svg>\r\n"
      ],
      "text/plain": [
       "<graphviz.files.Source at 0x20bc1c0b8d0>"
      ]
     },
     "execution_count": 124,
     "metadata": {},
     "output_type": "execute_result"
    }
   ],
   "source": [
    "graph, score = draw_graph(random_state=30,\n",
    "                          splitter='best',\n",
    "                          max_depth=4,\n",
    "                          min_samples_leaf=5,\n",
    "                          min_samples_split=2\n",
    "                          )\n",
    "graph"
   ]
  },
  {
   "cell_type": "code",
   "execution_count": 125,
   "metadata": {
    "ExecuteTime": {
     "end_time": "2019-11-29T12:13:00.446355Z",
     "start_time": "2019-11-29T12:13:00.428280Z"
    }
   },
   "outputs": [
    {
     "data": {
      "text/plain": [
       "0.8518518518518519"
      ]
     },
     "execution_count": 125,
     "metadata": {},
     "output_type": "execute_result"
    }
   ],
   "source": [
    "score"
   ]
  },
  {
   "cell_type": "markdown",
   "metadata": {},
   "source": [
    "#### 确定最优参数"
   ]
  },
  {
   "cell_type": "code",
   "execution_count": 131,
   "metadata": {
    "ExecuteTime": {
     "end_time": "2019-11-29T12:18:16.735445Z",
     "start_time": "2019-11-29T12:18:16.336996Z"
    }
   },
   "outputs": [
    {
     "data": {
      "image/png": "[encoded data removed]",
      "text/plain": [
       "<Figure size 432x288 with 1 Axes>"
      ]
     },
     "metadata": {
      "needs_background": "light"
     },
     "output_type": "display_data"
    }
   ],
   "source": [
    "import matplotlib.pyplot as plt\n",
    "test = []\n",
    "for i in range(10):\n",
    "    clf = tree.DecisionTreeClassifier(max_depth=i+1\n",
    "                                    ,criterion=\"entropy\"\n",
    "                                    ,random_state=30\n",
    "                                    ,splitter=\"random\"\n",
    "                                    )\n",
    "    clf = clf.fit(x_train, y_train)\n",
    "    score = clf.score(x_test, y_test)\n",
    "    test.append(score)\n",
    "plt.plot(range(1,11),test,color=\"red\",label=\"max_depth\")\n",
    "plt.legend()\n",
    "plt.show()"
   ]
  },
  {
   "cell_type": "code",
   "execution_count": 132,
   "metadata": {
    "ExecuteTime": {
     "end_time": "2019-11-29T12:19:07.143425Z",
     "start_time": "2019-11-29T12:19:07.134342Z"
    }
   },
   "outputs": [],
   "source": [
    "clf = tree.DecisionTreeClassifier(max_depth=4\n",
    "                                ,criterion=\"entropy\"\n",
    "                                ,random_state=30\n",
    "                                ,splitter=\"random\"\n",
    "                                )\n",
    "clf = clf.fit(x_train, y_train)"
   ]
  },
  {
   "cell_type": "code",
   "execution_count": 135,
   "metadata": {
    "ExecuteTime": {
     "end_time": "2019-11-29T12:19:37.251784Z",
     "start_time": "2019-11-29T12:19:37.244829Z"
    }
   },
   "outputs": [
    {
     "data": {
      "text/plain": [
       "0.8888888888888888"
      ]
     },
     "execution_count": 135,
     "metadata": {},
     "output_type": "execute_result"
    }
   ],
   "source": [
    "clf.score(x_train, y_train)\n",
    "clf.score(x_test, y_test)"
   ]
  },
  {
   "cell_type": "markdown",
   "metadata": {},
   "source": [
    "#### 重要属性和接口"
   ]
  },
  {
   "cell_type": "markdown",
   "metadata": {},
   "source": [
    "属性是在模型训练之后，能够调用查看的模型的各种性质。对决策树来说，最重要的是feature_importances_，能\n",
    "够查看各个特征对模型的重要性。  \n",
    "\n",
    "sklearn中许多算法的接口都是相似的，比如说我们之前已经用到的fit和score，几乎对每个算法都可以使用。除了\n",
    "这两个接口之外，决策树最常用的接口还有apply和predict。apply中输入测试集返回每个测试样本所在的叶子节点的索引，predict输入测试集返回每个测试样本的标签。返回的内容一目了然并且非常容易。   \n",
    "在这里不得不提的是，**所有接口中要求输入X_train和X_test的部分，输入的特征矩阵必须至少是一个二维矩阵。\n",
    "sklearn不接受任何一维矩阵作为特征矩阵被输入**。如果你的数据的确只有一个特征，那必须用reshape(-1,1)来给\n",
    "矩阵增维；如果你的数据只有一个特征和一个样本，使用reshape(1,-1)来给你的数据增维。"
   ]
  },
  {
   "cell_type": "code",
   "execution_count": 160,
   "metadata": {
    "ExecuteTime": {
     "end_time": "2019-11-29T12:36:37.683089Z",
     "start_time": "2019-11-29T12:36:37.661800Z"
    }
   },
   "outputs": [
    {
     "data": {
      "text/plain": [
       "array([ 3, 16,  3, 19,  5, 14, 20, 16,  3, 14, 16, 10, 20, 20,  6, 20, 10,\n",
       "       20, 20,  6,  5, 17, 16, 14, 20,  6,  5, 20, 14,  3,  9, 20, 10, 20,\n",
       "       16, 14, 19, 16, 10, 20,  3, 20, 17, 20, 20, 20,  3, 20, 14, 20, 20,\n",
       "       16, 16,  3], dtype=int64)"
      ]
     },
     "execution_count": 160,
     "metadata": {},
     "output_type": "execute_result"
    }
   ],
   "source": [
    "#apply返回每个测试样本所在的叶子节点的索引\n",
    "clf.apply(x_test)"
   ]
  },
  {
   "cell_type": "code",
   "execution_count": 143,
   "metadata": {
    "ExecuteTime": {
     "end_time": "2019-11-29T12:28:42.779070Z",
     "start_time": "2019-11-29T12:28:42.762648Z"
    }
   },
   "outputs": [
    {
     "data": {
      "text/plain": [
       "array([2, 1, 2, 1, 2, 1, 0, 1, 2, 1, 1, 1, 0, 0, 1, 0, 1, 0, 0, 1, 2, 0,\n",
       "       1, 1, 0, 1, 2, 0, 1, 2, 2, 0, 1, 0, 1, 1, 1, 1, 1, 0, 2, 0, 0, 0,\n",
       "       0, 0, 2, 0, 1, 0, 0, 1, 1, 2])"
      ]
     },
     "execution_count": 143,
     "metadata": {},
     "output_type": "execute_result"
    }
   ],
   "source": [
    "clf.predict(x_test)"
   ]
  },
  {
   "cell_type": "code",
   "execution_count": 153,
   "metadata": {
    "ExecuteTime": {
     "end_time": "2019-11-29T12:31:53.217540Z",
     "start_time": "2019-11-29T12:31:52.925443Z"
    }
   },
   "outputs": [
    {
     "data": {
      "image/svg+xml": [
       "<?xml version=\"1.0\" encoding=\"UTF-8\" standalone=\"no\"?>\r\n",
       "<!DOCTYPE svg PUBLIC \"-//W3C//DTD SVG 1.1//EN\"\r\n",
       " \"http://www.w3.org/Graphics/SVG/1.1/DTD/svg11.dtd\">\r\n",
       "<!-- Generated by graphviz version 2.38.0 (20140413.2041)\r\n",
       " -->\r\n",
       "<!-- Title: Tree Pages: 1 -->\r\n",
       "<svg width=\"1096pt\" height=\"477pt\"\r\n",
       " viewBox=\"0.00 0.00 1096.00 477.00\" xmlns=\"http://www.w3.org/2000/svg\" xmlns:xlink=\"http://www.w3.org/1999/xlink\">\r\n",
       "<g id=\"graph0\" class=\"graph\" transform=\"scale(1 1) rotate(0) translate(4 473)\">\r\n",
       "<title>Tree</title>\r\n",
       "<polygon fill=\"white\" stroke=\"none\" points=\"-4,4 -4,-473 1092,-473 1092,4 -4,4\"/>\r\n",
       "<!-- 0 -->\r\n",
       "<g id=\"node1\" class=\"node\"><title>0</title>\r\n",
       "<polygon fill=\"#fafefc\" stroke=\"black\" points=\"562.5,-469 437.5,-469 437.5,-401 562.5,-401 562.5,-469\"/>\r\n",
       "<text text-anchor=\"middle\" x=\"500\" y=\"-453.8\" font-family=\"Times New Roman,serif\" font-size=\"14.00\">类黄酮 &lt;= 1.714</text>\r\n",
       "<text text-anchor=\"middle\" x=\"500\" y=\"-438.8\" font-family=\"Times New Roman,serif\" font-size=\"14.00\">entropy = 1.582</text>\r\n",
       "<text text-anchor=\"middle\" x=\"500\" y=\"-423.8\" font-family=\"Times New Roman,serif\" font-size=\"14.00\">samples = 124</text>\r\n",
       "<text text-anchor=\"middle\" x=\"500\" y=\"-408.8\" font-family=\"Times New Roman,serif\" font-size=\"14.00\">value = [42, 44, 38]</text>\r\n",
       "</g>\r\n",
       "<!-- 1 -->\r\n",
       "<g id=\"node2\" class=\"node\"><title>1</title>\r\n",
       "<polygon fill=\"#b387ef\" stroke=\"black\" points=\"496.5,-365 287.5,-365 287.5,-297 496.5,-297 496.5,-365\"/>\r\n",
       "<text text-anchor=\"middle\" x=\"392\" y=\"-349.8\" font-family=\"Times New Roman,serif\" font-size=\"14.00\">od280/od315稀释葡萄酒 &lt;= 2.112</text>\r\n",
       "<text text-anchor=\"middle\" x=\"392\" y=\"-334.8\" font-family=\"Times New Roman,serif\" font-size=\"14.00\">entropy = 0.86</text>\r\n",
       "<text text-anchor=\"middle\" x=\"392\" y=\"-319.8\" font-family=\"Times New Roman,serif\" font-size=\"14.00\">samples = 53</text>\r\n",
       "<text text-anchor=\"middle\" x=\"392\" y=\"-304.8\" font-family=\"Times New Roman,serif\" font-size=\"14.00\">value = [0, 15, 38]</text>\r\n",
       "</g>\r\n",
       "<!-- 0&#45;&gt;1 -->\r\n",
       "<g id=\"edge1\" class=\"edge\"><title>0&#45;&gt;1</title>\r\n",
       "<path fill=\"none\" stroke=\"black\" d=\"M464.935,-400.884C455.316,-391.798 444.778,-381.845 434.777,-372.4\"/>\r\n",
       "<polygon fill=\"black\" stroke=\"black\" points=\"436.931,-369.621 427.258,-365.299 432.125,-374.71 436.931,-369.621\"/>\r\n",
       "<text text-anchor=\"middle\" x=\"427.972\" y=\"-386.589\" font-family=\"Times New Roman,serif\" font-size=\"14.00\">True</text>\r\n",
       "</g>\r\n",
       "<!-- 12 -->\r\n",
       "<g id=\"node13\" class=\"node\"><title>12</title>\r\n",
       "<polygon fill=\"#f7d8c2\" stroke=\"black\" points=\"667.5,-365 548.5,-365 548.5,-297 667.5,-297 667.5,-365\"/>\r\n",
       "<text text-anchor=\"middle\" x=\"608\" y=\"-349.8\" font-family=\"Times New Roman,serif\" font-size=\"14.00\">酒精 &lt;= 12.925</text>\r\n",
       "<text text-anchor=\"middle\" x=\"608\" y=\"-334.8\" font-family=\"Times New Roman,serif\" font-size=\"14.00\">entropy = 0.976</text>\r\n",
       "<text text-anchor=\"middle\" x=\"608\" y=\"-319.8\" font-family=\"Times New Roman,serif\" font-size=\"14.00\">samples = 71</text>\r\n",
       "<text text-anchor=\"middle\" x=\"608\" y=\"-304.8\" font-family=\"Times New Roman,serif\" font-size=\"14.00\">value = [42, 29, 0]</text>\r\n",
       "</g>\r\n",
       "<!-- 0&#45;&gt;12 -->\r\n",
       "<g id=\"edge12\" class=\"edge\"><title>0&#45;&gt;12</title>\r\n",
       "<path fill=\"none\" stroke=\"black\" d=\"M535.065,-400.884C544.684,-391.798 555.222,-381.845 565.223,-372.4\"/>\r\n",
       "<polygon fill=\"black\" stroke=\"black\" points=\"567.875,-374.71 572.742,-365.299 563.069,-369.621 567.875,-374.71\"/>\r\n",
       "<text text-anchor=\"middle\" x=\"572.028\" y=\"-386.589\" font-family=\"Times New Roman,serif\" font-size=\"14.00\">False</text>\r\n",
       "</g>\r\n",
       "<!-- 2 -->\r\n",
       "<g id=\"node3\" class=\"node\"><title>2</title>\r\n",
       "<polygon fill=\"#8c49e7\" stroke=\"black\" points=\"239,-261 127,-261 127,-193 239,-193 239,-261\"/>\r\n",
       "<text text-anchor=\"middle\" x=\"183\" y=\"-245.8\" font-family=\"Times New Roman,serif\" font-size=\"14.00\">色调 &lt;= 0.81</text>\r\n",
       "<text text-anchor=\"middle\" x=\"183\" y=\"-230.8\" font-family=\"Times New Roman,serif\" font-size=\"14.00\">entropy = 0.391</text>\r\n",
       "<text text-anchor=\"middle\" x=\"183\" y=\"-215.8\" font-family=\"Times New Roman,serif\" font-size=\"14.00\">samples = 39</text>\r\n",
       "<text text-anchor=\"middle\" x=\"183\" y=\"-200.8\" font-family=\"Times New Roman,serif\" font-size=\"14.00\">value = [0, 3, 36]</text>\r\n",
       "</g>\r\n",
       "<!-- 1&#45;&gt;2 -->\r\n",
       "<g id=\"edge2\" class=\"edge\"><title>1&#45;&gt;2</title>\r\n",
       "<path fill=\"none\" stroke=\"black\" d=\"M324.144,-296.884C299.835,-285.02 272.497,-271.678 248.4,-259.918\"/>\r\n",
       "<polygon fill=\"black\" stroke=\"black\" points=\"249.859,-256.735 239.337,-255.495 246.789,-263.026 249.859,-256.735\"/>\r\n",
       "</g>\r\n",
       "<!-- 7 -->\r\n",
       "<g id=\"node8\" class=\"node\"><title>7</title>\r\n",
       "<polygon fill=\"#5ae996\" stroke=\"black\" points=\"448,-261 336,-261 336,-193 448,-193 448,-261\"/>\r\n",
       "<text text-anchor=\"middle\" x=\"392\" y=\"-245.8\" font-family=\"Times New Roman,serif\" font-size=\"14.00\">酒精 &lt;= 13.198</text>\r\n",
       "<text text-anchor=\"middle\" x=\"392\" y=\"-230.8\" font-family=\"Times New Roman,serif\" font-size=\"14.00\">entropy = 0.592</text>\r\n",
       "<text text-anchor=\"middle\" x=\"392\" y=\"-215.8\" font-family=\"Times New Roman,serif\" font-size=\"14.00\">samples = 14</text>\r\n",
       "<text text-anchor=\"middle\" x=\"392\" y=\"-200.8\" font-family=\"Times New Roman,serif\" font-size=\"14.00\">value = [0, 12, 2]</text>\r\n",
       "</g>\r\n",
       "<!-- 1&#45;&gt;7 -->\r\n",
       "<g id=\"edge7\" class=\"edge\"><title>1&#45;&gt;7</title>\r\n",
       "<path fill=\"none\" stroke=\"black\" d=\"M392,-296.884C392,-288.778 392,-279.982 392,-271.472\"/>\r\n",
       "<polygon fill=\"black\" stroke=\"black\" points=\"395.5,-271.299 392,-261.299 388.5,-271.299 395.5,-271.299\"/>\r\n",
       "</g>\r\n",
       "<!-- 3 -->\r\n",
       "<g id=\"node4\" class=\"node\"><title>3</title>\r\n",
       "<polygon fill=\"#8139e5\" stroke=\"black\" points=\"112,-149.5 7.10543e-015,-149.5 7.10543e-015,-96.5 112,-96.5 112,-149.5\"/>\r\n",
       "<text text-anchor=\"middle\" x=\"56\" y=\"-134.3\" font-family=\"Times New Roman,serif\" font-size=\"14.00\">entropy = 0.0</text>\r\n",
       "<text text-anchor=\"middle\" x=\"56\" y=\"-119.3\" font-family=\"Times New Roman,serif\" font-size=\"14.00\">samples = 31</text>\r\n",
       "<text text-anchor=\"middle\" x=\"56\" y=\"-104.3\" font-family=\"Times New Roman,serif\" font-size=\"14.00\">value = [0, 0, 31]</text>\r\n",
       "</g>\r\n",
       "<!-- 2&#45;&gt;3 -->\r\n",
       "<g id=\"edge3\" class=\"edge\"><title>2&#45;&gt;3</title>\r\n",
       "<path fill=\"none\" stroke=\"black\" d=\"M141.767,-192.884C126.978,-181.006 110.344,-167.646 95.6887,-155.876\"/>\r\n",
       "<polygon fill=\"black\" stroke=\"black\" points=\"97.7632,-153.053 87.7748,-149.52 93.3799,-158.511 97.7632,-153.053\"/>\r\n",
       "</g>\r\n",
       "<!-- 4 -->\r\n",
       "<g id=\"node5\" class=\"node\"><title>4</title>\r\n",
       "<polygon fill=\"#cdb0f5\" stroke=\"black\" points=\"236,-157 130,-157 130,-89 236,-89 236,-157\"/>\r\n",
       "<text text-anchor=\"middle\" x=\"183\" y=\"-141.8\" font-family=\"Times New Roman,serif\" font-size=\"14.00\">类黄酮 &lt;= 0.81</text>\r\n",
       "<text text-anchor=\"middle\" x=\"183\" y=\"-126.8\" font-family=\"Times New Roman,serif\" font-size=\"14.00\">entropy = 0.954</text>\r\n",
       "<text text-anchor=\"middle\" x=\"183\" y=\"-111.8\" font-family=\"Times New Roman,serif\" font-size=\"14.00\">samples = 8</text>\r\n",
       "<text text-anchor=\"middle\" x=\"183\" y=\"-96.8\" font-family=\"Times New Roman,serif\" font-size=\"14.00\">value = [0, 3, 5]</text>\r\n",
       "</g>\r\n",
       "<!-- 2&#45;&gt;4 -->\r\n",
       "<g id=\"edge4\" class=\"edge\"><title>2&#45;&gt;4</title>\r\n",
       "<path fill=\"none\" stroke=\"black\" d=\"M183,-192.884C183,-184.778 183,-175.982 183,-167.472\"/>\r\n",
       "<polygon fill=\"black\" stroke=\"black\" points=\"186.5,-167.299 183,-157.299 179.5,-167.299 186.5,-167.299\"/>\r\n",
       "</g>\r\n",
       "<!-- 5 -->\r\n",
       "<g id=\"node6\" class=\"node\"><title>5</title>\r\n",
       "<polygon fill=\"#8139e5\" stroke=\"black\" points=\"112.5,-53 7.5,-53 7.5,-0 112.5,-0 112.5,-53\"/>\r\n",
       "<text text-anchor=\"middle\" x=\"60\" y=\"-37.8\" font-family=\"Times New Roman,serif\" font-size=\"14.00\">entropy = 0.0</text>\r\n",
       "<text text-anchor=\"middle\" x=\"60\" y=\"-22.8\" font-family=\"Times New Roman,serif\" font-size=\"14.00\">samples = 4</text>\r\n",
       "<text text-anchor=\"middle\" x=\"60\" y=\"-7.8\" font-family=\"Times New Roman,serif\" font-size=\"14.00\">value = [0, 0, 4]</text>\r\n",
       "</g>\r\n",
       "<!-- 4&#45;&gt;5 -->\r\n",
       "<g id=\"edge5\" class=\"edge\"><title>4&#45;&gt;5</title>\r\n",
       "<path fill=\"none\" stroke=\"black\" d=\"M139.981,-88.9485C127.478,-79.3431 113.853,-68.8747 101.449,-59.345\"/>\r\n",
       "<polygon fill=\"black\" stroke=\"black\" points=\"103.561,-56.5537 93.4986,-53.2367 99.2961,-62.1046 103.561,-56.5537\"/>\r\n",
       "</g>\r\n",
       "<!-- 6 -->\r\n",
       "<g id=\"node7\" class=\"node\"><title>6</title>\r\n",
       "<polygon fill=\"#7beeab\" stroke=\"black\" points=\"237,-53 131,-53 131,-0 237,-0 237,-53\"/>\r\n",
       "<text text-anchor=\"middle\" x=\"184\" y=\"-37.8\" font-family=\"Times New Roman,serif\" font-size=\"14.00\">entropy = 0.811</text>\r\n",
       "<text text-anchor=\"middle\" x=\"184\" y=\"-22.8\" font-family=\"Times New Roman,serif\" font-size=\"14.00\">samples = 4</text>\r\n",
       "<text text-anchor=\"middle\" x=\"184\" y=\"-7.8\" font-family=\"Times New Roman,serif\" font-size=\"14.00\">value = [0, 3, 1]</text>\r\n",
       "</g>\r\n",
       "<!-- 4&#45;&gt;6 -->\r\n",
       "<g id=\"edge6\" class=\"edge\"><title>4&#45;&gt;6</title>\r\n",
       "<path fill=\"none\" stroke=\"black\" d=\"M183.35,-88.9485C183.437,-80.7153 183.531,-71.848 183.619,-63.4814\"/>\r\n",
       "<polygon fill=\"black\" stroke=\"black\" points=\"187.122,-63.2732 183.728,-53.2367 180.122,-63.1991 187.122,-63.2732\"/>\r\n",
       "</g>\r\n",
       "<!-- 8 -->\r\n",
       "<g id=\"node9\" class=\"node\"><title>8</title>\r\n",
       "<polygon fill=\"#49e78c\" stroke=\"black\" points=\"366,-157 254,-157 254,-89 366,-89 366,-157\"/>\r\n",
       "<text text-anchor=\"middle\" x=\"310\" y=\"-141.8\" font-family=\"Times New Roman,serif\" font-size=\"14.00\">类黄酮 &lt;= 0.817</text>\r\n",
       "<text text-anchor=\"middle\" x=\"310\" y=\"-126.8\" font-family=\"Times New Roman,serif\" font-size=\"14.00\">entropy = 0.391</text>\r\n",
       "<text text-anchor=\"middle\" x=\"310\" y=\"-111.8\" font-family=\"Times New Roman,serif\" font-size=\"14.00\">samples = 13</text>\r\n",
       "<text text-anchor=\"middle\" x=\"310\" y=\"-96.8\" font-family=\"Times New Roman,serif\" font-size=\"14.00\">value = [0, 12, 1]</text>\r\n",
       "</g>\r\n",
       "<!-- 7&#45;&gt;8 -->\r\n",
       "<g id=\"edge8\" class=\"edge\"><title>7&#45;&gt;8</title>\r\n",
       "<path fill=\"none\" stroke=\"black\" d=\"M365.377,-192.884C358.288,-184.065 350.542,-174.43 343.15,-165.235\"/>\r\n",
       "<polygon fill=\"black\" stroke=\"black\" points=\"345.764,-162.9 336.77,-157.299 340.308,-167.286 345.764,-162.9\"/>\r\n",
       "</g>\r\n",
       "<!-- 11 -->\r\n",
       "<g id=\"node12\" class=\"node\"><title>11</title>\r\n",
       "<polygon fill=\"#8139e5\" stroke=\"black\" points=\"489.5,-149.5 384.5,-149.5 384.5,-96.5 489.5,-96.5 489.5,-149.5\"/>\r\n",
       "<text text-anchor=\"middle\" x=\"437\" y=\"-134.3\" font-family=\"Times New Roman,serif\" font-size=\"14.00\">entropy = 0.0</text>\r\n",
       "<text text-anchor=\"middle\" x=\"437\" y=\"-119.3\" font-family=\"Times New Roman,serif\" font-size=\"14.00\">samples = 1</text>\r\n",
       "<text text-anchor=\"middle\" x=\"437\" y=\"-104.3\" font-family=\"Times New Roman,serif\" font-size=\"14.00\">value = [0, 0, 1]</text>\r\n",
       "</g>\r\n",
       "<!-- 7&#45;&gt;11 -->\r\n",
       "<g id=\"edge11\" class=\"edge\"><title>7&#45;&gt;11</title>\r\n",
       "<path fill=\"none\" stroke=\"black\" d=\"M406.61,-192.884C411.414,-181.996 416.766,-169.863 421.625,-158.85\"/>\r\n",
       "<polygon fill=\"black\" stroke=\"black\" points=\"424.907,-160.082 425.741,-149.52 418.503,-157.256 424.907,-160.082\"/>\r\n",
       "</g>\r\n",
       "<!-- 9 -->\r\n",
       "<g id=\"node10\" class=\"node\"><title>9</title>\r\n",
       "<polygon fill=\"#8139e5\" stroke=\"black\" points=\"361.5,-53 256.5,-53 256.5,-0 361.5,-0 361.5,-53\"/>\r\n",
       "<text text-anchor=\"middle\" x=\"309\" y=\"-37.8\" font-family=\"Times New Roman,serif\" font-size=\"14.00\">entropy = 0.0</text>\r\n",
       "<text text-anchor=\"middle\" x=\"309\" y=\"-22.8\" font-family=\"Times New Roman,serif\" font-size=\"14.00\">samples = 1</text>\r\n",
       "<text text-anchor=\"middle\" x=\"309\" y=\"-7.8\" font-family=\"Times New Roman,serif\" font-size=\"14.00\">value = [0, 0, 1]</text>\r\n",
       "</g>\r\n",
       "<!-- 8&#45;&gt;9 -->\r\n",
       "<g id=\"edge9\" class=\"edge\"><title>8&#45;&gt;9</title>\r\n",
       "<path fill=\"none\" stroke=\"black\" d=\"M309.65,-88.9485C309.563,-80.7153 309.469,-71.848 309.381,-63.4814\"/>\r\n",
       "<polygon fill=\"black\" stroke=\"black\" points=\"312.878,-63.1991 309.272,-53.2367 305.878,-63.2732 312.878,-63.1991\"/>\r\n",
       "</g>\r\n",
       "<!-- 10 -->\r\n",
       "<g id=\"node11\" class=\"node\"><title>10</title>\r\n",
       "<polygon fill=\"#39e581\" stroke=\"black\" points=\"492,-53 380,-53 380,-0 492,-0 492,-53\"/>\r\n",
       "<text text-anchor=\"middle\" x=\"436\" y=\"-37.8\" font-family=\"Times New Roman,serif\" font-size=\"14.00\">entropy = 0.0</text>\r\n",
       "<text text-anchor=\"middle\" x=\"436\" y=\"-22.8\" font-family=\"Times New Roman,serif\" font-size=\"14.00\">samples = 12</text>\r\n",
       "<text text-anchor=\"middle\" x=\"436\" y=\"-7.8\" font-family=\"Times New Roman,serif\" font-size=\"14.00\">value = [0, 12, 0]</text>\r\n",
       "</g>\r\n",
       "<!-- 8&#45;&gt;10 -->\r\n",
       "<g id=\"edge10\" class=\"edge\"><title>8&#45;&gt;10</title>\r\n",
       "<path fill=\"none\" stroke=\"black\" d=\"M354.069,-88.9485C366.876,-79.3431 380.834,-68.8747 393.54,-59.345\"/>\r\n",
       "<polygon fill=\"black\" stroke=\"black\" points=\"395.784,-62.0368 401.684,-53.2367 391.584,-56.4367 395.784,-62.0368\"/>\r\n",
       "</g>\r\n",
       "<!-- 13 -->\r\n",
       "<g id=\"node14\" class=\"node\"><title>13</title>\r\n",
       "<polygon fill=\"#41e686\" stroke=\"black\" points=\"664,-261 552,-261 552,-193 664,-193 664,-261\"/>\r\n",
       "<text text-anchor=\"middle\" x=\"608\" y=\"-245.8\" font-family=\"Times New Roman,serif\" font-size=\"14.00\">灰 &lt;= 2.26</text>\r\n",
       "<text text-anchor=\"middle\" x=\"608\" y=\"-230.8\" font-family=\"Times New Roman,serif\" font-size=\"14.00\">entropy = 0.235</text>\r\n",
       "<text text-anchor=\"middle\" x=\"608\" y=\"-215.8\" font-family=\"Times New Roman,serif\" font-size=\"14.00\">samples = 26</text>\r\n",
       "<text text-anchor=\"middle\" x=\"608\" y=\"-200.8\" font-family=\"Times New Roman,serif\" font-size=\"14.00\">value = [1, 25, 0]</text>\r\n",
       "</g>\r\n",
       "<!-- 12&#45;&gt;13 -->\r\n",
       "<g id=\"edge13\" class=\"edge\"><title>12&#45;&gt;13</title>\r\n",
       "<path fill=\"none\" stroke=\"black\" d=\"M608,-296.884C608,-288.778 608,-279.982 608,-271.472\"/>\r\n",
       "<polygon fill=\"black\" stroke=\"black\" points=\"611.5,-271.299 608,-261.299 604.5,-271.299 611.5,-271.299\"/>\r\n",
       "</g>\r\n",
       "<!-- 18 -->\r\n",
       "<g id=\"node19\" class=\"node\"><title>18</title>\r\n",
       "<polygon fill=\"#e88d4c\" stroke=\"black\" points=\"961,-261 849,-261 849,-193 961,-193 961,-261\"/>\r\n",
       "<text text-anchor=\"middle\" x=\"905\" y=\"-245.8\" font-family=\"Times New Roman,serif\" font-size=\"14.00\">镁 &lt;= 89.942</text>\r\n",
       "<text text-anchor=\"middle\" x=\"905\" y=\"-230.8\" font-family=\"Times New Roman,serif\" font-size=\"14.00\">entropy = 0.433</text>\r\n",
       "<text text-anchor=\"middle\" x=\"905\" y=\"-215.8\" font-family=\"Times New Roman,serif\" font-size=\"14.00\">samples = 45</text>\r\n",
       "<text text-anchor=\"middle\" x=\"905\" y=\"-200.8\" font-family=\"Times New Roman,serif\" font-size=\"14.00\">value = [41, 4, 0]</text>\r\n",
       "</g>\r\n",
       "<!-- 12&#45;&gt;18 -->\r\n",
       "<g id=\"edge18\" class=\"edge\"><title>12&#45;&gt;18</title>\r\n",
       "<path fill=\"none\" stroke=\"black\" d=\"M667.745,-309.481C717.396,-292.43 787.954,-268.197 839.21,-250.594\"/>\r\n",
       "<polygon fill=\"black\" stroke=\"black\" points=\"840.548,-253.836 848.869,-247.277 838.275,-247.215 840.548,-253.836\"/>\r\n",
       "</g>\r\n",
       "<!-- 14 -->\r\n",
       "<g id=\"node15\" class=\"node\"><title>14</title>\r\n",
       "<polygon fill=\"#39e581\" stroke=\"black\" points=\"620,-149.5 508,-149.5 508,-96.5 620,-96.5 620,-149.5\"/>\r\n",
       "<text text-anchor=\"middle\" x=\"564\" y=\"-134.3\" font-family=\"Times New Roman,serif\" font-size=\"14.00\">entropy = 0.0</text>\r\n",
       "<text text-anchor=\"middle\" x=\"564\" y=\"-119.3\" font-family=\"Times New Roman,serif\" font-size=\"14.00\">samples = 14</text>\r\n",
       "<text text-anchor=\"middle\" x=\"564\" y=\"-104.3\" font-family=\"Times New Roman,serif\" font-size=\"14.00\">value = [0, 14, 0]</text>\r\n",
       "</g>\r\n",
       "<!-- 13&#45;&gt;14 -->\r\n",
       "<g id=\"edge14\" class=\"edge\"><title>13&#45;&gt;14</title>\r\n",
       "<path fill=\"none\" stroke=\"black\" d=\"M593.714,-192.884C589.018,-181.996 583.784,-169.863 579.033,-158.85\"/>\r\n",
       "<polygon fill=\"black\" stroke=\"black\" points=\"582.183,-157.316 575.009,-149.52 575.756,-160.088 582.183,-157.316\"/>\r\n",
       "</g>\r\n",
       "<!-- 15 -->\r\n",
       "<g id=\"node16\" class=\"node\"><title>15</title>\r\n",
       "<polygon fill=\"#4be78c\" stroke=\"black\" points=\"834,-157 638,-157 638,-89 834,-89 834,-157\"/>\r\n",
       "<text text-anchor=\"middle\" x=\"736\" y=\"-141.8\" font-family=\"Times New Roman,serif\" font-size=\"14.00\">od280/od315稀释葡萄酒 &lt;= 3.4</text>\r\n",
       "<text text-anchor=\"middle\" x=\"736\" y=\"-126.8\" font-family=\"Times New Roman,serif\" font-size=\"14.00\">entropy = 0.414</text>\r\n",
       "<text text-anchor=\"middle\" x=\"736\" y=\"-111.8\" font-family=\"Times New Roman,serif\" font-size=\"14.00\">samples = 12</text>\r\n",
       "<text text-anchor=\"middle\" x=\"736\" y=\"-96.8\" font-family=\"Times New Roman,serif\" font-size=\"14.00\">value = [1, 11, 0]</text>\r\n",
       "</g>\r\n",
       "<!-- 13&#45;&gt;15 -->\r\n",
       "<g id=\"edge15\" class=\"edge\"><title>13&#45;&gt;15</title>\r\n",
       "<path fill=\"none\" stroke=\"black\" d=\"M649.558,-192.884C661.295,-183.531 674.184,-173.259 686.346,-163.568\"/>\r\n",
       "<polygon fill=\"black\" stroke=\"black\" points=\"688.573,-166.269 694.213,-157.299 684.211,-160.794 688.573,-166.269\"/>\r\n",
       "</g>\r\n",
       "<!-- 16 -->\r\n",
       "<g id=\"node17\" class=\"node\"><title>16</title>\r\n",
       "<polygon fill=\"#39e581\" stroke=\"black\" points=\"728,-53 616,-53 616,-0 728,-0 728,-53\"/>\r\n",
       "<text text-anchor=\"middle\" x=\"672\" y=\"-37.8\" font-family=\"Times New Roman,serif\" font-size=\"14.00\">entropy = 0.0</text>\r\n",
       "<text text-anchor=\"middle\" x=\"672\" y=\"-22.8\" font-family=\"Times New Roman,serif\" font-size=\"14.00\">samples = 11</text>\r\n",
       "<text text-anchor=\"middle\" x=\"672\" y=\"-7.8\" font-family=\"Times New Roman,serif\" font-size=\"14.00\">value = [0, 11, 0]</text>\r\n",
       "</g>\r\n",
       "<!-- 15&#45;&gt;16 -->\r\n",
       "<g id=\"edge16\" class=\"edge\"><title>15&#45;&gt;16</title>\r\n",
       "<path fill=\"none\" stroke=\"black\" d=\"M713.616,-88.9485C707.606,-80.0749 701.098,-70.4648 695.053,-61.5388\"/>\r\n",
       "<polygon fill=\"black\" stroke=\"black\" points=\"697.936,-59.5539 689.43,-53.2367 692.14,-63.4792 697.936,-59.5539\"/>\r\n",
       "</g>\r\n",
       "<!-- 17 -->\r\n",
       "<g id=\"node18\" class=\"node\"><title>17</title>\r\n",
       "<polygon fill=\"#e58139\" stroke=\"black\" points=\"851.5,-53 746.5,-53 746.5,-0 851.5,-0 851.5,-53\"/>\r\n",
       "<text text-anchor=\"middle\" x=\"799\" y=\"-37.8\" font-family=\"Times New Roman,serif\" font-size=\"14.00\">entropy = 0.0</text>\r\n",
       "<text text-anchor=\"middle\" x=\"799\" y=\"-22.8\" font-family=\"Times New Roman,serif\" font-size=\"14.00\">samples = 1</text>\r\n",
       "<text text-anchor=\"middle\" x=\"799\" y=\"-7.8\" font-family=\"Times New Roman,serif\" font-size=\"14.00\">value = [1, 0, 0]</text>\r\n",
       "</g>\r\n",
       "<!-- 15&#45;&gt;17 -->\r\n",
       "<g id=\"edge17\" class=\"edge\"><title>15&#45;&gt;17</title>\r\n",
       "<path fill=\"none\" stroke=\"black\" d=\"M758.034,-88.9485C763.889,-80.1664 770.225,-70.6629 776.123,-61.815\"/>\r\n",
       "<polygon fill=\"black\" stroke=\"black\" points=\"779.207,-63.4987 781.842,-53.2367 773.383,-59.6158 779.207,-63.4987\"/>\r\n",
       "</g>\r\n",
       "<!-- 19 -->\r\n",
       "<g id=\"node20\" class=\"node\"><title>19</title>\r\n",
       "<polygon fill=\"#39e581\" stroke=\"black\" points=\"957.5,-149.5 852.5,-149.5 852.5,-96.5 957.5,-96.5 957.5,-149.5\"/>\r\n",
       "<text text-anchor=\"middle\" x=\"905\" y=\"-134.3\" font-family=\"Times New Roman,serif\" font-size=\"14.00\">entropy = 0.0</text>\r\n",
       "<text text-anchor=\"middle\" x=\"905\" y=\"-119.3\" font-family=\"Times New Roman,serif\" font-size=\"14.00\">samples = 4</text>\r\n",
       "<text text-anchor=\"middle\" x=\"905\" y=\"-104.3\" font-family=\"Times New Roman,serif\" font-size=\"14.00\">value = [0, 4, 0]</text>\r\n",
       "</g>\r\n",
       "<!-- 18&#45;&gt;19 -->\r\n",
       "<g id=\"edge19\" class=\"edge\"><title>18&#45;&gt;19</title>\r\n",
       "<path fill=\"none\" stroke=\"black\" d=\"M905,-192.884C905,-182.326 905,-170.597 905,-159.854\"/>\r\n",
       "<polygon fill=\"black\" stroke=\"black\" points=\"908.5,-159.52 905,-149.52 901.5,-159.52 908.5,-159.52\"/>\r\n",
       "</g>\r\n",
       "<!-- 20 -->\r\n",
       "<g id=\"node21\" class=\"node\"><title>20</title>\r\n",
       "<polygon fill=\"#e58139\" stroke=\"black\" points=\"1088,-149.5 976,-149.5 976,-96.5 1088,-96.5 1088,-149.5\"/>\r\n",
       "<text text-anchor=\"middle\" x=\"1032\" y=\"-134.3\" font-family=\"Times New Roman,serif\" font-size=\"14.00\">entropy = 0.0</text>\r\n",
       "<text text-anchor=\"middle\" x=\"1032\" y=\"-119.3\" font-family=\"Times New Roman,serif\" font-size=\"14.00\">samples = 41</text>\r\n",
       "<text text-anchor=\"middle\" x=\"1032\" y=\"-104.3\" font-family=\"Times New Roman,serif\" font-size=\"14.00\">value = [41, 0, 0]</text>\r\n",
       "</g>\r\n",
       "<!-- 18&#45;&gt;20 -->\r\n",
       "<g id=\"edge20\" class=\"edge\"><title>18&#45;&gt;20</title>\r\n",
       "<path fill=\"none\" stroke=\"black\" d=\"M946.233,-192.884C961.022,-181.006 977.656,-167.646 992.311,-155.876\"/>\r\n",
       "<polygon fill=\"black\" stroke=\"black\" points=\"994.62,-158.511 1000.23,-149.52 990.237,-153.053 994.62,-158.511\"/>\r\n",
       "</g>\r\n",
       "</g>\r\n",
       "</svg>\r\n"
      ],
      "text/plain": [
       "<graphviz.files.Source at 0x20bc2b58240>"
      ]
     },
     "execution_count": 153,
     "metadata": {},
     "output_type": "execute_result"
    }
   ],
   "source": [
    "dot_data = tree.export_graphviz(clf,\n",
    "                                feature_names=feature_names,\n",
    "                                filled=True)\n",
    "graph = graphviz.Source(dot_data)\n",
    "graph"
   ]
  },
  {
   "cell_type": "code",
   "execution_count": 157,
   "metadata": {
    "ExecuteTime": {
     "end_time": "2019-11-29T12:33:29.540850Z",
     "start_time": "2019-11-29T12:33:29.530434Z"
    }
   },
   "outputs": [
    {
     "data": {
      "text/plain": [
       "'images/graph.gv'"
      ]
     },
     "execution_count": 157,
     "metadata": {},
     "output_type": "execute_result"
    }
   ],
   "source": [
    "graph.save('images/graph.gv')"
   ]
  },
  {
   "cell_type": "code",
   "execution_count": 159,
   "metadata": {
    "ExecuteTime": {
     "end_time": "2019-11-29T12:34:00.785466Z",
     "start_time": "2019-11-29T12:34:00.344736Z"
    }
   },
   "outputs": [
    {
     "data": {
      "text/plain": [
       "'images\\\\graph.gv.pdf'"
      ]
     },
     "execution_count": 159,
     "metadata": {},
     "output_type": "execute_result"
    }
   ],
   "source": [
    "graph.view()"
   ]
  }
 ],
 "metadata": {
  "kernelspec": {
   "display_name": "Python 3",
   "language": "python",
   "name": "python3"
  },
  "language_info": {
   "codemirror_mode": {
    "name": "ipython",
    "version": 3
   },
   "file_extension": ".py",
   "mimetype": "text/x-python",
   "name": "python",
   "nbconvert_exporter": "python",
   "pygments_lexer": "ipython3",
   "version": "3.7.3"
  },
  "toc": {
   "base_numbering": 1,
   "nav_menu": {},
   "number_sections": true,
   "sideBar": true,
   "skip_h1_title": false,
   "title_cell": "Table of Contents",
   "title_sidebar": "Contents",
   "toc_cell": false,
   "toc_position": {},
   "toc_section_display": true,
   "toc_window_display": false
  },
  "varInspector": {
   "cols": {
    "lenName": 16,
    "lenType": 16,
    "lenVar": 40
   },
   "kernels_config": {
    "python": {
     "delete_cmd_postfix": "",
     "delete_cmd_prefix": "del ",
     "library": "var_list.py",
     "varRefreshCmd": "print(var_dic_list())"
    },
    "r": {
     "delete_cmd_postfix": ") ",
     "delete_cmd_prefix": "rm(",
     "library": "var_list.r",
     "varRefreshCmd": "cat(var_dic_list()) "
    }
   },
   "types_to_exclude": [
    "module",
    "function",
    "builtin_function_or_method",
    "instance",
    "_Feature"
   ],
   "window_display": false
  }
 },
 "nbformat": 4,
 "nbformat_minor": 2
}
