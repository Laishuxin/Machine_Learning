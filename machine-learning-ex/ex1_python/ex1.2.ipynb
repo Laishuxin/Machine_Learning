{
 "cells": [
  {
   "cell_type": "code",
   "execution_count": 1,
   "metadata": {
    "ExecuteTime": {
     "end_time": "2019-11-19T08:34:48.042742Z",
     "start_time": "2019-11-19T08:34:43.413927Z"
    }
   },
   "outputs": [],
   "source": [
    "import numpy as np \n",
    "import pandas as pd\n",
    "import matplotlib.pyplot as plt\n",
    "import seaborn as sns\n",
    "from mpl_toolkits import mplot3d\n",
    "plt.rcParams['figure.dpi'] = 150"
   ]
  },
  {
   "cell_type": "code",
   "execution_count": 2,
   "metadata": {
    "ExecuteTime": {
     "end_time": "2019-11-19T08:34:48.070478Z",
     "start_time": "2019-11-19T08:34:48.046505Z"
    }
   },
   "outputs": [],
   "source": [
    "data = np.loadtxt('../ex1/ex1data1.txt', delimiter=',')"
   ]
  },
  {
   "cell_type": "code",
   "execution_count": 3,
   "metadata": {
    "ExecuteTime": {
     "end_time": "2019-11-19T08:34:48.153252Z",
     "start_time": "2019-11-19T08:34:48.072461Z"
    }
   },
   "outputs": [
    {
     "data": {
      "text/plain": [
       "(97, 2)"
      ]
     },
     "execution_count": 3,
     "metadata": {},
     "output_type": "execute_result"
    }
   ],
   "source": [
    "data.shape"
   ]
  },
  {
   "cell_type": "code",
   "execution_count": 4,
   "metadata": {
    "ExecuteTime": {
     "end_time": "2019-11-19T08:34:48.283091Z",
     "start_time": "2019-11-19T08:34:48.154217Z"
    }
   },
   "outputs": [],
   "source": [
    "X = data[:,[0]]\n",
    "y = data[:,[1]]"
   ]
  },
  {
   "cell_type": "code",
   "execution_count": 5,
   "metadata": {
    "ExecuteTime": {
     "end_time": "2019-11-19T08:34:48.593554Z",
     "start_time": "2019-11-19T08:34:48.284874Z"
    }
   },
   "outputs": [
    {
     "data": {
      "image/png": "[encoded data removed]",
      "text/plain": [
       "<Figure size 432x288 with 1 Axes>"
      ]
     },
     "metadata": {
      "needs_background": "light"
     },
     "output_type": "display_data"
    }
   ],
   "source": [
    "def plotData(X, y):\n",
    "    fig = plt.figure()\n",
    "    plt.plot(X, y, 'rx', markersize=10)\n",
    "    plt.xlabel('Population of City in 10,000s')\n",
    "    plt.ylabel('Profit in $10,000s')\n",
    "    plt.xlim(4,24)\n",
    "    plt.ylim(-5,25)\n",
    "    plt.xticks(np.arange(4,25,2))\n",
    "    plt.yticks(np.arange(-5,26,5))\n",
    "    return fig,plt\n",
    "fig, plt = plotData(X,y)"
   ]
  },
  {
   "cell_type": "code",
   "execution_count": 6,
   "metadata": {
    "ExecuteTime": {
     "end_time": "2019-11-19T08:34:48.598573Z",
     "start_time": "2019-11-19T08:34:48.595576Z"
    }
   },
   "outputs": [],
   "source": [
    "X = np.insert(X, 0, 1, axis=1)"
   ]
  },
  {
   "cell_type": "code",
   "execution_count": 7,
   "metadata": {
    "ExecuteTime": {
     "end_time": "2019-11-19T08:34:48.657377Z",
     "start_time": "2019-11-19T08:34:48.599539Z"
    }
   },
   "outputs": [],
   "source": [
    "def hypothesis(X, theta):\n",
    "    \"\"\"\n",
    "    计算假设函数\n",
    "    : return:预测值向量\n",
    "    \"\"\"\n",
    "    return np.dot(X, theta)"
   ]
  },
  {
   "cell_type": "code",
   "execution_count": 8,
   "metadata": {
    "ExecuteTime": {
     "end_time": "2019-11-19T08:34:48.723470Z",
     "start_time": "2019-11-19T08:34:48.658099Z"
    }
   },
   "outputs": [],
   "source": [
    "def computeCost(X, y, theta):\n",
    "    \"\"\"\n",
    "    计算代价函数\n",
    "    : X:训练数据的features\n",
    "    : y:训练数据的real values\n",
    "    : return:J, 代价函数值\n",
    "    \"\"\"\n",
    "    m = len(X)\n",
    "    J = 1/2 * np.sum(np.square(hypothesis(X,theta) - y)) / m\n",
    "    return J"
   ]
  },
  {
   "cell_type": "code",
   "execution_count": 9,
   "metadata": {
    "ExecuteTime": {
     "end_time": "2019-11-19T08:34:48.812998Z",
     "start_time": "2019-11-19T08:34:48.731210Z"
    }
   },
   "outputs": [
    {
     "name": "stdout",
     "output_type": "stream",
     "text": [
      "32.072733877455676\n",
      "54.24245508201238\n"
     ]
    }
   ],
   "source": [
    "# 测试代价函数\n",
    "# 当theta = [[0], [0]]时， J=32.07\n",
    "# 当theta = [[-1],[2]]时， J=54.24\n",
    "theta = np.zeros((2,1))\n",
    "print(computeCost(X, y, theta))\n",
    "print(computeCost(X, y, [[-1], [2]]))"
   ]
  },
  {
   "cell_type": "code",
   "execution_count": 10,
   "metadata": {
    "ExecuteTime": {
     "end_time": "2019-11-19T08:34:48.870075Z",
     "start_time": "2019-11-19T08:34:48.816018Z"
    }
   },
   "outputs": [],
   "source": [
    "# 设置theta初始值\n",
    "m = len(X)  # 获取训练数据的长度\n",
    "theta = np.zeros((2, 1))  # 初始化theta\n",
    "iterations = 1500  # 设置迭代次数\n",
    "alpha = 0.01  # 设置learning rate，如果学习速率过大，则导数不收敛，所以要多次尝试alpha\n",
    "def gradientDescent(X, y, theta, alpha, iterations):\n",
    "    \"\"\"\n",
    "    梯度下降函数\n",
    "    : X:训练数据的features\n",
    "    : y:训练数据的real values\n",
    "    : theta:权重\n",
    "    : alpha:learning rate\n",
    "    : iterations:迭代次数\n",
    "    : return: theta,J_history\n",
    "    \"\"\"\n",
    "    m = len(X)\n",
    "    J_history = np.zeros((iterations, 1))\n",
    "    for i in range(iterations):\n",
    "#         h = hypothesis(X, theta)  # 得出假设函数的值, (m, 1)向量\n",
    "        temp0 = theta[0,0] - alpha * np.sum(X.dot(theta) - y) / m\n",
    "        temp1 = theta[1,0] - alpha * np.dot((X.dot(theta) - y).T, X[:,[1]])  / m          \n",
    "        # 同步更新theta的值\n",
    "        theta[0,0] = temp0\n",
    "        theta[1,0] = temp1\n",
    "#         print(theta)\n",
    "        # 记录代价函数值J的历史数据\n",
    "        J = computeCost(X, y, theta)\n",
    "        J_history[i,0] = J\n",
    "    return theta, J_history"
   ]
  },
  {
   "cell_type": "code",
   "execution_count": 11,
   "metadata": {
    "ExecuteTime": {
     "end_time": "2019-11-19T08:34:48.994926Z",
     "start_time": "2019-11-19T08:34:48.870921Z"
    }
   },
   "outputs": [],
   "source": [
    "theta, J_history = gradientDescent(X, y, theta, alpha, iterations)"
   ]
  },
  {
   "cell_type": "code",
   "execution_count": 12,
   "metadata": {
    "ExecuteTime": {
     "end_time": "2019-11-19T08:34:49.135563Z",
     "start_time": "2019-11-19T08:34:48.995922Z"
    }
   },
   "outputs": [
    {
     "data": {
      "text/plain": [
       "<matplotlib.collections.PathCollection at 0x23f674b3dd8>"
      ]
     },
     "execution_count": 12,
     "metadata": {},
     "output_type": "execute_result"
    },
    {
     "data": {
      "image/png": "[encoded data removed]",
      "text/plain": [
       "<Figure size 432x288 with 1 Axes>"
      ]
     },
     "metadata": {
      "needs_background": "light"
     },
     "output_type": "display_data"
    }
   ],
   "source": [
    "plt.scatter(range(len(J_history)),J_history)"
   ]
  },
  {
   "cell_type": "markdown",
   "metadata": {},
   "source": [
    "预测数据"
   ]
  },
  {
   "cell_type": "code",
   "execution_count": 13,
   "metadata": {
    "ExecuteTime": {
     "end_time": "2019-11-19T08:34:49.141541Z",
     "start_time": "2019-11-19T08:34:49.136530Z"
    }
   },
   "outputs": [
    {
     "name": "stdout",
     "output_type": "stream",
     "text": [
      "For population = 35,000, we predict a profit of  4519.767867701772\n",
      "For population = 70,000, we predict a profit of  45342.45012944714\n"
     ]
    }
   ],
   "source": [
    "predict1 = np.matrix([1, 3.5]) * theta\n",
    "print('For population = 35,000, we predict a profit of ', predict1[0,0]*10000)\n",
    "predict1 = np.matrix([1, 7]) * theta\n",
    "print('For population = 70,000, we predict a profit of ', predict1[0,0]*10000)"
   ]
  },
  {
   "cell_type": "markdown",
   "metadata": {},
   "source": [
    "可视化"
   ]
  },
  {
   "cell_type": "code",
   "execution_count": 14,
   "metadata": {
    "ExecuteTime": {
     "end_time": "2019-11-19T08:34:49.269201Z",
     "start_time": "2019-11-19T08:34:49.143511Z"
    }
   },
   "outputs": [
    {
     "data": {
      "text/plain": [
       "[<matplotlib.lines.Line2D at 0x23f674f3208>]"
      ]
     },
     "execution_count": 14,
     "metadata": {},
     "output_type": "execute_result"
    },
    {
     "data": {
      "image/png": "[encoded data removed]",
      "text/plain": [
       "<Figure size 432x288 with 1 Axes>"
      ]
     },
     "metadata": {
      "needs_background": "light"
     },
     "output_type": "display_data"
    }
   ],
   "source": [
    "fig, plt2 = plotData(X, y)\n",
    "plt2.plot(X[:,1], hypothesis(X, theta))"
   ]
  },
  {
   "cell_type": "code",
   "execution_count": 15,
   "metadata": {
    "ExecuteTime": {
     "end_time": "2019-11-19T08:34:49.380227Z",
     "start_time": "2019-11-19T08:34:49.270172Z"
    }
   },
   "outputs": [],
   "source": [
    "theta0_vals = np.linspace(-10,10,100)\n",
    "theta1_vals = np.linspace(-1,4,100)\n",
    "J_vals = np.zeros((len(theta0_vals), len(theta1_vals)))\n",
    "for i in range(len(theta0_vals)):\n",
    "    for j in range(len(theta1_vals)):\n",
    "        J_vals[i,j] = computeCost(X, y, [[theta0_vals[i]], [theta1_vals[j]]])"
   ]
  },
  {
   "cell_type": "code",
   "execution_count": 16,
   "metadata": {
    "ExecuteTime": {
     "end_time": "2019-11-19T08:34:49.384881Z",
     "start_time": "2019-11-19T08:34:49.381909Z"
    }
   },
   "outputs": [
    {
     "name": "stdout",
     "output_type": "stream",
     "text": [
      "[[328.09290555 316.6648683  305.44447299 ... 186.35412584 195.06735595\n",
      "  203.98822799]\n",
      " [323.26504192 311.92025945 300.7831189  ... 189.60197489 198.39845977\n",
      "  207.40258658]\n",
      " [318.47799046 307.21646275 296.16257698 ... 192.89063611 201.77037576\n",
      "  210.85775734]\n",
      " ...\n",
      " [ 49.81156018  46.45923561  43.31455298 ... 691.41691065 708.20585345\n",
      "  725.20243817]\n",
      " [ 48.94247627  45.67340647  42.61197861 ... 698.62353943 715.49573699\n",
      "  732.57557648]\n",
      " [ 48.11420452  44.9283895   41.95021641 ... 705.87098036 722.82643269\n",
      "  739.98952696]]\n"
     ]
    }
   ],
   "source": [
    "print(J_vals)"
   ]
  },
  {
   "cell_type": "markdown",
   "metadata": {},
   "source": [
    "绘制三维图形"
   ]
  },
  {
   "cell_type": "code",
   "execution_count": 18,
   "metadata": {
    "ExecuteTime": {
     "end_time": "2019-11-19T08:35:00.801702Z",
     "start_time": "2019-11-19T08:35:00.790703Z"
    }
   },
   "outputs": [],
   "source": [
    "u = np.linspace(0, 2.0 * np.pi, endpoint=True, num=50)\n",
    "v = np.linspace(-0.5, 0.5, endpoint=True, num=10)\n",
    "u, v = np.meshgrid(u, v)\n",
    "u, v = u.flatten(), v.flatten()\n",
    "\n",
    "# This is the Mobius mapping, taking a u, v pair and returning an x, y, z\n",
    "# triple\n",
    "x = (1 + 0.5 * v * np.cos(u / 2.0)) * np.cos(u)\n",
    "y = (1 + 0.5 * v * np.cos(u / 2.0)) * np.sin(u)\n",
    "z = 0.5 * v * np.sin(u / 2.0)"
   ]
  },
  {
   "cell_type": "code",
   "execution_count": 21,
   "metadata": {
    "ExecuteTime": {
     "end_time": "2019-11-19T08:35:18.314454Z",
     "start_time": "2019-11-19T08:35:18.310464Z"
    }
   },
   "outputs": [
    {
     "data": {
      "text/plain": [
       "(500,)"
      ]
     },
     "execution_count": 21,
     "metadata": {},
     "output_type": "execute_result"
    }
   ],
   "source": []
  }
 ],
 "metadata": {
  "kernelspec": {
   "display_name": "Python 3",
   "language": "python",
   "name": "python3"
  },
  "language_info": {
   "codemirror_mode": {
    "name": "ipython",
    "version": 3
   },
   "file_extension": ".py",
   "mimetype": "text/x-python",
   "name": "python",
   "nbconvert_exporter": "python",
   "pygments_lexer": "ipython3",
   "version": "3.7.3"
  },
  "toc": {
   "base_numbering": 1,
   "nav_menu": {},
   "number_sections": true,
   "sideBar": true,
   "skip_h1_title": false,
   "title_cell": "Table of Contents",
   "title_sidebar": "Contents",
   "toc_cell": false,
   "toc_position": {},
   "toc_section_display": true,
   "toc_window_display": false
  },
  "varInspector": {
   "cols": {
    "lenName": 16,
    "lenType": 16,
    "lenVar": 40
   },
   "kernels_config": {
    "python": {
     "delete_cmd_postfix": "",
     "delete_cmd_prefix": "del ",
     "library": "var_list.py",
     "varRefreshCmd": "print(var_dic_list())"
    },
    "r": {
     "delete_cmd_postfix": ") ",
     "delete_cmd_prefix": "rm(",
     "library": "var_list.r",
     "varRefreshCmd": "cat(var_dic_list()) "
    }
   },
   "types_to_exclude": [
    "module",
    "function",
    "builtin_function_or_method",
    "instance",
    "_Feature"
   ],
   "window_display": false
  }
 },
 "nbformat": 4,
 "nbformat_minor": 2
}
